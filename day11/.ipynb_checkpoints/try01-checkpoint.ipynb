{
 "cells": [
  {
   "cell_type": "code",
   "execution_count": 1,
   "metadata": {
    "ExecuteTime": {
     "end_time": "2020-06-09T05:43:09.325829Z",
     "start_time": "2020-06-09T05:43:09.322829Z"
    }
   },
   "outputs": [],
   "source": [
    "import shutil"
   ]
  },
  {
   "cell_type": "code",
   "execution_count": 2,
   "metadata": {
    "ExecuteTime": {
     "end_time": "2020-06-09T05:43:09.332829Z",
     "start_time": "2020-06-09T05:43:09.326829Z"
    }
   },
   "outputs": [],
   "source": [
    "# shutil.move('C:/Users/i7B/Downloads/자동차등록집계현황.csv','자동차등록집계현황.csv')\n",
    "# shutil.move('C:/Users/i7B/Downloads/교통사고집계현황.csv','교통사고집계현황.csv')"
   ]
  },
  {
   "cell_type": "code",
   "execution_count": 3,
   "metadata": {
    "ExecuteTime": {
     "end_time": "2020-06-09T05:43:10.460894Z",
     "start_time": "2020-06-09T05:43:09.333829Z"
    }
   },
   "outputs": [],
   "source": [
    "import pandas as pd\n",
    "import seaborn as sns\n",
    "import numpy as np\n",
    "import matplotlib.pyplot as plt\n",
    "import re\n",
    "plt.rc(\"font\", family=\"Malgun Gothic\")\n",
    "plt.rc(\"axes\", unicode_minus=False)\n",
    "%config InlineBackend.figure_format = 'retina'"
   ]
  },
  {
   "cell_type": "code",
   "execution_count": 4,
   "metadata": {
    "ExecuteTime": {
     "end_time": "2020-06-09T05:43:10.470894Z",
     "start_time": "2020-06-09T05:43:10.461894Z"
    }
   },
   "outputs": [],
   "source": [
    "df=pd.read_csv('자동차등록집계현황.csv',encoding='euc-kr')"
   ]
  },
  {
   "cell_type": "code",
   "execution_count": 5,
   "metadata": {
    "ExecuteTime": {
     "end_time": "2020-06-09T05:43:10.489895Z",
     "start_time": "2020-06-09T05:43:10.471894Z"
    }
   },
   "outputs": [
    {
     "data": {
      "text/html": [
       "<div>\n",
       "<style scoped>\n",
       "    .dataframe tbody tr th:only-of-type {\n",
       "        vertical-align: middle;\n",
       "    }\n",
       "\n",
       "    .dataframe tbody tr th {\n",
       "        vertical-align: top;\n",
       "    }\n",
       "\n",
       "    .dataframe thead th {\n",
       "        text-align: right;\n",
       "    }\n",
       "</style>\n",
       "<table border=\"1\" class=\"dataframe\">\n",
       "  <thead>\n",
       "    <tr style=\"text-align: right;\">\n",
       "      <th></th>\n",
       "      <th>시군명</th>\n",
       "      <th>시군구명</th>\n",
       "      <th>승용(관용)</th>\n",
       "      <th>승용(자가용)</th>\n",
       "      <th>승용(영업용)</th>\n",
       "      <th>승용(관용+자가용+영업용)</th>\n",
       "      <th>승합(관용)</th>\n",
       "      <th>승합(자가용)</th>\n",
       "      <th>승합(영업용)</th>\n",
       "      <th>승합(관용+자가용+영업용)</th>\n",
       "      <th>...</th>\n",
       "      <th>화물(영업용)</th>\n",
       "      <th>화물(관용+자가용+영업용)</th>\n",
       "      <th>특수(관용)</th>\n",
       "      <th>특수(자가용)</th>\n",
       "      <th>특수(영업용)</th>\n",
       "      <th>특수(관용+자가용+영업용)</th>\n",
       "      <th>관용 자동차(승용+승합+화물+특수) 등록대수</th>\n",
       "      <th>자가용 자동차(승용+승합+화물+특수) 등록대수</th>\n",
       "      <th>영업용 자동차(승용+승합+화물+특수) 등록대수</th>\n",
       "      <th>총계</th>\n",
       "    </tr>\n",
       "  </thead>\n",
       "  <tbody>\n",
       "    <tr>\n",
       "      <th>0</th>\n",
       "      <td>가평군</td>\n",
       "      <td>가평군</td>\n",
       "      <td>132</td>\n",
       "      <td>22020</td>\n",
       "      <td>203</td>\n",
       "      <td>22355</td>\n",
       "      <td>84</td>\n",
       "      <td>1397</td>\n",
       "      <td>250</td>\n",
       "      <td>1731</td>\n",
       "      <td>...</td>\n",
       "      <td>159</td>\n",
       "      <td>6582</td>\n",
       "      <td>9</td>\n",
       "      <td>71</td>\n",
       "      <td>45</td>\n",
       "      <td>125</td>\n",
       "      <td>369</td>\n",
       "      <td>29767</td>\n",
       "      <td>657</td>\n",
       "      <td>30793</td>\n",
       "    </tr>\n",
       "  </tbody>\n",
       "</table>\n",
       "<p>1 rows × 22 columns</p>\n",
       "</div>"
      ],
      "text/plain": [
       "   시군명 시군구명  승용(관용)  승용(자가용)  승용(영업용)  승용(관용+자가용+영업용)  승합(관용)  승합(자가용)  \\\n",
       "0  가평군  가평군     132    22020      203           22355      84     1397   \n",
       "\n",
       "   승합(영업용)  승합(관용+자가용+영업용)  ...  화물(영업용)  화물(관용+자가용+영업용)  특수(관용)  특수(자가용)  \\\n",
       "0      250            1731  ...      159            6582       9       71   \n",
       "\n",
       "   특수(영업용)  특수(관용+자가용+영업용)  관용 자동차(승용+승합+화물+특수) 등록대수  \\\n",
       "0       45             125                       369   \n",
       "\n",
       "   자가용 자동차(승용+승합+화물+특수) 등록대수  영업용 자동차(승용+승합+화물+특수) 등록대수     총계  \n",
       "0                      29767                        657  30793  \n",
       "\n",
       "[1 rows x 22 columns]"
      ]
     },
     "execution_count": 5,
     "metadata": {},
     "output_type": "execute_result"
    }
   ],
   "source": [
    "df.head(1)"
   ]
  },
  {
   "cell_type": "code",
   "execution_count": 6,
   "metadata": {
    "ExecuteTime": {
     "end_time": "2020-06-09T05:43:10.508896Z",
     "start_time": "2020-06-09T05:43:10.490895Z"
    },
    "scrolled": true
   },
   "outputs": [
    {
     "data": {
      "text/html": [
       "<div>\n",
       "<style scoped>\n",
       "    .dataframe tbody tr th:only-of-type {\n",
       "        vertical-align: middle;\n",
       "    }\n",
       "\n",
       "    .dataframe tbody tr th {\n",
       "        vertical-align: top;\n",
       "    }\n",
       "\n",
       "    .dataframe thead th {\n",
       "        text-align: right;\n",
       "    }\n",
       "</style>\n",
       "<table border=\"1\" class=\"dataframe\">\n",
       "  <thead>\n",
       "    <tr style=\"text-align: right;\">\n",
       "      <th></th>\n",
       "      <th>시군명</th>\n",
       "      <th>시군구명</th>\n",
       "      <th>승용(관용)</th>\n",
       "      <th>승용(자가용)</th>\n",
       "      <th>승용(영업용)</th>\n",
       "      <th>승용(관용+자가용+영업용)</th>\n",
       "      <th>승합(관용)</th>\n",
       "      <th>승합(자가용)</th>\n",
       "      <th>승합(영업용)</th>\n",
       "      <th>승합(관용+자가용+영업용)</th>\n",
       "      <th>...</th>\n",
       "      <th>화물(영업용)</th>\n",
       "      <th>화물(관용+자가용+영업용)</th>\n",
       "      <th>특수(관용)</th>\n",
       "      <th>특수(자가용)</th>\n",
       "      <th>특수(영업용)</th>\n",
       "      <th>특수(관용+자가용+영업용)</th>\n",
       "      <th>관용 자동차(승용+승합+화물+특수) 등록대수</th>\n",
       "      <th>자가용 자동차(승용+승합+화물+특수) 등록대수</th>\n",
       "      <th>영업용 자동차(승용+승합+화물+특수) 등록대수</th>\n",
       "      <th>총계</th>\n",
       "    </tr>\n",
       "  </thead>\n",
       "  <tbody>\n",
       "    <tr>\n",
       "      <th>47</th>\n",
       "      <td>화성시</td>\n",
       "      <td>화성시</td>\n",
       "      <td>375</td>\n",
       "      <td>333813</td>\n",
       "      <td>2722</td>\n",
       "      <td>336910</td>\n",
       "      <td>212</td>\n",
       "      <td>11666</td>\n",
       "      <td>2178</td>\n",
       "      <td>14056</td>\n",
       "      <td>...</td>\n",
       "      <td>5707</td>\n",
       "      <td>59517</td>\n",
       "      <td>17</td>\n",
       "      <td>479</td>\n",
       "      <td>501</td>\n",
       "      <td>997</td>\n",
       "      <td>886</td>\n",
       "      <td>399486</td>\n",
       "      <td>11108</td>\n",
       "      <td>411480</td>\n",
       "    </tr>\n",
       "  </tbody>\n",
       "</table>\n",
       "<p>1 rows × 22 columns</p>\n",
       "</div>"
      ],
      "text/plain": [
       "    시군명 시군구명  승용(관용)  승용(자가용)  승용(영업용)  승용(관용+자가용+영업용)  승합(관용)  승합(자가용)  \\\n",
       "47  화성시  화성시     375   333813     2722          336910     212    11666   \n",
       "\n",
       "    승합(영업용)  승합(관용+자가용+영업용)  ...  화물(영업용)  화물(관용+자가용+영업용)  특수(관용)  특수(자가용)  \\\n",
       "47     2178           14056  ...     5707           59517      17      479   \n",
       "\n",
       "    특수(영업용)  특수(관용+자가용+영업용)  관용 자동차(승용+승합+화물+특수) 등록대수  \\\n",
       "47      501             997                       886   \n",
       "\n",
       "    자가용 자동차(승용+승합+화물+특수) 등록대수  영업용 자동차(승용+승합+화물+특수) 등록대수      총계  \n",
       "47                     399486                      11108  411480  \n",
       "\n",
       "[1 rows x 22 columns]"
      ]
     },
     "execution_count": 6,
     "metadata": {},
     "output_type": "execute_result"
    }
   ],
   "source": [
    "df.tail(1)"
   ]
  },
  {
   "cell_type": "code",
   "execution_count": 7,
   "metadata": {
    "ExecuteTime": {
     "end_time": "2020-06-09T05:43:10.524897Z",
     "start_time": "2020-06-09T05:43:10.510897Z"
    }
   },
   "outputs": [
    {
     "name": "stdout",
     "output_type": "stream",
     "text": [
      "<class 'pandas.core.frame.DataFrame'>\n",
      "RangeIndex: 48 entries, 0 to 47\n",
      "Data columns (total 22 columns):\n",
      " #   Column                     Non-Null Count  Dtype \n",
      "---  ------                     --------------  ----- \n",
      " 0   시군명                        48 non-null     object\n",
      " 1   시군구명                       48 non-null     object\n",
      " 2   승용(관용)                     48 non-null     int64 \n",
      " 3   승용(자가용)                    48 non-null     int64 \n",
      " 4   승용(영업용)                    48 non-null     int64 \n",
      " 5   승용(관용+자가용+영업용)             48 non-null     int64 \n",
      " 6   승합(관용)                     48 non-null     int64 \n",
      " 7   승합(자가용)                    48 non-null     int64 \n",
      " 8   승합(영업용)                    48 non-null     int64 \n",
      " 9   승합(관용+자가용+영업용)             48 non-null     int64 \n",
      " 10  화물(관용)                     48 non-null     int64 \n",
      " 11  화물(자가용)                    48 non-null     int64 \n",
      " 12  화물(영업용)                    48 non-null     int64 \n",
      " 13  화물(관용+자가용+영업용)             48 non-null     int64 \n",
      " 14  특수(관용)                     48 non-null     int64 \n",
      " 15  특수(자가용)                    48 non-null     int64 \n",
      " 16  특수(영업용)                    48 non-null     int64 \n",
      " 17  특수(관용+자가용+영업용)             48 non-null     int64 \n",
      " 18  관용 자동차(승용+승합+화물+특수) 등록대수   48 non-null     int64 \n",
      " 19  자가용 자동차(승용+승합+화물+특수) 등록대수  48 non-null     int64 \n",
      " 20  영업용 자동차(승용+승합+화물+특수) 등록대수  48 non-null     int64 \n",
      " 21  총계                         48 non-null     int64 \n",
      "dtypes: int64(20), object(2)\n",
      "memory usage: 8.4+ KB\n"
     ]
    }
   ],
   "source": [
    "df.info()"
   ]
  },
  {
   "cell_type": "code",
   "execution_count": 8,
   "metadata": {
    "ExecuteTime": {
     "end_time": "2020-06-09T05:43:10.530898Z",
     "start_time": "2020-06-09T05:43:10.526897Z"
    }
   },
   "outputs": [],
   "source": [
    "df2=df[['시군명','총계']]"
   ]
  },
  {
   "cell_type": "code",
   "execution_count": 9,
   "metadata": {
    "ExecuteTime": {
     "end_time": "2020-06-09T05:43:10.555899Z",
     "start_time": "2020-06-09T05:43:10.531898Z"
    }
   },
   "outputs": [
    {
     "data": {
      "text/html": [
       "<div>\n",
       "<style scoped>\n",
       "    .dataframe tbody tr th:only-of-type {\n",
       "        vertical-align: middle;\n",
       "    }\n",
       "\n",
       "    .dataframe tbody tr th {\n",
       "        vertical-align: top;\n",
       "    }\n",
       "\n",
       "    .dataframe thead th {\n",
       "        text-align: right;\n",
       "    }\n",
       "</style>\n",
       "<table border=\"1\" class=\"dataframe\">\n",
       "  <thead>\n",
       "    <tr style=\"text-align: right;\">\n",
       "      <th></th>\n",
       "      <th>0</th>\n",
       "      <th>1</th>\n",
       "      <th>2</th>\n",
       "      <th>3</th>\n",
       "      <th>4</th>\n",
       "      <th>5</th>\n",
       "      <th>6</th>\n",
       "      <th>7</th>\n",
       "      <th>8</th>\n",
       "      <th>9</th>\n",
       "      <th>...</th>\n",
       "      <th>38</th>\n",
       "      <th>39</th>\n",
       "      <th>40</th>\n",
       "      <th>41</th>\n",
       "      <th>42</th>\n",
       "      <th>43</th>\n",
       "      <th>44</th>\n",
       "      <th>45</th>\n",
       "      <th>46</th>\n",
       "      <th>47</th>\n",
       "    </tr>\n",
       "  </thead>\n",
       "  <tbody>\n",
       "    <tr>\n",
       "      <th>시군명</th>\n",
       "      <td>가평군</td>\n",
       "      <td>고양시</td>\n",
       "      <td>고양시</td>\n",
       "      <td>고양시</td>\n",
       "      <td>과천시</td>\n",
       "      <td>광명시</td>\n",
       "      <td>광주시</td>\n",
       "      <td>구리시</td>\n",
       "      <td>군포시</td>\n",
       "      <td>김포시</td>\n",
       "      <td>...</td>\n",
       "      <td>용인시</td>\n",
       "      <td>용인시</td>\n",
       "      <td>의왕시</td>\n",
       "      <td>의정부시</td>\n",
       "      <td>이천시</td>\n",
       "      <td>파주시</td>\n",
       "      <td>평택시</td>\n",
       "      <td>포천시</td>\n",
       "      <td>하남시</td>\n",
       "      <td>화성시</td>\n",
       "    </tr>\n",
       "    <tr>\n",
       "      <th>총계</th>\n",
       "      <td>30793</td>\n",
       "      <td>116268</td>\n",
       "      <td>125281</td>\n",
       "      <td>168040</td>\n",
       "      <td>21890</td>\n",
       "      <td>107851</td>\n",
       "      <td>187575</td>\n",
       "      <td>72824</td>\n",
       "      <td>100795</td>\n",
       "      <td>205944</td>\n",
       "      <td>...</td>\n",
       "      <td>190318</td>\n",
       "      <td>137121</td>\n",
       "      <td>63326</td>\n",
       "      <td>157726</td>\n",
       "      <td>113080</td>\n",
       "      <td>210492</td>\n",
       "      <td>264912</td>\n",
       "      <td>92402</td>\n",
       "      <td>109614</td>\n",
       "      <td>411480</td>\n",
       "    </tr>\n",
       "  </tbody>\n",
       "</table>\n",
       "<p>2 rows × 48 columns</p>\n",
       "</div>"
      ],
      "text/plain": [
       "        0       1       2       3      4       5       6      7       8   \\\n",
       "시군명    가평군     고양시     고양시     고양시    과천시     광명시     광주시    구리시     군포시   \n",
       "총계   30793  116268  125281  168040  21890  107851  187575  72824  100795   \n",
       "\n",
       "         9   ...      38      39     40      41      42      43      44  \\\n",
       "시군명     김포시  ...     용인시     용인시    의왕시    의정부시     이천시     파주시     평택시   \n",
       "총계   205944  ...  190318  137121  63326  157726  113080  210492  264912   \n",
       "\n",
       "        45      46      47  \n",
       "시군명    포천시     하남시     화성시  \n",
       "총계   92402  109614  411480  \n",
       "\n",
       "[2 rows x 48 columns]"
      ]
     },
     "execution_count": 9,
     "metadata": {},
     "output_type": "execute_result"
    }
   ],
   "source": [
    "df2.T"
   ]
  },
  {
   "cell_type": "code",
   "execution_count": 10,
   "metadata": {
    "ExecuteTime": {
     "end_time": "2020-06-09T05:43:10.568900Z",
     "start_time": "2020-06-09T05:43:10.556899Z"
    }
   },
   "outputs": [],
   "source": [
    "df2_pivot=df2.pivot_table(values='총계',index=df2['시군명'],aggfunc='sum')"
   ]
  },
  {
   "cell_type": "code",
   "execution_count": 11,
   "metadata": {
    "ExecuteTime": {
     "end_time": "2020-06-09T05:43:10.578900Z",
     "start_time": "2020-06-09T05:43:10.569900Z"
    }
   },
   "outputs": [
    {
     "data": {
      "text/html": [
       "<div>\n",
       "<style scoped>\n",
       "    .dataframe tbody tr th:only-of-type {\n",
       "        vertical-align: middle;\n",
       "    }\n",
       "\n",
       "    .dataframe tbody tr th {\n",
       "        vertical-align: top;\n",
       "    }\n",
       "\n",
       "    .dataframe thead th {\n",
       "        text-align: right;\n",
       "    }\n",
       "</style>\n",
       "<table border=\"1\" class=\"dataframe\">\n",
       "  <thead>\n",
       "    <tr style=\"text-align: right;\">\n",
       "      <th></th>\n",
       "      <th>총계</th>\n",
       "    </tr>\n",
       "    <tr>\n",
       "      <th>시군명</th>\n",
       "      <th></th>\n",
       "    </tr>\n",
       "  </thead>\n",
       "  <tbody>\n",
       "    <tr>\n",
       "      <th>가평군</th>\n",
       "      <td>30793</td>\n",
       "    </tr>\n",
       "    <tr>\n",
       "      <th>고양시</th>\n",
       "      <td>409589</td>\n",
       "    </tr>\n",
       "    <tr>\n",
       "      <th>과천시</th>\n",
       "      <td>21890</td>\n",
       "    </tr>\n",
       "    <tr>\n",
       "      <th>광명시</th>\n",
       "      <td>107851</td>\n",
       "    </tr>\n",
       "    <tr>\n",
       "      <th>광주시</th>\n",
       "      <td>187575</td>\n",
       "    </tr>\n",
       "  </tbody>\n",
       "</table>\n",
       "</div>"
      ],
      "text/plain": [
       "         총계\n",
       "시군명        \n",
       "가평군   30793\n",
       "고양시  409589\n",
       "과천시   21890\n",
       "광명시  107851\n",
       "광주시  187575"
      ]
     },
     "execution_count": 11,
     "metadata": {},
     "output_type": "execute_result"
    }
   ],
   "source": [
    "df2_pivot.head()"
   ]
  },
  {
   "cell_type": "code",
   "execution_count": 12,
   "metadata": {
    "ExecuteTime": {
     "end_time": "2020-06-09T05:43:10.910919Z",
     "start_time": "2020-06-09T05:43:10.579901Z"
    }
   },
   "outputs": [
    {
     "data": {
      "image/png": "[encoded data removed]",
      "text/plain": [
       "<Figure size 720x360 with 1 Axes>"
      ]
     },
     "metadata": {
      "image/png": {
       "height": 333,
       "width": 612
      },
      "needs_background": "light"
     },
     "output_type": "display_data"
    }
   ],
   "source": [
    "plt.figure(figsize=(10,5))\n",
    "\n",
    "plt.plot(df2_pivot.index,df2_pivot['총계'])\n",
    "plt.xticks(rotation=90)\n",
    "plt.show()"
   ]
  },
  {
   "cell_type": "code",
   "execution_count": 13,
   "metadata": {
    "ExecuteTime": {
     "end_time": "2020-06-09T05:43:11.369946Z",
     "start_time": "2020-06-09T05:43:10.911920Z"
    }
   },
   "outputs": [],
   "source": [
    "df3=pd.read_csv('../day10/주민등록인구집계현황.csv',encoding='euc-kr')"
   ]
  },
  {
   "cell_type": "code",
   "execution_count": 14,
   "metadata": {
    "ExecuteTime": {
     "end_time": "2020-06-09T05:43:11.386947Z",
     "start_time": "2020-06-09T05:43:11.370946Z"
    }
   },
   "outputs": [
    {
     "data": {
      "text/html": [
       "<div>\n",
       "<style scoped>\n",
       "    .dataframe tbody tr th:only-of-type {\n",
       "        vertical-align: middle;\n",
       "    }\n",
       "\n",
       "    .dataframe tbody tr th {\n",
       "        vertical-align: top;\n",
       "    }\n",
       "\n",
       "    .dataframe thead th {\n",
       "        text-align: right;\n",
       "    }\n",
       "</style>\n",
       "<table border=\"1\" class=\"dataframe\">\n",
       "  <thead>\n",
       "    <tr style=\"text-align: right;\">\n",
       "      <th></th>\n",
       "      <th>연도</th>\n",
       "      <th>월</th>\n",
       "      <th>행정구역구분명</th>\n",
       "      <th>행정구역명</th>\n",
       "      <th>총 인구수</th>\n",
       "      <th>0~9세</th>\n",
       "      <th>10~19세</th>\n",
       "      <th>20~29세</th>\n",
       "      <th>30~39세</th>\n",
       "      <th>40~49세</th>\n",
       "      <th>...</th>\n",
       "      <th>10~19세 (여)</th>\n",
       "      <th>20~29세 (여)</th>\n",
       "      <th>30~39세 (여)</th>\n",
       "      <th>40~49세 (여)</th>\n",
       "      <th>50~59세 (여)</th>\n",
       "      <th>60~69세 (여)</th>\n",
       "      <th>70~79세 (여)</th>\n",
       "      <th>80~89세 (여)</th>\n",
       "      <th>90~99세 (여)</th>\n",
       "      <th>100세 이상 (여)</th>\n",
       "    </tr>\n",
       "  </thead>\n",
       "  <tbody>\n",
       "    <tr>\n",
       "      <th>0</th>\n",
       "      <td>2020</td>\n",
       "      <td>5</td>\n",
       "      <td>도</td>\n",
       "      <td>경기도</td>\n",
       "      <td>13324041</td>\n",
       "      <td>1169656</td>\n",
       "      <td>1341519</td>\n",
       "      <td>1788779</td>\n",
       "      <td>1916581</td>\n",
       "      <td>2294087</td>\n",
       "      <td>...</td>\n",
       "      <td>650670</td>\n",
       "      <td>847756</td>\n",
       "      <td>930618</td>\n",
       "      <td>1128827</td>\n",
       "      <td>1092886</td>\n",
       "      <td>731796</td>\n",
       "      <td>411182</td>\n",
       "      <td>215062</td>\n",
       "      <td>37971</td>\n",
       "      <td>3043</td>\n",
       "    </tr>\n",
       "  </tbody>\n",
       "</table>\n",
       "<p>1 rows × 40 columns</p>\n",
       "</div>"
      ],
      "text/plain": [
       "     연도  월 행정구역구분명  행정구역명     총 인구수     0~9세   10~19세   20~29세   30~39세  \\\n",
       "0  2020  5       도  경기도    13324041  1169656  1341519  1788779  1916581   \n",
       "\n",
       "    40~49세  ...  10~19세 (여)  20~29세 (여)  30~39세 (여)  40~49세 (여)  50~59세 (여)  \\\n",
       "0  2294087  ...      650670      847756      930618     1128827     1092886   \n",
       "\n",
       "   60~69세 (여)  70~79세 (여)  80~89세 (여)  90~99세 (여)  100세 이상 (여)  \n",
       "0      731796      411182      215062       37971         3043  \n",
       "\n",
       "[1 rows x 40 columns]"
      ]
     },
     "execution_count": 14,
     "metadata": {},
     "output_type": "execute_result"
    }
   ],
   "source": [
    "df3.head(1)"
   ]
  },
  {
   "cell_type": "code",
   "execution_count": 15,
   "metadata": {
    "ExecuteTime": {
     "end_time": "2020-06-09T05:43:11.401948Z",
     "start_time": "2020-06-09T05:43:11.387947Z"
    }
   },
   "outputs": [],
   "source": [
    "df4=df3[(df3['연도']==2020)&(df3['월']==5)&(df3['행정구역구분명']=='시군')][['행정구역명','총 인구수']]"
   ]
  },
  {
   "cell_type": "code",
   "execution_count": 16,
   "metadata": {
    "ExecuteTime": {
     "end_time": "2020-06-09T05:43:11.406948Z",
     "start_time": "2020-06-09T05:43:11.402948Z"
    }
   },
   "outputs": [],
   "source": [
    "df4['행정구역명']=df4['행정구역명'].str.replace('경기도 ','').str.strip()"
   ]
  },
  {
   "cell_type": "code",
   "execution_count": 17,
   "metadata": {
    "ExecuteTime": {
     "end_time": "2020-06-09T05:43:11.415948Z",
     "start_time": "2020-06-09T05:43:11.407948Z"
    },
    "scrolled": true
   },
   "outputs": [
    {
     "data": {
      "text/plain": [
       "Index(['시군명', '총계'], dtype='object')"
      ]
     },
     "execution_count": 17,
     "metadata": {},
     "output_type": "execute_result"
    }
   ],
   "source": [
    "df2.columns"
   ]
  },
  {
   "cell_type": "code",
   "execution_count": 18,
   "metadata": {
    "ExecuteTime": {
     "end_time": "2020-06-09T05:43:11.424949Z",
     "start_time": "2020-06-09T05:43:11.416948Z"
    }
   },
   "outputs": [
    {
     "data": {
      "text/plain": [
       "Index(['행정구역명', '총 인구수'], dtype='object')"
      ]
     },
     "execution_count": 18,
     "metadata": {},
     "output_type": "execute_result"
    }
   ],
   "source": [
    "df4.columns"
   ]
  },
  {
   "cell_type": "code",
   "execution_count": 19,
   "metadata": {
    "ExecuteTime": {
     "end_time": "2020-06-09T05:43:11.431949Z",
     "start_time": "2020-06-09T05:43:11.425949Z"
    },
    "scrolled": true
   },
   "outputs": [
    {
     "data": {
      "text/plain": [
       "Index(['가평군', '고양시', '과천시', '광명시', '광주시', '구리시', '군포시', '김포시', '남양주시', '동두천시',\n",
       "       '부천시', '성남시', '수원시', '시흥시', '안산시', '안성시', '안양시', '양주시', '양평군', '여주군',\n",
       "       '여주시', '연천군', '오산시', '용인시', '의왕시', '의정부시', '이천시', '파주시', '평택시', '포천시',\n",
       "       '하남시', '화성시'],\n",
       "      dtype='object', name='시군명')"
      ]
     },
     "execution_count": 19,
     "metadata": {},
     "output_type": "execute_result"
    }
   ],
   "source": [
    "df2_pivot.index"
   ]
  },
  {
   "cell_type": "code",
   "execution_count": 20,
   "metadata": {
    "ExecuteTime": {
     "end_time": "2020-06-09T05:43:11.438950Z",
     "start_time": "2020-06-09T05:43:11.432949Z"
    }
   },
   "outputs": [],
   "source": [
    "df4=df4.set_index('행정구역명')"
   ]
  },
  {
   "cell_type": "code",
   "execution_count": 21,
   "metadata": {
    "ExecuteTime": {
     "end_time": "2020-06-09T05:43:11.447950Z",
     "start_time": "2020-06-09T05:43:11.439950Z"
    }
   },
   "outputs": [
    {
     "data": {
      "text/plain": [
       "Index(['가평군', '고양시', '과천시', '광명시', '광주시', '구리시', '군포시', '김포시', '남양주시', '동두천시',\n",
       "       '부천시', '성남시', '수원시', '시흥시', '안산시', '안성시', '안양시', '양주시', '양평군', '여주시',\n",
       "       '연천군', '오산시', '용인시', '의왕시', '의정부시', '이천시', '파주시', '평택시', '포천시', '하남시',\n",
       "       '화성시'],\n",
       "      dtype='object', name='행정구역명')"
      ]
     },
     "execution_count": 21,
     "metadata": {},
     "output_type": "execute_result"
    }
   ],
   "source": [
    "df4.index"
   ]
  },
  {
   "cell_type": "code",
   "execution_count": 22,
   "metadata": {
    "ExecuteTime": {
     "end_time": "2020-06-09T05:43:11.455951Z",
     "start_time": "2020-06-09T05:43:11.448950Z"
    }
   },
   "outputs": [],
   "source": [
    "df_total=df2_pivot.merge(df4,left_index=True,right_index=True)"
   ]
  },
  {
   "cell_type": "code",
   "execution_count": 23,
   "metadata": {
    "ExecuteTime": {
     "end_time": "2020-06-09T05:43:11.470951Z",
     "start_time": "2020-06-09T05:43:11.456951Z"
    }
   },
   "outputs": [],
   "source": [
    "df_total['차/인구수']=df_total['총계']/df_total['총 인구수']*100"
   ]
  },
  {
   "cell_type": "code",
   "execution_count": 24,
   "metadata": {
    "ExecuteTime": {
     "end_time": "2020-06-09T05:43:11.480952Z",
     "start_time": "2020-06-09T05:43:11.471952Z"
    },
    "scrolled": true
   },
   "outputs": [
    {
     "data": {
      "text/html": [
       "<div>\n",
       "<style scoped>\n",
       "    .dataframe tbody tr th:only-of-type {\n",
       "        vertical-align: middle;\n",
       "    }\n",
       "\n",
       "    .dataframe tbody tr th {\n",
       "        vertical-align: top;\n",
       "    }\n",
       "\n",
       "    .dataframe thead th {\n",
       "        text-align: right;\n",
       "    }\n",
       "</style>\n",
       "<table border=\"1\" class=\"dataframe\">\n",
       "  <thead>\n",
       "    <tr style=\"text-align: right;\">\n",
       "      <th></th>\n",
       "      <th>총계</th>\n",
       "      <th>총 인구수</th>\n",
       "      <th>차/인구수</th>\n",
       "    </tr>\n",
       "  </thead>\n",
       "  <tbody>\n",
       "    <tr>\n",
       "      <th>가평군</th>\n",
       "      <td>30793</td>\n",
       "      <td>62566</td>\n",
       "      <td>49.216827</td>\n",
       "    </tr>\n",
       "    <tr>\n",
       "      <th>고양시</th>\n",
       "      <td>409589</td>\n",
       "      <td>1076179</td>\n",
       "      <td>38.059561</td>\n",
       "    </tr>\n",
       "    <tr>\n",
       "      <th>과천시</th>\n",
       "      <td>21890</td>\n",
       "      <td>60790</td>\n",
       "      <td>36.009212</td>\n",
       "    </tr>\n",
       "    <tr>\n",
       "      <th>광명시</th>\n",
       "      <td>107851</td>\n",
       "      <td>314413</td>\n",
       "      <td>34.302335</td>\n",
       "    </tr>\n",
       "    <tr>\n",
       "      <th>광주시</th>\n",
       "      <td>187575</td>\n",
       "      <td>376753</td>\n",
       "      <td>49.787261</td>\n",
       "    </tr>\n",
       "  </tbody>\n",
       "</table>\n",
       "</div>"
      ],
      "text/plain": [
       "         총계    총 인구수      차/인구수\n",
       "가평군   30793    62566  49.216827\n",
       "고양시  409589  1076179  38.059561\n",
       "과천시   21890    60790  36.009212\n",
       "광명시  107851   314413  34.302335\n",
       "광주시  187575   376753  49.787261"
      ]
     },
     "execution_count": 24,
     "metadata": {},
     "output_type": "execute_result"
    }
   ],
   "source": [
    "df_total.head()"
   ]
  },
  {
   "cell_type": "code",
   "execution_count": 25,
   "metadata": {
    "ExecuteTime": {
     "end_time": "2020-06-09T05:43:11.793970Z",
     "start_time": "2020-06-09T05:43:11.485952Z"
    },
    "scrolled": true
   },
   "outputs": [
    {
     "data": {
      "image/png": "[encoded data removed]",
      "text/plain": [
       "<Figure size 720x360 with 1 Axes>"
      ]
     },
     "metadata": {
      "image/png": {
       "height": 333,
       "width": 590
      },
      "needs_background": "light"
     },
     "output_type": "display_data"
    }
   ],
   "source": [
    "plt.figure(figsize=(10,5))\n",
    "\n",
    "plt.plot(df_total.index,df_total['차/인구수'])\n",
    "plt.xticks(rotation=90)\n",
    "plt.show()"
   ]
  },
  {
   "cell_type": "code",
   "execution_count": 26,
   "metadata": {
    "ExecuteTime": {
     "end_time": "2020-06-09T05:43:11.801970Z",
     "start_time": "2020-06-09T05:43:11.795970Z"
    }
   },
   "outputs": [],
   "source": [
    "df5=pd.read_csv('교통사고집계현황.csv',encoding='euc-kr')"
   ]
  },
  {
   "cell_type": "code",
   "execution_count": 27,
   "metadata": {
    "ExecuteTime": {
     "end_time": "2020-06-09T05:43:11.811971Z",
     "start_time": "2020-06-09T05:43:11.802970Z"
    }
   },
   "outputs": [
    {
     "data": {
      "text/html": [
       "<div>\n",
       "<style scoped>\n",
       "    .dataframe tbody tr th:only-of-type {\n",
       "        vertical-align: middle;\n",
       "    }\n",
       "\n",
       "    .dataframe tbody tr th {\n",
       "        vertical-align: top;\n",
       "    }\n",
       "\n",
       "    .dataframe thead th {\n",
       "        text-align: right;\n",
       "    }\n",
       "</style>\n",
       "<table border=\"1\" class=\"dataframe\">\n",
       "  <thead>\n",
       "    <tr style=\"text-align: right;\">\n",
       "      <th></th>\n",
       "      <th>집계년도</th>\n",
       "      <th>시군명</th>\n",
       "      <th>발생건수(건)</th>\n",
       "      <th>사망자수(명)</th>\n",
       "      <th>부상자수(명)</th>\n",
       "    </tr>\n",
       "  </thead>\n",
       "  <tbody>\n",
       "    <tr>\n",
       "      <th>0</th>\n",
       "      <td>2018</td>\n",
       "      <td>가평군</td>\n",
       "      <td>380</td>\n",
       "      <td>11</td>\n",
       "      <td>682</td>\n",
       "    </tr>\n",
       "    <tr>\n",
       "      <th>1</th>\n",
       "      <td>2018</td>\n",
       "      <td>고양시</td>\n",
       "      <td>3950</td>\n",
       "      <td>38</td>\n",
       "      <td>5889</td>\n",
       "    </tr>\n",
       "  </tbody>\n",
       "</table>\n",
       "</div>"
      ],
      "text/plain": [
       "   집계년도  시군명  발생건수(건)  사망자수(명)  부상자수(명)\n",
       "0  2018  가평군      380       11      682\n",
       "1  2018  고양시     3950       38     5889"
      ]
     },
     "execution_count": 27,
     "metadata": {},
     "output_type": "execute_result"
    }
   ],
   "source": [
    "df5.head(2)"
   ]
  },
  {
   "cell_type": "code",
   "execution_count": 28,
   "metadata": {
    "ExecuteTime": {
     "end_time": "2020-06-09T05:43:11.819971Z",
     "start_time": "2020-06-09T05:43:11.812971Z"
    }
   },
   "outputs": [
    {
     "data": {
      "text/plain": [
       "array([2018, 2017, 2015, 2014, 2013], dtype=int64)"
      ]
     },
     "execution_count": 28,
     "metadata": {},
     "output_type": "execute_result"
    }
   ],
   "source": [
    "df5['집계년도'].unique()"
   ]
  },
  {
   "cell_type": "code",
   "execution_count": 29,
   "metadata": {
    "ExecuteTime": {
     "end_time": "2020-06-09T05:43:11.826972Z",
     "start_time": "2020-06-09T05:43:11.820972Z"
    }
   },
   "outputs": [],
   "source": [
    "df5=df5[df5['집계년도']==2018]"
   ]
  },
  {
   "cell_type": "code",
   "execution_count": 30,
   "metadata": {
    "ExecuteTime": {
     "end_time": "2020-06-09T05:43:11.836972Z",
     "start_time": "2020-06-09T05:43:11.827972Z"
    }
   },
   "outputs": [
    {
     "name": "stdout",
     "output_type": "stream",
     "text": [
      "<class 'pandas.core.frame.DataFrame'>\n",
      "Int64Index: 31 entries, 0 to 30\n",
      "Data columns (total 5 columns):\n",
      " #   Column   Non-Null Count  Dtype \n",
      "---  ------   --------------  ----- \n",
      " 0   집계년도     31 non-null     int64 \n",
      " 1   시군명      31 non-null     object\n",
      " 2   발생건수(건)  31 non-null     int64 \n",
      " 3   사망자수(명)  31 non-null     int64 \n",
      " 4   부상자수(명)  31 non-null     int64 \n",
      "dtypes: int64(4), object(1)\n",
      "memory usage: 1.5+ KB\n"
     ]
    }
   ],
   "source": [
    "df5.info()"
   ]
  },
  {
   "cell_type": "code",
   "execution_count": 31,
   "metadata": {
    "ExecuteTime": {
     "end_time": "2020-06-09T05:43:11.844973Z",
     "start_time": "2020-06-09T05:43:11.837972Z"
    }
   },
   "outputs": [],
   "source": [
    "df5=df5.set_index('시군명')"
   ]
  },
  {
   "cell_type": "code",
   "execution_count": 32,
   "metadata": {
    "ExecuteTime": {
     "end_time": "2020-06-09T05:43:11.854973Z",
     "start_time": "2020-06-09T05:43:11.845973Z"
    }
   },
   "outputs": [
    {
     "data": {
      "text/html": [
       "<div>\n",
       "<style scoped>\n",
       "    .dataframe tbody tr th:only-of-type {\n",
       "        vertical-align: middle;\n",
       "    }\n",
       "\n",
       "    .dataframe tbody tr th {\n",
       "        vertical-align: top;\n",
       "    }\n",
       "\n",
       "    .dataframe thead th {\n",
       "        text-align: right;\n",
       "    }\n",
       "</style>\n",
       "<table border=\"1\" class=\"dataframe\">\n",
       "  <thead>\n",
       "    <tr style=\"text-align: right;\">\n",
       "      <th></th>\n",
       "      <th>집계년도</th>\n",
       "      <th>발생건수(건)</th>\n",
       "      <th>사망자수(명)</th>\n",
       "      <th>부상자수(명)</th>\n",
       "    </tr>\n",
       "    <tr>\n",
       "      <th>시군명</th>\n",
       "      <th></th>\n",
       "      <th></th>\n",
       "      <th></th>\n",
       "      <th></th>\n",
       "    </tr>\n",
       "  </thead>\n",
       "  <tbody>\n",
       "    <tr>\n",
       "      <th>가평군</th>\n",
       "      <td>2018</td>\n",
       "      <td>380</td>\n",
       "      <td>11</td>\n",
       "      <td>682</td>\n",
       "    </tr>\n",
       "    <tr>\n",
       "      <th>고양시</th>\n",
       "      <td>2018</td>\n",
       "      <td>3950</td>\n",
       "      <td>38</td>\n",
       "      <td>5889</td>\n",
       "    </tr>\n",
       "  </tbody>\n",
       "</table>\n",
       "</div>"
      ],
      "text/plain": [
       "     집계년도  발생건수(건)  사망자수(명)  부상자수(명)\n",
       "시군명                                 \n",
       "가평군  2018      380       11      682\n",
       "고양시  2018     3950       38     5889"
      ]
     },
     "execution_count": 32,
     "metadata": {},
     "output_type": "execute_result"
    }
   ],
   "source": [
    "df5.head(2)"
   ]
  },
  {
   "cell_type": "code",
   "execution_count": 33,
   "metadata": {
    "ExecuteTime": {
     "end_time": "2020-06-09T05:43:11.861974Z",
     "start_time": "2020-06-09T05:43:11.855974Z"
    }
   },
   "outputs": [],
   "source": [
    "df_total=df_total.merge(df5,left_index=True,right_index=True)"
   ]
  },
  {
   "cell_type": "code",
   "execution_count": 34,
   "metadata": {
    "ExecuteTime": {
     "end_time": "2020-06-09T05:43:11.873975Z",
     "start_time": "2020-06-09T05:43:11.862974Z"
    }
   },
   "outputs": [
    {
     "name": "stdout",
     "output_type": "stream",
     "text": [
      "<class 'pandas.core.frame.DataFrame'>\n",
      "Index: 31 entries, 가평군 to 화성시\n",
      "Data columns (total 7 columns):\n",
      " #   Column   Non-Null Count  Dtype  \n",
      "---  ------   --------------  -----  \n",
      " 0   총계       31 non-null     int64  \n",
      " 1   총 인구수    31 non-null     int64  \n",
      " 2   차/인구수    31 non-null     float64\n",
      " 3   집계년도     31 non-null     int64  \n",
      " 4   발생건수(건)  31 non-null     int64  \n",
      " 5   사망자수(명)  31 non-null     int64  \n",
      " 6   부상자수(명)  31 non-null     int64  \n",
      "dtypes: float64(1), int64(6)\n",
      "memory usage: 3.2+ KB\n"
     ]
    }
   ],
   "source": [
    "df_total.info()"
   ]
  },
  {
   "cell_type": "code",
   "execution_count": 35,
   "metadata": {
    "ExecuteTime": {
     "end_time": "2020-06-09T05:43:11.880975Z",
     "start_time": "2020-06-09T05:43:11.874975Z"
    }
   },
   "outputs": [],
   "source": [
    "df_total=df_total.drop('집계년도',axis=1)"
   ]
  },
  {
   "cell_type": "code",
   "execution_count": 36,
   "metadata": {
    "ExecuteTime": {
     "end_time": "2020-06-09T05:43:11.892976Z",
     "start_time": "2020-06-09T05:43:11.881975Z"
    },
    "scrolled": true
   },
   "outputs": [
    {
     "data": {
      "text/html": [
       "<div>\n",
       "<style scoped>\n",
       "    .dataframe tbody tr th:only-of-type {\n",
       "        vertical-align: middle;\n",
       "    }\n",
       "\n",
       "    .dataframe tbody tr th {\n",
       "        vertical-align: top;\n",
       "    }\n",
       "\n",
       "    .dataframe thead th {\n",
       "        text-align: right;\n",
       "    }\n",
       "</style>\n",
       "<table border=\"1\" class=\"dataframe\">\n",
       "  <thead>\n",
       "    <tr style=\"text-align: right;\">\n",
       "      <th></th>\n",
       "      <th>총계</th>\n",
       "      <th>총 인구수</th>\n",
       "      <th>차/인구수</th>\n",
       "      <th>발생건수(건)</th>\n",
       "      <th>사망자수(명)</th>\n",
       "      <th>부상자수(명)</th>\n",
       "    </tr>\n",
       "  </thead>\n",
       "  <tbody>\n",
       "    <tr>\n",
       "      <th>가평군</th>\n",
       "      <td>30793</td>\n",
       "      <td>62566</td>\n",
       "      <td>49.216827</td>\n",
       "      <td>380</td>\n",
       "      <td>11</td>\n",
       "      <td>682</td>\n",
       "    </tr>\n",
       "    <tr>\n",
       "      <th>고양시</th>\n",
       "      <td>409589</td>\n",
       "      <td>1076179</td>\n",
       "      <td>38.059561</td>\n",
       "      <td>3950</td>\n",
       "      <td>38</td>\n",
       "      <td>5889</td>\n",
       "    </tr>\n",
       "  </tbody>\n",
       "</table>\n",
       "</div>"
      ],
      "text/plain": [
       "         총계    총 인구수      차/인구수  발생건수(건)  사망자수(명)  부상자수(명)\n",
       "가평군   30793    62566  49.216827      380       11      682\n",
       "고양시  409589  1076179  38.059561     3950       38     5889"
      ]
     },
     "execution_count": 36,
     "metadata": {},
     "output_type": "execute_result"
    }
   ],
   "source": [
    "df_total.head(2)"
   ]
  },
  {
   "cell_type": "code",
   "execution_count": 37,
   "metadata": {
    "ExecuteTime": {
     "end_time": "2020-06-09T05:43:11.899976Z",
     "start_time": "2020-06-09T05:43:11.893976Z"
    }
   },
   "outputs": [],
   "source": [
    "df_total['교통사고/차']=df_total['발생건수(건)']/df_total['총계']*100"
   ]
  },
  {
   "cell_type": "code",
   "execution_count": 38,
   "metadata": {
    "ExecuteTime": {
     "end_time": "2020-06-09T05:43:11.905976Z",
     "start_time": "2020-06-09T05:43:11.901976Z"
    }
   },
   "outputs": [],
   "source": [
    "df_total=df_total.sort_values('사망자수(명)')"
   ]
  },
  {
   "cell_type": "code",
   "execution_count": 39,
   "metadata": {
    "ExecuteTime": {
     "end_time": "2020-06-09T05:43:12.600016Z",
     "start_time": "2020-06-09T05:43:11.906976Z"
    },
    "scrolled": true
   },
   "outputs": [
    {
     "data": {
      "image/png": "[encoded data removed]",
      "text/plain": [
       "<Figure size 1080x720 with 2 Axes>"
      ]
     },
     "metadata": {
      "image/png": {
       "height": 600,
       "width": 898
      },
      "needs_background": "light"
     },
     "output_type": "display_data"
    }
   ],
   "source": [
    "fig=plt.figure(figsize=(15,10))\n",
    "ax1=plt.subplot()\n",
    "ax1.bar([x*3 for x in range(31)],df_total['발생건수(건)'],tick_label=df_total.index)\n",
    "ax1.bar([x*3+1 for x in range(31)],df_total['부상자수(명)'])\n",
    "ax2=ax1.twinx()\n",
    "ax2.plot([x*3+2 for x in range(31)],df_total['사망자수(명)'],color='red')\n",
    "ax1.set_xticklabels(ax1.get_xticklabels(),rotation=45)\n",
    "ax1.legend(['발생건','부상자수'],bbox_to_anchor =(0.1,0.95))\n",
    "ax2.legend(['사망자수'],bbox_to_anchor =(0.1,1))\n",
    "plt.show()"
   ]
  },
  {
   "cell_type": "code",
   "execution_count": 40,
   "metadata": {
    "ExecuteTime": {
     "end_time": "2020-06-09T05:43:12.605016Z",
     "start_time": "2020-06-09T05:43:12.601016Z"
    }
   },
   "outputs": [],
   "source": [
    "df_total=df_total.sort_values('총계')"
   ]
  },
  {
   "cell_type": "code",
   "execution_count": 41,
   "metadata": {
    "ExecuteTime": {
     "end_time": "2020-06-09T05:43:13.237053Z",
     "start_time": "2020-06-09T05:43:12.606016Z"
    }
   },
   "outputs": [
    {
     "data": {
      "image/png": "[encoded data removed]",
      "text/plain": [
       "<Figure size 1080x720 with 2 Axes>"
      ]
     },
     "metadata": {
      "image/png": {
       "height": 600,
       "width": 920
      },
      "needs_background": "light"
     },
     "output_type": "display_data"
    }
   ],
   "source": [
    "fig=plt.figure(figsize=(15,10))\n",
    "ax1=plt.subplot()\n",
    "ax1.bar([x*3 for x in range(31)],df_total['총계'],tick_label=df_total.index)\n",
    "ax1.set_xticklabels(ax1.get_xticklabels(),rotation=45)\n",
    "ax2=ax1.twinx()\n",
    "ax2.plot([x*3 for x in range(31)],df_total['발생건수(건)'],color='orange')\n",
    "plt.show()"
   ]
  },
  {
   "cell_type": "code",
   "execution_count": 42,
   "metadata": {
    "ExecuteTime": {
     "end_time": "2020-06-09T05:43:13.240053Z",
     "start_time": "2020-06-09T05:43:13.238053Z"
    }
   },
   "outputs": [],
   "source": [
    "# shutil.move('C:/Users/i7B/Downloads/CCTV현황(개방표준).csv','CCTV현황(개방표준).csv')"
   ]
  },
  {
   "cell_type": "code",
   "execution_count": 43,
   "metadata": {
    "ExecuteTime": {
     "end_time": "2020-06-09T05:43:13.444064Z",
     "start_time": "2020-06-09T05:43:13.241053Z"
    }
   },
   "outputs": [],
   "source": [
    "df_a=pd.read_csv('CCTV현황(개방표준).csv',encoding='euc-kr')"
   ]
  },
  {
   "cell_type": "code",
   "execution_count": 44,
   "metadata": {
    "ExecuteTime": {
     "end_time": "2020-06-09T05:43:13.460065Z",
     "start_time": "2020-06-09T05:43:13.445064Z"
    }
   },
   "outputs": [
    {
     "data": {
      "text/html": [
       "<div>\n",
       "<style scoped>\n",
       "    .dataframe tbody tr th:only-of-type {\n",
       "        vertical-align: middle;\n",
       "    }\n",
       "\n",
       "    .dataframe tbody tr th {\n",
       "        vertical-align: top;\n",
       "    }\n",
       "\n",
       "    .dataframe thead th {\n",
       "        text-align: right;\n",
       "    }\n",
       "</style>\n",
       "<table border=\"1\" class=\"dataframe\">\n",
       "  <thead>\n",
       "    <tr style=\"text-align: right;\">\n",
       "      <th></th>\n",
       "      <th>관리기관명</th>\n",
       "      <th>소재지도로명주소</th>\n",
       "      <th>소재지지번주소</th>\n",
       "      <th>설치목적구분</th>\n",
       "      <th>카메라대수</th>\n",
       "      <th>카메라화소수</th>\n",
       "      <th>촬영방면정보</th>\n",
       "      <th>보관일수</th>\n",
       "      <th>설치년월</th>\n",
       "      <th>관리기관전화번호</th>\n",
       "      <th>위도</th>\n",
       "      <th>경도</th>\n",
       "      <th>데이터기준일자</th>\n",
       "    </tr>\n",
       "  </thead>\n",
       "  <tbody>\n",
       "    <tr>\n",
       "      <th>0</th>\n",
       "      <td>경기도 가평군청</td>\n",
       "      <td>경기도 가평군 가평읍 당목가일길 211-80</td>\n",
       "      <td>경기도 가평군 가평읍 개곡리 705번지</td>\n",
       "      <td>생활방범</td>\n",
       "      <td>4</td>\n",
       "      <td>200.0</td>\n",
       "      <td>120도</td>\n",
       "      <td>30.0</td>\n",
       "      <td>NaN</td>\n",
       "      <td>031-582-1191</td>\n",
       "      <td>37.870545</td>\n",
       "      <td>127.5376575</td>\n",
       "      <td>2019-05-10</td>\n",
       "    </tr>\n",
       "    <tr>\n",
       "      <th>1</th>\n",
       "      <td>경기도 가평군청</td>\n",
       "      <td>NaN</td>\n",
       "      <td>경기도 가평군 가평읍 개곡리 964(개곡교)</td>\n",
       "      <td>생활방범</td>\n",
       "      <td>2</td>\n",
       "      <td>200.0</td>\n",
       "      <td>도로방면</td>\n",
       "      <td>30.0</td>\n",
       "      <td>NaN</td>\n",
       "      <td>031-580-2571</td>\n",
       "      <td>37.864426</td>\n",
       "      <td>127.5301553</td>\n",
       "      <td>2019-05-10</td>\n",
       "    </tr>\n",
       "    <tr>\n",
       "      <th>2</th>\n",
       "      <td>경기도 가평군청</td>\n",
       "      <td>NaN</td>\n",
       "      <td>경기도 가평군 가평읍 개곡리 산 334(경춘공원)</td>\n",
       "      <td>쓰레기단속</td>\n",
       "      <td>1</td>\n",
       "      <td>200.0</td>\n",
       "      <td>360도전방면</td>\n",
       "      <td>30.0</td>\n",
       "      <td>NaN</td>\n",
       "      <td>031-580-2550</td>\n",
       "      <td>37.834013</td>\n",
       "      <td>127.5063827</td>\n",
       "      <td>2019-05-10</td>\n",
       "    </tr>\n",
       "    <tr>\n",
       "      <th>3</th>\n",
       "      <td>경기도 가평군청</td>\n",
       "      <td>NaN</td>\n",
       "      <td>경기도 가평군 가평읍 개곡리 산 344(줄길리 마을입구)</td>\n",
       "      <td>생활방범</td>\n",
       "      <td>2</td>\n",
       "      <td>200.0</td>\n",
       "      <td>도로방면</td>\n",
       "      <td>30.0</td>\n",
       "      <td>NaN</td>\n",
       "      <td>031-580-2571</td>\n",
       "      <td>37.848283</td>\n",
       "      <td>127.5498354</td>\n",
       "      <td>2019-05-10</td>\n",
       "    </tr>\n",
       "    <tr>\n",
       "      <th>4</th>\n",
       "      <td>경기도 가평군청</td>\n",
       "      <td>NaN</td>\n",
       "      <td>경기도 가평군 가평읍 경반리 산 151-3(짚라인가평입구)</td>\n",
       "      <td>생활방범</td>\n",
       "      <td>1</td>\n",
       "      <td>200.0</td>\n",
       "      <td>도로방면</td>\n",
       "      <td>30.0</td>\n",
       "      <td>NaN</td>\n",
       "      <td>031-580-2571</td>\n",
       "      <td>37.834490</td>\n",
       "      <td>127.4663768</td>\n",
       "      <td>2019-05-10</td>\n",
       "    </tr>\n",
       "  </tbody>\n",
       "</table>\n",
       "</div>"
      ],
      "text/plain": [
       "      관리기관명                  소재지도로명주소                           소재지지번주소  \\\n",
       "0  경기도 가평군청  경기도 가평군 가평읍 당목가일길 211-80             경기도 가평군 가평읍 개곡리 705번지   \n",
       "1  경기도 가평군청                       NaN          경기도 가평군 가평읍 개곡리 964(개곡교)   \n",
       "2  경기도 가평군청                       NaN       경기도 가평군 가평읍 개곡리 산 334(경춘공원)   \n",
       "3  경기도 가평군청                       NaN   경기도 가평군 가평읍 개곡리 산 344(줄길리 마을입구)   \n",
       "4  경기도 가평군청                       NaN  경기도 가평군 가평읍 경반리 산 151-3(짚라인가평입구)   \n",
       "\n",
       "  설치목적구분  카메라대수  카메라화소수   촬영방면정보  보관일수 설치년월      관리기관전화번호         위도  \\\n",
       "0   생활방범      4   200.0     120도  30.0  NaN  031-582-1191  37.870545   \n",
       "1   생활방범      2   200.0     도로방면  30.0  NaN  031-580-2571  37.864426   \n",
       "2  쓰레기단속      1   200.0  360도전방면  30.0  NaN  031-580-2550  37.834013   \n",
       "3   생활방범      2   200.0     도로방면  30.0  NaN  031-580-2571  37.848283   \n",
       "4   생활방범      1   200.0     도로방면  30.0  NaN  031-580-2571  37.834490   \n",
       "\n",
       "            경도     데이터기준일자  \n",
       "0  127.5376575  2019-05-10  \n",
       "1  127.5301553  2019-05-10  \n",
       "2  127.5063827  2019-05-10  \n",
       "3  127.5498354  2019-05-10  \n",
       "4  127.4663768  2019-05-10  "
      ]
     },
     "execution_count": 44,
     "metadata": {},
     "output_type": "execute_result"
    }
   ],
   "source": [
    "df_a.head()"
   ]
  },
  {
   "cell_type": "code",
   "execution_count": 45,
   "metadata": {
    "ExecuteTime": {
     "end_time": "2020-06-09T05:43:13.486067Z",
     "start_time": "2020-06-09T05:43:13.461065Z"
    }
   },
   "outputs": [
    {
     "name": "stdout",
     "output_type": "stream",
     "text": [
      "<class 'pandas.core.frame.DataFrame'>\n",
      "RangeIndex: 37969 entries, 0 to 37968\n",
      "Data columns (total 13 columns):\n",
      " #   Column    Non-Null Count  Dtype  \n",
      "---  ------    --------------  -----  \n",
      " 0   관리기관명     37969 non-null  object \n",
      " 1   소재지도로명주소  22904 non-null  object \n",
      " 2   소재지지번주소   37849 non-null  object \n",
      " 3   설치목적구분    37969 non-null  object \n",
      " 4   카메라대수     37969 non-null  int64  \n",
      " 5   카메라화소수    34121 non-null  float64\n",
      " 6   촬영방면정보    32497 non-null  object \n",
      " 7   보관일수      35259 non-null  float64\n",
      " 8   설치년월      24283 non-null  object \n",
      " 9   관리기관전화번호  37969 non-null  object \n",
      " 10  위도        37937 non-null  float64\n",
      " 11  경도        37937 non-null  object \n",
      " 12  데이터기준일자   37969 non-null  object \n",
      "dtypes: float64(3), int64(1), object(9)\n",
      "memory usage: 3.8+ MB\n"
     ]
    }
   ],
   "source": [
    "df_a.info()"
   ]
  },
  {
   "cell_type": "code",
   "execution_count": 46,
   "metadata": {
    "ExecuteTime": {
     "end_time": "2020-06-09T05:43:13.494067Z",
     "start_time": "2020-06-09T05:43:13.487067Z"
    }
   },
   "outputs": [
    {
     "data": {
      "text/plain": [
       "array(['경기도 가평군청', '경기도 고양시', '경기도 과천시청', '경기도 광명시 재해방재과',\n",
       "       '경기도 광명시 도시교통과', '경기도 광명시 정보통신과', '경기도 광명시 공원녹지과', '경기도 광명시 기업경제과',\n",
       "       '경기도 광명시 지도민원과', '경기도 광주시청', '경기도 구리시청', '경기도구리시청', '경기도 군포시청',\n",
       "       '김포시 정보통신과', '김포시 안전총괄과', '김포시 교통과', '김포시 환경과', '경기도 남양주시청',\n",
       "       '경기도 동두천시청', '경기도 부천시청', '경기도 성남시청', '경기도 수원시 도시안전통합센터',\n",
       "       '경기도 수원시 기후대기과', '경기도 시흥시청', '안산시청', '경기도 안성시청', '경기도 안양시 (건축과)',\n",
       "       '경기도 안양시 (대중교통과)', '경기도 안양시청(교통정책과)', '경기도 안양시 (교통정책과)',\n",
       "       '경기도 안양시 평촌도서관', '경기도 안양시 (가족여성과)', '경기도 안양시 (총무과)',\n",
       "       '경기도 안양시 (안전총괄과)', '경기도 안양시 (정보통신과)', '경기도 안양시 (청소행정과)',\n",
       "       '경기도 안양시 (하천관리과)', '경기도 안양시 도로과', '경기도 안양시 평촌도서관(벌말분관)',\n",
       "       '경기도 안양시 평촌도서관(관양분관)', '경기도 안양시 평촌도서관(비산분관)',\n",
       "       '경기도 안양시 평촌도서관(호계분관)', '경기도 안양시 평촌도서관(어린이분관)', '양주시청',\n",
       "       '회천1동 행정복지센터', '광적면 행정복지센터', '양주시 평생교육진흥원(덕정도서관)',\n",
       "       '양주시 평생교육진흥원(고읍도서관)', '남면 행정복지센터', '양주시 평생교육진흥원(양주 희망도서관)',\n",
       "       '경기도 양평군청', '경기도 여주시', 'CCTV통합관제센터', '연천군청 지역경제과', '경기도 오산시청',\n",
       "       '용인시', '경기도 의왕시청', '경기도 의정부시청', '경기도 이천시청', '경기도 파주시', '경기도 평택시',\n",
       "       '경기도 포천시', '경기도 하남시청', '화성시-스마트시티과'], dtype=object)"
      ]
     },
     "execution_count": 46,
     "metadata": {},
     "output_type": "execute_result"
    }
   ],
   "source": [
    "df_a['관리기관명'].unique()"
   ]
  },
  {
   "cell_type": "code",
   "execution_count": 47,
   "metadata": {
    "ExecuteTime": {
     "end_time": "2020-06-09T05:43:13.502068Z",
     "start_time": "2020-06-09T05:43:13.496067Z"
    }
   },
   "outputs": [
    {
     "data": {
      "text/plain": [
       "120"
      ]
     },
     "execution_count": 47,
     "metadata": {},
     "output_type": "execute_result"
    }
   ],
   "source": [
    "df_a['소재지지번주소'].isna().sum()"
   ]
  },
  {
   "cell_type": "code",
   "execution_count": 48,
   "metadata": {
    "ExecuteTime": {
     "end_time": "2020-06-09T05:43:13.531069Z",
     "start_time": "2020-06-09T05:43:13.503068Z"
    }
   },
   "outputs": [
    {
     "data": {
      "text/html": [
       "<div>\n",
       "<style scoped>\n",
       "    .dataframe tbody tr th:only-of-type {\n",
       "        vertical-align: middle;\n",
       "    }\n",
       "\n",
       "    .dataframe tbody tr th {\n",
       "        vertical-align: top;\n",
       "    }\n",
       "\n",
       "    .dataframe thead th {\n",
       "        text-align: right;\n",
       "    }\n",
       "</style>\n",
       "<table border=\"1\" class=\"dataframe\">\n",
       "  <thead>\n",
       "    <tr style=\"text-align: right;\">\n",
       "      <th></th>\n",
       "      <th>관리기관명</th>\n",
       "      <th>소재지도로명주소</th>\n",
       "      <th>소재지지번주소</th>\n",
       "      <th>설치목적구분</th>\n",
       "      <th>카메라대수</th>\n",
       "      <th>카메라화소수</th>\n",
       "      <th>촬영방면정보</th>\n",
       "      <th>보관일수</th>\n",
       "      <th>설치년월</th>\n",
       "      <th>관리기관전화번호</th>\n",
       "      <th>위도</th>\n",
       "      <th>경도</th>\n",
       "      <th>데이터기준일자</th>\n",
       "    </tr>\n",
       "  </thead>\n",
       "  <tbody>\n",
       "    <tr>\n",
       "      <th>4020</th>\n",
       "      <td>경기도 군포시청</td>\n",
       "      <td>당정동 1014-2</td>\n",
       "      <td>NaN</td>\n",
       "      <td>다목적</td>\n",
       "      <td>4</td>\n",
       "      <td>NaN</td>\n",
       "      <td>360도 회전</td>\n",
       "      <td>30.0</td>\n",
       "      <td>NaN</td>\n",
       "      <td>031-399-7911</td>\n",
       "      <td>37.343368</td>\n",
       "      <td>126.9491189349</td>\n",
       "      <td>2019-06-04</td>\n",
       "    </tr>\n",
       "    <tr>\n",
       "      <th>4021</th>\n",
       "      <td>경기도 군포시청</td>\n",
       "      <td>당정동 1020-1</td>\n",
       "      <td>NaN</td>\n",
       "      <td>다목적</td>\n",
       "      <td>3</td>\n",
       "      <td>NaN</td>\n",
       "      <td>360도 회전</td>\n",
       "      <td>30.0</td>\n",
       "      <td>NaN</td>\n",
       "      <td>031-399-7911</td>\n",
       "      <td>37.340782</td>\n",
       "      <td>126.9494254703</td>\n",
       "      <td>2019-06-04</td>\n",
       "    </tr>\n",
       "    <tr>\n",
       "      <th>4024</th>\n",
       "      <td>경기도 군포시청</td>\n",
       "      <td>당정동 181-5</td>\n",
       "      <td>NaN</td>\n",
       "      <td>다목적</td>\n",
       "      <td>1</td>\n",
       "      <td>NaN</td>\n",
       "      <td>360도 회전</td>\n",
       "      <td>30.0</td>\n",
       "      <td>NaN</td>\n",
       "      <td>031-399-7911</td>\n",
       "      <td>37.356975</td>\n",
       "      <td>126.9527550304</td>\n",
       "      <td>2019-06-04</td>\n",
       "    </tr>\n",
       "    <tr>\n",
       "      <th>4027</th>\n",
       "      <td>경기도 군포시청</td>\n",
       "      <td>당정동751-1</td>\n",
       "      <td>NaN</td>\n",
       "      <td>다목적</td>\n",
       "      <td>3</td>\n",
       "      <td>NaN</td>\n",
       "      <td>360도 회전</td>\n",
       "      <td>30.0</td>\n",
       "      <td>NaN</td>\n",
       "      <td>031-399-7911</td>\n",
       "      <td>37.343809</td>\n",
       "      <td>126.9480352283</td>\n",
       "      <td>2019-06-04</td>\n",
       "    </tr>\n",
       "    <tr>\n",
       "      <th>4047</th>\n",
       "      <td>경기도 군포시청</td>\n",
       "      <td>당정동 1012-2</td>\n",
       "      <td>NaN</td>\n",
       "      <td>다목적</td>\n",
       "      <td>3</td>\n",
       "      <td>NaN</td>\n",
       "      <td>360도 회전</td>\n",
       "      <td>30.0</td>\n",
       "      <td>NaN</td>\n",
       "      <td>031-399-7911</td>\n",
       "      <td>37.342728</td>\n",
       "      <td>126.9500673454</td>\n",
       "      <td>2019-06-04</td>\n",
       "    </tr>\n",
       "    <tr>\n",
       "      <th>...</th>\n",
       "      <td>...</td>\n",
       "      <td>...</td>\n",
       "      <td>...</td>\n",
       "      <td>...</td>\n",
       "      <td>...</td>\n",
       "      <td>...</td>\n",
       "      <td>...</td>\n",
       "      <td>...</td>\n",
       "      <td>...</td>\n",
       "      <td>...</td>\n",
       "      <td>...</td>\n",
       "      <td>...</td>\n",
       "      <td>...</td>\n",
       "    </tr>\n",
       "    <tr>\n",
       "      <th>33220</th>\n",
       "      <td>경기도 하남시청</td>\n",
       "      <td>경기도 하남시 대청로 22번길 555도 하남리빙텔 주변도로</td>\n",
       "      <td>NaN</td>\n",
       "      <td>교통단속</td>\n",
       "      <td>1</td>\n",
       "      <td>41.0</td>\n",
       "      <td>NaN</td>\n",
       "      <td>NaN</td>\n",
       "      <td>2018-06</td>\n",
       "      <td>031-790-6293</td>\n",
       "      <td>NaN</td>\n",
       "      <td>NaN</td>\n",
       "      <td>2018-08-29</td>\n",
       "    </tr>\n",
       "    <tr>\n",
       "      <th>33221</th>\n",
       "      <td>경기도 하남시청</td>\n",
       "      <td>경기도 하남시 덕풍서로 780 도 명성교회 주변도로</td>\n",
       "      <td>NaN</td>\n",
       "      <td>교통단속</td>\n",
       "      <td>1</td>\n",
       "      <td>41.0</td>\n",
       "      <td>NaN</td>\n",
       "      <td>NaN</td>\n",
       "      <td>2018-06</td>\n",
       "      <td>031-790-6293</td>\n",
       "      <td>NaN</td>\n",
       "      <td>NaN</td>\n",
       "      <td>2018-08-29</td>\n",
       "    </tr>\n",
       "    <tr>\n",
       "      <th>33564</th>\n",
       "      <td>경기도 하남시청</td>\n",
       "      <td>경기도 하남시 스타필드하남 정문 앞 (신장동 54-60)</td>\n",
       "      <td>NaN</td>\n",
       "      <td>교통단속</td>\n",
       "      <td>1</td>\n",
       "      <td>200.0</td>\n",
       "      <td>NaN</td>\n",
       "      <td>NaN</td>\n",
       "      <td>2018-06</td>\n",
       "      <td>031-790-6293</td>\n",
       "      <td>NaN</td>\n",
       "      <td>NaN</td>\n",
       "      <td>2018-08-29</td>\n",
       "    </tr>\n",
       "    <tr>\n",
       "      <th>33569</th>\n",
       "      <td>경기도 하남시청</td>\n",
       "      <td>경기도 하남시 구산유치원 주변도로</td>\n",
       "      <td>NaN</td>\n",
       "      <td>교통단속</td>\n",
       "      <td>1</td>\n",
       "      <td>200.0</td>\n",
       "      <td>NaN</td>\n",
       "      <td>NaN</td>\n",
       "      <td>2018-10</td>\n",
       "      <td>031-790-6293</td>\n",
       "      <td>NaN</td>\n",
       "      <td>NaN</td>\n",
       "      <td>2018-08-29</td>\n",
       "    </tr>\n",
       "    <tr>\n",
       "      <th>33686</th>\n",
       "      <td>경기도 하남시청</td>\n",
       "      <td>경기도 하남시 미사동로 272-1 도 미사동삼거리 주변도로</td>\n",
       "      <td>NaN</td>\n",
       "      <td>교통단속</td>\n",
       "      <td>1</td>\n",
       "      <td>41.0</td>\n",
       "      <td>NaN</td>\n",
       "      <td>NaN</td>\n",
       "      <td>2018-06</td>\n",
       "      <td>031-790-6293</td>\n",
       "      <td>NaN</td>\n",
       "      <td>NaN</td>\n",
       "      <td>2018-08-29</td>\n",
       "    </tr>\n",
       "  </tbody>\n",
       "</table>\n",
       "<p>120 rows × 13 columns</p>\n",
       "</div>"
      ],
      "text/plain": [
       "          관리기관명                          소재지도로명주소 소재지지번주소 설치목적구분  카메라대수  \\\n",
       "4020   경기도 군포시청                        당정동 1014-2     NaN    다목적      4   \n",
       "4021   경기도 군포시청                        당정동 1020-1     NaN    다목적      3   \n",
       "4024   경기도 군포시청                         당정동 181-5     NaN    다목적      1   \n",
       "4027   경기도 군포시청                          당정동751-1     NaN    다목적      3   \n",
       "4047   경기도 군포시청                        당정동 1012-2     NaN    다목적      3   \n",
       "...         ...                               ...     ...    ...    ...   \n",
       "33220  경기도 하남시청  경기도 하남시 대청로 22번길 555도 하남리빙텔 주변도로     NaN   교통단속      1   \n",
       "33221  경기도 하남시청      경기도 하남시 덕풍서로 780 도 명성교회 주변도로     NaN   교통단속      1   \n",
       "33564  경기도 하남시청   경기도 하남시 스타필드하남 정문 앞 (신장동 54-60)     NaN   교통단속      1   \n",
       "33569  경기도 하남시청                경기도 하남시 구산유치원 주변도로     NaN   교통단속      1   \n",
       "33686  경기도 하남시청  경기도 하남시 미사동로 272-1 도 미사동삼거리 주변도로     NaN   교통단속      1   \n",
       "\n",
       "       카메라화소수   촬영방면정보  보관일수     설치년월      관리기관전화번호         위도  \\\n",
       "4020      NaN  360도 회전  30.0      NaN  031-399-7911  37.343368   \n",
       "4021      NaN  360도 회전  30.0      NaN  031-399-7911  37.340782   \n",
       "4024      NaN  360도 회전  30.0      NaN  031-399-7911  37.356975   \n",
       "4027      NaN  360도 회전  30.0      NaN  031-399-7911  37.343809   \n",
       "4047      NaN  360도 회전  30.0      NaN  031-399-7911  37.342728   \n",
       "...       ...      ...   ...      ...           ...        ...   \n",
       "33220    41.0      NaN   NaN  2018-06  031-790-6293        NaN   \n",
       "33221    41.0      NaN   NaN  2018-06  031-790-6293        NaN   \n",
       "33564   200.0      NaN   NaN  2018-06  031-790-6293        NaN   \n",
       "33569   200.0      NaN   NaN  2018-10  031-790-6293        NaN   \n",
       "33686    41.0      NaN   NaN  2018-06  031-790-6293        NaN   \n",
       "\n",
       "                   경도     데이터기준일자  \n",
       "4020   126.9491189349  2019-06-04  \n",
       "4021   126.9494254703  2019-06-04  \n",
       "4024   126.9527550304  2019-06-04  \n",
       "4027   126.9480352283  2019-06-04  \n",
       "4047   126.9500673454  2019-06-04  \n",
       "...               ...         ...  \n",
       "33220             NaN  2018-08-29  \n",
       "33221             NaN  2018-08-29  \n",
       "33564             NaN  2018-08-29  \n",
       "33569             NaN  2018-08-29  \n",
       "33686             NaN  2018-08-29  \n",
       "\n",
       "[120 rows x 13 columns]"
      ]
     },
     "execution_count": 48,
     "metadata": {},
     "output_type": "execute_result"
    }
   ],
   "source": [
    "df_a[df_a['소재지지번주소'].isna()]"
   ]
  },
  {
   "cell_type": "code",
   "execution_count": 49,
   "metadata": {
    "ExecuteTime": {
     "end_time": "2020-06-09T05:43:13.565071Z",
     "start_time": "2020-06-09T05:43:13.532069Z"
    }
   },
   "outputs": [],
   "source": [
    "df_a['관리기관명']=df_a['관리기관명'].str.replace(\"경기도 \",'')"
   ]
  },
  {
   "cell_type": "code",
   "execution_count": 50,
   "metadata": {
    "ExecuteTime": {
     "end_time": "2020-06-09T05:43:13.585072Z",
     "start_time": "2020-06-09T05:43:13.566071Z"
    }
   },
   "outputs": [],
   "source": [
    "df_a['시군']=df_a['소재지지번주소'].str[4:7]"
   ]
  },
  {
   "cell_type": "code",
   "execution_count": 51,
   "metadata": {
    "ExecuteTime": {
     "end_time": "2020-06-09T05:43:13.612074Z",
     "start_time": "2020-06-09T05:43:13.586072Z"
    }
   },
   "outputs": [],
   "source": [
    "pivot_a=df_a.pivot_table(values='카메라대수',index='관리기관명',aggfunc='sum')"
   ]
  },
  {
   "cell_type": "code",
   "execution_count": 52,
   "metadata": {
    "ExecuteTime": {
     "end_time": "2020-06-09T05:43:13.622075Z",
     "start_time": "2020-06-09T05:43:13.613074Z"
    }
   },
   "outputs": [
    {
     "data": {
      "text/html": [
       "<div>\n",
       "<style scoped>\n",
       "    .dataframe tbody tr th:only-of-type {\n",
       "        vertical-align: middle;\n",
       "    }\n",
       "\n",
       "    .dataframe tbody tr th {\n",
       "        vertical-align: top;\n",
       "    }\n",
       "\n",
       "    .dataframe thead th {\n",
       "        text-align: right;\n",
       "    }\n",
       "</style>\n",
       "<table border=\"1\" class=\"dataframe\">\n",
       "  <thead>\n",
       "    <tr style=\"text-align: right;\">\n",
       "      <th></th>\n",
       "      <th>카메라대수</th>\n",
       "    </tr>\n",
       "    <tr>\n",
       "      <th>관리기관명</th>\n",
       "      <th></th>\n",
       "    </tr>\n",
       "  </thead>\n",
       "  <tbody>\n",
       "    <tr>\n",
       "      <th>CCTV통합관제센터</th>\n",
       "      <td>540</td>\n",
       "    </tr>\n",
       "    <tr>\n",
       "      <th>가평군청</th>\n",
       "      <td>1283</td>\n",
       "    </tr>\n",
       "    <tr>\n",
       "      <th>경기도구리시청</th>\n",
       "      <td>18</td>\n",
       "    </tr>\n",
       "    <tr>\n",
       "      <th>고양시</th>\n",
       "      <td>4509</td>\n",
       "    </tr>\n",
       "    <tr>\n",
       "      <th>과천시청</th>\n",
       "      <td>982</td>\n",
       "    </tr>\n",
       "    <tr>\n",
       "      <th>광명시 공원녹지과</th>\n",
       "      <td>253</td>\n",
       "    </tr>\n",
       "    <tr>\n",
       "      <th>광명시 기업경제과</th>\n",
       "      <td>83</td>\n",
       "    </tr>\n",
       "    <tr>\n",
       "      <th>광명시 도시교통과</th>\n",
       "      <td>357</td>\n",
       "    </tr>\n",
       "    <tr>\n",
       "      <th>광명시 재해방재과</th>\n",
       "      <td>31</td>\n",
       "    </tr>\n",
       "    <tr>\n",
       "      <th>광명시 정보통신과</th>\n",
       "      <td>1351</td>\n",
       "    </tr>\n",
       "    <tr>\n",
       "      <th>광명시 지도민원과</th>\n",
       "      <td>225</td>\n",
       "    </tr>\n",
       "    <tr>\n",
       "      <th>광적면 행정복지센터</th>\n",
       "      <td>9</td>\n",
       "    </tr>\n",
       "    <tr>\n",
       "      <th>광주시청</th>\n",
       "      <td>2393</td>\n",
       "    </tr>\n",
       "    <tr>\n",
       "      <th>구리시청</th>\n",
       "      <td>1434</td>\n",
       "    </tr>\n",
       "    <tr>\n",
       "      <th>군포시청</th>\n",
       "      <td>2824</td>\n",
       "    </tr>\n",
       "    <tr>\n",
       "      <th>김포시 교통과</th>\n",
       "      <td>596</td>\n",
       "    </tr>\n",
       "    <tr>\n",
       "      <th>김포시 안전총괄과</th>\n",
       "      <td>96</td>\n",
       "    </tr>\n",
       "    <tr>\n",
       "      <th>김포시 정보통신과</th>\n",
       "      <td>3804</td>\n",
       "    </tr>\n",
       "    <tr>\n",
       "      <th>김포시 환경과</th>\n",
       "      <td>6</td>\n",
       "    </tr>\n",
       "    <tr>\n",
       "      <th>남면 행정복지센터</th>\n",
       "      <td>14</td>\n",
       "    </tr>\n",
       "    <tr>\n",
       "      <th>남양주시청</th>\n",
       "      <td>5939</td>\n",
       "    </tr>\n",
       "    <tr>\n",
       "      <th>동두천시청</th>\n",
       "      <td>1957</td>\n",
       "    </tr>\n",
       "    <tr>\n",
       "      <th>부천시청</th>\n",
       "      <td>6538</td>\n",
       "    </tr>\n",
       "    <tr>\n",
       "      <th>성남시청</th>\n",
       "      <td>3642</td>\n",
       "    </tr>\n",
       "    <tr>\n",
       "      <th>수원시 기후대기과</th>\n",
       "      <td>17</td>\n",
       "    </tr>\n",
       "    <tr>\n",
       "      <th>수원시 도시안전통합센터</th>\n",
       "      <td>9350</td>\n",
       "    </tr>\n",
       "    <tr>\n",
       "      <th>시흥시청</th>\n",
       "      <td>1791</td>\n",
       "    </tr>\n",
       "    <tr>\n",
       "      <th>안산시청</th>\n",
       "      <td>2786</td>\n",
       "    </tr>\n",
       "    <tr>\n",
       "      <th>안성시청</th>\n",
       "      <td>1522</td>\n",
       "    </tr>\n",
       "    <tr>\n",
       "      <th>안양시 (가족여성과)</th>\n",
       "      <td>4</td>\n",
       "    </tr>\n",
       "  </tbody>\n",
       "</table>\n",
       "</div>"
      ],
      "text/plain": [
       "              카메라대수\n",
       "관리기관명              \n",
       "CCTV통합관제센터      540\n",
       "가평군청           1283\n",
       "경기도구리시청          18\n",
       "고양시            4509\n",
       "과천시청            982\n",
       "광명시 공원녹지과       253\n",
       "광명시 기업경제과        83\n",
       "광명시 도시교통과       357\n",
       "광명시 재해방재과        31\n",
       "광명시 정보통신과      1351\n",
       "광명시 지도민원과       225\n",
       "광적면 행정복지센터        9\n",
       "광주시청           2393\n",
       "구리시청           1434\n",
       "군포시청           2824\n",
       "김포시 교통과         596\n",
       "김포시 안전총괄과        96\n",
       "김포시 정보통신과      3804\n",
       "김포시 환경과           6\n",
       "남면 행정복지센터        14\n",
       "남양주시청          5939\n",
       "동두천시청          1957\n",
       "부천시청           6538\n",
       "성남시청           3642\n",
       "수원시 기후대기과        17\n",
       "수원시 도시안전통합센터   9350\n",
       "시흥시청           1791\n",
       "안산시청           2786\n",
       "안성시청           1522\n",
       "안양시 (가족여성과)       4"
      ]
     },
     "execution_count": 52,
     "metadata": {},
     "output_type": "execute_result"
    }
   ],
   "source": [
    "pivot_a.head(30)"
   ]
  },
  {
   "cell_type": "code",
   "execution_count": 53,
   "metadata": {
    "ExecuteTime": {
     "end_time": "2020-06-09T05:43:13.632075Z",
     "start_time": "2020-06-09T05:43:13.623075Z"
    }
   },
   "outputs": [
    {
     "data": {
      "text/plain": [
       "120"
      ]
     },
     "execution_count": 53,
     "metadata": {},
     "output_type": "execute_result"
    }
   ],
   "source": [
    "df_a['시군'].isna().sum()"
   ]
  },
  {
   "cell_type": "code",
   "execution_count": 54,
   "metadata": {
    "ExecuteTime": {
     "end_time": "2020-06-09T05:43:13.639075Z",
     "start_time": "2020-06-09T05:43:13.633075Z"
    }
   },
   "outputs": [
    {
     "data": {
      "text/plain": [
       "120"
      ]
     },
     "execution_count": 54,
     "metadata": {},
     "output_type": "execute_result"
    }
   ],
   "source": [
    "df_a['소재지지번주소'].isna().sum()"
   ]
  },
  {
   "cell_type": "code",
   "execution_count": 61,
   "metadata": {
    "ExecuteTime": {
     "end_time": "2020-06-09T05:44:25.158166Z",
     "start_time": "2020-06-09T05:44:25.153166Z"
    }
   },
   "outputs": [],
   "source": [
    "indexs=df_a[df_a['시군'].isna()].index"
   ]
  },
  {
   "cell_type": "code",
   "execution_count": 62,
   "metadata": {
    "ExecuteTime": {
     "end_time": "2020-06-09T05:44:25.756200Z",
     "start_time": "2020-06-09T05:44:25.752200Z"
    },
    "scrolled": false
   },
   "outputs": [
    {
     "data": {
      "text/plain": [
       "Int64Index([ 4020,  4021,  4024,  4027,  4047,  4049,  4050,  4091,  4094,\n",
       "             4096,\n",
       "            ...\n",
       "            33122, 33191, 33194, 33211, 33215, 33220, 33221, 33564, 33569,\n",
       "            33686],\n",
       "           dtype='int64', length=120)"
      ]
     },
     "execution_count": 62,
     "metadata": {},
     "output_type": "execute_result"
    }
   ],
   "source": [
    "indexs"
   ]
  },
  {
   "cell_type": "code",
   "execution_count": 60,
   "metadata": {
    "ExecuteTime": {
     "end_time": "2020-06-09T05:43:41.282657Z",
     "start_time": "2020-06-09T05:43:41.272656Z"
    }
   },
   "outputs": [
    {
     "data": {
      "text/plain": [
       "['101',\n",
       " '102',\n",
       " '181',\n",
       " '51-',\n",
       " '101',\n",
       " '761',\n",
       " '761',\n",
       " '973',\n",
       " '05-',\n",
       " '137',\n",
       " '72-',\n",
       " '181',\n",
       " '181',\n",
       " '181',\n",
       " '181',\n",
       " '7-1',\n",
       " '908',\n",
       " '638',\n",
       " '967',\n",
       " '36-',\n",
       " '1-5',\n",
       " '62-',\n",
       " '80-',\n",
       " '49',\n",
       " '150',\n",
       " '111',\n",
       " '154',\n",
       " '150',\n",
       " '181',\n",
       " '05-',\n",
       " '71-',\n",
       " '34-',\n",
       " '부천시',\n",
       " '부천시',\n",
       " '부천시',\n",
       " '부천시',\n",
       " '부천시',\n",
       " '부천시',\n",
       " '부천시',\n",
       " '부천시',\n",
       " '부천시',\n",
       " '부천시',\n",
       " '부천시',\n",
       " '부천시',\n",
       " '부천시',\n",
       " '부천시',\n",
       " '부천시',\n",
       " '부천시',\n",
       " '부천시',\n",
       " '부천시',\n",
       " '부천시',\n",
       " '부천시',\n",
       " '부천시',\n",
       " '부천시',\n",
       " '부천시',\n",
       " '부천시',\n",
       " '부천시',\n",
       " '부천시',\n",
       " '부천시',\n",
       " '부천시',\n",
       " '부천시',\n",
       " '부천시',\n",
       " '안양시',\n",
       " '안양시',\n",
       " '안양시',\n",
       " '안양시',\n",
       " '안양시',\n",
       " '안양시',\n",
       " '안양시',\n",
       " '안양시',\n",
       " '안양시',\n",
       " '안양시',\n",
       " '안양시',\n",
       " '안양시',\n",
       " '안양시',\n",
       " '안양시',\n",
       " '안양시',\n",
       " '안양시',\n",
       " '의정부',\n",
       " '의정부',\n",
       " '의정부',\n",
       " '의정부',\n",
       " '포천시',\n",
       " '포천시',\n",
       " '포천시',\n",
       " '포천시',\n",
       " '포천시',\n",
       " '포천시',\n",
       " '포천시',\n",
       " '포천시',\n",
       " '포천시',\n",
       " '포천시',\n",
       " '포천시',\n",
       " '포천시',\n",
       " '포천시',\n",
       " '포천시',\n",
       " '포천시',\n",
       " '포천시',\n",
       " '포천시',\n",
       " '포천시',\n",
       " '포천시',\n",
       " '포천시',\n",
       " '포천시',\n",
       " '포천시',\n",
       " '포천시',\n",
       " '포천시',\n",
       " '포천시',\n",
       " '포천시',\n",
       " '포천시',\n",
       " '포천시',\n",
       " '포천시',\n",
       " '하남시',\n",
       " '하남시',\n",
       " '하남시',\n",
       " '하남시',\n",
       " '하남시',\n",
       " '하남시',\n",
       " '하남시',\n",
       " '하남시',\n",
       " '하남시']"
      ]
     },
     "execution_count": 60,
     "metadata": {},
     "output_type": "execute_result"
    }
   ],
   "source": [
    "siguns=list(df_a[df_a['시군'].isna()]['소재지도로명주소'].str[4:7].copy())\n",
    "siguns"
   ]
  },
  {
   "cell_type": "code",
   "execution_count": 65,
   "metadata": {
    "ExecuteTime": {
     "end_time": "2020-06-09T05:45:34.288094Z",
     "start_time": "2020-06-09T05:45:34.168087Z"
    }
   },
   "outputs": [],
   "source": [
    "for i in range(120):\n",
    "    if '시' in siguns[i] or '군' in siguns[i]:\n",
    "        df_a.loc[indexs[i],'시군']=siguns[i]"
   ]
  },
  {
   "cell_type": "code",
   "execution_count": null,
   "metadata": {},
   "outputs": [],
   "source": []
  }
 ],
 "metadata": {
  "hide_input": false,
  "kernelspec": {
   "display_name": "Python 3",
   "language": "python",
   "name": "python3"
  },
  "language_info": {
   "codemirror_mode": {
    "name": "ipython",
    "version": 3
   },
   "file_extension": ".py",
   "mimetype": "text/x-python",
   "name": "python",
   "nbconvert_exporter": "python",
   "pygments_lexer": "ipython3",
   "version": "3.7.6"
  },
  "toc": {
   "base_numbering": 1,
   "nav_menu": {},
   "number_sections": true,
   "sideBar": true,
   "skip_h1_title": false,
   "title_cell": "Table of Contents",
   "title_sidebar": "Contents",
   "toc_cell": false,
   "toc_position": {},
   "toc_section_display": true,
   "toc_window_display": false
  },
  "varInspector": {
   "cols": {
    "lenName": 16,
    "lenType": 16,
    "lenVar": 40
   },
   "kernels_config": {
    "python": {
     "delete_cmd_postfix": "",
     "delete_cmd_prefix": "del ",
     "library": "var_list.py",
     "varRefreshCmd": "print(var_dic_list())"
    },
    "r": {
     "delete_cmd_postfix": ") ",
     "delete_cmd_prefix": "rm(",
     "library": "var_list.r",
     "varRefreshCmd": "cat(var_dic_list()) "
    }
   },
   "types_to_exclude": [
    "module",
    "function",
    "builtin_function_or_method",
    "instance",
    "_Feature"
   ],
   "window_display": false
  }
 },
 "nbformat": 4,
 "nbformat_minor": 4
}
