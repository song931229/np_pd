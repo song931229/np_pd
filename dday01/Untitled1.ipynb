{
 "cells": [
  {
   "cell_type": "code",
   "execution_count": 1,
   "metadata": {},
   "outputs": [],
   "source": [
    "import dart_fss as dart"
   ]
  },
  {
   "cell_type": "code",
   "execution_count": 2,
   "metadata": {
    "scrolled": true
   },
   "outputs": [
    {
     "data": {
      "application/vnd.jupyter.widget-view+json": {
       "model_id": "cc94ba2e6333407ca88a10f76decf13f",
       "version_major": 2,
       "version_minor": 0
      },
      "text/plain": [
       "Output()"
      ]
     },
     "metadata": {},
     "output_type": "display_data"
    },
    {
     "data": {
      "application/vnd.jupyter.widget-view+json": {
       "model_id": "61e1e0040bff40d5996481f3163090a5",
       "version_major": 2,
       "version_minor": 0
      },
      "text/plain": [
       "Output()"
      ]
     },
     "metadata": {},
     "output_type": "display_data"
    },
    {
     "data": {
      "application/vnd.jupyter.widget-view+json": {
       "model_id": "ab784dddf9444e3ea4eb62cb24f23f32",
       "version_major": 2,
       "version_minor": 0
      },
      "text/plain": [
       "Output()"
      ]
     },
     "metadata": {},
     "output_type": "display_data"
    }
   ],
   "source": [
    "api_key='61358a6905345520489a50621766a180b5f8cbc3' # api key 변수 설정\n",
    "dart.set_api_key(api_key=api_key) # 인증 설정\n",
    "corp_list = dart.get_corp_list() # 상장회사 정보 리스트 받아오기"
   ]
  },
  {
   "cell_type": "code",
   "execution_count": 3,
   "metadata": {},
   "outputs": [],
   "source": [
    "# print(corp_list.corps)"
   ]
  },
  {
   "cell_type": "code",
   "execution_count": 4,
   "metadata": {},
   "outputs": [],
   "source": [
    "selected_corp=corp_list.find_by_stock_code('005930') # 삼성전자 종목코드를 파라미터로 넣어 삼성전자 기본 정보 가져오기"
   ]
  },
  {
   "cell_type": "code",
   "execution_count": 6,
   "metadata": {},
   "outputs": [
    {
     "data": {
      "application/vnd.jupyter.widget-view+json": {
       "model_id": "e0c924508fbd4f9892d102339ac9daff",
       "version_major": 2,
       "version_minor": 0
      },
      "text/plain": [
       "Output()"
      ]
     },
     "metadata": {},
     "output_type": "display_data"
    },
    {
     "data": {
      "application/vnd.jupyter.widget-view+json": {
       "model_id": "1ec6aa5aef8b4d89a809bedb3f61f63f",
       "version_major": 2,
       "version_minor": 0
      },
      "text/plain": [
       "Output()"
      ]
     },
     "metadata": {},
     "output_type": "display_data"
    },
    {
     "data": {
      "application/vnd.jupyter.widget-view+json": {
       "model_id": "3cce443a39854186b101e3f3bee6487b",
       "version_major": 2,
       "version_minor": 0
      },
      "text/plain": [
       "HBox(children=(FloatProgress(value=0.0, description='Annual reports', max=8.0, style=ProgressStyle(description…"
      ]
     },
     "metadata": {},
     "output_type": "display_data"
    },
    {
     "name": "stdout",
     "output_type": "stream",
     "text": [
      "\n"
     ]
    }
   ],
   "source": [
    "fs = selected_corp.extract_fs(bgn_de='20120101')"
   ]
  },
  {
   "cell_type": "code",
   "execution_count": 7,
   "metadata": {},
   "outputs": [
    {
     "data": {
      "text/plain": [
       "'C:\\\\Users\\\\song9\\\\np_pd\\\\dday01\\\\fsdata\\\\00126380_annual.xlsx'"
      ]
     },
     "execution_count": 7,
     "metadata": {},
     "output_type": "execute_result"
    }
   ],
   "source": [
    "fs.save()"
   ]
  },
  {
   "cell_type": "code",
   "execution_count": 8,
   "metadata": {},
   "outputs": [
    {
     "data": {
      "text/html": [
       "\n",
       "    <style scoped>\n",
       "        .dart-table tbody tr th {\n",
       "            vertical-align: top;\n",
       "            text-overflow: ellipsis;\n",
       "        }\n",
       "        .dart-table thead th {\n",
       "            text-align: right;\n",
       "            text-overflow: ellipsis;\n",
       "        }\n",
       "    </style>\n",
       "    <table border=\"1\" class=\"dart-table\"><thead><tr style=\"text-align: right;\"><th>Label</th><th>Data</th></tr></thead><tbody><tr><th>corp_code</th><td>00126380<td></tr><tr><th>bgn_de</th><td>20120101<td></tr><tr><th>end_de</th><td>None<td></tr><tr><th>separate</th><td>False<td></tr><tr><th>report_tp</th><td>annual<td></tr><tr><th>lang</th><td>ko<td></tr><tr><th>separator</th><td>True<td></tr><tr><th>financial statement</th><td><table style=\"width:100%\"><thead><tr><th width=\"20\">No.</th><th>title</th></tr></thead><tbody><tr><th width=\"20\">0</th><td>[D210000] Statement of financial position, current/non-current - Consolidated financial statements (Unit: KRW)</td></tr><tr><th width=\"20\">1</th><td>[D310000] Income statement, by function of expense - Consolidated financial statements (Unit: KRW)</td></tr><tr><th width=\"20\">2</th><td>[D410000] Statement of comprehensive income - Consolidated financial statements (Unit: KRW)</td></tr><tr><th width=\"20\">3</th><td>[D520000] Statement of cash flows, indirect method - Consolidated financial statements (Unit: KRW)</td></tr></tbody></table></td></tr></tbody></table>"
      ],
      "text/plain": [
       "{'bgn_de': '20120101',\n",
       " 'corp_code': '00126380',\n",
       " 'end_de': None,\n",
       " 'financial statement': [{'title': '[D210000] Statement of financial position, '\n",
       "                                   'current/non-current - Consolidated '\n",
       "                                   'financial statements (Unit: KRW)'},\n",
       "                         {'title': '[D310000] Income statement, by function of '\n",
       "                                   'expense - Consolidated financial '\n",
       "                                   'statements (Unit: KRW)'},\n",
       "                         {'title': '[D410000] Statement of comprehensive '\n",
       "                                   'income - Consolidated financial statements '\n",
       "                                   '(Unit: KRW)'},\n",
       "                         {'title': '[D520000] Statement of cash flows, '\n",
       "                                   'indirect method - Consolidated financial '\n",
       "                                   'statements (Unit: KRW)'}],\n",
       " 'lang': 'ko',\n",
       " 'report_tp': 'annual',\n",
       " 'separate': False,\n",
       " 'separator': True}"
      ]
     },
     "execution_count": 8,
     "metadata": {},
     "output_type": "execute_result"
    }
   ],
   "source": [
    "fs"
   ]
  },
  {
   "cell_type": "code",
   "execution_count": null,
   "metadata": {},
   "outputs": [],
   "source": []
  }
 ],
 "metadata": {
  "hide_input": false,
  "kernelspec": {
   "display_name": "Python 3",
   "language": "python",
   "name": "python3"
  },
  "language_info": {
   "codemirror_mode": {
    "name": "ipython",
    "version": 3
   },
   "file_extension": ".py",
   "mimetype": "text/x-python",
   "name": "python",
   "nbconvert_exporter": "python",
   "pygments_lexer": "ipython3",
   "version": "3.6.10"
  },
  "toc": {
   "base_numbering": 1,
   "nav_menu": {},
   "number_sections": true,
   "sideBar": true,
   "skip_h1_title": false,
   "title_cell": "Table of Contents",
   "title_sidebar": "Contents",
   "toc_cell": false,
   "toc_position": {},
   "toc_section_display": true,
   "toc_window_display": false
  },
  "varInspector": {
   "cols": {
    "lenName": 16,
    "lenType": 16,
    "lenVar": 40
   },
   "kernels_config": {
    "python": {
     "delete_cmd_postfix": "",
     "delete_cmd_prefix": "del ",
     "library": "var_list.py",
     "varRefreshCmd": "print(var_dic_list())"
    },
    "r": {
     "delete_cmd_postfix": ") ",
     "delete_cmd_prefix": "rm(",
     "library": "var_list.r",
     "varRefreshCmd": "cat(var_dic_list()) "
    }
   },
   "types_to_exclude": [
    "module",
    "function",
    "builtin_function_or_method",
    "instance",
    "_Feature"
   ],
   "window_display": false
  }
 },
 "nbformat": 4,
 "nbformat_minor": 4
}
