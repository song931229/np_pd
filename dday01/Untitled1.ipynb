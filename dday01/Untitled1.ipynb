{
 "cells": [
  {
   "cell_type": "code",
   "execution_count": 3,
   "metadata": {},
   "outputs": [],
   "source": [
    "import dart_fss as dart"
   ]
  },
  {
   "cell_type": "code",
   "execution_count": 4,
   "metadata": {
    "scrolled": true
   },
   "outputs": [
    {
     "data": {
      "application/vnd.jupyter.widget-view+json": {
       "model_id": "86892ceb0f054029997b46824af96e4b",
       "version_major": 2,
       "version_minor": 0
      },
      "text/plain": [
       "Output()"
      ]
     },
     "metadata": {},
     "output_type": "display_data"
    },
    {
     "data": {
      "application/vnd.jupyter.widget-view+json": {
       "model_id": "3f7c89628ba241e0b5786ccb3ff6a5d8",
       "version_major": 2,
       "version_minor": 0
      },
      "text/plain": [
       "Output()"
      ]
     },
     "metadata": {},
     "output_type": "display_data"
    },
    {
     "data": {
      "application/vnd.jupyter.widget-view+json": {
       "model_id": "18a35741c79e4dfdbbfd21c69039dfa5",
       "version_major": 2,
       "version_minor": 0
      },
      "text/plain": [
       "Output()"
      ]
     },
     "metadata": {},
     "output_type": "display_data"
    }
   ],
   "source": [
    "api_key='61358a6905345520489a50621766a180b5f8cbc3' # api key 변수 설정\n",
    "dart.set_api_key(api_key=api_key) # 인증 설정\n",
    "corp_list = dart.get_corp_list() # 상장회사 정보 리스트 받아오기"
   ]
  },
  {
   "cell_type": "code",
   "execution_count": 5,
   "metadata": {},
   "outputs": [],
   "source": [
    "# print(corp_list.corps)"
   ]
  },
  {
   "cell_type": "code",
   "execution_count": 6,
   "metadata": {},
   "outputs": [],
   "source": [
    "selected_corp=corp_list.find_by_stock_code('005930') # 삼성전자 종목코드를 파라미터로 넣어 삼성전자 기본 정보 가져오기"
   ]
  },
  {
   "cell_type": "code",
   "execution_count": 10,
   "metadata": {
    "scrolled": true
   },
   "outputs": [
    {
     "data": {
      "text/html": [
       "\n",
       "    <style scoped>\n",
       "        .dart-table tbody tr th {\n",
       "            vertical-align: top;\n",
       "            text-overflow: ellipsis;\n",
       "        }\n",
       "        .dart-table thead th {\n",
       "            text-align: right;\n",
       "            text-overflow: ellipsis;\n",
       "        }\n",
       "    </style>\n",
       "    <table border=\"1\" class=\"dart-table\"><thead><tr style=\"text-align: right;\"><th>Label</th><th>Data</th></tr></thead><tbody><tr><th>corp_code</th><td>00126380<td></tr><tr><th>corp_name</th><td>삼성전자<td></tr><tr><th>stock_code</th><td>005930<td></tr><tr><th>modify_date</th><td>20191209<td></tr><tr><th>sector</th><td>통신 및 방송 장비 제조업<td></tr><tr><th>product</th><td>IMT2000 서비스용 동기식 기지국,교환국장비,데이터단말기,동영상휴대폰,핵심칩,반도체제품,사무,계산 및 회계용기계<td></tr><tr><th>corp_cls</th><td>Y<td></tr></tbody></table>"
      ],
      "text/plain": [
       "[00126380]삼성전자"
      ]
     },
     "execution_count": 10,
     "metadata": {},
     "output_type": "execute_result"
    }
   ],
   "source": [
    "selected_corp"
   ]
  },
  {
   "cell_type": "code",
   "execution_count": 6,
   "metadata": {},
   "outputs": [
    {
     "data": {
      "application/vnd.jupyter.widget-view+json": {
       "model_id": "e0c924508fbd4f9892d102339ac9daff",
       "version_major": 2,
       "version_minor": 0
      },
      "text/plain": [
       "Output()"
      ]
     },
     "metadata": {},
     "output_type": "display_data"
    },
    {
     "data": {
      "application/vnd.jupyter.widget-view+json": {
       "model_id": "1ec6aa5aef8b4d89a809bedb3f61f63f",
       "version_major": 2,
       "version_minor": 0
      },
      "text/plain": [
       "Output()"
      ]
     },
     "metadata": {},
     "output_type": "display_data"
    },
    {
     "data": {
      "application/vnd.jupyter.widget-view+json": {
       "model_id": "3cce443a39854186b101e3f3bee6487b",
       "version_major": 2,
       "version_minor": 0
      },
      "text/plain": [
       "HBox(children=(FloatProgress(value=0.0, description='Annual reports', max=8.0, style=ProgressStyle(description…"
      ]
     },
     "metadata": {},
     "output_type": "display_data"
    },
    {
     "name": "stdout",
     "output_type": "stream",
     "text": [
      "\n"
     ]
    }
   ],
   "source": [
    "fs = selected_corp.extract_fs(bgn_de='20120101')"
   ]
  },
  {
   "cell_type": "code",
   "execution_count": 7,
   "metadata": {},
   "outputs": [
    {
     "data": {
      "text/plain": [
       "'C:\\\\Users\\\\song9\\\\np_pd\\\\dday01\\\\fsdata\\\\00126380_annual.xlsx'"
      ]
     },
     "execution_count": 7,
     "metadata": {},
     "output_type": "execute_result"
    }
   ],
   "source": [
    "fs.save()"
   ]
  },
  {
   "cell_type": "code",
   "execution_count": 8,
   "metadata": {},
   "outputs": [
    {
     "data": {
      "text/html": [
       "\n",
       "    <style scoped>\n",
       "        .dart-table tbody tr th {\n",
       "            vertical-align: top;\n",
       "            text-overflow: ellipsis;\n",
       "        }\n",
       "        .dart-table thead th {\n",
       "            text-align: right;\n",
       "            text-overflow: ellipsis;\n",
       "        }\n",
       "    </style>\n",
       "    <table border=\"1\" class=\"dart-table\"><thead><tr style=\"text-align: right;\"><th>Label</th><th>Data</th></tr></thead><tbody><tr><th>corp_code</th><td>00126380<td></tr><tr><th>bgn_de</th><td>20120101<td></tr><tr><th>end_de</th><td>None<td></tr><tr><th>separate</th><td>False<td></tr><tr><th>report_tp</th><td>annual<td></tr><tr><th>lang</th><td>ko<td></tr><tr><th>separator</th><td>True<td></tr><tr><th>financial statement</th><td><table style=\"width:100%\"><thead><tr><th width=\"20\">No.</th><th>title</th></tr></thead><tbody><tr><th width=\"20\">0</th><td>[D210000] Statement of financial position, current/non-current - Consolidated financial statements (Unit: KRW)</td></tr><tr><th width=\"20\">1</th><td>[D310000] Income statement, by function of expense - Consolidated financial statements (Unit: KRW)</td></tr><tr><th width=\"20\">2</th><td>[D410000] Statement of comprehensive income - Consolidated financial statements (Unit: KRW)</td></tr><tr><th width=\"20\">3</th><td>[D520000] Statement of cash flows, indirect method - Consolidated financial statements (Unit: KRW)</td></tr></tbody></table></td></tr></tbody></table>"
      ],
      "text/plain": [
       "{'bgn_de': '20120101',\n",
       " 'corp_code': '00126380',\n",
       " 'end_de': None,\n",
       " 'financial statement': [{'title': '[D210000] Statement of financial position, '\n",
       "                                   'current/non-current - Consolidated '\n",
       "                                   'financial statements (Unit: KRW)'},\n",
       "                         {'title': '[D310000] Income statement, by function of '\n",
       "                                   'expense - Consolidated financial '\n",
       "                                   'statements (Unit: KRW)'},\n",
       "                         {'title': '[D410000] Statement of comprehensive '\n",
       "                                   'income - Consolidated financial statements '\n",
       "                                   '(Unit: KRW)'},\n",
       "                         {'title': '[D520000] Statement of cash flows, '\n",
       "                                   'indirect method - Consolidated financial '\n",
       "                                   'statements (Unit: KRW)'}],\n",
       " 'lang': 'ko',\n",
       " 'report_tp': 'annual',\n",
       " 'separate': False,\n",
       " 'separator': True}"
      ]
     },
     "execution_count": 8,
     "metadata": {},
     "output_type": "execute_result"
    }
   ],
   "source": [
    "fs"
   ]
  },
  {
   "cell_type": "code",
   "execution_count": 7,
   "metadata": {},
   "outputs": [],
   "source": [
    "import requests"
   ]
  },
  {
   "cell_type": "code",
   "execution_count": 11,
   "metadata": {},
   "outputs": [
    {
     "name": "stdout",
     "output_type": "stream",
     "text": [
      "Requirement already satisfied: dart-fss in c:\\programdata\\anaconda3\\lib\\site-packages (0.3.2)\n",
      "Requirement already satisfied: appdirs in c:\\programdata\\anaconda3\\lib\\site-packages (from dart-fss) (1.4.4)\n",
      "Requirement already satisfied: numpy>=1.17.0 in c:\\programdata\\anaconda3\\lib\\site-packages (from dart-fss) (1.18.1)\n",
      "Requirement already satisfied: html5lib in c:\\programdata\\anaconda3\\lib\\site-packages (from dart-fss) (0.9999999)\n",
      "Requirement already satisfied: arelle in c:\\programdata\\anaconda3\\lib\\site-packages (from dart-fss) (2.2)\n",
      "Requirement already satisfied: fake-useragent in c:\\programdata\\anaconda3\\lib\\site-packages (from dart-fss) (0.1.11)\n",
      "Requirement already satisfied: pandas in c:\\programdata\\anaconda3\\lib\\site-packages (from dart-fss) (1.0.1)\n",
      "Requirement already satisfied: isodate in c:\\programdata\\anaconda3\\lib\\site-packages (from dart-fss) (0.6.0)\n",
      "Requirement already satisfied: halo in c:\\programdata\\anaconda3\\lib\\site-packages (from dart-fss) (0.0.29)\n",
      "Requirement already satisfied: lxml in c:\\programdata\\anaconda3\\lib\\site-packages (from dart-fss) (4.5.0)\n",
      "Requirement already satisfied: xmltodict in c:\\programdata\\anaconda3\\lib\\site-packages (from dart-fss) (0.12.0)\n",
      "Requirement already satisfied: beautifulsoup4 in c:\\programdata\\anaconda3\\lib\\site-packages (from dart-fss) (4.8.2)\n",
      "Requirement already satisfied: requests in c:\\programdata\\anaconda3\\lib\\site-packages (from dart-fss) (2.22.0)\n",
      "Requirement already satisfied: tqdm in c:\\programdata\\anaconda3\\lib\\site-packages (from dart-fss) (4.42.1)\n",
      "Requirement already satisfied: openpyxl in c:\\programdata\\anaconda3\\lib\\site-packages (from dart-fss) (3.0.3)\n",
      "Requirement already satisfied: six in c:\\programdata\\anaconda3\\lib\\site-packages (from html5lib->dart-fss) (1.14.0)\n",
      "Requirement already satisfied: pytz>=2017.2 in c:\\programdata\\anaconda3\\lib\\site-packages (from pandas->dart-fss) (2019.3)\n",
      "Requirement already satisfied: python-dateutil>=2.6.1 in c:\\programdata\\anaconda3\\lib\\site-packages (from pandas->dart-fss) (2.8.1)\n",
      "Requirement already satisfied: colorama>=0.3.9 in c:\\programdata\\anaconda3\\lib\\site-packages (from halo->dart-fss) (0.4.3)\n",
      "Requirement already satisfied: termcolor>=1.1.0 in c:\\programdata\\anaconda3\\lib\\site-packages (from halo->dart-fss) (1.1.0)\n",
      "Requirement already satisfied: log-symbols>=0.0.14 in c:\\programdata\\anaconda3\\lib\\site-packages (from halo->dart-fss) (0.0.14)\n",
      "Requirement already satisfied: cursor>=1.2.0 in c:\\programdata\\anaconda3\\lib\\site-packages (from halo->dart-fss) (1.3.4)\n",
      "Requirement already satisfied: spinners>=0.0.24 in c:\\programdata\\anaconda3\\lib\\site-packages (from halo->dart-fss) (0.0.24)\n",
      "Requirement already satisfied: soupsieve>=1.2 in c:\\programdata\\anaconda3\\lib\\site-packages (from beautifulsoup4->dart-fss) (1.9.5)\n",
      "Requirement already satisfied: certifi>=2017.4.17 in c:\\programdata\\anaconda3\\lib\\site-packages (from requests->dart-fss) (2019.11.28)\n",
      "Requirement already satisfied: chardet<3.1.0,>=3.0.2 in c:\\programdata\\anaconda3\\lib\\site-packages (from requests->dart-fss) (3.0.4)\n",
      "Requirement already satisfied: idna<2.9,>=2.5 in c:\\programdata\\anaconda3\\lib\\site-packages (from requests->dart-fss) (2.8)\n",
      "Requirement already satisfied: urllib3!=1.25.0,!=1.25.1,<1.26,>=1.21.1 in c:\\programdata\\anaconda3\\lib\\site-packages (from requests->dart-fss) (1.25.8)\n",
      "Requirement already satisfied: jdcal in c:\\programdata\\anaconda3\\lib\\site-packages (from openpyxl->dart-fss) (1.4.1)\n",
      "Requirement already satisfied: et-xmlfile in c:\\programdata\\anaconda3\\lib\\site-packages (from openpyxl->dart-fss) (1.0.1)\n",
      "Note: you may need to restart the kernel to use updated packages.\n"
     ]
    }
   ],
   "source": [
    "pip install dart-fss"
   ]
  },
  {
   "cell_type": "code",
   "execution_count": null,
   "metadata": {},
   "outputs": [],
   "source": []
  }
 ],
 "metadata": {
  "hide_input": false,
  "kernelspec": {
   "display_name": "Python 3",
   "language": "python",
   "name": "python3"
  },
  "language_info": {
   "codemirror_mode": {
    "name": "ipython",
    "version": 3
   },
   "file_extension": ".py",
   "mimetype": "text/x-python",
   "name": "python",
   "nbconvert_exporter": "python",
   "pygments_lexer": "ipython3",
   "version": "3.6.10"
  },
  "toc": {
   "base_numbering": 1,
   "nav_menu": {},
   "number_sections": true,
   "sideBar": true,
   "skip_h1_title": false,
   "title_cell": "Table of Contents",
   "title_sidebar": "Contents",
   "toc_cell": false,
   "toc_position": {},
   "toc_section_display": true,
   "toc_window_display": false
  },
  "varInspector": {
   "cols": {
    "lenName": 16,
    "lenType": 16,
    "lenVar": 40
   },
   "kernels_config": {
    "python": {
     "delete_cmd_postfix": "",
     "delete_cmd_prefix": "del ",
     "library": "var_list.py",
     "varRefreshCmd": "print(var_dic_list())"
    },
    "r": {
     "delete_cmd_postfix": ") ",
     "delete_cmd_prefix": "rm(",
     "library": "var_list.r",
     "varRefreshCmd": "cat(var_dic_list()) "
    }
   },
   "types_to_exclude": [
    "module",
    "function",
    "builtin_function_or_method",
    "instance",
    "_Feature"
   ],
   "window_display": false
  }
 },
 "nbformat": 4,
 "nbformat_minor": 4
}
