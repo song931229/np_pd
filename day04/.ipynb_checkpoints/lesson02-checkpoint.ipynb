{
 "cells": [
  {
   "cell_type": "markdown",
   "metadata": {},
   "source": [
    "# 꺾은선그래프\n",
    "## 꺾은선 그래프의 다양한 속성"
   ]
  },
  {
   "cell_type": "code",
   "execution_count": 5,
   "metadata": {},
   "outputs": [
    {
     "data": {
      "image/png": "[encoded data removed]",
      "text/plain": [
       "<Figure size 432x288 with 1 Axes>"
      ]
     },
     "metadata": {
      "needs_background": "light"
     },
     "output_type": "display_data"
    }
   ],
   "source": [
    "import numpy as np\n",
    "import matplotlib.pyplot as plt\n",
    "days = np.arange(1,11)\n",
    "weight=np.array([10,14,18,20,18,16,17,18,20,17])\n",
    "\n",
    "plt.plot(days,weight,marker='D', markerfacecolor='b' , linestyle=':')\n",
    "plt.show()"
   ]
  },
  {
   "cell_type": "markdown",
   "metadata": {},
   "source": [
    "> maker의 종류  \n",
    "- o = 원,\n",
    "- s = 사각형\n",
    "- p = 오각형\n",
    "- * = 별\n",
    "- + = 플러스\n",
    "- D = 마름모  \n",
    "...etc"
   ]
  },
  {
   "cell_type": "markdown",
   "metadata": {},
   "source": [
    "> color의 종류 (markerface,color)\n",
    "- b = blue\n",
    "- r = red\n",
    "- c = cyan\n",
    "- m = magenta\n",
    "- y = yellow\n",
    "- k = black\n",
    "- w = white  \n",
    "...etc"
   ]
  },
  {
   "cell_type": "markdown",
   "metadata": {},
   "source": [
    ">linestyle의 종류\n",
    "- - = 실선\n",
    "- -- = 파선\n",
    "- -. = 1점쇄선\n",
    "- : = 점선  \n",
    "...etc"
   ]
  },
  {
   "cell_type": "markdown",
   "metadata": {},
   "source": [
    "# 막대 그래프"
   ]
  },
  {
   "cell_type": "code",
   "execution_count": 9,
   "metadata": {},
   "outputs": [
    {
     "data": {
      "image/png": "[encoded data removed]",
      "text/plain": [
       "<Figure size 432x288 with 1 Axes>"
      ]
     },
     "metadata": {
      "needs_background": "light"
     },
     "output_type": "display_data"
    }
   ],
   "source": [
    "x = [x for x in range(1,7)]\n",
    "y = [12,41,32,46,21,17]\n",
    "y2=[43,1,6,17,17,9]\n",
    "\n",
    "labels=['Apple','Orange','Banana','Pineapple','Kiwifruit','StrawBerry']\n",
    "\n",
    "#라벨 적용\n",
    "plt.bar(x,y, tick_label=labels)\n",
    "#누적 막대 그래프\n",
    "plt.bar(x,y2,bottom=y)\n",
    "plt.show()"
   ]
  },
  {
   "cell_type": "code",
   "execution_count": null,
   "metadata": {},
   "outputs": [],
   "source": []
  }
 ],
 "metadata": {
  "hide_input": false,
  "kernelspec": {
   "display_name": "Python 3",
   "language": "python",
   "name": "python3"
  },
  "language_info": {
   "codemirror_mode": {
    "name": "ipython",
    "version": 3
   },
   "file_extension": ".py",
   "mimetype": "text/x-python",
   "name": "python",
   "nbconvert_exporter": "python",
   "pygments_lexer": "ipython3",
   "version": "3.7.6"
  },
  "toc": {
   "base_numbering": 1,
   "nav_menu": {},
   "number_sections": true,
   "sideBar": true,
   "skip_h1_title": false,
   "title_cell": "Table of Contents",
   "title_sidebar": "Contents",
   "toc_cell": false,
   "toc_position": {},
   "toc_section_display": true,
   "toc_window_display": false
  },
  "varInspector": {
   "cols": {
    "lenName": 16,
    "lenType": 16,
    "lenVar": 40
   },
   "kernels_config": {
    "python": {
     "delete_cmd_postfix": "",
     "delete_cmd_prefix": "del ",
     "library": "var_list.py",
     "varRefreshCmd": "print(var_dic_list())"
    },
    "r": {
     "delete_cmd_postfix": ") ",
     "delete_cmd_prefix": "rm(",
     "library": "var_list.r",
     "varRefreshCmd": "cat(var_dic_list()) "
    }
   },
   "types_to_exclude": [
    "module",
    "function",
    "builtin_function_or_method",
    "instance",
    "_Feature"
   ],
   "window_display": false
  }
 },
 "nbformat": 4,
 "nbformat_minor": 4
}
