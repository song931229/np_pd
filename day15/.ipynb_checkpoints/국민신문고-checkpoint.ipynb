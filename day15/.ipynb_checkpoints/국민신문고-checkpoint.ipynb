{
 "cells": [
  {
   "cell_type": "code",
   "execution_count": 1,
   "metadata": {
    "ExecuteTime": {
     "end_time": "2020-06-18T07:36:20.506911Z",
     "start_time": "2020-06-18T07:36:19.925878Z"
    }
   },
   "outputs": [],
   "source": [
    "import requests\n",
    "from bs4 import BeautifulSoup"
   ]
  },
  {
   "cell_type": "code",
   "execution_count": 2,
   "metadata": {
    "ExecuteTime": {
     "end_time": "2020-06-18T07:36:20.510911Z",
     "start_time": "2020-06-18T07:36:20.507911Z"
    }
   },
   "outputs": [],
   "source": [
    "sauce_url='https://www.epeople.go.kr/frmSub/pttn/openPttnList.npaid'"
   ]
  },
  {
   "cell_type": "code",
   "execution_count": 3,
   "metadata": {
    "ExecuteTime": {
     "end_time": "2020-06-18T07:36:20.516911Z",
     "start_time": "2020-06-18T07:36:20.511911Z"
    }
   },
   "outputs": [],
   "source": [
    "sauce_header={\n",
    "# 'Accept': 'text/html,application/xhtml+xml,application/xml;q=0.9,image/webp,image/apng,*/*;q=0.8,application/signed-exchange;v=b3;q=0.9',\n",
    "# 'Accept-Encoding': 'gzip, deflate, br',\n",
    "# 'Accept-Language': 'ko-KR,ko;q=0.9,en-US;q=0.8,en;q=0.7',\n",
    "# 'Cache-Control': 'max-age=0',\n",
    "# 'Connection': 'keep-alive',\n",
    "# 'Content-Length': '1105',\n",
    "# 'Content-Type': 'application/x-www-form-urlencoded',\n",
    "'Cookie': '_xm_webid_1_=160914436; JSESSIONID=RYIG9IxfTivU+mlZ0rhzlAyI.euser34; SL_GWPT_Show_Hide_tmp=1; SL_wptGlobTipTmp=1',#*\n",
    "# 'Host': 'www.epeople.go.kr',\n",
    "# 'Origin': 'https://www.epeople.go.kr',\n",
    "# 'Referer': 'https://www.epeople.go.kr/frmSub/pttn/openPttnList.npaid',\n",
    "# 'Sec-Fetch-Dest': 'document',\n",
    "# 'Sec-Fetch-Mode': 'navigate',\n",
    "# 'Sec-Fetch-Site': 'same-origin',\n",
    "# 'Sec-Fetch-User': '?1',\n",
    "# 'Upgrade-Insecure-Requests': '1',\n",
    "# 'User-Agent': 'Mozilla/5.0 (Windows NT 6.1; Win64; x64) AppleWebKit/537.36 (KHTML, like Gecko) Chrome/83.0.4103.97 Safari/537.36'\n",
    "}"
   ]
  },
  {
   "cell_type": "code",
   "execution_count": 4,
   "metadata": {
    "ExecuteTime": {
     "end_time": "2020-06-18T07:36:20.522912Z",
     "start_time": "2020-06-18T07:36:20.517912Z"
    }
   },
   "outputs": [],
   "source": [
    "sauce_form={\n",
    "# 'recordCountPerPage': '10',\n",
    "# 'pageIndex': '1',\n",
    "# 'bestInstPttnClsfCd': 'all',\n",
    "# 'searchWordType': 1,\n",
    "'rqstStDt': '2020-05-01',\n",
    "'rqstEndDt': '2020-06-15',\n",
    "'frm_frmMenuMngNo': 'WBF-1703-000232',#*\n",
    "\n",
    "}"
   ]
  },
  {
   "cell_type": "code",
   "execution_count": 5,
   "metadata": {
    "ExecuteTime": {
     "end_time": "2020-06-18T07:36:20.667920Z",
     "start_time": "2020-06-18T07:36:20.523912Z"
    }
   },
   "outputs": [],
   "source": [
    "page=requests.post(sauce_url,data=sauce_form,headers=sauce_header)"
   ]
  },
  {
   "cell_type": "code",
   "execution_count": 6,
   "metadata": {
    "ExecuteTime": {
     "end_time": "2020-06-18T07:36:20.673920Z",
     "start_time": "2020-06-18T07:36:20.668920Z"
    }
   },
   "outputs": [],
   "source": [
    "soup=BeautifulSoup(page.content,'html.parser')"
   ]
  },
  {
   "cell_type": "code",
   "execution_count": 7,
   "metadata": {
    "ExecuteTime": {
     "end_time": "2020-06-18T07:36:20.693922Z",
     "start_time": "2020-06-18T07:36:20.675921Z"
    }
   },
   "outputs": [
    {
     "data": {
      "text/plain": [
       "\n",
       "<!DOCTYPE html>\n",
       "\n",
       "<html lang=\"ko\">\n",
       "<head>\n",
       "<meta charset=\"utf-8\"/>\n",
       "<meta content=\"width=device-width, initial-scale=1.0\" name=\"viewport\"/>\n",
       "<meta content=\"ie=edge\" http-equiv=\"X-UA-Compatible\"/>\n",
       "<meta content=\"_csrf\" name=\"_csrf_parameter\"><meta content=\"X-CSRF-TOKEN\" name=\"_csrf_header\"><meta content=\"eef8279e-af06-41ea-8bbf-aebb249ed556\" name=\"_csrf\">\n",
       "<title>차세대 국민신문고</title>\n",
       "<link href=\"/resource/css/paid/nep/pot/css.css\" rel=\"stylesheet\" type=\"text/css\"/>\n",
       "<link href=\"/resource/js/paid/cmmn/mCustomScrollbar/jquery.mCustomScrollbar.css\" rel=\"stylesheet\" type=\"text/css\"/>\n",
       "<link href=\"/resource/css/paid/cmmn/jAlert.css\" rel=\"stylesheet\" type=\"text/css\"/>\n",
       "<script type=\"text/javascript\">\n",
       "\tvar contexts = \"\";\n",
       "\t\n",
       "\t\n",
       "\tvar exnMnTxt = \"jpg, jpeg, gif, png, bmp, txt, pdf, hwp, gul, docx, doc, zip, xls, xlsx, ppt, pptx, mp4, avi, wmv, asf, flv, mov, mkv, mpeg, mpg, 3gp, wmv, webm, ogm, asx, m2t, m2ts, mts, tif, tiff, wav, mp3, 3ga, m4a\";\n",
       "\tvar exnMnArr = [\"jpg\",\"jpeg\",\"gif\",\"png\",\"bmp\",\"txt\",\"pdf\",\"hwp\",\"gul\",\"docx\",\"doc\",\"zip\",\"xls\",\"xlsx\",\"ppt\",\"pptx\",\"mp4\",\"avi\",\"wmv\",\"asf\",\"flv\",\"mov\",\"mkv\",\"mpeg\",\"mpg\",\"3gp\",\"wmv\",\"webm\",\"ogm\",\"asx\",\"m2t\",\"m2ts\",\"mts\",\"tif\",\"tiff\",\"wav\",\"mp3\",\"3ga\",\"m4a\"];\n",
       "</script>\n",
       "<script src=\"/resource/js/paid/cmmn/jquery-1.12.4.min.js\" type=\"text/javascript\"></script>\n",
       "<script src=\"/resource/js/paid/cmmn/jquery-ui.min.js\" type=\"text/javascript\"></script>\n",
       "<script src=\"/resource/js/paid/cmmn/jquery.cookie.js\" type=\"text/javascript\"></script>\n",
       "<script src=\"/resource/js/paid/cmmn/jquery.alerts.js\" type=\"text/javascript\"></script>\n",
       "<script src=\"/resource/js/paid/cmmn/bootstrap.min.js\" type=\"text/javascript\"></script>\n",
       "<script src=\"/resource/js/paid/cmmn/loading.js\" type=\"text/javascript\"></script>\n",
       "<script src=\"/resource/js/paid/cmmn/sendAjaxReq.js\" type=\"text/javascript\"></script>\n",
       "<script src=\"/resource/js/paid/cmmn/jquery.form.js\" type=\"text/javascript\"></script>\n",
       "<script src=\"/resource/js/paid/cmmn/mCustomScrollbar/jquery.mCustomScrollbar.concat.min.js\" type=\"text/javascript\"></script>\n",
       "<script src=\"/resource/js/paid/cmmn/pgwslideshow/pgwslideshow.min.js\" type=\"text/javascript\"></script>\n",
       "<!-- [if lt IE 9]>\n",
       "<script type=\"text/javascript\" src=\"/resource/js/paid/cmmn/html5shiv.min.js\"></script>\n",
       "<![endif]-->\n",
       "<script src=\"/resource/js/paid/cmmn/jquery.money.plus.js\" type=\"text/javascript\"></script>\n",
       "<script src=\"/resource/js/paid/cmmn/jquery.alphanumeric.js\" type=\"text/javascript\"></script>\n",
       "<script src=\"/resource/js/paid/cmmn/jquery.alerts.js\" type=\"text/javascript\"></script>\n",
       "<script src=\"/resource/js/paid/cmmn/validation.js\" type=\"text/javascript\"></script>\n",
       "<script src=\"/resource/js/paid/cmmn/common.popup.js\" type=\"text/javascript\"></script>\n",
       "</meta></meta></meta></head>\n",
       "<body>\n",
       "<div id=\"default_pop\">\n",
       "<div class=\"layer_wrap\">\n",
       "<style>\n",
       "h4:before {\n",
       "\tbackground:white;\n",
       "}\n",
       "</style>\n",
       "<div id=\"wrap\">\n",
       "<div class=\"popup_wrap_blank\">\n",
       "<div class=\"pl_20\">\n",
       "<p><h5><span class=\"orange\">※ 국민신문고 홈페이지와 같이 사용하실 수 없습니다.</span></h5></p>\n",
       "<p><h5>※ 브라우저를 모두 종료하신 후에 다시 사용하여 주시기 바랍니다.</h5></p></div></div></div></div></div></body></html>\n",
       "<p><h5>※ 자세한 사항은 국민신문고 Help Desk(1600-8172)로 문의하시기 바랍니다. </h5></p>\n",
       "\n",
       "\n",
       "\n",
       "\n",
       "\n"
      ]
     },
     "execution_count": 7,
     "metadata": {},
     "output_type": "execute_result"
    }
   ],
   "source": [
    "soup"
   ]
  },
  {
   "cell_type": "code",
   "execution_count": 8,
   "metadata": {
    "ExecuteTime": {
     "end_time": "2020-06-18T07:36:20.707922Z",
     "start_time": "2020-06-18T07:36:20.695922Z"
    }
   },
   "outputs": [],
   "source": [
    "sub_url='https://www.epeople.go.kr/frmSub/pttn/openPttnListView.npaid'"
   ]
  },
  {
   "cell_type": "code",
   "execution_count": 9,
   "metadata": {
    "ExecuteTime": {
     "end_time": "2020-06-18T07:36:20.712923Z",
     "start_time": "2020-06-18T07:36:20.708922Z"
    }
   },
   "outputs": [],
   "source": [
    "sub_data={\n",
    "'instPrcsSttsCd': '00620090',\n",
    "'pttnRqstNo': '1AA-2005-0054656'\n",
    "}"
   ]
  },
  {
   "cell_type": "code",
   "execution_count": 10,
   "metadata": {
    "ExecuteTime": {
     "end_time": "2020-06-18T07:36:20.723923Z",
     "start_time": "2020-06-18T07:36:20.713923Z"
    }
   },
   "outputs": [],
   "source": [
    "sub_header={\n",
    "    'Cookie': '_xm_webid_1_=160914436; JSESSIONID=RYIG9IxfTivU+mlZ0rhzlAyI.euser34; SL_GWPT_Show_Hide_tmp=1; SL_wptGlobTipTmp=1'#*\n",
    "}"
   ]
  },
  {
   "cell_type": "code",
   "execution_count": 11,
   "metadata": {
    "ExecuteTime": {
     "end_time": "2020-06-18T07:36:20.862931Z",
     "start_time": "2020-06-18T07:36:20.724923Z"
    }
   },
   "outputs": [],
   "source": [
    "sub_page=requests.post(sub_url,data=sub_data,headers=sub_header)"
   ]
  },
  {
   "cell_type": "code",
   "execution_count": 12,
   "metadata": {
    "ExecuteTime": {
     "end_time": "2020-06-18T07:36:20.868932Z",
     "start_time": "2020-06-18T07:36:20.863931Z"
    }
   },
   "outputs": [],
   "source": [
    "sub_soup=BeautifulSoup(sub_page.content,'html.parser')"
   ]
  },
  {
   "cell_type": "code",
   "execution_count": 13,
   "metadata": {
    "ExecuteTime": {
     "end_time": "2020-06-18T07:36:20.882932Z",
     "start_time": "2020-06-18T07:36:20.869932Z"
    }
   },
   "outputs": [
    {
     "data": {
      "text/plain": [
       "\n",
       "<!DOCTYPE html>\n",
       "\n",
       "<html lang=\"ko\">\n",
       "<head>\n",
       "<meta charset=\"utf-8\"/>\n",
       "<meta content=\"width=device-width, initial-scale=1.0\" name=\"viewport\"/>\n",
       "<meta content=\"ie=edge\" http-equiv=\"X-UA-Compatible\"/>\n",
       "<meta content=\"_csrf\" name=\"_csrf_parameter\"><meta content=\"X-CSRF-TOKEN\" name=\"_csrf_header\"><meta content=\"65ef5050-b966-4953-8150-dd098094add2\" name=\"_csrf\">\n",
       "<title>차세대 국민신문고</title>\n",
       "<link href=\"/resource/css/paid/nep/pot/css.css\" rel=\"stylesheet\" type=\"text/css\"/>\n",
       "<link href=\"/resource/js/paid/cmmn/mCustomScrollbar/jquery.mCustomScrollbar.css\" rel=\"stylesheet\" type=\"text/css\"/>\n",
       "<link href=\"/resource/css/paid/cmmn/jAlert.css\" rel=\"stylesheet\" type=\"text/css\"/>\n",
       "<script type=\"text/javascript\">\n",
       "\tvar contexts = \"\";\n",
       "\t\n",
       "\t\n",
       "\tvar exnMnTxt = \"jpg, jpeg, gif, png, bmp, txt, pdf, hwp, gul, docx, doc, zip, xls, xlsx, ppt, pptx, mp4, avi, wmv, asf, flv, mov, mkv, mpeg, mpg, 3gp, wmv, webm, ogm, asx, m2t, m2ts, mts, tif, tiff, wav, mp3, 3ga, m4a\";\n",
       "\tvar exnMnArr = [\"jpg\",\"jpeg\",\"gif\",\"png\",\"bmp\",\"txt\",\"pdf\",\"hwp\",\"gul\",\"docx\",\"doc\",\"zip\",\"xls\",\"xlsx\",\"ppt\",\"pptx\",\"mp4\",\"avi\",\"wmv\",\"asf\",\"flv\",\"mov\",\"mkv\",\"mpeg\",\"mpg\",\"3gp\",\"wmv\",\"webm\",\"ogm\",\"asx\",\"m2t\",\"m2ts\",\"mts\",\"tif\",\"tiff\",\"wav\",\"mp3\",\"3ga\",\"m4a\"];\n",
       "</script>\n",
       "<script src=\"/resource/js/paid/cmmn/jquery-1.12.4.min.js\" type=\"text/javascript\"></script>\n",
       "<script src=\"/resource/js/paid/cmmn/jquery-ui.min.js\" type=\"text/javascript\"></script>\n",
       "<script src=\"/resource/js/paid/cmmn/jquery.cookie.js\" type=\"text/javascript\"></script>\n",
       "<script src=\"/resource/js/paid/cmmn/jquery.alerts.js\" type=\"text/javascript\"></script>\n",
       "<script src=\"/resource/js/paid/cmmn/bootstrap.min.js\" type=\"text/javascript\"></script>\n",
       "<script src=\"/resource/js/paid/cmmn/loading.js\" type=\"text/javascript\"></script>\n",
       "<script src=\"/resource/js/paid/cmmn/sendAjaxReq.js\" type=\"text/javascript\"></script>\n",
       "<script src=\"/resource/js/paid/cmmn/jquery.form.js\" type=\"text/javascript\"></script>\n",
       "<script src=\"/resource/js/paid/cmmn/mCustomScrollbar/jquery.mCustomScrollbar.concat.min.js\" type=\"text/javascript\"></script>\n",
       "<script src=\"/resource/js/paid/cmmn/pgwslideshow/pgwslideshow.min.js\" type=\"text/javascript\"></script>\n",
       "<!-- [if lt IE 9]>\n",
       "<script type=\"text/javascript\" src=\"/resource/js/paid/cmmn/html5shiv.min.js\"></script>\n",
       "<![endif]-->\n",
       "<script src=\"/resource/js/paid/cmmn/jquery.money.plus.js\" type=\"text/javascript\"></script>\n",
       "<script src=\"/resource/js/paid/cmmn/jquery.alphanumeric.js\" type=\"text/javascript\"></script>\n",
       "<script src=\"/resource/js/paid/cmmn/jquery.alerts.js\" type=\"text/javascript\"></script>\n",
       "<script src=\"/resource/js/paid/cmmn/validation.js\" type=\"text/javascript\"></script>\n",
       "<script src=\"/resource/js/paid/cmmn/common.popup.js\" type=\"text/javascript\"></script>\n",
       "</meta></meta></meta></head>\n",
       "<body>\n",
       "<div id=\"default_pop\">\n",
       "<div class=\"layer_wrap\">\n",
       "<style>\n",
       "h4:before {\n",
       "\tbackground:white;\n",
       "}\n",
       "</style>\n",
       "<div id=\"wrap\">\n",
       "<div class=\"popup_wrap_blank\">\n",
       "<div class=\"pl_20\">\n",
       "<p><h5><span class=\"orange\">※ 국민신문고 홈페이지와 같이 사용하실 수 없습니다.</span></h5></p>\n",
       "<p><h5>※ 브라우저를 모두 종료하신 후에 다시 사용하여 주시기 바랍니다.</h5></p></div></div></div></div></div></body></html>\n",
       "<p><h5>※ 자세한 사항은 국민신문고 Help Desk(1600-8172)로 문의하시기 바랍니다. </h5></p>\n",
       "\n",
       "\n",
       "\n",
       "\n",
       "\n"
      ]
     },
     "execution_count": 13,
     "metadata": {},
     "output_type": "execute_result"
    }
   ],
   "source": [
    "sub_soup"
   ]
  },
  {
   "cell_type": "code",
   "execution_count": null,
   "metadata": {},
   "outputs": [],
   "source": []
  }
 ],
 "metadata": {
  "hide_input": false,
  "kernelspec": {
   "display_name": "Python 3",
   "language": "python",
   "name": "python3"
  },
  "language_info": {
   "codemirror_mode": {
    "name": "ipython",
    "version": 3
   },
   "file_extension": ".py",
   "mimetype": "text/x-python",
   "name": "python",
   "nbconvert_exporter": "python",
   "pygments_lexer": "ipython3",
   "version": "3.7.6"
  },
  "toc": {
   "base_numbering": 1,
   "nav_menu": {},
   "number_sections": true,
   "sideBar": true,
   "skip_h1_title": false,
   "title_cell": "Table of Contents",
   "title_sidebar": "Contents",
   "toc_cell": false,
   "toc_position": {},
   "toc_section_display": true,
   "toc_window_display": false
  },
  "varInspector": {
   "cols": {
    "lenName": 16,
    "lenType": 16,
    "lenVar": 40
   },
   "kernels_config": {
    "python": {
     "delete_cmd_postfix": "",
     "delete_cmd_prefix": "del ",
     "library": "var_list.py",
     "varRefreshCmd": "print(var_dic_list())"
    },
    "r": {
     "delete_cmd_postfix": ") ",
     "delete_cmd_prefix": "rm(",
     "library": "var_list.r",
     "varRefreshCmd": "cat(var_dic_list()) "
    }
   },
   "types_to_exclude": [
    "module",
    "function",
    "builtin_function_or_method",
    "instance",
    "_Feature"
   ],
   "window_display": false
  }
 },
 "nbformat": 4,
 "nbformat_minor": 4
}
