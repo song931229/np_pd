{
 "cells": [
  {
   "cell_type": "code",
   "execution_count": 1,
   "metadata": {},
   "outputs": [],
   "source": [
    "import shutil"
   ]
  },
  {
   "cell_type": "code",
   "execution_count": 2,
   "metadata": {},
   "outputs": [],
   "source": [
    "# shutil.move('C:/Users/song93/Downloads/전국박물관미술관정보표준데이터.csv', '전국박물관미술관정보표준데이터.csv')"
   ]
  },
  {
   "cell_type": "code",
   "execution_count": 3,
   "metadata": {},
   "outputs": [],
   "source": [
    "import pandas as pd"
   ]
  },
  {
   "cell_type": "code",
   "execution_count": 4,
   "metadata": {},
   "outputs": [],
   "source": [
    "data=pd.read_csv('전국박물관미술관정보표준데이터.csv', encoding='cp949')"
   ]
  },
  {
   "cell_type": "code",
   "execution_count": 5,
   "metadata": {},
   "outputs": [],
   "source": [
    "data['소재지']=data['소재지도로명주소'].str.split(' ').str[0]"
   ]
  },
  {
   "cell_type": "code",
   "execution_count": 6,
   "metadata": {},
   "outputs": [
    {
     "data": {
      "text/plain": [
       "array(['경기도', '강원도', '충청북도', '충청남도', '전라남도', '전라북도', '경상북도', '경상남도',\n",
       "       '제주특별자치시', '서울특별시', '부산광역시', '광주광역시', '인천광역시', '대구광역시', '대전광역시',\n",
       "       '울산광역시', '제주특별자치도', '세종특별자치시'], dtype=object)"
      ]
     },
     "execution_count": 6,
     "metadata": {},
     "output_type": "execute_result"
    }
   ],
   "source": [
    "data['소재지'].unique()"
   ]
  },
  {
   "cell_type": "code",
   "execution_count": 12,
   "metadata": {},
   "outputs": [],
   "source": [
    "data2=data[(data['소재지'] == '경기도') | (data['소재지'] == '강원도') | (data['소재지'] == '서울특별시')]"
   ]
  },
  {
   "cell_type": "code",
   "execution_count": 23,
   "metadata": {},
   "outputs": [],
   "source": [
    "data2=data2[['시설명','소재지','운영홈페이지']]"
   ]
  },
  {
   "cell_type": "code",
   "execution_count": 28,
   "metadata": {},
   "outputs": [],
   "source": [
    "data3=data2.dropna()"
   ]
  },
  {
   "cell_type": "code",
   "execution_count": 29,
   "metadata": {},
   "outputs": [
    {
     "data": {
      "text/html": [
       "<div>\n",
       "<style scoped>\n",
       "    .dataframe tbody tr th:only-of-type {\n",
       "        vertical-align: middle;\n",
       "    }\n",
       "\n",
       "    .dataframe tbody tr th {\n",
       "        vertical-align: top;\n",
       "    }\n",
       "\n",
       "    .dataframe thead th {\n",
       "        text-align: right;\n",
       "    }\n",
       "</style>\n",
       "<table border=\"1\" class=\"dataframe\">\n",
       "  <thead>\n",
       "    <tr style=\"text-align: right;\">\n",
       "      <th></th>\n",
       "      <th>시설명</th>\n",
       "      <th>소재지</th>\n",
       "      <th>운영홈페이지</th>\n",
       "    </tr>\n",
       "  </thead>\n",
       "  <tbody>\n",
       "    <tr>\n",
       "      <th>861</th>\n",
       "      <td>포천역사문화관</td>\n",
       "      <td>경기도</td>\n",
       "      <td>없음</td>\n",
       "    </tr>\n",
       "    <tr>\n",
       "      <th>886</th>\n",
       "      <td>손기정기념관</td>\n",
       "      <td>서울특별시</td>\n",
       "      <td>http://www.sonkeechung.com/wordpress/</td>\n",
       "    </tr>\n",
       "    <tr>\n",
       "      <th>887</th>\n",
       "      <td>서대문형무소역사관(11월~12월)</td>\n",
       "      <td>서울특별시</td>\n",
       "      <td>http://www.sscmc.or.kr/newhistory/index_cultur...</td>\n",
       "    </tr>\n",
       "    <tr>\n",
       "      <th>888</th>\n",
       "      <td>서대문형무소역사관(3월~10월)</td>\n",
       "      <td>서울특별시</td>\n",
       "      <td>http://www.sscmc.or.kr/newhistory/index_cultur...</td>\n",
       "    </tr>\n",
       "    <tr>\n",
       "      <th>889</th>\n",
       "      <td>서대문자연사박물관(11월~2월)</td>\n",
       "      <td>서울특별시</td>\n",
       "      <td>https://namu.sdm.go.kr</td>\n",
       "    </tr>\n",
       "    <tr>\n",
       "      <th>...</th>\n",
       "      <td>...</td>\n",
       "      <td>...</td>\n",
       "      <td>...</td>\n",
       "    </tr>\n",
       "    <tr>\n",
       "      <th>2089</th>\n",
       "      <td>청암박물관</td>\n",
       "      <td>경기도</td>\n",
       "      <td>http://www.cheong-am.co.kr/ca01_Introduction.html</td>\n",
       "    </tr>\n",
       "    <tr>\n",
       "      <th>2090</th>\n",
       "      <td>필룩스조명박물관</td>\n",
       "      <td>경기도</td>\n",
       "      <td>http://www.lighting-museum.com/wp/intro/</td>\n",
       "    </tr>\n",
       "    <tr>\n",
       "      <th>2091</th>\n",
       "      <td>안상철미술관</td>\n",
       "      <td>경기도</td>\n",
       "      <td>http://www.ahnsangchul.co.kr/museum/introducti...</td>\n",
       "    </tr>\n",
       "    <tr>\n",
       "      <th>2093</th>\n",
       "      <td>K현대미술관</td>\n",
       "      <td>서울특별시</td>\n",
       "      <td>http://www.kmcaseoul.org</td>\n",
       "    </tr>\n",
       "    <tr>\n",
       "      <th>2094</th>\n",
       "      <td>피규어뮤지엄W</td>\n",
       "      <td>서울특별시</td>\n",
       "      <td>http://www.figuremuseumw.co.kr</td>\n",
       "    </tr>\n",
       "  </tbody>\n",
       "</table>\n",
       "<p>387 rows × 3 columns</p>\n",
       "</div>"
      ],
      "text/plain": [
       "                     시설명    소재지  \\\n",
       "861              포천역사문화관    경기도   \n",
       "886               손기정기념관  서울특별시   \n",
       "887   서대문형무소역사관(11월~12월)  서울특별시   \n",
       "888    서대문형무소역사관(3월~10월)  서울특별시   \n",
       "889    서대문자연사박물관(11월~2월)  서울특별시   \n",
       "...                  ...    ...   \n",
       "2089               청암박물관    경기도   \n",
       "2090            필룩스조명박물관    경기도   \n",
       "2091              안상철미술관    경기도   \n",
       "2093              K현대미술관  서울특별시   \n",
       "2094             피규어뮤지엄W  서울특별시   \n",
       "\n",
       "                                                 운영홈페이지  \n",
       "861                                                  없음  \n",
       "886               http://www.sonkeechung.com/wordpress/  \n",
       "887   http://www.sscmc.or.kr/newhistory/index_cultur...  \n",
       "888   http://www.sscmc.or.kr/newhistory/index_cultur...  \n",
       "889                              https://namu.sdm.go.kr  \n",
       "...                                                 ...  \n",
       "2089  http://www.cheong-am.co.kr/ca01_Introduction.html  \n",
       "2090           http://www.lighting-museum.com/wp/intro/  \n",
       "2091  http://www.ahnsangchul.co.kr/museum/introducti...  \n",
       "2093                           http://www.kmcaseoul.org  \n",
       "2094                     http://www.figuremuseumw.co.kr  \n",
       "\n",
       "[387 rows x 3 columns]"
      ]
     },
     "execution_count": 29,
     "metadata": {},
     "output_type": "execute_result"
    }
   ],
   "source": [
    "data3"
   ]
  },
  {
   "cell_type": "code",
   "execution_count": 33,
   "metadata": {},
   "outputs": [],
   "source": [
    "data3.to_excel('추출정보임.xlsx')"
   ]
  },
  {
   "cell_type": "code",
   "execution_count": null,
   "metadata": {},
   "outputs": [],
   "source": []
  }
 ],
 "metadata": {
  "hide_input": false,
  "kernelspec": {
   "display_name": "Python 3",
   "language": "python",
   "name": "python3"
  },
  "language_info": {
   "codemirror_mode": {
    "name": "ipython",
    "version": 3
   },
   "file_extension": ".py",
   "mimetype": "text/x-python",
   "name": "python",
   "nbconvert_exporter": "python",
   "pygments_lexer": "ipython3",
   "version": "3.7.6"
  },
  "toc": {
   "base_numbering": 1,
   "nav_menu": {},
   "number_sections": true,
   "sideBar": true,
   "skip_h1_title": false,
   "title_cell": "Table of Contents",
   "title_sidebar": "Contents",
   "toc_cell": false,
   "toc_position": {},
   "toc_section_display": true,
   "toc_window_display": false
  },
  "varInspector": {
   "cols": {
    "lenName": 16,
    "lenType": 16,
    "lenVar": 40
   },
   "kernels_config": {
    "python": {
     "delete_cmd_postfix": "",
     "delete_cmd_prefix": "del ",
     "library": "var_list.py",
     "varRefreshCmd": "print(var_dic_list())"
    },
    "r": {
     "delete_cmd_postfix": ") ",
     "delete_cmd_prefix": "rm(",
     "library": "var_list.r",
     "varRefreshCmd": "cat(var_dic_list()) "
    }
   },
   "types_to_exclude": [
    "module",
    "function",
    "builtin_function_or_method",
    "instance",
    "_Feature"
   ],
   "window_display": false
  }
 },
 "nbformat": 4,
 "nbformat_minor": 4
}
