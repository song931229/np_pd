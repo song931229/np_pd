{
 "cells": [
  {
   "cell_type": "code",
   "execution_count": 1,
   "metadata": {
    "ExecuteTime": {
     "end_time": "2020-05-26T02:03:13.796611Z",
     "start_time": "2020-05-26T02:03:13.670603Z"
    }
   },
   "outputs": [
    {
     "data": {
      "text/plain": [
       "array([[0.03663527, 0.8872376 , 0.70164294, ..., 0.12673496, 0.08849538,\n",
       "        0.83145533],\n",
       "       [0.91865304, 0.96217537, 0.87616132, ..., 0.61652735, 0.91854824,\n",
       "        0.04502347],\n",
       "       [0.38634389, 0.47459353, 0.42660964, ..., 0.95211808, 0.3776781 ,\n",
       "        0.38187596],\n",
       "       ...,\n",
       "       [0.43206557, 0.96224181, 0.66562426, ..., 0.71500159, 0.6872594 ,\n",
       "        0.80731843],\n",
       "       [0.20837178, 0.4118654 , 0.79140393, ..., 0.49617493, 0.82446438,\n",
       "        0.4406996 ],\n",
       "       [0.10821546, 0.24816414, 0.80841571, ..., 0.50032874, 0.79328015,\n",
       "        0.43347276]])"
      ]
     },
     "execution_count": 1,
     "metadata": {},
     "output_type": "execute_result"
    }
   ],
   "source": [
    "import numpy as np\n",
    "import time\n",
    "\n",
    "n=150\n",
    "matA = np.array(np.random.rand(n,n))\n",
    "matA"
   ]
  },
  {
   "cell_type": "code",
   "execution_count": 2,
   "metadata": {
    "ExecuteTime": {
     "end_time": "2020-05-26T02:03:13.803611Z",
     "start_time": "2020-05-26T02:03:13.797611Z"
    }
   },
   "outputs": [
    {
     "data": {
      "text/plain": [
       "array([[0.90730994, 0.27958103, 0.36221511, ..., 0.0647969 , 0.89759645,\n",
       "        0.63700985],\n",
       "       [0.20863408, 0.04079617, 0.69592264, ..., 0.65603456, 0.15360854,\n",
       "        0.74144175],\n",
       "       [0.93120401, 0.42252376, 0.68590057, ..., 0.79291872, 0.85754378,\n",
       "        0.64059254],\n",
       "       ...,\n",
       "       [0.37561843, 0.98645671, 0.62275156, ..., 0.34857717, 0.55989868,\n",
       "        0.25251911],\n",
       "       [0.67686344, 0.23777812, 0.95434106, ..., 0.30347075, 0.86635487,\n",
       "        0.66480928],\n",
       "       [0.93851082, 0.8119    , 0.08794619, ..., 0.09095703, 0.2250349 ,\n",
       "        0.99981912]])"
      ]
     },
     "execution_count": 2,
     "metadata": {},
     "output_type": "execute_result"
    }
   ],
   "source": [
    "matB = np.array(np.random.rand(n,n))\n",
    "matB"
   ]
  },
  {
   "cell_type": "code",
   "execution_count": 3,
   "metadata": {
    "ExecuteTime": {
     "end_time": "2020-05-26T02:03:13.812611Z",
     "start_time": "2020-05-26T02:03:13.804611Z"
    }
   },
   "outputs": [
    {
     "data": {
      "text/plain": [
       "array([[0, 0, 0, ..., 0, 0, 0],\n",
       "       [0, 0, 0, ..., 0, 0, 0],\n",
       "       [0, 0, 0, ..., 0, 0, 0],\n",
       "       ...,\n",
       "       [0, 0, 0, ..., 0, 0, 0],\n",
       "       [0, 0, 0, ..., 0, 0, 0],\n",
       "       [0, 0, 0, ..., 0, 0, 0]])"
      ]
     },
     "execution_count": 3,
     "metadata": {},
     "output_type": "execute_result"
    }
   ],
   "source": [
    "matC = np.array([[0]*n for _ in range(n)])\n",
    "matC"
   ]
  },
  {
   "cell_type": "code",
   "execution_count": 4,
   "metadata": {
    "ExecuteTime": {
     "end_time": "2020-05-26T02:03:13.822612Z",
     "start_time": "2020-05-26T02:03:13.813612Z"
    }
   },
   "outputs": [
    {
     "data": {
      "text/plain": [
       "array([[0, 0, 0, ..., 0, 0, 0],\n",
       "       [0, 0, 0, ..., 0, 0, 0],\n",
       "       [0, 0, 0, ..., 0, 0, 0],\n",
       "       ...,\n",
       "       [0, 0, 0, ..., 0, 0, 0],\n",
       "       [0, 0, 0, ..., 0, 0, 0],\n",
       "       [0, 0, 0, ..., 0, 0, 0]])"
      ]
     },
     "execution_count": 4,
     "metadata": {},
     "output_type": "execute_result"
    }
   ],
   "source": [
    "matD = np.array([[0]*n for _ in range(n)])\n",
    "matD"
   ]
  },
  {
   "cell_type": "code",
   "execution_count": 5,
   "metadata": {
    "ExecuteTime": {
     "end_time": "2020-05-26T02:03:13.861614Z",
     "start_time": "2020-05-26T02:03:13.823612Z"
    }
   },
   "outputs": [
    {
     "name": "stdout",
     "output_type": "stream",
     "text": [
      "[[0 1 1 ... 0 0 1]\n",
      " [1 1 1 ... 1 1 0]\n",
      " [1 0 1 ... 1 1 1]\n",
      " ...\n",
      " [0 1 1 ... 1 1 1]\n",
      " [0 0 1 ... 0 1 1]\n",
      " [1 1 0 ... 0 1 1]]\n"
     ]
    }
   ],
   "source": [
    "for i in range(n):\n",
    "    for j in range(n):\n",
    "        matD[i][j] = matA[i][j]+matB[i][j]\n",
    "print(matD)"
   ]
  },
  {
   "cell_type": "code",
   "execution_count": 6,
   "metadata": {
    "ExecuteTime": {
     "end_time": "2020-05-26T02:03:30.424562Z",
     "start_time": "2020-05-26T02:03:13.862614Z"
    }
   },
   "outputs": [
    {
     "name": "stdout",
     "output_type": "stream",
     "text": [
      "[[0 0 0 ... 0 0 0]\n",
      " [0 0 0 ... 0 0 0]\n",
      " [0 0 0 ... 0 0 0]\n",
      " ...\n",
      " [0 0 0 ... 0 0 0]\n",
      " [0 0 0 ... 0 0 0]\n",
      " [0 0 0 ... 0 0 0]]\n"
     ]
    }
   ],
   "source": [
    "for i in range(n):\n",
    "    for j in range(n):\n",
    "        for k in range(n):\n",
    "            matC[i][j] += matA[i][k]*matB[k][j]\n",
    "print(matC)"
   ]
  },
  {
   "cell_type": "code",
   "execution_count": 7,
   "metadata": {
    "ExecuteTime": {
     "end_time": "2020-05-26T02:03:30.435562Z",
     "start_time": "2020-05-26T02:03:30.426562Z"
    }
   },
   "outputs": [
    {
     "data": {
      "text/plain": [
       "array([[36.80845252, 41.02278554, 36.46531089, ..., 37.76223403,\n",
       "        35.15471937, 40.87026978],\n",
       "       [35.61113649, 37.68720312, 34.89355978, ..., 36.08362874,\n",
       "        33.21885136, 37.95038939],\n",
       "       [34.82151992, 39.37172516, 35.84141597, ..., 38.28672814,\n",
       "        34.12863947, 38.596919  ],\n",
       "       ...,\n",
       "       [37.36630991, 43.15695619, 37.68006788, ..., 40.55148521,\n",
       "        35.58957099, 41.76951976],\n",
       "       [38.6289178 , 42.66597046, 39.78146083, ..., 38.87337043,\n",
       "        37.27060117, 43.6877856 ],\n",
       "       [33.03688863, 36.11430597, 34.43677455, ..., 33.68851017,\n",
       "        31.63817127, 37.21581319]])"
      ]
     },
     "execution_count": 7,
     "metadata": {},
     "output_type": "execute_result"
    }
   ],
   "source": [
    "matC=np.dot(matA, matB)\n",
    "matC"
   ]
  },
  {
   "cell_type": "code",
   "execution_count": null,
   "metadata": {},
   "outputs": [],
   "source": []
  }
 ],
 "metadata": {
  "hide_input": false,
  "kernelspec": {
   "display_name": "Python 3",
   "language": "python",
   "name": "python3"
  },
  "language_info": {
   "codemirror_mode": {
    "name": "ipython",
    "version": 3
   },
   "file_extension": ".py",
   "mimetype": "text/x-python",
   "name": "python",
   "nbconvert_exporter": "python",
   "pygments_lexer": "ipython3",
   "version": "3.7.6"
  },
  "varInspector": {
   "cols": {
    "lenName": 16,
    "lenType": 16,
    "lenVar": 40
   },
   "kernels_config": {
    "python": {
     "delete_cmd_postfix": "",
     "delete_cmd_prefix": "del ",
     "library": "var_list.py",
     "varRefreshCmd": "print(var_dic_list())"
    },
    "r": {
     "delete_cmd_postfix": ") ",
     "delete_cmd_prefix": "rm(",
     "library": "var_list.r",
     "varRefreshCmd": "cat(var_dic_list()) "
    }
   },
   "types_to_exclude": [
    "module",
    "function",
    "builtin_function_or_method",
    "instance",
    "_Feature"
   ],
   "window_display": false
  }
 },
 "nbformat": 4,
 "nbformat_minor": 4
}
