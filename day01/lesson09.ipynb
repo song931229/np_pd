{
 "cells": [
  {
   "cell_type": "code",
   "execution_count": 1,
   "metadata": {
    "ExecuteTime": {
     "end_time": "2020-05-26T06:21:29.169056Z",
     "start_time": "2020-05-26T06:21:29.050050Z"
    }
   },
   "outputs": [],
   "source": [
    "import numpy as np"
   ]
  },
  {
   "cell_type": "markdown",
   "metadata": {},
   "source": [
    "## axis(축) 이해하기\n",
    "- 벡터는 0, 행렬은 0,1 텐서는 0,1,2 이렇게 존재\n",
    "- axis가 없을 때는 전체 데이터를 적용\n",
    "- axis가 있을 때는 해당 축을 따라 함수를 수행\n",
    "- 결과는 해당 axis가 제외된 나머지 차원의 데이터가 남게 된다.\n",
    "- 튜플을 이용하여 2개의상의 axis값을 설정해서 사용할 수도 있다.\n",
    "- 거의 대부분의 연산함수들이 axis 파라미터를 사용"
   ]
  },
  {
   "cell_type": "code",
   "execution_count": 2,
   "metadata": {
    "ExecuteTime": {
     "end_time": "2020-05-26T06:21:29.177057Z",
     "start_time": "2020-05-26T06:21:29.171057Z"
    }
   },
   "outputs": [
    {
     "name": "stdout",
     "output_type": "stream",
     "text": [
      "[ 0  1  2  3  4  5  6  7  8  9 10]\n",
      "55\n"
     ]
    }
   ],
   "source": [
    "x = np.arange(11)\n",
    "print(x)\n",
    "print(np.sum(x,axis=0))\n",
    "# print(np.sum(x,axis=1))"
   ]
  },
  {
   "cell_type": "code",
   "execution_count": 3,
   "metadata": {
    "ExecuteTime": {
     "end_time": "2020-05-26T06:21:29.183057Z",
     "start_time": "2020-05-26T06:21:29.178057Z"
    }
   },
   "outputs": [
    {
     "name": "stdout",
     "output_type": "stream",
     "text": [
      "[[ 0  1  2  3  4]\n",
      " [ 5  6  7  8  9]\n",
      " [10 11 12 13 14]]\n"
     ]
    }
   ],
   "source": [
    "x= np.arange(15).reshape(3,5)\n",
    "print(x)"
   ]
  },
  {
   "cell_type": "code",
   "execution_count": 4,
   "metadata": {
    "ExecuteTime": {
     "end_time": "2020-05-26T06:21:29.192058Z",
     "start_time": "2020-05-26T06:21:29.184057Z"
    }
   },
   "outputs": [
    {
     "name": "stdout",
     "output_type": "stream",
     "text": [
      "[15 18 21 24 27]\n"
     ]
    }
   ],
   "source": [
    "print(np.sum(x,axis=0))"
   ]
  },
  {
   "cell_type": "code",
   "execution_count": 5,
   "metadata": {
    "ExecuteTime": {
     "end_time": "2020-05-26T06:21:29.199058Z",
     "start_time": "2020-05-26T06:21:29.193058Z"
    }
   },
   "outputs": [
    {
     "name": "stdout",
     "output_type": "stream",
     "text": [
      "[10 35 60]\n"
     ]
    }
   ],
   "source": [
    "print(np.sum(x,axis=1))"
   ]
  },
  {
   "cell_type": "code",
   "execution_count": 6,
   "metadata": {
    "ExecuteTime": {
     "end_time": "2020-05-26T06:21:29.207059Z",
     "start_time": "2020-05-26T06:21:29.200058Z"
    }
   },
   "outputs": [
    {
     "name": "stdout",
     "output_type": "stream",
     "text": [
      "[[[ 0  1  2]\n",
      "  [ 3  4  5]\n",
      "  [ 6  7  8]\n",
      "  [ 9 10 11]]\n",
      "\n",
      " [[12 13 14]\n",
      "  [15 16 17]\n",
      "  [18 19 20]\n",
      "  [21 22 23]]\n",
      "\n",
      " [[24 25 26]\n",
      "  [27 28 29]\n",
      "  [30 31 32]\n",
      "  [33 34 35]]]\n"
     ]
    }
   ],
   "source": [
    "x=np.arange(36).reshape(3,4,3)\n",
    "print(x)"
   ]
  },
  {
   "cell_type": "code",
   "execution_count": 7,
   "metadata": {
    "ExecuteTime": {
     "end_time": "2020-05-26T06:21:29.215059Z",
     "start_time": "2020-05-26T06:21:29.210059Z"
    }
   },
   "outputs": [
    {
     "name": "stdout",
     "output_type": "stream",
     "text": [
      "[[36 39 42]\n",
      " [45 48 51]\n",
      " [54 57 60]\n",
      " [63 66 69]]\n"
     ]
    }
   ],
   "source": [
    "print(np.sum(x, axis=0)) #위치"
   ]
  },
  {
   "cell_type": "code",
   "execution_count": 8,
   "metadata": {
    "ExecuteTime": {
     "end_time": "2020-05-26T06:21:37.976560Z",
     "start_time": "2020-05-26T06:21:37.973560Z"
    }
   },
   "outputs": [
    {
     "name": "stdout",
     "output_type": "stream",
     "text": [
      "[[ 18  22  26]\n",
      " [ 66  70  74]\n",
      " [114 118 122]]\n"
     ]
    }
   ],
   "source": [
    "print(np.sum(x, axis=1)) #세로"
   ]
  },
  {
   "cell_type": "code",
   "execution_count": 11,
   "metadata": {
    "ExecuteTime": {
     "end_time": "2020-05-26T06:22:55.593000Z",
     "start_time": "2020-05-26T06:22:55.588999Z"
    }
   },
   "outputs": [
    {
     "name": "stdout",
     "output_type": "stream",
     "text": [
      "[[  3  12  21  30]\n",
      " [ 39  48  57  66]\n",
      " [ 75  84  93 102]]\n"
     ]
    }
   ],
   "source": [
    "print(np.sum(x, axis=2)) #가로"
   ]
  },
  {
   "cell_type": "code",
   "execution_count": 12,
   "metadata": {
    "ExecuteTime": {
     "end_time": "2020-05-26T06:30:11.605938Z",
     "start_time": "2020-05-26T06:30:11.602938Z"
    }
   },
   "outputs": [
    {
     "name": "stdout",
     "output_type": "stream",
     "text": [
      "[198 210 222]\n"
     ]
    }
   ],
   "source": [
    "print(np.sum(x, axis=(0, 1))) #0을한것을 1을또한다."
   ]
  },
  {
   "cell_type": "code",
   "execution_count": 14,
   "metadata": {
    "ExecuteTime": {
     "end_time": "2020-05-26T06:30:42.198688Z",
     "start_time": "2020-05-26T06:30:42.194688Z"
    }
   },
   "outputs": [
    {
     "name": "stdout",
     "output_type": "stream",
     "text": [
      "[117 144 171 198]\n"
     ]
    }
   ],
   "source": [
    "print(np.sum(x, axis=(0, 2))) #0한것을 2한다."
   ]
  }
 ],
 "metadata": {
  "hide_input": false,
  "kernelspec": {
   "display_name": "Python 3",
   "language": "python",
   "name": "python3"
  },
  "language_info": {
   "codemirror_mode": {
    "name": "ipython",
    "version": 3
   },
   "file_extension": ".py",
   "mimetype": "text/x-python",
   "name": "python",
   "nbconvert_exporter": "python",
   "pygments_lexer": "ipython3",
   "version": "3.7.6"
  },
  "varInspector": {
   "cols": {
    "lenName": 16,
    "lenType": 16,
    "lenVar": 40
   },
   "kernels_config": {
    "python": {
     "delete_cmd_postfix": "",
     "delete_cmd_prefix": "del ",
     "library": "var_list.py",
     "varRefreshCmd": "print(var_dic_list())"
    },
    "r": {
     "delete_cmd_postfix": ") ",
     "delete_cmd_prefix": "rm(",
     "library": "var_list.r",
     "varRefreshCmd": "cat(var_dic_list()) "
    }
   },
   "types_to_exclude": [
    "module",
    "function",
    "builtin_function_or_method",
    "instance",
    "_Feature"
   ],
   "window_display": false
  }
 },
 "nbformat": 4,
 "nbformat_minor": 4
}
