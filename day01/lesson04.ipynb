{
 "cells": [
  {
   "cell_type": "code",
   "execution_count": 1,
   "metadata": {
    "ExecuteTime": {
     "end_time": "2020-05-26T02:32:18.324392Z",
     "start_time": "2020-05-26T02:32:18.210385Z"
    }
   },
   "outputs": [],
   "source": [
    "import numpy as np"
   ]
  },
  {
   "cell_type": "markdown",
   "metadata": {},
   "source": [
    "# numpy의 random\n",
    "1. rand()\n",
    "2. randn()\n",
    "3. randint()\n",
    "4. seed()\n",
    "5. choice()"
   ]
  },
  {
   "cell_type": "markdown",
   "metadata": {},
   "source": [
    "## rand()\n",
    "- 0~1사이의 분포딘 랜덤한 ndarray를 생성"
   ]
  },
  {
   "cell_type": "code",
   "execution_count": 2,
   "metadata": {
    "ExecuteTime": {
     "end_time": "2020-05-26T02:32:18.335392Z",
     "start_time": "2020-05-26T02:32:18.326392Z"
    }
   },
   "outputs": [
    {
     "name": "stdout",
     "output_type": "stream",
     "text": [
      "[0.29654355 0.33630474 0.9779403  0.66110511 0.22248257 0.51666646\n",
      " 0.44459157 0.41830852 0.19857624 0.56498279]\n",
      "\n",
      "[[0.57234271 0.46335064]\n",
      " [0.47453111 0.34055298]]\n",
      "\n",
      "[[[0.29147452 0.23198966]\n",
      "  [0.97918443 0.14643661]]\n",
      "\n",
      " [[0.86180077 0.35401624]\n",
      "  [0.00639164 0.86373241]]]\n",
      "\n"
     ]
    }
   ],
   "source": [
    "x= np.random.rand(10)\n",
    "print(x)\n",
    "print()\n",
    "y= np.random.rand(2,2)\n",
    "print(y)\n",
    "print()\n",
    "z= np.random.rand(2,2,2)\n",
    "print(z)\n",
    "print()"
   ]
  },
  {
   "cell_type": "markdown",
   "metadata": {},
   "source": [
    "## randn(n)\n",
    "- n에대한 정규분포로 샘플링된 랜덤 ndarray생성"
   ]
  },
  {
   "cell_type": "code",
   "execution_count": 3,
   "metadata": {
    "ExecuteTime": {
     "end_time": "2020-05-26T02:32:18.340393Z",
     "start_time": "2020-05-26T02:32:18.336393Z"
    }
   },
   "outputs": [
    {
     "name": "stdout",
     "output_type": "stream",
     "text": [
      "[[ 0.38099419 -1.46354214  0.97524592 -0.55950235  1.31244124]\n",
      " [ 0.29456912 -0.77219984 -1.46677396  0.01773997 -1.01324895]\n",
      " [-0.26892613  0.07394834 -0.20582514  0.19947114  0.72677272]\n",
      " [ 1.86509941  1.01840165 -1.5346861   0.57131751 -0.33762941]\n",
      " [ 0.3841454   0.90376534 -0.74443374  1.2229129   1.72353042]]\n"
     ]
    }
   ],
   "source": [
    "x=np.random.randn(5,5)\n",
    "print(x)"
   ]
  },
  {
   "cell_type": "markdown",
   "metadata": {},
   "source": [
    "## randint()"
   ]
  },
  {
   "cell_type": "code",
   "execution_count": 4,
   "metadata": {
    "ExecuteTime": {
     "end_time": "2020-05-26T02:32:18.347393Z",
     "start_time": "2020-05-26T02:32:18.341393Z"
    }
   },
   "outputs": [
    {
     "name": "stdout",
     "output_type": "stream",
     "text": [
      "[[57 11 15 45 13]\n",
      " [60 43 86 75  5]\n",
      " [16 48 97 83 21]\n",
      " [ 9 92 97 83 44]\n",
      " [60  9 95 54 93]]\n"
     ]
    }
   ],
   "source": [
    "x= np.random.randint(1,100, size=(5,5))\n",
    "print(x)"
   ]
  },
  {
   "cell_type": "markdown",
   "metadata": {
    "ExecuteTime": {
     "end_time": "2020-05-26T02:32:24.743759Z",
     "start_time": "2020-05-26T02:32:24.735759Z"
    }
   },
   "source": [
    "## seed(n)\n",
    "- n은 크게 상관이없다 꼬리표같은것, 저장할갯수등이 아니다.\n",
    "- 랜덤으로 출력한값을 기억하고 싶을때,"
   ]
  },
  {
   "cell_type": "code",
   "execution_count": 24,
   "metadata": {
    "ExecuteTime": {
     "end_time": "2020-05-26T02:35:21.576873Z",
     "start_time": "2020-05-26T02:35:21.572873Z"
    }
   },
   "outputs": [
    {
     "name": "stdout",
     "output_type": "stream",
     "text": [
      "[[ 0.22827309  1.0268903  -0.83958485 -0.59118152 -0.9568883 ]\n",
      " [-0.22232569 -0.61991511  1.83790458 -2.05323076  0.86858305]\n",
      " [-0.92073444 -0.23231186  2.1529569  -1.33466147  0.07637965]\n",
      " [-1.24608928  1.20227231 -1.04994158  1.05661011 -0.41967767]\n",
      " [ 2.29484234 -2.59448738  2.8227564   0.68088892 -1.57769345]]\n"
     ]
    }
   ],
   "source": [
    "np.random.seed(25)\n",
    "x=np.random.randn(5,5)\n",
    "print(x)"
   ]
  },
  {
   "cell_type": "markdown",
   "metadata": {},
   "source": [
    "## choice()"
   ]
  },
  {
   "cell_type": "code",
   "execution_count": 29,
   "metadata": {
    "ExecuteTime": {
     "end_time": "2020-05-26T02:37:55.568681Z",
     "start_time": "2020-05-26T02:37:55.564681Z"
    }
   },
   "outputs": [
    {
     "name": "stdout",
     "output_type": "stream",
     "text": [
      "[1.  1.5 2.  2.5 3.  3.5 4.  4.5 5.  5.5 6.  6.5 7.  7.5 8.  8.5 9.  9.5]\n",
      "[[9.5 8.  3.5]\n",
      " [6.  8.  4.5]\n",
      " [8.5 8.  7. ]]\n"
     ]
    }
   ],
   "source": [
    "x=np.arange(1,10,0.5)\n",
    "print(x)\n",
    "y=np.random.choice(x, size=(3,3),replace=True)#replace옵션값때문에 중복이된다, 중복 비허용=False\n",
    "print(y)"
   ]
  },
  {
   "cell_type": "code",
   "execution_count": 33,
   "metadata": {
    "ExecuteTime": {
     "end_time": "2020-05-26T02:39:47.567087Z",
     "start_time": "2020-05-26T02:39:47.564087Z"
    }
   },
   "outputs": [
    {
     "name": "stdout",
     "output_type": "stream",
     "text": [
      "[[99 23 80 16 76 25 52]\n",
      " [ 4 86 87 29 64 50 22]\n",
      " [64 92  0 20 99 64 46]\n",
      " [15 65  2 65  0  3 54]\n",
      " [44 17 65 18 14  8 63]\n",
      " [74 87 64 98 89 25  5]\n",
      " [ 7 23 50 13 96 94 94]]\n"
     ]
    }
   ],
   "source": [
    "z=np.random.choice(100, size=(7,7))\n",
    "print(z)"
   ]
  }
 ],
 "metadata": {
  "hide_input": false,
  "kernelspec": {
   "display_name": "Python 3",
   "language": "python",
   "name": "python3"
  },
  "language_info": {
   "codemirror_mode": {
    "name": "ipython",
    "version": 3
   },
   "file_extension": ".py",
   "mimetype": "text/x-python",
   "name": "python",
   "nbconvert_exporter": "python",
   "pygments_lexer": "ipython3",
   "version": "3.7.6"
  },
  "varInspector": {
   "cols": {
    "lenName": 16,
    "lenType": 16,
    "lenVar": 40
   },
   "kernels_config": {
    "python": {
     "delete_cmd_postfix": "",
     "delete_cmd_prefix": "del ",
     "library": "var_list.py",
     "varRefreshCmd": "print(var_dic_list())"
    },
    "r": {
     "delete_cmd_postfix": ") ",
     "delete_cmd_prefix": "rm(",
     "library": "var_list.r",
     "varRefreshCmd": "cat(var_dic_list()) "
    }
   },
   "types_to_exclude": [
    "module",
    "function",
    "builtin_function_or_method",
    "instance",
    "_Feature"
   ],
   "window_display": false
  }
 },
 "nbformat": 4,
 "nbformat_minor": 4
}
