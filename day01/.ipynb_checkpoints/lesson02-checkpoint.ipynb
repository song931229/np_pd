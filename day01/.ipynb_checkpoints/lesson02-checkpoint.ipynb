{
 "cells": [
  {
   "cell_type": "code",
   "execution_count": 1,
   "metadata": {
    "ExecuteTime": {
     "end_time": "2020-05-26T01:56:44.077320Z",
     "start_time": "2020-05-26T01:56:43.952313Z"
    }
   },
   "outputs": [
    {
     "data": {
      "text/plain": [
       "array([[0.71007   , 0.0526182 , 0.70074653, ..., 0.49154288, 0.69989075,\n",
       "        0.24219119],\n",
       "       [0.01423527, 0.79602631, 0.50050873, ..., 0.36696577, 0.1173968 ,\n",
       "        0.78884196],\n",
       "       [0.54469123, 0.80270143, 0.18535975, ..., 0.7505647 , 0.00760245,\n",
       "        0.34279451],\n",
       "       ...,\n",
       "       [0.66153453, 0.64216327, 0.5415747 , ..., 0.88610647, 0.78078285,\n",
       "        0.11894208],\n",
       "       [0.36503816, 0.92958759, 0.04844085, ..., 0.28410577, 0.15974166,\n",
       "        0.80985037],\n",
       "       [0.82989075, 0.75916084, 0.39241507, ..., 0.51922469, 0.48306378,\n",
       "        0.84545686]])"
      ]
     },
     "execution_count": 1,
     "metadata": {},
     "output_type": "execute_result"
    }
   ],
   "source": [
    "import numpy as np\n",
    "import time\n",
    "\n",
    "n=150\n",
    "matA = np.array(np.random.rand(n,n))\n",
    "matA"
   ]
  },
  {
   "cell_type": "code",
   "execution_count": 2,
   "metadata": {
    "ExecuteTime": {
     "end_time": "2020-05-26T01:56:44.085320Z",
     "start_time": "2020-05-26T01:56:44.079320Z"
    }
   },
   "outputs": [
    {
     "data": {
      "text/plain": [
       "array([[0.54654274, 0.85248088, 0.83954757, ..., 0.64927997, 0.21624842,\n",
       "        0.17039766],\n",
       "       [0.7991998 , 0.63374726, 0.01807297, ..., 0.34697796, 0.84352904,\n",
       "        0.55930947],\n",
       "       [0.93541375, 0.93233529, 0.66176301, ..., 0.30640112, 0.42316458,\n",
       "        0.25804148],\n",
       "       ...,\n",
       "       [0.53874651, 0.17710969, 0.14709352, ..., 0.60098577, 0.66826822,\n",
       "        0.31685028],\n",
       "       [0.53053727, 0.1188048 , 0.91197253, ..., 0.32717991, 0.05357982,\n",
       "        0.48544977],\n",
       "       [0.27496359, 0.55549342, 0.02926278, ..., 0.40820174, 0.24874798,\n",
       "        0.96813901]])"
      ]
     },
     "execution_count": 2,
     "metadata": {},
     "output_type": "execute_result"
    }
   ],
   "source": [
    "matB = np.array(np.random.rand(n,n))\n",
    "matB"
   ]
  },
  {
   "cell_type": "code",
   "execution_count": 3,
   "metadata": {
    "ExecuteTime": {
     "end_time": "2020-05-26T01:56:44.094321Z",
     "start_time": "2020-05-26T01:56:44.086320Z"
    }
   },
   "outputs": [
    {
     "data": {
      "text/plain": [
       "array([[0, 0, 0, ..., 0, 0, 0],\n",
       "       [0, 0, 0, ..., 0, 0, 0],\n",
       "       [0, 0, 0, ..., 0, 0, 0],\n",
       "       ...,\n",
       "       [0, 0, 0, ..., 0, 0, 0],\n",
       "       [0, 0, 0, ..., 0, 0, 0],\n",
       "       [0, 0, 0, ..., 0, 0, 0]])"
      ]
     },
     "execution_count": 3,
     "metadata": {},
     "output_type": "execute_result"
    }
   ],
   "source": [
    "matC = np.array([[0]*n for _ in range(n)])\n",
    "matC"
   ]
  },
  {
   "cell_type": "code",
   "execution_count": null,
   "metadata": {},
   "outputs": [],
   "source": []
  },
  {
   "cell_type": "markdown",
   "metadata": {},
   "source": []
  },
  {
   "cell_type": "code",
   "execution_count": 4,
   "metadata": {
    "ExecuteTime": {
     "end_time": "2020-05-26T01:57:00.806277Z",
     "start_time": "2020-05-26T01:56:44.095321Z"
    }
   },
   "outputs": [
    {
     "data": {
      "text/plain": [
       "array([[0, 0, 0, ..., 0, 0, 0],\n",
       "       [0, 0, 0, ..., 0, 0, 0],\n",
       "       [0, 0, 0, ..., 0, 0, 0],\n",
       "       ...,\n",
       "       [0, 0, 0, ..., 0, 0, 0],\n",
       "       [0, 0, 0, ..., 0, 0, 0],\n",
       "       [0, 0, 0, ..., 0, 0, 0]])"
      ]
     },
     "execution_count": 4,
     "metadata": {},
     "output_type": "execute_result"
    }
   ],
   "source": [
    "for i in range(n):\n",
    "    for j in range(n):\n",
    "        for k in range(n):\n",
    "            matC[i][j] += matA[i][k]*matB[k][j]\n",
    "matC"
   ]
  },
  {
   "cell_type": "code",
   "execution_count": 5,
   "metadata": {
    "ExecuteTime": {
     "end_time": "2020-05-26T01:57:00.820278Z",
     "start_time": "2020-05-26T01:57:00.807277Z"
    }
   },
   "outputs": [
    {
     "data": {
      "text/plain": [
       "array([[37.63745039, 37.59219092, 34.56790708, ..., 34.22043511,\n",
       "        33.05232373, 37.25296173],\n",
       "       [41.72982727, 44.38809282, 34.93798668, ..., 39.37067554,\n",
       "        37.38372714, 42.26390633],\n",
       "       [41.24275727, 42.38082081, 36.61280446, ..., 40.2781317 ,\n",
       "        36.94113072, 42.49904818],\n",
       "       ...,\n",
       "       [36.17185822, 38.28989096, 32.20155245, ..., 36.94975395,\n",
       "        33.6584769 , 37.53317699],\n",
       "       [36.29051507, 40.68059358, 32.97303238, ..., 36.1665148 ,\n",
       "        33.94737786, 40.2676294 ],\n",
       "       [41.61657465, 46.08138473, 36.9679787 , ..., 41.95125948,\n",
       "        39.4948316 , 45.2393539 ]])"
      ]
     },
     "execution_count": 5,
     "metadata": {},
     "output_type": "execute_result"
    }
   ],
   "source": [
    "matC=np.dot(matA, matB)\n",
    "matC"
   ]
  },
  {
   "cell_type": "code",
   "execution_count": null,
   "metadata": {},
   "outputs": [],
   "source": []
  }
 ],
 "metadata": {
  "hide_input": false,
  "kernelspec": {
   "display_name": "Python 3",
   "language": "python",
   "name": "python3"
  },
  "language_info": {
   "codemirror_mode": {
    "name": "ipython",
    "version": 3
   },
   "file_extension": ".py",
   "mimetype": "text/x-python",
   "name": "python",
   "nbconvert_exporter": "python",
   "pygments_lexer": "ipython3",
   "version": "3.7.6"
  },
  "varInspector": {
   "cols": {
    "lenName": 16,
    "lenType": 16,
    "lenVar": 40
   },
   "kernels_config": {
    "python": {
     "delete_cmd_postfix": "",
     "delete_cmd_prefix": "del ",
     "library": "var_list.py",
     "varRefreshCmd": "print(var_dic_list())"
    },
    "r": {
     "delete_cmd_postfix": ") ",
     "delete_cmd_prefix": "rm(",
     "library": "var_list.r",
     "varRefreshCmd": "cat(var_dic_list()) "
    }
   },
   "types_to_exclude": [
    "module",
    "function",
    "builtin_function_or_method",
    "instance",
    "_Feature"
   ],
   "window_display": false
  }
 },
 "nbformat": 4,
 "nbformat_minor": 4
}
