{
 "cells": [
  {
   "cell_type": "markdown",
   "metadata": {},
   "source": [
    "# numpy의 통계함수\n",
    "1. add\n",
    "2. substract\n",
    "3. multiply\n",
    "4. div\n",
    "5. mean\n",
    "6. max\n",
    "7. min\n",
    "8. argmax\n",
    "9. var\n",
    "10. median\n",
    "11. std"
   ]
  },
  {
   "cell_type": "code",
   "execution_count": 1,
   "metadata": {
    "ExecuteTime": {
     "end_time": "2020-05-26T05:54:51.160656Z",
     "start_time": "2020-05-26T05:54:51.036648Z"
    }
   },
   "outputs": [
    {
     "name": "stdout",
     "output_type": "stream",
     "text": [
      "[[ 0  1  2  3  4]\n",
      " [ 5  6  7  8  9]\n",
      " [10 11 12 13 14]]\n",
      "[[0.72264845 0.49149978 0.02253724 0.97565457 0.40005402]\n",
      " [0.23036058 0.38179053 0.66023178 0.46863139 0.67770007]\n",
      " [0.11872066 0.28420934 0.4470762  0.41078705 0.60214798]]\n"
     ]
    }
   ],
   "source": [
    "import numpy as np\n",
    "\n",
    "x = np.arange(15).reshape(3, 5)\n",
    "y = np.random.rand(15).reshape(3, 5)\n",
    "print(x)\n",
    "print(y)"
   ]
  },
  {
   "cell_type": "markdown",
   "metadata": {},
   "source": [
    "## add"
   ]
  },
  {
   "cell_type": "code",
   "execution_count": 2,
   "metadata": {
    "ExecuteTime": {
     "end_time": "2020-05-26T05:54:51.166656Z",
     "start_time": "2020-05-26T05:54:51.162656Z"
    }
   },
   "outputs": [
    {
     "name": "stdout",
     "output_type": "stream",
     "text": [
      "[[ 0.72264845  1.49149978  2.02253724  3.97565457  4.40005402]\n",
      " [ 5.23036058  6.38179053  7.66023178  8.46863139  9.67770007]\n",
      " [10.11872066 11.28420934 12.4470762  13.41078705 14.60214798]]\n"
     ]
    }
   ],
   "source": [
    "## 연산함수\n",
    "# add, substract, multiply, divide\n",
    "a = np.add(x, y)\n",
    "print(a)"
   ]
  },
  {
   "cell_type": "code",
   "execution_count": 3,
   "metadata": {
    "ExecuteTime": {
     "end_time": "2020-05-26T05:54:51.174656Z",
     "start_time": "2020-05-26T05:54:51.167656Z"
    }
   },
   "outputs": [
    {
     "name": "stdout",
     "output_type": "stream",
     "text": [
      "[[ 0.72264845  1.49149978  2.02253724  3.97565457  4.40005402]\n",
      " [ 5.23036058  6.38179053  7.66023178  8.46863139  9.67770007]\n",
      " [10.11872066 11.28420934 12.4470762  13.41078705 14.60214798]]\n"
     ]
    }
   ],
   "source": [
    "a=x+y\n",
    "print(a)"
   ]
  },
  {
   "cell_type": "markdown",
   "metadata": {},
   "source": [
    "## substract"
   ]
  },
  {
   "cell_type": "code",
   "execution_count": 4,
   "metadata": {
    "ExecuteTime": {
     "end_time": "2020-05-26T05:54:51.181657Z",
     "start_time": "2020-05-26T05:54:51.175656Z"
    }
   },
   "outputs": [
    {
     "name": "stdout",
     "output_type": "stream",
     "text": [
      "[[-0.72264845  0.50850022  1.97746276  2.02434543  3.59994598]\n",
      " [ 4.76963942  5.61820947  6.33976822  7.53136861  8.32229993]\n",
      " [ 9.88127934 10.71579066 11.5529238  12.58921295 13.39785202]]\n"
     ]
    }
   ],
   "source": [
    "b=np.subtract(x,y)\n",
    "print(b)"
   ]
  },
  {
   "cell_type": "code",
   "execution_count": 5,
   "metadata": {
    "ExecuteTime": {
     "end_time": "2020-05-26T05:54:51.187657Z",
     "start_time": "2020-05-26T05:54:51.182657Z"
    },
    "scrolled": true
   },
   "outputs": [
    {
     "name": "stdout",
     "output_type": "stream",
     "text": [
      "[[-0.72264845  0.50850022  1.97746276  2.02434543  3.59994598]\n",
      " [ 4.76963942  5.61820947  6.33976822  7.53136861  8.32229993]\n",
      " [ 9.88127934 10.71579066 11.5529238  12.58921295 13.39785202]]\n"
     ]
    }
   ],
   "source": [
    "b=x-y\n",
    "print(b)"
   ]
  },
  {
   "cell_type": "markdown",
   "metadata": {},
   "source": [
    "## multiply"
   ]
  },
  {
   "cell_type": "code",
   "execution_count": 6,
   "metadata": {
    "ExecuteTime": {
     "end_time": "2020-05-26T05:54:51.193657Z",
     "start_time": "2020-05-26T05:54:51.188657Z"
    },
    "scrolled": true
   },
   "outputs": [
    {
     "name": "stdout",
     "output_type": "stream",
     "text": [
      "[[0.         0.49149978 0.04507448 2.92696371 1.60021607]\n",
      " [1.15180289 2.2907432  4.62162247 3.74905108 6.09930065]\n",
      " [1.18720664 3.12630279 5.36491445 5.3402317  8.43007176]]\n"
     ]
    }
   ],
   "source": [
    "c=np.multiply(x,y)\n",
    "print(c)"
   ]
  },
  {
   "cell_type": "code",
   "execution_count": 7,
   "metadata": {
    "ExecuteTime": {
     "end_time": "2020-05-26T05:54:51.199658Z",
     "start_time": "2020-05-26T05:54:51.195658Z"
    }
   },
   "outputs": [
    {
     "name": "stdout",
     "output_type": "stream",
     "text": [
      "[[0.         0.49149978 0.04507448 2.92696371 1.60021607]\n",
      " [1.15180289 2.2907432  4.62162247 3.74905108 6.09930065]\n",
      " [1.18720664 3.12630279 5.36491445 5.3402317  8.43007176]]\n"
     ]
    }
   ],
   "source": [
    "c=x*y\n",
    "print(c)"
   ]
  },
  {
   "cell_type": "markdown",
   "metadata": {},
   "source": [
    "## divide"
   ]
  },
  {
   "cell_type": "code",
   "execution_count": 8,
   "metadata": {
    "ExecuteTime": {
     "end_time": "2020-05-26T05:54:51.206658Z",
     "start_time": "2020-05-26T05:54:51.201658Z"
    }
   },
   "outputs": [
    {
     "name": "stdout",
     "output_type": "stream",
     "text": [
      "[[ 0.          2.03458892 88.74201871  3.07485876  9.99864973]\n",
      " [21.70510275 15.7154237  10.60233723 17.0709864  13.28021107]\n",
      " [84.23133501 38.70386468 26.84106176 31.64656694 23.25009863]]\n"
     ]
    }
   ],
   "source": [
    "d=np.divide(x,y)\n",
    "print(d)"
   ]
  },
  {
   "cell_type": "code",
   "execution_count": 9,
   "metadata": {
    "ExecuteTime": {
     "end_time": "2020-05-26T05:54:51.214659Z",
     "start_time": "2020-05-26T05:54:51.207658Z"
    }
   },
   "outputs": [
    {
     "name": "stdout",
     "output_type": "stream",
     "text": [
      "[[ 0.          2.03458892 88.74201871  3.07485876  9.99864973]\n",
      " [21.70510275 15.7154237  10.60233723 17.0709864  13.28021107]\n",
      " [84.23133501 38.70386468 26.84106176 31.64656694 23.25009863]]\n"
     ]
    }
   ],
   "source": [
    "d=x/y\n",
    "print(d)"
   ]
  },
  {
   "cell_type": "code",
   "execution_count": 10,
   "metadata": {
    "ExecuteTime": {
     "end_time": "2020-05-26T05:54:51.220659Z",
     "start_time": "2020-05-26T05:54:51.215659Z"
    }
   },
   "outputs": [],
   "source": [
    "z=np.random.rand(16).reshape(4,4)\n",
    "#print(x+z)#행렬의 크기가 같지않으므로 에러"
   ]
  },
  {
   "cell_type": "markdown",
   "metadata": {
    "ExecuteTime": {
     "end_time": "2020-05-26T05:40:27.396251Z",
     "start_time": "2020-05-26T05:40:27.392251Z"
    }
   },
   "source": [
    "---"
   ]
  },
  {
   "cell_type": "code",
   "execution_count": 11,
   "metadata": {
    "ExecuteTime": {
     "end_time": "2020-05-26T05:54:51.227659Z",
     "start_time": "2020-05-26T05:54:51.221659Z"
    }
   },
   "outputs": [
    {
     "name": "stdout",
     "output_type": "stream",
     "text": [
      "[[0.09138495 0.11286833 0.28144016 0.20451339 0.98871327]\n",
      " [0.25839413 0.01857381 0.85703631 0.42163893 0.39016676]\n",
      " [0.04285217 0.67110962 0.42655172 0.67316768 0.34790312]]\n"
     ]
    }
   ],
   "source": [
    "x= np.random.rand(15).reshape(3,5)\n",
    "print(x)"
   ]
  },
  {
   "cell_type": "markdown",
   "metadata": {},
   "source": [
    "## mean - 평균"
   ]
  },
  {
   "cell_type": "code",
   "execution_count": 12,
   "metadata": {
    "ExecuteTime": {
     "end_time": "2020-05-26T05:54:51.232660Z",
     "start_time": "2020-05-26T05:54:51.228659Z"
    }
   },
   "outputs": [
    {
     "name": "stdout",
     "output_type": "stream",
     "text": [
      "0.3857542896838565\n"
     ]
    }
   ],
   "source": [
    "print(np.mean(x))"
   ]
  },
  {
   "cell_type": "markdown",
   "metadata": {},
   "source": [
    "## max() - 최댓값"
   ]
  },
  {
   "cell_type": "code",
   "execution_count": 13,
   "metadata": {
    "ExecuteTime": {
     "end_time": "2020-05-26T05:54:51.239660Z",
     "start_time": "2020-05-26T05:54:51.233660Z"
    }
   },
   "outputs": [
    {
     "name": "stdout",
     "output_type": "stream",
     "text": [
      "0.9887132710452607\n"
     ]
    }
   ],
   "source": [
    "print(np.max(x))"
   ]
  },
  {
   "cell_type": "markdown",
   "metadata": {},
   "source": [
    "## min() - 최솟값"
   ]
  },
  {
   "cell_type": "code",
   "execution_count": 14,
   "metadata": {
    "ExecuteTime": {
     "end_time": "2020-05-26T05:54:51.245660Z",
     "start_time": "2020-05-26T05:54:51.240660Z"
    }
   },
   "outputs": [
    {
     "name": "stdout",
     "output_type": "stream",
     "text": [
      "0.018573805034349578\n"
     ]
    }
   ],
   "source": [
    "print(np.min(x))"
   ]
  },
  {
   "cell_type": "markdown",
   "metadata": {},
   "source": [
    "## argmax() - 최댓값의 위치"
   ]
  },
  {
   "cell_type": "code",
   "execution_count": 15,
   "metadata": {
    "ExecuteTime": {
     "end_time": "2020-05-26T05:54:51.251661Z",
     "start_time": "2020-05-26T05:54:51.246660Z"
    }
   },
   "outputs": [
    {
     "name": "stdout",
     "output_type": "stream",
     "text": [
      "4\n"
     ]
    }
   ],
   "source": [
    "print(np.argmax(x))"
   ]
  },
  {
   "cell_type": "markdown",
   "metadata": {},
   "source": [
    "## var() - 분산"
   ]
  },
  {
   "cell_type": "code",
   "execution_count": 16,
   "metadata": {
    "ExecuteTime": {
     "end_time": "2020-05-26T05:54:51.258661Z",
     "start_time": "2020-05-26T05:54:51.252661Z"
    }
   },
   "outputs": [
    {
     "name": "stdout",
     "output_type": "stream",
     "text": [
      "0.08183856371134975\n"
     ]
    }
   ],
   "source": [
    "print(np.var(x))"
   ]
  },
  {
   "cell_type": "markdown",
   "metadata": {},
   "source": [
    "## median() - 중간값"
   ]
  },
  {
   "cell_type": "code",
   "execution_count": 17,
   "metadata": {
    "ExecuteTime": {
     "end_time": "2020-05-26T05:54:51.263661Z",
     "start_time": "2020-05-26T05:54:51.259661Z"
    }
   },
   "outputs": [
    {
     "name": "stdout",
     "output_type": "stream",
     "text": [
      "0.34790311824904274\n"
     ]
    }
   ],
   "source": [
    "print(np.median(x))"
   ]
  },
  {
   "cell_type": "markdown",
   "metadata": {},
   "source": [
    "## std() - 표준편차"
   ]
  },
  {
   "cell_type": "code",
   "execution_count": 18,
   "metadata": {
    "ExecuteTime": {
     "end_time": "2020-05-26T05:54:51.269662Z",
     "start_time": "2020-05-26T05:54:51.264662Z"
    }
   },
   "outputs": [
    {
     "name": "stdout",
     "output_type": "stream",
     "text": [
      "0.28607440240495086\n"
     ]
    }
   ],
   "source": [
    "print(np.std(x))"
   ]
  },
  {
   "cell_type": "markdown",
   "metadata": {},
   "source": [
    "----"
   ]
  },
  {
   "cell_type": "markdown",
   "metadata": {},
   "source": [
    "# Numpy의 집계함수\n",
    "- sum\n",
    "- cumsum"
   ]
  },
  {
   "cell_type": "markdown",
   "metadata": {},
   "source": [
    "## sum() - 합계"
   ]
  },
  {
   "cell_type": "code",
   "execution_count": 19,
   "metadata": {
    "ExecuteTime": {
     "end_time": "2020-05-26T05:54:51.276662Z",
     "start_time": "2020-05-26T05:54:51.270662Z"
    }
   },
   "outputs": [
    {
     "name": "stdout",
     "output_type": "stream",
     "text": [
      "5.786314345257847\n"
     ]
    }
   ],
   "source": [
    "print(np.sum(x))"
   ]
  },
  {
   "cell_type": "markdown",
   "metadata": {},
   "source": [
    "## cumsum(x) - 누적합계"
   ]
  },
  {
   "cell_type": "code",
   "execution_count": 20,
   "metadata": {
    "ExecuteTime": {
     "end_time": "2020-05-26T05:54:51.282663Z",
     "start_time": "2020-05-26T05:54:51.277662Z"
    }
   },
   "outputs": [
    {
     "name": "stdout",
     "output_type": "stream",
     "text": [
      "[0.09138495 0.20425329 0.48569344 0.69020683 1.6789201  1.93731423\n",
      " 1.95588804 2.81292435 3.23456328 3.62473004 3.66758221 4.33869183\n",
      " 4.76524355 5.43841123 5.78631435]\n"
     ]
    }
   ],
   "source": [
    "print(np.cumsum(x))#리스트 타입반환"
   ]
  },
  {
   "cell_type": "code",
   "execution_count": 21,
   "metadata": {
    "ExecuteTime": {
     "end_time": "2020-05-26T05:54:51.289663Z",
     "start_time": "2020-05-26T05:54:51.283663Z"
    }
   },
   "outputs": [
    {
     "name": "stdout",
     "output_type": "stream",
     "text": [
      "[0.39263125 0.80255175 1.56502819 1.29932    1.72678315]\n"
     ]
    }
   ],
   "source": [
    "print(np.sum(x,axis=0)) #axis 옵션을 통해 행렬 통제 가능."
   ]
  },
  {
   "cell_type": "code",
   "execution_count": 22,
   "metadata": {
    "ExecuteTime": {
     "end_time": "2020-05-26T05:54:51.297663Z",
     "start_time": "2020-05-26T05:54:51.294663Z"
    }
   },
   "outputs": [
    {
     "name": "stdout",
     "output_type": "stream",
     "text": [
      "[1.6789201  1.94580994 2.1615843 ]\n"
     ]
    }
   ],
   "source": [
    "print(np.sum(x,axis=1))"
   ]
  },
  {
   "cell_type": "markdown",
   "metadata": {},
   "source": [
    "# Numpy의 논리함수\n",
    "- any : 특정 조건을 만족하는 것이 하나라도 있으면 True, 아니면 False\n",
    "- all : 모든 원소가 특정 조건에 만족한다면 True, 아니면 false\n",
    "- where : 삼항연산. 건에 만족하는 값들을 바꾸어줌."
   ]
  },
  {
   "cell_type": "code",
   "execution_count": 23,
   "metadata": {
    "ExecuteTime": {
     "end_time": "2020-05-26T05:54:51.304664Z",
     "start_time": "2020-05-26T05:54:51.300664Z"
    }
   },
   "outputs": [
    {
     "name": "stdout",
     "output_type": "stream",
     "text": [
      "[False False False False  True False  True False False  True]\n"
     ]
    }
   ],
   "source": [
    "x=np.random.randn(10)\n",
    "print(x>0)"
   ]
  },
  {
   "cell_type": "markdown",
   "metadata": {},
   "source": [
    "## any"
   ]
  },
  {
   "cell_type": "code",
   "execution_count": 24,
   "metadata": {
    "ExecuteTime": {
     "end_time": "2020-05-26T05:54:51.310664Z",
     "start_time": "2020-05-26T05:54:51.305664Z"
    }
   },
   "outputs": [
    {
     "name": "stdout",
     "output_type": "stream",
     "text": [
      "True\n"
     ]
    }
   ],
   "source": [
    "print(np.any(x>0))"
   ]
  },
  {
   "cell_type": "markdown",
   "metadata": {},
   "source": [
    "## all"
   ]
  },
  {
   "cell_type": "code",
   "execution_count": 25,
   "metadata": {
    "ExecuteTime": {
     "end_time": "2020-05-26T05:54:51.317665Z",
     "start_time": "2020-05-26T05:54:51.311664Z"
    }
   },
   "outputs": [
    {
     "name": "stdout",
     "output_type": "stream",
     "text": [
      "True\n"
     ]
    }
   ],
   "source": [
    "print(np.all(x!=0))"
   ]
  },
  {
   "cell_type": "markdown",
   "metadata": {},
   "source": [
    "## where"
   ]
  },
  {
   "cell_type": "code",
   "execution_count": 26,
   "metadata": {
    "ExecuteTime": {
     "end_time": "2020-05-26T05:54:51.323665Z",
     "start_time": "2020-05-26T05:54:51.318665Z"
    }
   },
   "outputs": [
    {
     "name": "stdout",
     "output_type": "stream",
     "text": [
      "[0.         0.         0.         0.         0.41172433 0.\n",
      " 1.06550433 0.         0.         0.68082633]\n"
     ]
    }
   ],
   "source": [
    "print(np.where(x>0,x,0))"
   ]
  },
  {
   "cell_type": "code",
   "execution_count": null,
   "metadata": {},
   "outputs": [],
   "source": []
  }
 ],
 "metadata": {
  "hide_input": false,
  "kernelspec": {
   "display_name": "Python 3",
   "language": "python",
   "name": "python3"
  },
  "language_info": {
   "codemirror_mode": {
    "name": "ipython",
    "version": 3
   },
   "file_extension": ".py",
   "mimetype": "text/x-python",
   "name": "python",
   "nbconvert_exporter": "python",
   "pygments_lexer": "ipython3",
   "version": "3.7.6"
  },
  "varInspector": {
   "cols": {
    "lenName": 16,
    "lenType": 16,
    "lenVar": 40
   },
   "kernels_config": {
    "python": {
     "delete_cmd_postfix": "",
     "delete_cmd_prefix": "del ",
     "library": "var_list.py",
     "varRefreshCmd": "print(var_dic_list())"
    },
    "r": {
     "delete_cmd_postfix": ") ",
     "delete_cmd_prefix": "rm(",
     "library": "var_list.r",
     "varRefreshCmd": "cat(var_dic_list()) "
    }
   },
   "types_to_exclude": [
    "module",
    "function",
    "builtin_function_or_method",
    "instance",
    "_Feature"
   ],
   "window_display": false
  }
 },
 "nbformat": 4,
 "nbformat_minor": 4
}
