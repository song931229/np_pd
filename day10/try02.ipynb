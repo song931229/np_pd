{
 "cells": [
  {
   "cell_type": "code",
   "execution_count": 1,
   "metadata": {
    "ExecuteTime": {
     "end_time": "2020-06-08T02:30:08.313354Z",
     "start_time": "2020-06-08T02:30:07.259531Z"
    }
   },
   "outputs": [],
   "source": [
    "import pandas as pd\n",
    "import numpy as np\n",
    "import seaborn as sns\n",
    "import matplotlib.pyplot as plt\n",
    "import re\n",
    "%matplotlib inline\n",
    "plt.rc(\"font\", family=\"Malgun Gothic\")\n",
    "plt.rc(\"axes\", unicode_minus=False)\n",
    "%config InlineBackend.figure_format = 'retina'"
   ]
  },
  {
   "cell_type": "code",
   "execution_count": 2,
   "metadata": {
    "ExecuteTime": {
     "end_time": "2020-06-08T02:30:11.395866Z",
     "start_time": "2020-06-08T02:30:08.313354Z"
    }
   },
   "outputs": [],
   "source": [
    "df=pd.read_excel('일반음식점_filtered.xlsx')"
   ]
  },
  {
   "cell_type": "code",
   "execution_count": 3,
   "metadata": {
    "ExecuteTime": {
     "end_time": "2020-06-08T02:30:11.427868Z",
     "start_time": "2020-06-08T02:30:11.396866Z"
    },
    "scrolled": true
   },
   "outputs": [
    {
     "data": {
      "text/html": [
       "<div>\n",
       "<style scoped>\n",
       "    .dataframe tbody tr th:only-of-type {\n",
       "        vertical-align: middle;\n",
       "    }\n",
       "\n",
       "    .dataframe tbody tr th {\n",
       "        vertical-align: top;\n",
       "    }\n",
       "\n",
       "    .dataframe thead th {\n",
       "        text-align: right;\n",
       "    }\n",
       "</style>\n",
       "<table border=\"1\" class=\"dataframe\">\n",
       "  <thead>\n",
       "    <tr style=\"text-align: right;\">\n",
       "      <th></th>\n",
       "      <th>Unnamed: 0</th>\n",
       "      <th>번호</th>\n",
       "      <th>개방서비스명</th>\n",
       "      <th>개방서비스ID</th>\n",
       "      <th>개방자치단체코드</th>\n",
       "      <th>관리번호</th>\n",
       "      <th>인허가일자</th>\n",
       "      <th>인허가취소일자</th>\n",
       "      <th>영업상태구분코드</th>\n",
       "      <th>영업상태명</th>\n",
       "      <th>...</th>\n",
       "      <th>공장판매직종업원수</th>\n",
       "      <th>공장생산직종업원수</th>\n",
       "      <th>건물소유구분명</th>\n",
       "      <th>보증액</th>\n",
       "      <th>월세액</th>\n",
       "      <th>다중이용업소여부</th>\n",
       "      <th>시설총규모</th>\n",
       "      <th>전통업소지정번호</th>\n",
       "      <th>전통업소주된음식</th>\n",
       "      <th>홈페이지</th>\n",
       "    </tr>\n",
       "  </thead>\n",
       "  <tbody>\n",
       "    <tr>\n",
       "      <th>0</th>\n",
       "      <td>9</td>\n",
       "      <td>10</td>\n",
       "      <td>일반음식점</td>\n",
       "      <td>07_24_04_P</td>\n",
       "      <td>3000000</td>\n",
       "      <td>3000000-101-1984-04502</td>\n",
       "      <td>19841217</td>\n",
       "      <td>NaN</td>\n",
       "      <td>1</td>\n",
       "      <td>영업/정상</td>\n",
       "      <td>...</td>\n",
       "      <td>NaN</td>\n",
       "      <td>NaN</td>\n",
       "      <td>NaN</td>\n",
       "      <td>NaN</td>\n",
       "      <td>NaN</td>\n",
       "      <td>N</td>\n",
       "      <td>90.06</td>\n",
       "      <td>NaN</td>\n",
       "      <td>NaN</td>\n",
       "      <td>NaN</td>\n",
       "    </tr>\n",
       "    <tr>\n",
       "      <th>1</th>\n",
       "      <td>12</td>\n",
       "      <td>13</td>\n",
       "      <td>일반음식점</td>\n",
       "      <td>07_24_04_P</td>\n",
       "      <td>3000000</td>\n",
       "      <td>3000000-101-1984-04720</td>\n",
       "      <td>19841220</td>\n",
       "      <td>NaN</td>\n",
       "      <td>1</td>\n",
       "      <td>영업/정상</td>\n",
       "      <td>...</td>\n",
       "      <td>NaN</td>\n",
       "      <td>NaN</td>\n",
       "      <td>NaN</td>\n",
       "      <td>NaN</td>\n",
       "      <td>NaN</td>\n",
       "      <td>N</td>\n",
       "      <td>68.73</td>\n",
       "      <td>NaN</td>\n",
       "      <td>NaN</td>\n",
       "      <td>NaN</td>\n",
       "    </tr>\n",
       "    <tr>\n",
       "      <th>2</th>\n",
       "      <td>40</td>\n",
       "      <td>41</td>\n",
       "      <td>일반음식점</td>\n",
       "      <td>07_24_04_P</td>\n",
       "      <td>3000000</td>\n",
       "      <td>3000000-101-2001-12264</td>\n",
       "      <td>20011019</td>\n",
       "      <td>NaN</td>\n",
       "      <td>1</td>\n",
       "      <td>영업/정상</td>\n",
       "      <td>...</td>\n",
       "      <td>NaN</td>\n",
       "      <td>NaN</td>\n",
       "      <td>NaN</td>\n",
       "      <td>NaN</td>\n",
       "      <td>NaN</td>\n",
       "      <td>N</td>\n",
       "      <td>0.00</td>\n",
       "      <td>NaN</td>\n",
       "      <td>NaN</td>\n",
       "      <td>NaN</td>\n",
       "    </tr>\n",
       "    <tr>\n",
       "      <th>3</th>\n",
       "      <td>42</td>\n",
       "      <td>43</td>\n",
       "      <td>일반음식점</td>\n",
       "      <td>07_24_04_P</td>\n",
       "      <td>3000000</td>\n",
       "      <td>3000000-101-2001-12274</td>\n",
       "      <td>20011027</td>\n",
       "      <td>NaN</td>\n",
       "      <td>1</td>\n",
       "      <td>영업/정상</td>\n",
       "      <td>...</td>\n",
       "      <td>NaN</td>\n",
       "      <td>NaN</td>\n",
       "      <td>NaN</td>\n",
       "      <td>NaN</td>\n",
       "      <td>NaN</td>\n",
       "      <td>N</td>\n",
       "      <td>103.40</td>\n",
       "      <td>NaN</td>\n",
       "      <td>NaN</td>\n",
       "      <td>NaN</td>\n",
       "    </tr>\n",
       "    <tr>\n",
       "      <th>4</th>\n",
       "      <td>54</td>\n",
       "      <td>55</td>\n",
       "      <td>일반음식점</td>\n",
       "      <td>07_24_04_P</td>\n",
       "      <td>3000000</td>\n",
       "      <td>3000000-101-2002-12019</td>\n",
       "      <td>20020507</td>\n",
       "      <td>NaN</td>\n",
       "      <td>1</td>\n",
       "      <td>영업/정상</td>\n",
       "      <td>...</td>\n",
       "      <td>NaN</td>\n",
       "      <td>NaN</td>\n",
       "      <td>NaN</td>\n",
       "      <td>NaN</td>\n",
       "      <td>NaN</td>\n",
       "      <td>N</td>\n",
       "      <td>64.00</td>\n",
       "      <td>NaN</td>\n",
       "      <td>NaN</td>\n",
       "      <td>NaN</td>\n",
       "    </tr>\n",
       "  </tbody>\n",
       "</table>\n",
       "<p>5 rows × 48 columns</p>\n",
       "</div>"
      ],
      "text/plain": [
       "   Unnamed: 0  번호 개방서비스명     개방서비스ID  개방자치단체코드                    관리번호  \\\n",
       "0           9  10  일반음식점  07_24_04_P   3000000  3000000-101-1984-04502   \n",
       "1          12  13  일반음식점  07_24_04_P   3000000  3000000-101-1984-04720   \n",
       "2          40  41  일반음식점  07_24_04_P   3000000  3000000-101-2001-12264   \n",
       "3          42  43  일반음식점  07_24_04_P   3000000  3000000-101-2001-12274   \n",
       "4          54  55  일반음식점  07_24_04_P   3000000  3000000-101-2002-12019   \n",
       "\n",
       "      인허가일자  인허가취소일자  영업상태구분코드  영업상태명  ...  공장판매직종업원수 공장생산직종업원수  건물소유구분명  보증액  \\\n",
       "0  19841217      NaN         1  영업/정상  ...        NaN       NaN      NaN  NaN   \n",
       "1  19841220      NaN         1  영업/정상  ...        NaN       NaN      NaN  NaN   \n",
       "2  20011019      NaN         1  영업/정상  ...        NaN       NaN      NaN  NaN   \n",
       "3  20011027      NaN         1  영업/정상  ...        NaN       NaN      NaN  NaN   \n",
       "4  20020507      NaN         1  영업/정상  ...        NaN       NaN      NaN  NaN   \n",
       "\n",
       "   월세액  다중이용업소여부   시설총규모  전통업소지정번호  전통업소주된음식 홈페이지  \n",
       "0  NaN         N   90.06       NaN       NaN  NaN  \n",
       "1  NaN         N   68.73       NaN       NaN  NaN  \n",
       "2  NaN         N    0.00       NaN       NaN  NaN  \n",
       "3  NaN         N  103.40       NaN       NaN  NaN  \n",
       "4  NaN         N   64.00       NaN       NaN  NaN  \n",
       "\n",
       "[5 rows x 48 columns]"
      ]
     },
     "execution_count": 3,
     "metadata": {},
     "output_type": "execute_result"
    }
   ],
   "source": [
    "df.head()"
   ]
  },
  {
   "cell_type": "code",
   "execution_count": 4,
   "metadata": {
    "ExecuteTime": {
     "end_time": "2020-06-08T02:30:11.433868Z",
     "start_time": "2020-06-08T02:30:11.428868Z"
    }
   },
   "outputs": [
    {
     "data": {
      "text/plain": [
       "Index(['Unnamed: 0', '번호', '개방서비스명', '개방서비스ID', '개방자치단체코드', '관리번호', '인허가일자',\n",
       "       '인허가취소일자', '영업상태구분코드', '영업상태명', '상세영업상태코드', '상세영업상태명', '폐업일자', '휴업시작일자',\n",
       "       '휴업종료일자', '재개업일자', '소재지전화', '소재지면적', '소재지우편번호', '소재지전체주소', '도로명전체주소',\n",
       "       '도로명우편번호', '사업장명', '최종수정시점', '데이터갱신구분', '데이터갱신일자', '업태구분명', '좌표정보(X)',\n",
       "       '좌표정보(Y)', '위생업태명', '남성종사자수', '여성종사자수', '영업장주변구분명', '등급구분명', '급수시설구분명',\n",
       "       '총종업원수', '본사종업원수', '공장사무직종업원수', '공장판매직종업원수', '공장생산직종업원수', '건물소유구분명',\n",
       "       '보증액', '월세액', '다중이용업소여부', '시설총규모', '전통업소지정번호', '전통업소주된음식', '홈페이지'],\n",
       "      dtype='object')"
      ]
     },
     "execution_count": 4,
     "metadata": {},
     "output_type": "execute_result"
    }
   ],
   "source": [
    "df.columns"
   ]
  },
  {
   "cell_type": "code",
   "execution_count": 5,
   "metadata": {
    "ExecuteTime": {
     "end_time": "2020-06-08T02:30:11.440869Z",
     "start_time": "2020-06-08T02:30:11.435868Z"
    }
   },
   "outputs": [],
   "source": [
    "df=df.loc[:,['영업상태구분코드','영업상태명','소재지전체주소','도로명전체주소']]"
   ]
  },
  {
   "cell_type": "code",
   "execution_count": 6,
   "metadata": {
    "ExecuteTime": {
     "end_time": "2020-06-08T02:30:11.453869Z",
     "start_time": "2020-06-08T02:30:11.441869Z"
    }
   },
   "outputs": [
    {
     "data": {
      "text/html": [
       "<div>\n",
       "<style scoped>\n",
       "    .dataframe tbody tr th:only-of-type {\n",
       "        vertical-align: middle;\n",
       "    }\n",
       "\n",
       "    .dataframe tbody tr th {\n",
       "        vertical-align: top;\n",
       "    }\n",
       "\n",
       "    .dataframe thead th {\n",
       "        text-align: right;\n",
       "    }\n",
       "</style>\n",
       "<table border=\"1\" class=\"dataframe\">\n",
       "  <thead>\n",
       "    <tr style=\"text-align: right;\">\n",
       "      <th></th>\n",
       "      <th>영업상태구분코드</th>\n",
       "      <th>영업상태명</th>\n",
       "      <th>소재지전체주소</th>\n",
       "      <th>도로명전체주소</th>\n",
       "    </tr>\n",
       "  </thead>\n",
       "  <tbody>\n",
       "    <tr>\n",
       "      <th>0</th>\n",
       "      <td>1</td>\n",
       "      <td>영업/정상</td>\n",
       "      <td>서울특별시 종로구 관철동 19-6번지</td>\n",
       "      <td>서울특별시 종로구 삼일대로17길 36 (관철동)</td>\n",
       "    </tr>\n",
       "    <tr>\n",
       "      <th>1</th>\n",
       "      <td>1</td>\n",
       "      <td>영업/정상</td>\n",
       "      <td>서울특별시 종로구 관철동 13-9번지</td>\n",
       "      <td>서울특별시 종로구 삼일대로19길 17 (관철동)</td>\n",
       "    </tr>\n",
       "    <tr>\n",
       "      <th>2</th>\n",
       "      <td>1</td>\n",
       "      <td>영업/정상</td>\n",
       "      <td>서울특별시 종로구 창신동 687-4번지</td>\n",
       "      <td>서울특별시 종로구 창신길 15 (창신동)</td>\n",
       "    </tr>\n",
       "    <tr>\n",
       "      <th>3</th>\n",
       "      <td>1</td>\n",
       "      <td>영업/정상</td>\n",
       "      <td>서울특별시 종로구 동숭동 1-65번지</td>\n",
       "      <td>서울특별시 종로구 대학로10길 15-15 (동숭동)</td>\n",
       "    </tr>\n",
       "    <tr>\n",
       "      <th>4</th>\n",
       "      <td>1</td>\n",
       "      <td>영업/정상</td>\n",
       "      <td>서울특별시 종로구 관수동 120번지</td>\n",
       "      <td>NaN</td>\n",
       "    </tr>\n",
       "  </tbody>\n",
       "</table>\n",
       "</div>"
      ],
      "text/plain": [
       "   영업상태구분코드  영업상태명                 소재지전체주소                       도로명전체주소\n",
       "0         1  영업/정상   서울특별시 종로구 관철동 19-6번지     서울특별시 종로구 삼일대로17길 36 (관철동)\n",
       "1         1  영업/정상   서울특별시 종로구 관철동 13-9번지     서울특별시 종로구 삼일대로19길 17 (관철동)\n",
       "2         1  영업/정상  서울특별시 종로구 창신동 687-4번지         서울특별시 종로구 창신길 15 (창신동)\n",
       "3         1  영업/정상   서울특별시 종로구 동숭동 1-65번지   서울특별시 종로구 대학로10길 15-15 (동숭동)\n",
       "4         1  영업/정상    서울특별시 종로구 관수동 120번지                            NaN"
      ]
     },
     "execution_count": 6,
     "metadata": {},
     "output_type": "execute_result"
    }
   ],
   "source": [
    "df.head()"
   ]
  },
  {
   "cell_type": "code",
   "execution_count": 7,
   "metadata": {
    "ExecuteTime": {
     "end_time": "2020-06-08T02:30:11.527874Z",
     "start_time": "2020-06-08T02:30:11.455869Z"
    }
   },
   "outputs": [],
   "source": [
    "df['소재지(구)']=df['소재지전체주소'].str.split(' ').str[1]"
   ]
  },
  {
   "cell_type": "code",
   "execution_count": 8,
   "metadata": {
    "ExecuteTime": {
     "end_time": "2020-06-08T02:30:11.548875Z",
     "start_time": "2020-06-08T02:30:11.529874Z"
    }
   },
   "outputs": [],
   "source": [
    "df['소재지(동)']=df['소재지전체주소'].str.split(' ').str[2]"
   ]
  },
  {
   "cell_type": "code",
   "execution_count": 9,
   "metadata": {
    "ExecuteTime": {
     "end_time": "2020-06-08T02:30:11.561876Z",
     "start_time": "2020-06-08T02:30:11.549875Z"
    }
   },
   "outputs": [
    {
     "data": {
      "text/html": [
       "<div>\n",
       "<style scoped>\n",
       "    .dataframe tbody tr th:only-of-type {\n",
       "        vertical-align: middle;\n",
       "    }\n",
       "\n",
       "    .dataframe tbody tr th {\n",
       "        vertical-align: top;\n",
       "    }\n",
       "\n",
       "    .dataframe thead th {\n",
       "        text-align: right;\n",
       "    }\n",
       "</style>\n",
       "<table border=\"1\" class=\"dataframe\">\n",
       "  <thead>\n",
       "    <tr style=\"text-align: right;\">\n",
       "      <th></th>\n",
       "      <th>영업상태구분코드</th>\n",
       "      <th>영업상태명</th>\n",
       "      <th>소재지전체주소</th>\n",
       "      <th>도로명전체주소</th>\n",
       "      <th>소재지(구)</th>\n",
       "      <th>소재지(동)</th>\n",
       "    </tr>\n",
       "  </thead>\n",
       "  <tbody>\n",
       "    <tr>\n",
       "      <th>0</th>\n",
       "      <td>1</td>\n",
       "      <td>영업/정상</td>\n",
       "      <td>서울특별시 종로구 관철동 19-6번지</td>\n",
       "      <td>서울특별시 종로구 삼일대로17길 36 (관철동)</td>\n",
       "      <td>종로구</td>\n",
       "      <td>관철동</td>\n",
       "    </tr>\n",
       "    <tr>\n",
       "      <th>1</th>\n",
       "      <td>1</td>\n",
       "      <td>영업/정상</td>\n",
       "      <td>서울특별시 종로구 관철동 13-9번지</td>\n",
       "      <td>서울특별시 종로구 삼일대로19길 17 (관철동)</td>\n",
       "      <td>종로구</td>\n",
       "      <td>관철동</td>\n",
       "    </tr>\n",
       "    <tr>\n",
       "      <th>2</th>\n",
       "      <td>1</td>\n",
       "      <td>영업/정상</td>\n",
       "      <td>서울특별시 종로구 창신동 687-4번지</td>\n",
       "      <td>서울특별시 종로구 창신길 15 (창신동)</td>\n",
       "      <td>종로구</td>\n",
       "      <td>창신동</td>\n",
       "    </tr>\n",
       "    <tr>\n",
       "      <th>3</th>\n",
       "      <td>1</td>\n",
       "      <td>영업/정상</td>\n",
       "      <td>서울특별시 종로구 동숭동 1-65번지</td>\n",
       "      <td>서울특별시 종로구 대학로10길 15-15 (동숭동)</td>\n",
       "      <td>종로구</td>\n",
       "      <td>동숭동</td>\n",
       "    </tr>\n",
       "    <tr>\n",
       "      <th>4</th>\n",
       "      <td>1</td>\n",
       "      <td>영업/정상</td>\n",
       "      <td>서울특별시 종로구 관수동 120번지</td>\n",
       "      <td>NaN</td>\n",
       "      <td>종로구</td>\n",
       "      <td>관수동</td>\n",
       "    </tr>\n",
       "  </tbody>\n",
       "</table>\n",
       "</div>"
      ],
      "text/plain": [
       "   영업상태구분코드  영업상태명                 소재지전체주소                       도로명전체주소  \\\n",
       "0         1  영업/정상   서울특별시 종로구 관철동 19-6번지     서울특별시 종로구 삼일대로17길 36 (관철동)   \n",
       "1         1  영업/정상   서울특별시 종로구 관철동 13-9번지     서울특별시 종로구 삼일대로19길 17 (관철동)   \n",
       "2         1  영업/정상  서울특별시 종로구 창신동 687-4번지         서울특별시 종로구 창신길 15 (창신동)   \n",
       "3         1  영업/정상   서울특별시 종로구 동숭동 1-65번지   서울특별시 종로구 대학로10길 15-15 (동숭동)   \n",
       "4         1  영업/정상    서울특별시 종로구 관수동 120번지                            NaN   \n",
       "\n",
       "  소재지(구) 소재지(동)  \n",
       "0    종로구    관철동  \n",
       "1    종로구    관철동  \n",
       "2    종로구    창신동  \n",
       "3    종로구    동숭동  \n",
       "4    종로구    관수동  "
      ]
     },
     "execution_count": 9,
     "metadata": {},
     "output_type": "execute_result"
    }
   ],
   "source": [
    "df.head()"
   ]
  },
  {
   "cell_type": "code",
   "execution_count": 10,
   "metadata": {
    "ExecuteTime": {
     "end_time": "2020-06-08T02:30:11.581877Z",
     "start_time": "2020-06-08T02:30:11.562876Z"
    }
   },
   "outputs": [
    {
     "data": {
      "text/html": [
       "<div>\n",
       "<style scoped>\n",
       "    .dataframe tbody tr th:only-of-type {\n",
       "        vertical-align: middle;\n",
       "    }\n",
       "\n",
       "    .dataframe tbody tr th {\n",
       "        vertical-align: top;\n",
       "    }\n",
       "\n",
       "    .dataframe thead th {\n",
       "        text-align: right;\n",
       "    }\n",
       "</style>\n",
       "<table border=\"1\" class=\"dataframe\">\n",
       "  <thead>\n",
       "    <tr style=\"text-align: right;\">\n",
       "      <th></th>\n",
       "      <th>영업상태구분코드</th>\n",
       "      <th>영업상태명</th>\n",
       "      <th>소재지전체주소</th>\n",
       "      <th>도로명전체주소</th>\n",
       "      <th>소재지(구)</th>\n",
       "      <th>소재지(동)</th>\n",
       "    </tr>\n",
       "  </thead>\n",
       "  <tbody>\n",
       "    <tr>\n",
       "      <th>72</th>\n",
       "      <td>1</td>\n",
       "      <td>영업/정상</td>\n",
       "      <td>NaN</td>\n",
       "      <td>서울특별시 종로구 진흥로 442-2, 1층 (구기동)</td>\n",
       "      <td>NaN</td>\n",
       "      <td>NaN</td>\n",
       "    </tr>\n",
       "    <tr>\n",
       "      <th>2881</th>\n",
       "      <td>1</td>\n",
       "      <td>영업/정상</td>\n",
       "      <td>NaN</td>\n",
       "      <td>서울특별시 성북구 보문사길 111 (보문동6가, 보문파크뷰자이아파트 상가8호)</td>\n",
       "      <td>NaN</td>\n",
       "      <td>NaN</td>\n",
       "    </tr>\n",
       "    <tr>\n",
       "      <th>4901</th>\n",
       "      <td>1</td>\n",
       "      <td>영업/정상</td>\n",
       "      <td>NaN</td>\n",
       "      <td>서울특별시 서대문구 성산로 316, 1층 (연희동)</td>\n",
       "      <td>NaN</td>\n",
       "      <td>NaN</td>\n",
       "    </tr>\n",
       "    <tr>\n",
       "      <th>5526</th>\n",
       "      <td>1</td>\n",
       "      <td>영업/정상</td>\n",
       "      <td>NaN</td>\n",
       "      <td>서울특별시 마포구 잔다리로 19, 2층 (서교동)</td>\n",
       "      <td>NaN</td>\n",
       "      <td>NaN</td>\n",
       "    </tr>\n",
       "    <tr>\n",
       "      <th>5602</th>\n",
       "      <td>1</td>\n",
       "      <td>영업/정상</td>\n",
       "      <td>NaN</td>\n",
       "      <td>서울특별시 마포구 성미산로17길 99 (연남동, 1층일부)</td>\n",
       "      <td>NaN</td>\n",
       "      <td>NaN</td>\n",
       "    </tr>\n",
       "    <tr>\n",
       "      <th>5698</th>\n",
       "      <td>1</td>\n",
       "      <td>영업/정상</td>\n",
       "      <td>NaN</td>\n",
       "      <td>서울특별시 마포구 도화4길 27, 1층 (도화동)</td>\n",
       "      <td>NaN</td>\n",
       "      <td>NaN</td>\n",
       "    </tr>\n",
       "    <tr>\n",
       "      <th>7020</th>\n",
       "      <td>1</td>\n",
       "      <td>영업/정상</td>\n",
       "      <td>NaN</td>\n",
       "      <td>서울특별시 구로구 오리로 1173 (오류동)</td>\n",
       "      <td>NaN</td>\n",
       "      <td>NaN</td>\n",
       "    </tr>\n",
       "  </tbody>\n",
       "</table>\n",
       "</div>"
      ],
      "text/plain": [
       "      영업상태구분코드  영업상태명 소재지전체주소                                      도로명전체주소  \\\n",
       "72           1  영업/정상     NaN                서울특별시 종로구 진흥로 442-2, 1층 (구기동)   \n",
       "2881         1  영업/정상     NaN  서울특별시 성북구 보문사길 111 (보문동6가, 보문파크뷰자이아파트 상가8호)   \n",
       "4901         1  영업/정상     NaN                 서울특별시 서대문구 성산로 316, 1층 (연희동)   \n",
       "5526         1  영업/정상     NaN                  서울특별시 마포구 잔다리로 19, 2층 (서교동)   \n",
       "5602         1  영업/정상     NaN             서울특별시 마포구 성미산로17길 99 (연남동, 1층일부)   \n",
       "5698         1  영업/정상     NaN                  서울특별시 마포구 도화4길 27, 1층 (도화동)   \n",
       "7020         1  영업/정상     NaN                     서울특별시 구로구 오리로 1173 (오류동)   \n",
       "\n",
       "     소재지(구) 소재지(동)  \n",
       "72      NaN    NaN  \n",
       "2881    NaN    NaN  \n",
       "4901    NaN    NaN  \n",
       "5526    NaN    NaN  \n",
       "5602    NaN    NaN  \n",
       "5698    NaN    NaN  \n",
       "7020    NaN    NaN  "
      ]
     },
     "execution_count": 10,
     "metadata": {},
     "output_type": "execute_result"
    }
   ],
   "source": [
    "df[df['소재지(구)'].isna()]"
   ]
  },
  {
   "cell_type": "code",
   "execution_count": 11,
   "metadata": {
    "ExecuteTime": {
     "end_time": "2020-06-08T02:30:11.596878Z",
     "start_time": "2020-06-08T02:30:11.583877Z"
    }
   },
   "outputs": [
    {
     "data": {
      "text/html": [
       "<div>\n",
       "<style scoped>\n",
       "    .dataframe tbody tr th:only-of-type {\n",
       "        vertical-align: middle;\n",
       "    }\n",
       "\n",
       "    .dataframe tbody tr th {\n",
       "        vertical-align: top;\n",
       "    }\n",
       "\n",
       "    .dataframe thead th {\n",
       "        text-align: right;\n",
       "    }\n",
       "</style>\n",
       "<table border=\"1\" class=\"dataframe\">\n",
       "  <thead>\n",
       "    <tr style=\"text-align: right;\">\n",
       "      <th></th>\n",
       "      <th>영업상태구분코드</th>\n",
       "      <th>영업상태명</th>\n",
       "      <th>소재지전체주소</th>\n",
       "      <th>도로명전체주소</th>\n",
       "      <th>소재지(구)</th>\n",
       "      <th>소재지(동)</th>\n",
       "    </tr>\n",
       "  </thead>\n",
       "  <tbody>\n",
       "    <tr>\n",
       "      <th>72</th>\n",
       "      <td>1</td>\n",
       "      <td>영업/정상</td>\n",
       "      <td>NaN</td>\n",
       "      <td>서울특별시 종로구 진흥로 442-2, 1층 (구기동)</td>\n",
       "      <td>NaN</td>\n",
       "      <td>NaN</td>\n",
       "    </tr>\n",
       "    <tr>\n",
       "      <th>2881</th>\n",
       "      <td>1</td>\n",
       "      <td>영업/정상</td>\n",
       "      <td>NaN</td>\n",
       "      <td>서울특별시 성북구 보문사길 111 (보문동6가, 보문파크뷰자이아파트 상가8호)</td>\n",
       "      <td>NaN</td>\n",
       "      <td>NaN</td>\n",
       "    </tr>\n",
       "    <tr>\n",
       "      <th>4901</th>\n",
       "      <td>1</td>\n",
       "      <td>영업/정상</td>\n",
       "      <td>NaN</td>\n",
       "      <td>서울특별시 서대문구 성산로 316, 1층 (연희동)</td>\n",
       "      <td>NaN</td>\n",
       "      <td>NaN</td>\n",
       "    </tr>\n",
       "    <tr>\n",
       "      <th>5526</th>\n",
       "      <td>1</td>\n",
       "      <td>영업/정상</td>\n",
       "      <td>NaN</td>\n",
       "      <td>서울특별시 마포구 잔다리로 19, 2층 (서교동)</td>\n",
       "      <td>NaN</td>\n",
       "      <td>NaN</td>\n",
       "    </tr>\n",
       "    <tr>\n",
       "      <th>5602</th>\n",
       "      <td>1</td>\n",
       "      <td>영업/정상</td>\n",
       "      <td>NaN</td>\n",
       "      <td>서울특별시 마포구 성미산로17길 99 (연남동, 1층일부)</td>\n",
       "      <td>NaN</td>\n",
       "      <td>NaN</td>\n",
       "    </tr>\n",
       "    <tr>\n",
       "      <th>5698</th>\n",
       "      <td>1</td>\n",
       "      <td>영업/정상</td>\n",
       "      <td>NaN</td>\n",
       "      <td>서울특별시 마포구 도화4길 27, 1층 (도화동)</td>\n",
       "      <td>NaN</td>\n",
       "      <td>NaN</td>\n",
       "    </tr>\n",
       "    <tr>\n",
       "      <th>7020</th>\n",
       "      <td>1</td>\n",
       "      <td>영업/정상</td>\n",
       "      <td>NaN</td>\n",
       "      <td>서울특별시 구로구 오리로 1173 (오류동)</td>\n",
       "      <td>NaN</td>\n",
       "      <td>NaN</td>\n",
       "    </tr>\n",
       "  </tbody>\n",
       "</table>\n",
       "</div>"
      ],
      "text/plain": [
       "      영업상태구분코드  영업상태명 소재지전체주소                                      도로명전체주소  \\\n",
       "72           1  영업/정상     NaN                서울특별시 종로구 진흥로 442-2, 1층 (구기동)   \n",
       "2881         1  영업/정상     NaN  서울특별시 성북구 보문사길 111 (보문동6가, 보문파크뷰자이아파트 상가8호)   \n",
       "4901         1  영업/정상     NaN                 서울특별시 서대문구 성산로 316, 1층 (연희동)   \n",
       "5526         1  영업/정상     NaN                  서울특별시 마포구 잔다리로 19, 2층 (서교동)   \n",
       "5602         1  영업/정상     NaN             서울특별시 마포구 성미산로17길 99 (연남동, 1층일부)   \n",
       "5698         1  영업/정상     NaN                  서울특별시 마포구 도화4길 27, 1층 (도화동)   \n",
       "7020         1  영업/정상     NaN                     서울특별시 구로구 오리로 1173 (오류동)   \n",
       "\n",
       "     소재지(구) 소재지(동)  \n",
       "72      NaN    NaN  \n",
       "2881    NaN    NaN  \n",
       "4901    NaN    NaN  \n",
       "5526    NaN    NaN  \n",
       "5602    NaN    NaN  \n",
       "5698    NaN    NaN  \n",
       "7020    NaN    NaN  "
      ]
     },
     "execution_count": 11,
     "metadata": {},
     "output_type": "execute_result"
    }
   ],
   "source": [
    "df[df['소재지(동)'].isna()]"
   ]
  },
  {
   "cell_type": "code",
   "execution_count": 12,
   "metadata": {
    "ExecuteTime": {
     "end_time": "2020-06-08T02:30:11.609878Z",
     "start_time": "2020-06-08T02:30:11.597878Z"
    }
   },
   "outputs": [
    {
     "data": {
      "text/plain": [
       "72       종로구\n",
       "2881     성북구\n",
       "4901    서대문구\n",
       "5526     마포구\n",
       "5602     마포구\n",
       "5698     마포구\n",
       "7020     구로구\n",
       "Name: 도로명전체주소, dtype: object"
      ]
     },
     "execution_count": 12,
     "metadata": {},
     "output_type": "execute_result"
    }
   ],
   "source": [
    "df[df['소재지(구)'].isna()]['도로명전체주소'].str.split(' ').str[1]"
   ]
  },
  {
   "cell_type": "code",
   "execution_count": 13,
   "metadata": {
    "ExecuteTime": {
     "end_time": "2020-06-08T02:30:11.621879Z",
     "start_time": "2020-06-08T02:30:11.610878Z"
    }
   },
   "outputs": [
    {
     "data": {
      "text/plain": [
       "72      NaN\n",
       "2881    NaN\n",
       "4901    NaN\n",
       "5526    NaN\n",
       "5602    NaN\n",
       "5698    NaN\n",
       "7020    NaN\n",
       "Name: 소재지(구), dtype: object"
      ]
     },
     "execution_count": 13,
     "metadata": {},
     "output_type": "execute_result"
    }
   ],
   "source": [
    "df[df['소재지(구)'].isna()]['소재지(구)']"
   ]
  },
  {
   "cell_type": "code",
   "execution_count": 14,
   "metadata": {
    "ExecuteTime": {
     "end_time": "2020-06-08T02:30:11.632880Z",
     "start_time": "2020-06-08T02:30:11.623879Z"
    }
   },
   "outputs": [],
   "source": [
    "nagus=list(df[df['소재지(구)'].isna()]['도로명전체주소'].str.split(' ').str[1].copy())"
   ]
  },
  {
   "cell_type": "markdown",
   "metadata": {},
   "source": [
    "-----------------------------------------"
   ]
  },
  {
   "cell_type": "code",
   "execution_count": 15,
   "metadata": {
    "ExecuteTime": {
     "end_time": "2020-06-08T02:30:11.840891Z",
     "start_time": "2020-06-08T02:30:11.633880Z"
    }
   },
   "outputs": [
    {
     "ename": "AttributeError",
     "evalue": "'StringMethods' object has no attribute 'search'",
     "output_type": "error",
     "traceback": [
      "\u001b[1;31m---------------------------------------------------------------------------\u001b[0m",
      "\u001b[1;31mAttributeError\u001b[0m                            Traceback (most recent call last)",
      "\u001b[1;32m<ipython-input-15-2a5c6f79102d>\u001b[0m in \u001b[0;36m<module>\u001b[1;34m\u001b[0m\n\u001b[1;32m----> 1\u001b[1;33m \u001b[0mdf\u001b[0m\u001b[1;33m[\u001b[0m\u001b[0mdf\u001b[0m\u001b[1;33m[\u001b[0m\u001b[1;34m'소재지(동)'\u001b[0m\u001b[1;33m]\u001b[0m\u001b[1;33m.\u001b[0m\u001b[0misna\u001b[0m\u001b[1;33m(\u001b[0m\u001b[1;33m)\u001b[0m\u001b[1;33m]\u001b[0m\u001b[1;33m[\u001b[0m\u001b[1;34m'도로명전체주소'\u001b[0m\u001b[1;33m]\u001b[0m\u001b[1;33m.\u001b[0m\u001b[0mstr\u001b[0m\u001b[1;33m.\u001b[0m\u001b[0msearch\u001b[0m\u001b[1;33m(\u001b[0m\u001b[1;34m\"()\"\u001b[0m\u001b[1;33m)\u001b[0m\u001b[1;33m\u001b[0m\u001b[1;33m\u001b[0m\u001b[0m\n\u001b[0m",
      "\u001b[1;31mAttributeError\u001b[0m: 'StringMethods' object has no attribute 'search'"
     ]
    }
   ],
   "source": [
    "# df[df['소재지(동)'].isna()]['도로명전체주소'].str.search(\"()\")"
   ]
  },
  {
   "cell_type": "code",
   "execution_count": 18,
   "metadata": {
    "ExecuteTime": {
     "end_time": "2020-06-08T02:30:28.152767Z",
     "start_time": "2020-06-08T02:30:28.137167Z"
    }
   },
   "outputs": [],
   "source": [
    "indexs=df[df['소재지(구)'].isna()]['소재지(구)'].index"
   ]
  },
  {
   "cell_type": "code",
   "execution_count": 19,
   "metadata": {
    "ExecuteTime": {
     "end_time": "2020-06-08T02:30:29.187796Z",
     "start_time": "2020-06-08T02:30:29.156596Z"
    }
   },
   "outputs": [
    {
     "data": {
      "text/plain": [
       "Int64Index([72, 2881, 4901, 5526, 5602, 5698, 7020], dtype='int64')"
      ]
     },
     "execution_count": 19,
     "metadata": {},
     "output_type": "execute_result"
    }
   ],
   "source": [
    "indexs"
   ]
  },
  {
   "cell_type": "code",
   "execution_count": 20,
   "metadata": {
    "ExecuteTime": {
     "end_time": "2020-06-08T02:30:30.670825Z",
     "start_time": "2020-06-08T02:30:30.655224Z"
    }
   },
   "outputs": [],
   "source": [
    "for x in range(7):\n",
    "    df.loc[indexs[x],'소재지(구)']=nagus[x]"
   ]
  },
  {
   "cell_type": "code",
   "execution_count": 23,
   "metadata": {
    "ExecuteTime": {
     "end_time": "2020-06-08T02:30:48.477225Z",
     "start_time": "2020-06-08T02:30:48.446025Z"
    }
   },
   "outputs": [],
   "source": [
    "gus=df['소재지(구)'].value_counts()"
   ]
  },
  {
   "cell_type": "code",
   "execution_count": 24,
   "metadata": {
    "ExecuteTime": {
     "end_time": "2020-06-08T02:30:59.072415Z",
     "start_time": "2020-06-08T02:30:58.822410Z"
    },
    "scrolled": true
   },
   "outputs": [
    {
     "data": {
      "text/plain": [
       "<matplotlib.axes._subplots.AxesSubplot at 0x9573388>"
      ]
     },
     "execution_count": 24,
     "metadata": {},
     "output_type": "execute_result"
    },
    {
     "data": {
      "image/png": "[encoded data removed]",
      "text/plain": [
       "<Figure size 432x288 with 1 Axes>"
      ]
     },
     "metadata": {
      "image/png": {
       "height": 278,
       "width": 372
      },
      "needs_background": "light"
     },
     "output_type": "display_data"
    }
   ],
   "source": [
    "gus.plot(kind='bar')"
   ]
  },
  {
   "cell_type": "code",
   "execution_count": 36,
   "metadata": {
    "ExecuteTime": {
     "end_time": "2020-06-08T02:33:28.105556Z",
     "start_time": "2020-06-08T02:33:26.286926Z"
    }
   },
   "outputs": [
    {
     "name": "stdout",
     "output_type": "stream",
     "text": [
      "강서구\n"
     ]
    }
   ],
   "source": [
    "ingu=input()"
   ]
  },
  {
   "cell_type": "code",
   "execution_count": 41,
   "metadata": {
    "ExecuteTime": {
     "end_time": "2020-06-08T02:33:46.280344Z",
     "start_time": "2020-06-08T02:33:46.264744Z"
    }
   },
   "outputs": [],
   "source": [
    "dongs=df[df['소재지(구)']==ingu]['소재지(동)'].value_counts()"
   ]
  },
  {
   "cell_type": "code",
   "execution_count": 42,
   "metadata": {
    "ExecuteTime": {
     "end_time": "2020-06-08T02:33:46.619962Z",
     "start_time": "2020-06-08T02:33:46.615962Z"
    }
   },
   "outputs": [
    {
     "data": {
      "text/plain": [
       "화곡동     221\n",
       "마곡동      69\n",
       "방화동      50\n",
       "등촌동      46\n",
       "공항동      28\n",
       "내발산동     27\n",
       "가양동      15\n",
       "염창동       9\n",
       "Name: 소재지(동), dtype: int64"
      ]
     },
     "execution_count": 42,
     "metadata": {},
     "output_type": "execute_result"
    }
   ],
   "source": [
    "dongs"
   ]
  },
  {
   "cell_type": "code",
   "execution_count": 43,
   "metadata": {
    "ExecuteTime": {
     "end_time": "2020-06-08T02:33:47.762398Z",
     "start_time": "2020-06-08T02:33:47.570793Z"
    }
   },
   "outputs": [
    {
     "data": {
      "text/plain": [
       "<matplotlib.axes._subplots.AxesSubplot at 0xbc07fc8>"
      ]
     },
     "execution_count": 43,
     "metadata": {},
     "output_type": "execute_result"
    },
    {
     "data": {
      "image/png": "[encoded data removed]",
      "text/plain": [
       "<Figure size 432x288 with 1 Axes>"
      ]
     },
     "metadata": {
      "image/png": {
       "height": 278,
       "width": 372
      },
      "needs_background": "light"
     },
     "output_type": "display_data"
    }
   ],
   "source": [
    "dongs.plot(kind='bar')"
   ]
  },
  {
   "cell_type": "code",
   "execution_count": null,
   "metadata": {},
   "outputs": [],
   "source": []
  }
 ],
 "metadata": {
  "hide_input": false,
  "kernelspec": {
   "display_name": "Python 3",
   "language": "python",
   "name": "python3"
  },
  "language_info": {
   "codemirror_mode": {
    "name": "ipython",
    "version": 3
   },
   "file_extension": ".py",
   "mimetype": "text/x-python",
   "name": "python",
   "nbconvert_exporter": "python",
   "pygments_lexer": "ipython3",
   "version": "3.7.6"
  },
  "toc": {
   "base_numbering": 1,
   "nav_menu": {},
   "number_sections": true,
   "sideBar": true,
   "skip_h1_title": false,
   "title_cell": "Table of Contents",
   "title_sidebar": "Contents",
   "toc_cell": false,
   "toc_position": {},
   "toc_section_display": true,
   "toc_window_display": false
  },
  "varInspector": {
   "cols": {
    "lenName": 16,
    "lenType": 16,
    "lenVar": 40
   },
   "kernels_config": {
    "python": {
     "delete_cmd_postfix": "",
     "delete_cmd_prefix": "del ",
     "library": "var_list.py",
     "varRefreshCmd": "print(var_dic_list())"
    },
    "r": {
     "delete_cmd_postfix": ") ",
     "delete_cmd_prefix": "rm(",
     "library": "var_list.r",
     "varRefreshCmd": "cat(var_dic_list()) "
    }
   },
   "types_to_exclude": [
    "module",
    "function",
    "builtin_function_or_method",
    "instance",
    "_Feature"
   ],
   "window_display": false
  }
 },
 "nbformat": 4,
 "nbformat_minor": 4
}
