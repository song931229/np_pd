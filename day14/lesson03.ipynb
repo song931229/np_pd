{
 "cells": [
  {
   "cell_type": "markdown",
   "metadata": {},
   "source": [
    "# selenium 모듈\n",
    "- 웹 어플리케이션 테스트를 위한 프레임워크\n",
    "- 주로 제작한 홈페이지를 테스트하기 위해 사용\n",
    "- 다양한 언어에서 지원(c++,java,python..)\n",
    "- 사용자가 아닌 프로그램이 웹브라우저를 제어할 수 있도록 지원\n",
    "- 웨브라우저마다 클라이언트 프로그램(Web Driver)가 별도로 필요"
   ]
  },
  {
   "cell_type": "code",
   "execution_count": 1,
   "metadata": {
    "ExecuteTime": {
     "end_time": "2020-06-12T07:05:36.546126Z",
     "start_time": "2020-06-12T07:05:36.451120Z"
    }
   },
   "outputs": [],
   "source": [
    "import selenium\n",
    "from selenium import webdriver"
   ]
  },
  {
   "cell_type": "code",
   "execution_count": 19,
   "metadata": {
    "ExecuteTime": {
     "end_time": "2020-06-12T07:05:57.152277Z",
     "start_time": "2020-06-12T07:05:57.121077Z"
    }
   },
   "outputs": [],
   "source": [
    "import time"
   ]
  },
  {
   "cell_type": "code",
   "execution_count": 2,
   "metadata": {
    "ExecuteTime": {
     "end_time": "2020-06-12T07:05:40.103652Z",
     "start_time": "2020-06-12T07:05:36.547126Z"
    }
   },
   "outputs": [],
   "source": [
    "driver=webdriver.Chrome('C:/Chrome Driver/chromedriver.exe')\n",
    "driver.get('https://www.naver.com')"
   ]
  },
  {
   "cell_type": "code",
   "execution_count": 3,
   "metadata": {
    "ExecuteTime": {
     "end_time": "2020-06-12T07:05:40.162656Z",
     "start_time": "2020-06-12T07:05:40.105652Z"
    }
   },
   "outputs": [],
   "source": [
    "element=driver.find_element_by_id('newsstand')"
   ]
  },
  {
   "cell_type": "code",
   "execution_count": 4,
   "metadata": {
    "ExecuteTime": {
     "end_time": "2020-06-12T07:05:40.177657Z",
     "start_time": "2020-06-12T07:05:40.163656Z"
    }
   },
   "outputs": [
    {
     "data": {
      "text/plain": [
       "<selenium.webdriver.remote.webelement.WebElement (session=\"7c27114e918910303de283b480f926d9\", element=\"3410eac7-d712-417d-aba2-eb113cdd349a\")>"
      ]
     },
     "execution_count": 4,
     "metadata": {},
     "output_type": "execute_result"
    }
   ],
   "source": [
    "element"
   ]
  },
  {
   "cell_type": "code",
   "execution_count": 5,
   "metadata": {
    "ExecuteTime": {
     "end_time": "2020-06-12T07:05:40.191657Z",
     "start_time": "2020-06-12T07:05:40.178657Z"
    }
   },
   "outputs": [
    {
     "data": {
      "text/plain": [
       "'div'"
      ]
     },
     "execution_count": 5,
     "metadata": {},
     "output_type": "execute_result"
    }
   ],
   "source": [
    "element.tag_name"
   ]
  },
  {
   "cell_type": "code",
   "execution_count": 6,
   "metadata": {
    "ExecuteTime": {
     "end_time": "2020-06-12T07:05:40.337666Z",
     "start_time": "2020-06-12T07:05:40.192657Z"
    },
    "scrolled": true
   },
   "outputs": [
    {
     "data": {
      "text/plain": [
       "'뉴스스탠드\\n연합뉴스\\n정총리 \"집단감염 심상치 않아…2차 대유행 대비도 필요\"\\n네이버뉴스\\n연예\\n스포츠\\n경제\\n뉴스스탠드\\n구독한 언론사 전체언론사\\n리스트형\\n썸네일형\\n설정\\n\\n다음'"
      ]
     },
     "execution_count": 6,
     "metadata": {},
     "output_type": "execute_result"
    }
   ],
   "source": [
    "element.text"
   ]
  },
  {
   "cell_type": "code",
   "execution_count": 7,
   "metadata": {
    "ExecuteTime": {
     "end_time": "2020-06-12T07:05:40.340666Z",
     "start_time": "2020-06-12T07:05:40.338666Z"
    }
   },
   "outputs": [],
   "source": [
    "# driver.close()"
   ]
  },
  {
   "cell_type": "code",
   "execution_count": 8,
   "metadata": {
    "ExecuteTime": {
     "end_time": "2020-06-12T07:05:40.369667Z",
     "start_time": "2020-06-12T07:05:40.345666Z"
    }
   },
   "outputs": [],
   "source": [
    "element2=driver.find_element_by_class_name(\"issue\")"
   ]
  },
  {
   "cell_type": "code",
   "execution_count": 9,
   "metadata": {
    "ExecuteTime": {
     "end_time": "2020-06-12T07:05:40.375668Z",
     "start_time": "2020-06-12T07:05:40.371668Z"
    }
   },
   "outputs": [
    {
     "data": {
      "text/plain": [
       "<selenium.webdriver.remote.webelement.WebElement (session=\"7c27114e918910303de283b480f926d9\", element=\"d26e0ba7-c0d2-45fd-944b-8b09c9f978f4\")>"
      ]
     },
     "execution_count": 9,
     "metadata": {},
     "output_type": "execute_result"
    }
   ],
   "source": [
    "element2"
   ]
  },
  {
   "cell_type": "code",
   "execution_count": 10,
   "metadata": {
    "ExecuteTime": {
     "end_time": "2020-06-12T07:05:40.394669Z",
     "start_time": "2020-06-12T07:05:40.376668Z"
    }
   },
   "outputs": [
    {
     "data": {
      "text/plain": [
       "'정총리 \"집단감염 심상치 않아…2차 대유행 대비도 필요\"'"
      ]
     },
     "execution_count": 10,
     "metadata": {},
     "output_type": "execute_result"
    }
   ],
   "source": [
    "element2.text"
   ]
  },
  {
   "cell_type": "code",
   "execution_count": 11,
   "metadata": {
    "ExecuteTime": {
     "end_time": "2020-06-12T07:05:40.415670Z",
     "start_time": "2020-06-12T07:05:40.395669Z"
    }
   },
   "outputs": [],
   "source": [
    "elements=driver.find_elements_by_class_name(\"issue\")"
   ]
  },
  {
   "cell_type": "code",
   "execution_count": 12,
   "metadata": {
    "ExecuteTime": {
     "end_time": "2020-06-12T07:05:40.429671Z",
     "start_time": "2020-06-12T07:05:40.416670Z"
    }
   },
   "outputs": [
    {
     "name": "stdout",
     "output_type": "stream",
     "text": [
      "정총리 \"집단감염 심상치 않아…2차 대유행 대비도 필요\"\n"
     ]
    }
   ],
   "source": [
    "for i in elements:\n",
    "    print(i.text)"
   ]
  },
  {
   "cell_type": "markdown",
   "metadata": {},
   "source": [
    "## html을 이벤트로 제어하기"
   ]
  },
  {
   "cell_type": "markdown",
   "metadata": {},
   "source": [
    "- 마우스 클릭 : clcik()\n",
    "- 키보드 입력 : send_keys()\n",
    "- 자바스크립트 삽압 : excute_script()\n",
    "- 입력 양식 전송 : submit()\n",
    "- 글자 지움 : clear()\n",
    "- 뒤로 가기 : back()\n",
    "- 앞으로 가기 : foward()}"
   ]
  },
  {
   "cell_type": "code",
   "execution_count": 13,
   "metadata": {
    "ExecuteTime": {
     "end_time": "2020-06-12T07:05:43.725859Z",
     "start_time": "2020-06-12T07:05:40.430671Z"
    }
   },
   "outputs": [],
   "source": [
    "driver.get('https://www.daum.net/')\n",
    "dict_button=driver.find_element_by_class_name('txt_pctop.link_dic')\n",
    "driver.implicitly_wait(2)\n",
    "dict_button.click()"
   ]
  },
  {
   "cell_type": "code",
   "execution_count": 14,
   "metadata": {
    "ExecuteTime": {
     "end_time": "2020-06-12T07:05:43.891869Z",
     "start_time": "2020-06-12T07:05:43.726860Z"
    }
   },
   "outputs": [],
   "source": [
    "daum_button=driver.find_element_by_tag_name('img')\n",
    "driver.implicitly_wait(2)"
   ]
  },
  {
   "cell_type": "code",
   "execution_count": 15,
   "metadata": {
    "ExecuteTime": {
     "end_time": "2020-06-12T07:05:44.067879Z",
     "start_time": "2020-06-12T07:05:43.892869Z"
    }
   },
   "outputs": [],
   "source": [
    "daum_button.click()"
   ]
  },
  {
   "cell_type": "code",
   "execution_count": 16,
   "metadata": {
    "ExecuteTime": {
     "end_time": "2020-06-12T07:05:44.414899Z",
     "start_time": "2020-06-12T07:05:44.068879Z"
    }
   },
   "outputs": [],
   "source": [
    "searchbar=driver.find_element_by_id('q')\n",
    "searchbar.send_keys('웹 크롤링')"
   ]
  },
  {
   "cell_type": "markdown",
   "metadata": {},
   "source": [
    "## keys\n",
    "- from selenium.webdriver.common.keys import Keys\n",
    "- 키보드를 제어할 때, 특수 키를 입력하기위해 필요한 모듈\n",
    "- ENTER, SPACE, TAB, F1~F12, DELETE, HOME, END, INSERT, ALT ..."
   ]
  },
  {
   "cell_type": "code",
   "execution_count": 17,
   "metadata": {
    "ExecuteTime": {
     "end_time": "2020-06-12T07:05:44.728917Z",
     "start_time": "2020-06-12T07:05:44.415899Z"
    }
   },
   "outputs": [],
   "source": [
    "searchbar.send_keys(webdriver.common.keys.Keys.ENTER)"
   ]
  },
  {
   "cell_type": "code",
   "execution_count": null,
   "metadata": {},
   "outputs": [],
   "source": [
    "time.sleep(3)"
   ]
  },
  {
   "cell_type": "code",
   "execution_count": 18,
   "metadata": {
    "ExecuteTime": {
     "end_time": "2020-06-12T07:05:47.083375Z",
     "start_time": "2020-06-12T07:05:44.730917Z"
    }
   },
   "outputs": [],
   "source": [
    "driver.close()"
   ]
  }
 ],
 "metadata": {
  "hide_input": false,
  "kernelspec": {
   "display_name": "Python 3",
   "language": "python",
   "name": "python3"
  },
  "language_info": {
   "codemirror_mode": {
    "name": "ipython",
    "version": 3
   },
   "file_extension": ".py",
   "mimetype": "text/x-python",
   "name": "python",
   "nbconvert_exporter": "python",
   "pygments_lexer": "ipython3",
   "version": "3.7.6"
  },
  "toc": {
   "base_numbering": 1,
   "nav_menu": {},
   "number_sections": true,
   "sideBar": true,
   "skip_h1_title": false,
   "title_cell": "Table of Contents",
   "title_sidebar": "Contents",
   "toc_cell": false,
   "toc_position": {},
   "toc_section_display": true,
   "toc_window_display": false
  },
  "varInspector": {
   "cols": {
    "lenName": 16,
    "lenType": 16,
    "lenVar": 40
   },
   "kernels_config": {
    "python": {
     "delete_cmd_postfix": "",
     "delete_cmd_prefix": "del ",
     "library": "var_list.py",
     "varRefreshCmd": "print(var_dic_list())"
    },
    "r": {
     "delete_cmd_postfix": ") ",
     "delete_cmd_prefix": "rm(",
     "library": "var_list.r",
     "varRefreshCmd": "cat(var_dic_list()) "
    }
   },
   "types_to_exclude": [
    "module",
    "function",
    "builtin_function_or_method",
    "instance",
    "_Feature"
   ],
   "window_display": false
  }
 },
 "nbformat": 4,
 "nbformat_minor": 4
}
