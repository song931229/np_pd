{
 "cells": [
  {
   "cell_type": "code",
   "execution_count": 1,
   "metadata": {
    "ExecuteTime": {
     "end_time": "2020-06-12T02:13:53.070547Z",
     "start_time": "2020-06-12T02:13:52.903538Z"
    }
   },
   "outputs": [],
   "source": [
    "import requests"
   ]
  },
  {
   "cell_type": "code",
   "execution_count": 2,
   "metadata": {
    "ExecuteTime": {
     "end_time": "2020-06-12T02:14:00.723985Z",
     "start_time": "2020-06-12T02:14:00.721985Z"
    }
   },
   "outputs": [],
   "source": [
    "from bs4 import BeautifulSoup"
   ]
  },
  {
   "cell_type": "code",
   "execution_count": 3,
   "metadata": {
    "ExecuteTime": {
     "end_time": "2020-06-12T02:14:12.467657Z",
     "start_time": "2020-06-12T02:14:12.465656Z"
    }
   },
   "outputs": [],
   "source": [
    "url='https://news.naver.com/'"
   ]
  },
  {
   "cell_type": "code",
   "execution_count": 4,
   "metadata": {
    "ExecuteTime": {
     "end_time": "2020-06-12T02:14:20.489115Z",
     "start_time": "2020-06-12T02:14:20.425112Z"
    }
   },
   "outputs": [],
   "source": [
    "resp=requests.get(url)"
   ]
  },
  {
   "cell_type": "code",
   "execution_count": 5,
   "metadata": {
    "ExecuteTime": {
     "end_time": "2020-06-12T02:14:31.389739Z",
     "start_time": "2020-06-12T02:14:31.329735Z"
    }
   },
   "outputs": [],
   "source": [
    "soup=BeautifulSoup(resp.text,'html.parser')"
   ]
  },
  {
   "cell_type": "code",
   "execution_count": 7,
   "metadata": {
    "ExecuteTime": {
     "end_time": "2020-06-12T02:15:50.618831Z",
     "start_time": "2020-06-12T02:15:50.608830Z"
    }
   },
   "outputs": [],
   "source": [
    "targets=soup.find_all('div',class_=\"hdline_article_tit\")                      "
   ]
  },
  {
   "cell_type": "code",
   "execution_count": 9,
   "metadata": {
    "ExecuteTime": {
     "end_time": "2020-06-12T02:16:07.596802Z",
     "start_time": "2020-06-12T02:16:07.592802Z"
    }
   },
   "outputs": [
    {
     "name": "stdout",
     "output_type": "stream",
     "text": [
      "\"이유도 모른채 맞았어요\"…묻지마 공격하는 그들, 왜?\n",
      "이재용 '긴박했던 일주일'...결국 재판까진 사법리스크 '살얼음판'\n",
      "북한 \"트럼프에 치적선전 보따리 안줘…힘 키울 것\"\n",
      "윤석열 \"한명숙 전담팀 꾸려라\"…檢 위증 종용 의혹 파헤친다\n",
      "주호영 \"민주당 상임위 강행? 우린 짓밟히는 수 밖에\"\n"
     ]
    }
   ],
   "source": [
    "for tg in targets:\n",
    "    print(tg.get_text().strip())"
   ]
  },
  {
   "cell_type": "code",
   "execution_count": 18,
   "metadata": {
    "ExecuteTime": {
     "end_time": "2020-06-12T02:19:26.183651Z",
     "start_time": "2020-06-12T02:19:26.168650Z"
    }
   },
   "outputs": [],
   "source": [
    "targets2=soup.select('div > div > div > ul > li > div.hdline_article_tit > a')      "
   ]
  },
  {
   "cell_type": "code",
   "execution_count": 19,
   "metadata": {
    "ExecuteTime": {
     "end_time": "2020-06-12T02:19:26.411664Z",
     "start_time": "2020-06-12T02:19:26.407664Z"
    }
   },
   "outputs": [
    {
     "data": {
      "text/plain": [
       "[<a class=\"lnk_hdline_article nclicks('mai.text1', '88000127_000000000000000009911383', 'airsGParam', '0', 'news_qm_v2.0', 'gUyvpuArl0yCLOnz')\" href=\"/main/read.nhn?mode=LSD&amp;mid=shm&amp;sid1=102&amp;oid=003&amp;aid=0009911383\">\n",
       "                                         \"이유도 모른채 맞았어요\"…묻지마 공격하는 그들, 왜?\n",
       "                                     </a>,\n",
       " <a class=\"lnk_hdline_article nclicks('mai.text1', '88000127_000000000000000009911663', 'airsGParam', '0', 'news_qm_v2.0', 'gUyvpuArl0yCLOnz')\" href=\"/main/read.nhn?mode=LSD&amp;mid=shm&amp;sid1=101&amp;oid=003&amp;aid=0009911663\">\n",
       "                                         이재용 '긴박했던 일주일'...결국 재판까진 사법리스크 '살얼음판'\n",
       "                                     </a>,\n",
       " <a class=\"lnk_hdline_article nclicks('mai.text1', '08138262_000000000000000000432929', 'airsGParam', '0', 'news_qm_v2.0', 'gUyvpuArl0yCLOnz')\" href=\"/main/read.nhn?mode=LSD&amp;mid=shm&amp;sid1=100&amp;oid=422&amp;aid=0000432929\">\n",
       "                                         북한 \"트럼프에 치적선전 보따리 안줘…힘 키울 것\"\n",
       "                                     </a>,\n",
       " <a class=\"lnk_hdline_article nclicks('mai.text1', '880000F2_000000000000000003008592', 'airsGParam', '0', 'news_qm_v2.0', 'gUyvpuArl0yCLOnz')\" href=\"/main/read.nhn?mode=LSD&amp;mid=shm&amp;sid1=102&amp;oid=025&amp;aid=0003008592\">\n",
       "                                         윤석열 \"한명숙 전담팀 꾸려라\"…檢 위증 종용 의혹 파헤친다\n",
       "                                     </a>,\n",
       " <a class=\"lnk_hdline_article nclicks('mai.text1', '88000107_000000000000000004359110', 'airsGParam', '0', 'news_qm_v2.0', 'gUyvpuArl0yCLOnz')\" href=\"/main/read.nhn?mode=LSD&amp;mid=shm&amp;sid1=100&amp;oid=015&amp;aid=0004359110\">\n",
       "                                         주호영 \"민주당 상임위 강행? 우린 짓밟히는 수 밖에\"\n",
       "                                     </a>]"
      ]
     },
     "execution_count": 19,
     "metadata": {},
     "output_type": "execute_result"
    }
   ],
   "source": [
    "targets2"
   ]
  },
  {
   "cell_type": "code",
   "execution_count": 20,
   "metadata": {
    "ExecuteTime": {
     "end_time": "2020-06-12T02:19:28.601790Z",
     "start_time": "2020-06-12T02:19:28.598789Z"
    }
   },
   "outputs": [
    {
     "name": "stdout",
     "output_type": "stream",
     "text": [
      "\"이유도 모른채 맞았어요\"…묻지마 공격하는 그들, 왜?\n",
      "이재용 '긴박했던 일주일'...결국 재판까진 사법리스크 '살얼음판'\n",
      "북한 \"트럼프에 치적선전 보따리 안줘…힘 키울 것\"\n",
      "윤석열 \"한명숙 전담팀 꾸려라\"…檢 위증 종용 의혹 파헤친다\n",
      "주호영 \"민주당 상임위 강행? 우린 짓밟히는 수 밖에\"\n"
     ]
    }
   ],
   "source": [
    "for tg2 in targets2:\n",
    "    print(tg2.get_text().strip())"
   ]
  },
  {
   "cell_type": "code",
   "execution_count": null,
   "metadata": {},
   "outputs": [],
   "source": []
  }
 ],
 "metadata": {
  "hide_input": false,
  "kernelspec": {
   "display_name": "Python 3",
   "language": "python",
   "name": "python3"
  },
  "language_info": {
   "codemirror_mode": {
    "name": "ipython",
    "version": 3
   },
   "file_extension": ".py",
   "mimetype": "text/x-python",
   "name": "python",
   "nbconvert_exporter": "python",
   "pygments_lexer": "ipython3",
   "version": "3.7.6"
  },
  "toc": {
   "base_numbering": 1,
   "nav_menu": {},
   "number_sections": true,
   "sideBar": true,
   "skip_h1_title": false,
   "title_cell": "Table of Contents",
   "title_sidebar": "Contents",
   "toc_cell": false,
   "toc_position": {},
   "toc_section_display": true,
   "toc_window_display": false
  },
  "varInspector": {
   "cols": {
    "lenName": 16,
    "lenType": 16,
    "lenVar": 40
   },
   "kernels_config": {
    "python": {
     "delete_cmd_postfix": "",
     "delete_cmd_prefix": "del ",
     "library": "var_list.py",
     "varRefreshCmd": "print(var_dic_list())"
    },
    "r": {
     "delete_cmd_postfix": ") ",
     "delete_cmd_prefix": "rm(",
     "library": "var_list.r",
     "varRefreshCmd": "cat(var_dic_list()) "
    }
   },
   "types_to_exclude": [
    "module",
    "function",
    "builtin_function_or_method",
    "instance",
    "_Feature"
   ],
   "window_display": false
  }
 },
 "nbformat": 4,
 "nbformat_minor": 4
}
