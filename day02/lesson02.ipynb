{
 "cells": [
  {
   "cell_type": "markdown",
   "metadata": {},
   "source": [
    "# Series\n",
    "## 인덱싱"
   ]
  },
  {
   "cell_type": "code",
   "execution_count": 1,
   "metadata": {
    "ExecuteTime": {
     "end_time": "2020-05-27T01:44:23.563716Z",
     "start_time": "2020-05-27T01:44:23.181906Z"
    }
   },
   "outputs": [
    {
     "name": "stdout",
     "output_type": "stream",
     "text": [
      "100    1\n",
      "200    2\n",
      "300    3\n",
      "dtype: int64\n"
     ]
    }
   ],
   "source": [
    "import pandas as pd\n",
    "import numpy as np\n",
    "s1= pd.Series([1,2,3],[100,200,300])\n",
    "print(s1)"
   ]
  },
  {
   "cell_type": "code",
   "execution_count": 2,
   "metadata": {
    "ExecuteTime": {
     "end_time": "2020-05-27T01:44:23.579317Z",
     "start_time": "2020-05-27T01:44:23.563716Z"
    }
   },
   "outputs": [
    {
     "name": "stdout",
     "output_type": "stream",
     "text": [
      "a    1\n",
      "b    2\n",
      "c    3\n",
      "dtype: int64\n"
     ]
    }
   ],
   "source": [
    "s2= pd.Series([1,2,3],['a','b','c'])\n",
    "print(s2)"
   ]
  },
  {
   "cell_type": "markdown",
   "metadata": {},
   "source": [
    "------\n",
    "## 데이터 타입 정하기"
   ]
  },
  {
   "cell_type": "code",
   "execution_count": 3,
   "metadata": {
    "ExecuteTime": {
     "end_time": "2020-05-27T01:44:23.585317Z",
     "start_time": "2020-05-27T01:44:23.581317Z"
    }
   },
   "outputs": [
    {
     "name": "stdout",
     "output_type": "stream",
     "text": [
      "100    0\n",
      "101    1\n",
      "102    2\n",
      "103    3\n",
      "104    4\n",
      "dtype: int16\n"
     ]
    }
   ],
   "source": [
    "s3 = pd.Series(np.arange(5),np.arange(100,105), dtype=np.int16)\n",
    "print(s3)"
   ]
  },
  {
   "cell_type": "markdown",
   "metadata": {},
   "source": [
    "-----------\n",
    "## Series활용\n",
    "### 인덱스와 값확인하기"
   ]
  },
  {
   "cell_type": "code",
   "execution_count": 4,
   "metadata": {
    "ExecuteTime": {
     "end_time": "2020-05-27T01:44:23.593317Z",
     "start_time": "2020-05-27T01:44:23.586317Z"
    }
   },
   "outputs": [
    {
     "name": "stdout",
     "output_type": "stream",
     "text": [
      "0    1\n",
      "1    2\n",
      "2    3\n",
      "dtype: int64\n"
     ]
    }
   ],
   "source": [
    "s1= pd.Series([1,2,3])\n",
    "print(s1)"
   ]
  },
  {
   "cell_type": "code",
   "execution_count": 5,
   "metadata": {
    "ExecuteTime": {
     "end_time": "2020-05-27T01:44:23.600318Z",
     "start_time": "2020-05-27T01:44:23.594317Z"
    }
   },
   "outputs": [
    {
     "name": "stdout",
     "output_type": "stream",
     "text": [
      "RangeIndex(start=0, stop=3, step=1)\n",
      "[1 2 3]\n"
     ]
    }
   ],
   "source": [
    "print(s1.index)\n",
    "print(s1.values)"
   ]
  },
  {
   "cell_type": "code",
   "execution_count": 6,
   "metadata": {
    "ExecuteTime": {
     "end_time": "2020-05-27T01:44:23.607318Z",
     "start_time": "2020-05-27T01:44:23.601318Z"
    },
    "scrolled": true
   },
   "outputs": [
    {
     "name": "stdout",
     "output_type": "stream",
     "text": [
      "100    0\n",
      "101    1\n",
      "102    2\n",
      "103    3\n",
      "104    4\n",
      "dtype: int16\n"
     ]
    }
   ],
   "source": [
    "s3 = pd.Series(np.arange(5),np.arange(100,105), dtype=np.int16)\n",
    "print(s3)"
   ]
  },
  {
   "cell_type": "code",
   "execution_count": 7,
   "metadata": {
    "ExecuteTime": {
     "end_time": "2020-05-27T01:44:23.615319Z",
     "start_time": "2020-05-27T01:44:23.610318Z"
    }
   },
   "outputs": [
    {
     "name": "stdout",
     "output_type": "stream",
     "text": [
      "Int64Index([100, 101, 102, 103, 104], dtype='int64')\n",
      "[0 1 2 3 4]\n"
     ]
    }
   ],
   "source": [
    "print(s3.index)\n",
    "print(s3.values)"
   ]
  },
  {
   "cell_type": "markdown",
   "metadata": {},
   "source": [
    "### 값의 조회, 삽입 및 수정"
   ]
  },
  {
   "cell_type": "code",
   "execution_count": 8,
   "metadata": {
    "ExecuteTime": {
     "end_time": "2020-05-27T01:44:23.621319Z",
     "start_time": "2020-05-27T01:44:23.616319Z"
    }
   },
   "outputs": [
    {
     "name": "stdout",
     "output_type": "stream",
     "text": [
      "a= 3\n"
     ]
    }
   ],
   "source": [
    "a=s3[103]#조회\n",
    "print('a=',a)"
   ]
  },
  {
   "cell_type": "code",
   "execution_count": 9,
   "metadata": {
    "ExecuteTime": {
     "end_time": "2020-05-27T01:44:23.629319Z",
     "start_time": "2020-05-27T01:44:23.623319Z"
    }
   },
   "outputs": [
    {
     "name": "stdout",
     "output_type": "stream",
     "text": [
      "100    100\n",
      "101      1\n",
      "102      2\n",
      "103      3\n",
      "104      4\n",
      "dtype: int16\n"
     ]
    }
   ],
   "source": [
    "s3[100]=100 #수정\n",
    "print(s3)"
   ]
  },
  {
   "cell_type": "code",
   "execution_count": 10,
   "metadata": {
    "ExecuteTime": {
     "end_time": "2020-05-27T01:44:23.637320Z",
     "start_time": "2020-05-27T01:44:23.630319Z"
    }
   },
   "outputs": [
    {
     "name": "stdout",
     "output_type": "stream",
     "text": [
      "100    100\n",
      "101      1\n",
      "102      2\n",
      "103      3\n",
      "104      4\n",
      "105    105\n",
      "dtype: int64\n"
     ]
    }
   ],
   "source": [
    "s3[105]=105 #추가\n",
    "print(s3)"
   ]
  },
  {
   "cell_type": "code",
   "execution_count": 11,
   "metadata": {
    "ExecuteTime": {
     "end_time": "2020-05-27T01:44:23.645320Z",
     "start_time": "2020-05-27T01:44:23.638320Z"
    }
   },
   "outputs": [
    {
     "name": "stdout",
     "output_type": "stream",
     "text": [
      "100    0\n",
      "101    1\n",
      "102    2\n",
      "103    3\n",
      "104    4\n",
      "105    5\n",
      "dtype: int32\n"
     ]
    }
   ],
   "source": [
    "s4=pd.Series(np.arange(6),s3.index)\n",
    "print(s4)"
   ]
  },
  {
   "cell_type": "code",
   "execution_count": 12,
   "metadata": {
    "ExecuteTime": {
     "end_time": "2020-05-27T01:44:23.653321Z",
     "start_time": "2020-05-27T01:44:23.646320Z"
    },
    "scrolled": true
   },
   "outputs": [
    {
     "name": "stdout",
     "output_type": "stream",
     "text": [
      "103    3\n",
      "104    4\n",
      "105    5\n",
      "dtype: int32\n"
     ]
    }
   ],
   "source": [
    "print(s4[[103,104,105]])"
   ]
  },
  {
   "cell_type": "markdown",
   "metadata": {},
   "source": [
    "### 다양한 조회함수"
   ]
  },
  {
   "cell_type": "code",
   "execution_count": 13,
   "metadata": {
    "ExecuteTime": {
     "end_time": "2020-05-27T01:44:23.661321Z",
     "start_time": "2020-05-27T01:44:23.654321Z"
    }
   },
   "outputs": [
    {
     "name": "stdout",
     "output_type": "stream",
     "text": [
      "0     1.0\n",
      "1     1.0\n",
      "2     2.0\n",
      "3     1.0\n",
      "4     2.0\n",
      "5     2.0\n",
      "6     2.0\n",
      "7     1.0\n",
      "8     1.0\n",
      "9     3.0\n",
      "10    3.0\n",
      "11    4.0\n",
      "12    5.0\n",
      "13    5.0\n",
      "14    7.0\n",
      "15    NaN\n",
      "dtype: float64\n"
     ]
    }
   ],
   "source": [
    "s=pd.Series([1,1,2,1,2,2,2,1,1,3,3,4,5,5,7,np.NaN])\n",
    "print(s)"
   ]
  },
  {
   "cell_type": "markdown",
   "metadata": {},
   "source": [
    "#### 길이"
   ]
  },
  {
   "cell_type": "code",
   "execution_count": 14,
   "metadata": {
    "ExecuteTime": {
     "end_time": "2020-05-27T01:44:23.668322Z",
     "start_time": "2020-05-27T01:44:23.662321Z"
    }
   },
   "outputs": [
    {
     "name": "stdout",
     "output_type": "stream",
     "text": [
      "16\n"
     ]
    }
   ],
   "source": [
    "print(len(s))"
   ]
  },
  {
   "cell_type": "code",
   "execution_count": 15,
   "metadata": {
    "ExecuteTime": {
     "end_time": "2020-05-27T01:44:23.674322Z",
     "start_time": "2020-05-27T01:44:23.669322Z"
    }
   },
   "outputs": [
    {
     "name": "stdout",
     "output_type": "stream",
     "text": [
      "size= 16\n"
     ]
    }
   ],
   "source": [
    "print(\"size=\",s.size)"
   ]
  },
  {
   "cell_type": "markdown",
   "metadata": {},
   "source": [
    "#### 모양"
   ]
  },
  {
   "cell_type": "code",
   "execution_count": 16,
   "metadata": {
    "ExecuteTime": {
     "end_time": "2020-05-27T01:44:23.681322Z",
     "start_time": "2020-05-27T01:44:23.675322Z"
    }
   },
   "outputs": [
    {
     "name": "stdout",
     "output_type": "stream",
     "text": [
      "shape = (16,)\n"
     ]
    }
   ],
   "source": [
    "print('shape =', s.shape)"
   ]
  },
  {
   "cell_type": "markdown",
   "metadata": {},
   "source": [
    "#### 유니크"
   ]
  },
  {
   "cell_type": "code",
   "execution_count": 17,
   "metadata": {
    "ExecuteTime": {
     "end_time": "2020-05-27T01:44:23.689323Z",
     "start_time": "2020-05-27T01:44:23.682322Z"
    }
   },
   "outputs": [
    {
     "name": "stdout",
     "output_type": "stream",
     "text": [
      "upnique [ 1.  2.  3.  4.  5.  7. nan]\n"
     ]
    }
   ],
   "source": [
    "print('upnique', s.unique())"
   ]
  },
  {
   "cell_type": "markdown",
   "metadata": {},
   "source": [
    "#### 카운트"
   ]
  },
  {
   "cell_type": "code",
   "execution_count": 18,
   "metadata": {
    "ExecuteTime": {
     "end_time": "2020-05-27T01:44:23.695323Z",
     "start_time": "2020-05-27T01:44:23.690323Z"
    },
    "scrolled": true
   },
   "outputs": [
    {
     "name": "stdout",
     "output_type": "stream",
     "text": [
      "count 15\n"
     ]
    }
   ],
   "source": [
    "print('count', s.count()) #NaN값은 제외한다."
   ]
  },
  {
   "cell_type": "markdown",
   "metadata": {},
   "source": [
    ">NaN값이란?\n",
    "- numpy 에서의 null값"
   ]
  },
  {
   "cell_type": "markdown",
   "metadata": {},
   "source": [
    ">넘파이에서는 NaN값이 포함된경우 계산자체가되질않는다."
   ]
  },
  {
   "cell_type": "code",
   "execution_count": 19,
   "metadata": {
    "ExecuteTime": {
     "end_time": "2020-05-27T01:44:23.703324Z",
     "start_time": "2020-05-27T01:44:23.696323Z"
    }
   },
   "outputs": [
    {
     "name": "stdout",
     "output_type": "stream",
     "text": [
      "nan\n"
     ]
    }
   ],
   "source": [
    "a= np.array([2,2,2,2,np.NaN])\n",
    "print(a.sum())"
   ]
  },
  {
   "cell_type": "code",
   "execution_count": 20,
   "metadata": {
    "ExecuteTime": {
     "end_time": "2020-05-27T01:44:23.710324Z",
     "start_time": "2020-05-27T01:44:23.704324Z"
    },
    "scrolled": true
   },
   "outputs": [
    {
     "name": "stdout",
     "output_type": "stream",
     "text": [
      "nan\n"
     ]
    }
   ],
   "source": [
    "print(a.mean())"
   ]
  },
  {
   "cell_type": "markdown",
   "metadata": {},
   "source": [
    ">하지만 판다스의경우 np.NaN값은 제외하고 계산을 진행해준다."
   ]
  },
  {
   "cell_type": "code",
   "execution_count": 21,
   "metadata": {
    "ExecuteTime": {
     "end_time": "2020-05-27T01:44:23.717324Z",
     "start_time": "2020-05-27T01:44:23.711324Z"
    }
   },
   "outputs": [
    {
     "name": "stdout",
     "output_type": "stream",
     "text": [
      "8.0\n"
     ]
    }
   ],
   "source": [
    "s= pd.Series(a)\n",
    "print(s.sum())"
   ]
  },
  {
   "cell_type": "code",
   "execution_count": 22,
   "metadata": {
    "ExecuteTime": {
     "end_time": "2020-05-27T01:44:23.735325Z",
     "start_time": "2020-05-27T01:44:23.721325Z"
    }
   },
   "outputs": [
    {
     "name": "stdout",
     "output_type": "stream",
     "text": [
      "2.0\n"
     ]
    }
   ],
   "source": [
    "print(s.mean())"
   ]
  },
  {
   "cell_type": "code",
   "execution_count": 24,
   "metadata": {
    "ExecuteTime": {
     "end_time": "2020-05-27T01:45:49.423775Z",
     "start_time": "2020-05-27T01:45:49.408175Z"
    }
   },
   "outputs": [
    {
     "name": "stdout",
     "output_type": "stream",
     "text": [
      "value_counts= 1.0    5\n",
      "2.0    4\n",
      "5.0    2\n",
      "3.0    2\n",
      "7.0    1\n",
      "4.0    1\n",
      "dtype: int64\n"
     ]
    }
   ],
   "source": [
    "s=pd.Series([1,1,2,1,2,2,2,1,1,3,3,4,5,5,7,np.NaN])\n",
    "print('value_counts=',s.value_counts())"
   ]
  },
  {
   "cell_type": "code",
   "execution_count": 25,
   "metadata": {
    "ExecuteTime": {
     "end_time": "2020-05-27T01:46:14.122758Z",
     "start_time": "2020-05-27T01:46:14.107158Z"
    }
   },
   "outputs": [
    {
     "name": "stdout",
     "output_type": "stream",
     "text": [
      "0    1.0\n",
      "1    1.0\n",
      "2    2.0\n",
      "3    1.0\n",
      "4    2.0\n",
      "dtype: float64\n",
      "0     1.0\n",
      "1     1.0\n",
      "2     2.0\n",
      "3     1.0\n",
      "4     2.0\n",
      "5     2.0\n",
      "6     2.0\n",
      "7     1.0\n",
      "8     1.0\n",
      "9     3.0\n",
      "10    3.0\n",
      "11    4.0\n",
      "12    5.0\n",
      "13    5.0\n",
      "14    7.0\n",
      "15    NaN\n",
      "dtype: float64\n"
     ]
    }
   ],
   "source": [
    "print(s.head())#상위 5개만 출력\n",
    "print(s)"
   ]
  },
  {
   "cell_type": "code",
   "execution_count": 28,
   "metadata": {
    "ExecuteTime": {
     "end_time": "2020-05-27T01:47:43.273776Z",
     "start_time": "2020-05-27T01:47:43.258176Z"
    }
   },
   "outputs": [
    {
     "name": "stdout",
     "output_type": "stream",
     "text": [
      "9     3.0\n",
      "10    3.0\n",
      "11    4.0\n",
      "12    5.0\n",
      "13    5.0\n",
      "14    7.0\n",
      "15    NaN\n",
      "dtype: float64\n"
     ]
    }
   ],
   "source": [
    "print(s.tail(7))#하위 n개만 출력 default=5"
   ]
  }
 ],
 "metadata": {
  "hide_input": false,
  "kernelspec": {
   "display_name": "Python 3",
   "language": "python",
   "name": "python3"
  },
  "language_info": {
   "codemirror_mode": {
    "name": "ipython",
    "version": 3
   },
   "file_extension": ".py",
   "mimetype": "text/x-python",
   "name": "python",
   "nbconvert_exporter": "python",
   "pygments_lexer": "ipython3",
   "version": "3.7.6"
  },
  "varInspector": {
   "cols": {
    "lenName": 16,
    "lenType": 16,
    "lenVar": 40
   },
   "kernels_config": {
    "python": {
     "delete_cmd_postfix": "",
     "delete_cmd_prefix": "del ",
     "library": "var_list.py",
     "varRefreshCmd": "print(var_dic_list())"
    },
    "r": {
     "delete_cmd_postfix": ") ",
     "delete_cmd_prefix": "rm(",
     "library": "var_list.r",
     "varRefreshCmd": "cat(var_dic_list()) "
    }
   },
   "types_to_exclude": [
    "module",
    "function",
    "builtin_function_or_method",
    "instance",
    "_Feature"
   ],
   "window_display": false
  }
 },
 "nbformat": 4,
 "nbformat_minor": 4
}
