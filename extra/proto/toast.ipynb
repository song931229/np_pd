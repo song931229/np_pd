{
 "cells": [
  {
   "cell_type": "code",
   "execution_count": 2,
   "metadata": {
    "ExecuteTime": {
     "end_time": "2020-06-10T05:45:09.835283Z",
     "start_time": "2020-06-10T05:45:09.236249Z"
    }
   },
   "outputs": [],
   "source": [
    "import requests\n",
    "from selenium import webdriver\n",
    "from bs4 import BeautifulSoup\n",
    "\n",
    "import time\n",
    "import random\n",
    "\n",
    "import pickle\n",
    "\n",
    "import pandas as pd"
   ]
  },
  {
   "cell_type": "code",
   "execution_count": 3,
   "metadata": {
    "ExecuteTime": {
     "end_time": "2020-06-10T05:45:12.853757Z",
     "start_time": "2020-06-10T05:45:10.299309Z"
    }
   },
   "outputs": [],
   "source": [
    "driver = webdriver.Chrome('C:/Chrome Driver/chromedriver.exe')"
   ]
  },
  {
   "cell_type": "code",
   "execution_count": 4,
   "metadata": {
    "ExecuteTime": {
     "end_time": "2020-06-10T05:45:15.990712Z",
     "start_time": "2020-06-10T05:45:12.898958Z"
    },
    "scrolled": true
   },
   "outputs": [
    {
     "name": "stdout",
     "output_type": "stream",
     "text": [
      "2,304,009\n",
      "598,848\n",
      "553,252\n",
      "277,685\n",
      "71,603\n",
      "64,473\n",
      "217,389\n",
      "52,270\n",
      "48,849\n",
      "3,525,645\n",
      "3,525,645\n",
      "3,574,575\n",
      "896,841\n",
      "896,841\n",
      "910,698\n",
      "2,628,804\n",
      "2,628,804\n",
      "2,663,877\n",
      "12.05\n",
      "11.96\n",
      "11.65\n",
      "9.44\n",
      "8.73\n",
      "8.83\n",
      "8.69\n",
      "8.69\n",
      "8.45\n",
      "6.28\n",
      "6.28\n",
      "6.14\n",
      "34.12\n",
      "34.12\n",
      "34.19\n",
      "3,166\n",
      "770\n",
      "720\n",
      "17.63\n",
      "17.63\n",
      "15.24\n",
      "37,528\n",
      "37,528\n",
      "38,053\n",
      "1.49\n",
      "1.49\n",
      "1.25\n",
      "2.54\n",
      "\n",
      "\n",
      "44.73\n",
      "46.01\n",
      "49.18\n"
     ]
    }
   ],
   "source": [
    "#인덱스 가져오기\n",
    "driver.get('https://navercomp.wisereport.co.kr/v2/company/c1010001.aspx?cmp_cd=005930')\n",
    "time.sleep(1)\n",
    "driver.implicitly_wait(3)\n",
    "a=driver.find_element_by_xpath('/html/body/div/form/div[1]/div/div[2]/div[3]/div/div/div[14]/table[2]/tbody')\n",
    "b=a.find_elements_by_tag_name('tr')\n",
    "for i in [0,1,4,7,8,9,19,20,21,22,23,25,26,27,28,30,31]:\n",
    "    c=b[i].find_elements_by_tag_name('td')\n",
    "    for j in [2,5,6]:\n",
    "        print(c[j].text)"
   ]
  },
  {
   "cell_type": "code",
   "execution_count": 7,
   "metadata": {
    "ExecuteTime": {
     "end_time": "2020-06-10T05:45:48.913437Z",
     "start_time": "2020-06-10T05:45:48.878237Z"
    }
   },
   "outputs": [
    {
     "data": {
      "text/plain": [
       "'588,867'"
      ]
     },
     "execution_count": 7,
     "metadata": {},
     "output_type": "execute_result"
    }
   ],
   "source": [
    "b[1].find_elements_by_tag_name('td')[1].text"
   ]
  },
  {
   "cell_type": "code",
   "execution_count": null,
   "metadata": {},
   "outputs": [],
   "source": []
  }
 ],
 "metadata": {
  "hide_input": false,
  "kernelspec": {
   "display_name": "Python 3",
   "language": "python",
   "name": "python3"
  },
  "language_info": {
   "codemirror_mode": {
    "name": "ipython",
    "version": 3
   },
   "file_extension": ".py",
   "mimetype": "text/x-python",
   "name": "python",
   "nbconvert_exporter": "python",
   "pygments_lexer": "ipython3",
   "version": "3.7.6"
  },
  "toc": {
   "base_numbering": 1,
   "nav_menu": {},
   "number_sections": true,
   "sideBar": true,
   "skip_h1_title": false,
   "title_cell": "Table of Contents",
   "title_sidebar": "Contents",
   "toc_cell": false,
   "toc_position": {},
   "toc_section_display": true,
   "toc_window_display": false
  },
  "varInspector": {
   "cols": {
    "lenName": 16,
    "lenType": 16,
    "lenVar": 40
   },
   "kernels_config": {
    "python": {
     "delete_cmd_postfix": "",
     "delete_cmd_prefix": "del ",
     "library": "var_list.py",
     "varRefreshCmd": "print(var_dic_list())"
    },
    "r": {
     "delete_cmd_postfix": ") ",
     "delete_cmd_prefix": "rm(",
     "library": "var_list.r",
     "varRefreshCmd": "cat(var_dic_list()) "
    }
   },
   "types_to_exclude": [
    "module",
    "function",
    "builtin_function_or_method",
    "instance",
    "_Feature"
   ],
   "window_display": false
  }
 },
 "nbformat": 4,
 "nbformat_minor": 4
}
