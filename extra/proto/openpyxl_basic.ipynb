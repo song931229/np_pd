{
 "cells": [
  {
   "cell_type": "code",
   "execution_count": 1,
   "metadata": {
    "ExecuteTime": {
     "end_time": "2020-06-12T04:30:25.656800Z",
     "start_time": "2020-06-12T04:30:24.721578Z"
    }
   },
   "outputs": [],
   "source": [
    "import openpyxl\n",
    "import random"
   ]
  },
  {
   "cell_type": "code",
   "execution_count": 2,
   "metadata": {
    "ExecuteTime": {
     "end_time": "2020-06-12T04:30:25.662800Z",
     "start_time": "2020-06-12T04:30:25.658800Z"
    }
   },
   "outputs": [],
   "source": [
    "awb=openpyxl.Workbook()"
   ]
  },
  {
   "cell_type": "code",
   "execution_count": 3,
   "metadata": {
    "ExecuteTime": {
     "end_time": "2020-06-12T04:30:25.670800Z",
     "start_time": "2020-06-12T04:30:25.663800Z"
    }
   },
   "outputs": [],
   "source": [
    "aws=awb.worksheets[0]"
   ]
  },
  {
   "cell_type": "code",
   "execution_count": 4,
   "metadata": {
    "ExecuteTime": {
     "end_time": "2020-06-12T04:30:25.683801Z",
     "start_time": "2020-06-12T04:30:25.671801Z"
    }
   },
   "outputs": [
    {
     "data": {
      "text/plain": [
       "'a'"
      ]
     },
     "execution_count": 4,
     "metadata": {},
     "output_type": "execute_result"
    }
   ],
   "source": [
    "chr(97)"
   ]
  },
  {
   "cell_type": "code",
   "execution_count": 5,
   "metadata": {
    "ExecuteTime": {
     "end_time": "2020-06-12T04:30:25.706803Z",
     "start_time": "2020-06-12T04:30:25.684801Z"
    }
   },
   "outputs": [],
   "source": [
    "for i in range(5):\n",
    "    aws.append([chr(i+97)+str(j) for j in range(6+random.randint(1,30))])\n",
    "awb.save('abc2.xlsx')"
   ]
  },
  {
   "cell_type": "code",
   "execution_count": 6,
   "metadata": {
    "ExecuteTime": {
     "end_time": "2020-06-12T04:30:25.723804Z",
     "start_time": "2020-06-12T04:30:25.707803Z"
    }
   },
   "outputs": [],
   "source": [
    "a_wb=openpyxl.load_workbook('abc2.xlsx')"
   ]
  },
  {
   "cell_type": "code",
   "execution_count": 7,
   "metadata": {
    "ExecuteTime": {
     "end_time": "2020-06-12T04:30:25.729804Z",
     "start_time": "2020-06-12T04:30:25.725804Z"
    }
   },
   "outputs": [
    {
     "data": {
      "text/plain": [
       "<openpyxl.workbook.workbook.Workbook at 0x89d8b88>"
      ]
     },
     "execution_count": 7,
     "metadata": {},
     "output_type": "execute_result"
    }
   ],
   "source": [
    "a_wb"
   ]
  },
  {
   "cell_type": "code",
   "execution_count": 8,
   "metadata": {
    "ExecuteTime": {
     "end_time": "2020-06-12T04:30:25.734804Z",
     "start_time": "2020-06-12T04:30:25.731804Z"
    }
   },
   "outputs": [],
   "source": [
    "a_wss=a_wb.worksheets"
   ]
  },
  {
   "cell_type": "code",
   "execution_count": 9,
   "metadata": {
    "ExecuteTime": {
     "end_time": "2020-06-12T04:30:25.741805Z",
     "start_time": "2020-06-12T04:30:25.735804Z"
    }
   },
   "outputs": [],
   "source": [
    "a_ws0=a_wss[0]"
   ]
  },
  {
   "cell_type": "code",
   "execution_count": 10,
   "metadata": {
    "ExecuteTime": {
     "end_time": "2020-06-12T04:30:25.752805Z",
     "start_time": "2020-06-12T04:30:25.742805Z"
    },
    "scrolled": false
   },
   "outputs": [
    {
     "name": "stdout",
     "output_type": "stream",
     "text": [
      "(<Cell 'Sheet'.A1>, <Cell 'Sheet'.B1>, <Cell 'Sheet'.C1>, <Cell 'Sheet'.D1>, <Cell 'Sheet'.E1>, <Cell 'Sheet'.F1>, <Cell 'Sheet'.G1>, <Cell 'Sheet'.H1>, <Cell 'Sheet'.I1>, <Cell 'Sheet'.J1>, <Cell 'Sheet'.K1>, <Cell 'Sheet'.L1>, <Cell 'Sheet'.M1>, <Cell 'Sheet'.N1>, <Cell 'Sheet'.O1>, <Cell 'Sheet'.P1>, <Cell 'Sheet'.Q1>, <Cell 'Sheet'.R1>, <Cell 'Sheet'.S1>, <Cell 'Sheet'.T1>, <Cell 'Sheet'.U1>, <Cell 'Sheet'.V1>, <Cell 'Sheet'.W1>, <Cell 'Sheet'.X1>, <Cell 'Sheet'.Y1>, <Cell 'Sheet'.Z1>, <Cell 'Sheet'.AA1>, <Cell 'Sheet'.AB1>, <Cell 'Sheet'.AC1>, <Cell 'Sheet'.AD1>, <Cell 'Sheet'.AE1>, <Cell 'Sheet'.AF1>, <Cell 'Sheet'.AG1>, <Cell 'Sheet'.AH1>, <Cell 'Sheet'.AI1>, <Cell 'Sheet'.AJ1>)\n",
      "(<Cell 'Sheet'.A2>, <Cell 'Sheet'.B2>, <Cell 'Sheet'.C2>, <Cell 'Sheet'.D2>, <Cell 'Sheet'.E2>, <Cell 'Sheet'.F2>, <Cell 'Sheet'.G2>, <Cell 'Sheet'.H2>, <Cell 'Sheet'.I2>, <Cell 'Sheet'.J2>, <Cell 'Sheet'.K2>, <Cell 'Sheet'.L2>, <Cell 'Sheet'.M2>, <Cell 'Sheet'.N2>, <Cell 'Sheet'.O2>, <Cell 'Sheet'.P2>, <Cell 'Sheet'.Q2>, <Cell 'Sheet'.R2>, <Cell 'Sheet'.S2>, <Cell 'Sheet'.T2>, <Cell 'Sheet'.U2>, <Cell 'Sheet'.V2>, <Cell 'Sheet'.W2>, <Cell 'Sheet'.X2>, <Cell 'Sheet'.Y2>, <Cell 'Sheet'.Z2>, <Cell 'Sheet'.AA2>, <Cell 'Sheet'.AB2>, <Cell 'Sheet'.AC2>, <Cell 'Sheet'.AD2>, <Cell 'Sheet'.AE2>, <Cell 'Sheet'.AF2>, <Cell 'Sheet'.AG2>, <Cell 'Sheet'.AH2>, <Cell 'Sheet'.AI2>, <Cell 'Sheet'.AJ2>)\n",
      "(<Cell 'Sheet'.A3>, <Cell 'Sheet'.B3>, <Cell 'Sheet'.C3>, <Cell 'Sheet'.D3>, <Cell 'Sheet'.E3>, <Cell 'Sheet'.F3>, <Cell 'Sheet'.G3>, <Cell 'Sheet'.H3>, <Cell 'Sheet'.I3>, <Cell 'Sheet'.J3>, <Cell 'Sheet'.K3>, <Cell 'Sheet'.L3>, <Cell 'Sheet'.M3>, <Cell 'Sheet'.N3>, <Cell 'Sheet'.O3>, <Cell 'Sheet'.P3>, <Cell 'Sheet'.Q3>, <Cell 'Sheet'.R3>, <Cell 'Sheet'.S3>, <Cell 'Sheet'.T3>, <Cell 'Sheet'.U3>, <Cell 'Sheet'.V3>, <Cell 'Sheet'.W3>, <Cell 'Sheet'.X3>, <Cell 'Sheet'.Y3>, <Cell 'Sheet'.Z3>, <Cell 'Sheet'.AA3>, <Cell 'Sheet'.AB3>, <Cell 'Sheet'.AC3>, <Cell 'Sheet'.AD3>, <Cell 'Sheet'.AE3>, <Cell 'Sheet'.AF3>, <Cell 'Sheet'.AG3>, <Cell 'Sheet'.AH3>, <Cell 'Sheet'.AI3>, <Cell 'Sheet'.AJ3>)\n",
      "(<Cell 'Sheet'.A4>, <Cell 'Sheet'.B4>, <Cell 'Sheet'.C4>, <Cell 'Sheet'.D4>, <Cell 'Sheet'.E4>, <Cell 'Sheet'.F4>, <Cell 'Sheet'.G4>, <Cell 'Sheet'.H4>, <Cell 'Sheet'.I4>, <Cell 'Sheet'.J4>, <Cell 'Sheet'.K4>, <Cell 'Sheet'.L4>, <Cell 'Sheet'.M4>, <Cell 'Sheet'.N4>, <Cell 'Sheet'.O4>, <Cell 'Sheet'.P4>, <Cell 'Sheet'.Q4>, <Cell 'Sheet'.R4>, <Cell 'Sheet'.S4>, <Cell 'Sheet'.T4>, <Cell 'Sheet'.U4>, <Cell 'Sheet'.V4>, <Cell 'Sheet'.W4>, <Cell 'Sheet'.X4>, <Cell 'Sheet'.Y4>, <Cell 'Sheet'.Z4>, <Cell 'Sheet'.AA4>, <Cell 'Sheet'.AB4>, <Cell 'Sheet'.AC4>, <Cell 'Sheet'.AD4>, <Cell 'Sheet'.AE4>, <Cell 'Sheet'.AF4>, <Cell 'Sheet'.AG4>, <Cell 'Sheet'.AH4>, <Cell 'Sheet'.AI4>, <Cell 'Sheet'.AJ4>)\n",
      "(<Cell 'Sheet'.A5>, <Cell 'Sheet'.B5>, <Cell 'Sheet'.C5>, <Cell 'Sheet'.D5>, <Cell 'Sheet'.E5>, <Cell 'Sheet'.F5>, <Cell 'Sheet'.G5>, <Cell 'Sheet'.H5>, <Cell 'Sheet'.I5>, <Cell 'Sheet'.J5>, <Cell 'Sheet'.K5>, <Cell 'Sheet'.L5>, <Cell 'Sheet'.M5>, <Cell 'Sheet'.N5>, <Cell 'Sheet'.O5>, <Cell 'Sheet'.P5>, <Cell 'Sheet'.Q5>, <Cell 'Sheet'.R5>, <Cell 'Sheet'.S5>, <Cell 'Sheet'.T5>, <Cell 'Sheet'.U5>, <Cell 'Sheet'.V5>, <Cell 'Sheet'.W5>, <Cell 'Sheet'.X5>, <Cell 'Sheet'.Y5>, <Cell 'Sheet'.Z5>, <Cell 'Sheet'.AA5>, <Cell 'Sheet'.AB5>, <Cell 'Sheet'.AC5>, <Cell 'Sheet'.AD5>, <Cell 'Sheet'.AE5>, <Cell 'Sheet'.AF5>, <Cell 'Sheet'.AG5>, <Cell 'Sheet'.AH5>, <Cell 'Sheet'.AI5>, <Cell 'Sheet'.AJ5>)\n"
     ]
    }
   ],
   "source": [
    "for row in a_ws0.rows:\n",
    "    print(row)"
   ]
  },
  {
   "cell_type": "code",
   "execution_count": 11,
   "metadata": {
    "ExecuteTime": {
     "end_time": "2020-06-12T04:30:25.758806Z",
     "start_time": "2020-06-12T04:30:25.753805Z"
    }
   },
   "outputs": [],
   "source": [
    "i=0"
   ]
  },
  {
   "cell_type": "code",
   "execution_count": 12,
   "metadata": {
    "ExecuteTime": {
     "end_time": "2020-06-12T04:30:25.849811Z",
     "start_time": "2020-06-12T04:30:25.760806Z"
    }
   },
   "outputs": [
    {
     "name": "stdout",
     "output_type": "stream",
     "text": [
      "['a0', 'a1', 'a2', 'a3', 'a4', 'a5', 'a6', 'a7', 'a8', 'a9', 'a10', 'a11', 'a12', 'a13', 'a14', 'a15', 'a16', 'a17', 'a18', 'a19', 'a20', 'a21', 'a22', 'a23', 'a24', 'a25', 'a26', 'a27', 'a28', 'a29', 'a30', 'a31', 'a32', 'a33', 'a34', 'a35']\n",
      "['b0', 'b1', 'b2', 'b3', 'b4', 'b5', 'b6', 'b7', 'b8', 'b9', 'b10', 'b11', 'b12', 'b13', 'b14', 'b15', 'b16', 'b17', 'b18', 'b19', 'b20', 'b21', 'b22']\n",
      "['c0', 'c1', 'c2', 'c3', 'c4', 'c5', 'c6', 'c7', 'c8', 'c9', 'c10', 'c11']\n",
      "['d0', 'd1', 'd2', 'd3', 'd4', 'd5', 'd6', 'd7', 'd8', 'd9', 'd10', 'd11', 'd12', 'd13', 'd14', 'd15', 'd16', 'd17', 'd18', 'd19', 'd20', 'd21', 'd22']\n",
      "['e0', 'e1', 'e2', 'e3', 'e4', 'e5', 'e6', 'e7', 'e8', 'e9', 'e10', 'e11', 'e12', 'e13', 'e14', 'e15', 'e16', 'e17', 'e18', 'e19', 'e20', 'e21']\n"
     ]
    }
   ],
   "source": [
    "i=0\n",
    "for row in a_ws0.rows:\n",
    "    openpyxl.Workbook().save('cba{}.xlsx'.format(i))\n",
    "    b_wb=openpyxl.load_workbook('cba{}.xlsx'.format(i))\n",
    "    b_wss=b_wb.worksheets\n",
    "    b_ws0=b_wss[0]\n",
    "    row_value=[]\n",
    "    for x in row:\n",
    "        if x.value!=None:\n",
    "            row_value.append(x.value)\n",
    "    print(row_value)\n",
    "    b_ws0.append(row_value)\n",
    "    b_wb.save('C:/Users/i7B/toast/cba{}.xlsx'.format(i))\n",
    "    i+=1"
   ]
  },
  {
   "cell_type": "code",
   "execution_count": 13,
   "metadata": {
    "ExecuteTime": {
     "end_time": "2020-06-12T04:30:25.901814Z",
     "start_time": "2020-06-12T04:30:25.850811Z"
    }
   },
   "outputs": [],
   "source": [
    "openpyxl.load_workbook?"
   ]
  },
  {
   "cell_type": "code",
   "execution_count": 15,
   "metadata": {
    "ExecuteTime": {
     "end_time": "2020-06-12T04:31:09.829942Z",
     "start_time": "2020-06-12T04:31:09.814342Z"
    }
   },
   "outputs": [
    {
     "name": "stdout",
     "output_type": "stream",
     "text": [
      "(<Cell 'Sheet'.A1>, <Cell 'Sheet'.A2>, <Cell 'Sheet'.A3>, <Cell 'Sheet'.A4>, <Cell 'Sheet'.A5>)\n",
      "(<Cell 'Sheet'.B1>, <Cell 'Sheet'.B2>, <Cell 'Sheet'.B3>, <Cell 'Sheet'.B4>, <Cell 'Sheet'.B5>)\n",
      "(<Cell 'Sheet'.C1>, <Cell 'Sheet'.C2>, <Cell 'Sheet'.C3>, <Cell 'Sheet'.C4>, <Cell 'Sheet'.C5>)\n",
      "(<Cell 'Sheet'.D1>, <Cell 'Sheet'.D2>, <Cell 'Sheet'.D3>, <Cell 'Sheet'.D4>, <Cell 'Sheet'.D5>)\n",
      "(<Cell 'Sheet'.E1>, <Cell 'Sheet'.E2>, <Cell 'Sheet'.E3>, <Cell 'Sheet'.E4>, <Cell 'Sheet'.E5>)\n",
      "(<Cell 'Sheet'.F1>, <Cell 'Sheet'.F2>, <Cell 'Sheet'.F3>, <Cell 'Sheet'.F4>, <Cell 'Sheet'.F5>)\n",
      "(<Cell 'Sheet'.G1>, <Cell 'Sheet'.G2>, <Cell 'Sheet'.G3>, <Cell 'Sheet'.G4>, <Cell 'Sheet'.G5>)\n",
      "(<Cell 'Sheet'.H1>, <Cell 'Sheet'.H2>, <Cell 'Sheet'.H3>, <Cell 'Sheet'.H4>, <Cell 'Sheet'.H5>)\n",
      "(<Cell 'Sheet'.I1>, <Cell 'Sheet'.I2>, <Cell 'Sheet'.I3>, <Cell 'Sheet'.I4>, <Cell 'Sheet'.I5>)\n",
      "(<Cell 'Sheet'.J1>, <Cell 'Sheet'.J2>, <Cell 'Sheet'.J3>, <Cell 'Sheet'.J4>, <Cell 'Sheet'.J5>)\n",
      "(<Cell 'Sheet'.K1>, <Cell 'Sheet'.K2>, <Cell 'Sheet'.K3>, <Cell 'Sheet'.K4>, <Cell 'Sheet'.K5>)\n",
      "(<Cell 'Sheet'.L1>, <Cell 'Sheet'.L2>, <Cell 'Sheet'.L3>, <Cell 'Sheet'.L4>, <Cell 'Sheet'.L5>)\n",
      "(<Cell 'Sheet'.M1>, <Cell 'Sheet'.M2>, <Cell 'Sheet'.M3>, <Cell 'Sheet'.M4>, <Cell 'Sheet'.M5>)\n",
      "(<Cell 'Sheet'.N1>, <Cell 'Sheet'.N2>, <Cell 'Sheet'.N3>, <Cell 'Sheet'.N4>, <Cell 'Sheet'.N5>)\n",
      "(<Cell 'Sheet'.O1>, <Cell 'Sheet'.O2>, <Cell 'Sheet'.O3>, <Cell 'Sheet'.O4>, <Cell 'Sheet'.O5>)\n",
      "(<Cell 'Sheet'.P1>, <Cell 'Sheet'.P2>, <Cell 'Sheet'.P3>, <Cell 'Sheet'.P4>, <Cell 'Sheet'.P5>)\n",
      "(<Cell 'Sheet'.Q1>, <Cell 'Sheet'.Q2>, <Cell 'Sheet'.Q3>, <Cell 'Sheet'.Q4>, <Cell 'Sheet'.Q5>)\n",
      "(<Cell 'Sheet'.R1>, <Cell 'Sheet'.R2>, <Cell 'Sheet'.R3>, <Cell 'Sheet'.R4>, <Cell 'Sheet'.R5>)\n",
      "(<Cell 'Sheet'.S1>, <Cell 'Sheet'.S2>, <Cell 'Sheet'.S3>, <Cell 'Sheet'.S4>, <Cell 'Sheet'.S5>)\n",
      "(<Cell 'Sheet'.T1>, <Cell 'Sheet'.T2>, <Cell 'Sheet'.T3>, <Cell 'Sheet'.T4>, <Cell 'Sheet'.T5>)\n",
      "(<Cell 'Sheet'.U1>, <Cell 'Sheet'.U2>, <Cell 'Sheet'.U3>, <Cell 'Sheet'.U4>, <Cell 'Sheet'.U5>)\n",
      "(<Cell 'Sheet'.V1>, <Cell 'Sheet'.V2>, <Cell 'Sheet'.V3>, <Cell 'Sheet'.V4>, <Cell 'Sheet'.V5>)\n",
      "(<Cell 'Sheet'.W1>, <Cell 'Sheet'.W2>, <Cell 'Sheet'.W3>, <Cell 'Sheet'.W4>, <Cell 'Sheet'.W5>)\n",
      "(<Cell 'Sheet'.X1>, <Cell 'Sheet'.X2>, <Cell 'Sheet'.X3>, <Cell 'Sheet'.X4>, <Cell 'Sheet'.X5>)\n",
      "(<Cell 'Sheet'.Y1>, <Cell 'Sheet'.Y2>, <Cell 'Sheet'.Y3>, <Cell 'Sheet'.Y4>, <Cell 'Sheet'.Y5>)\n",
      "(<Cell 'Sheet'.Z1>, <Cell 'Sheet'.Z2>, <Cell 'Sheet'.Z3>, <Cell 'Sheet'.Z4>, <Cell 'Sheet'.Z5>)\n",
      "(<Cell 'Sheet'.AA1>, <Cell 'Sheet'.AA2>, <Cell 'Sheet'.AA3>, <Cell 'Sheet'.AA4>, <Cell 'Sheet'.AA5>)\n",
      "(<Cell 'Sheet'.AB1>, <Cell 'Sheet'.AB2>, <Cell 'Sheet'.AB3>, <Cell 'Sheet'.AB4>, <Cell 'Sheet'.AB5>)\n",
      "(<Cell 'Sheet'.AC1>, <Cell 'Sheet'.AC2>, <Cell 'Sheet'.AC3>, <Cell 'Sheet'.AC4>, <Cell 'Sheet'.AC5>)\n",
      "(<Cell 'Sheet'.AD1>, <Cell 'Sheet'.AD2>, <Cell 'Sheet'.AD3>, <Cell 'Sheet'.AD4>, <Cell 'Sheet'.AD5>)\n",
      "(<Cell 'Sheet'.AE1>, <Cell 'Sheet'.AE2>, <Cell 'Sheet'.AE3>, <Cell 'Sheet'.AE4>, <Cell 'Sheet'.AE5>)\n",
      "(<Cell 'Sheet'.AF1>, <Cell 'Sheet'.AF2>, <Cell 'Sheet'.AF3>, <Cell 'Sheet'.AF4>, <Cell 'Sheet'.AF5>)\n",
      "(<Cell 'Sheet'.AG1>, <Cell 'Sheet'.AG2>, <Cell 'Sheet'.AG3>, <Cell 'Sheet'.AG4>, <Cell 'Sheet'.AG5>)\n",
      "(<Cell 'Sheet'.AH1>, <Cell 'Sheet'.AH2>, <Cell 'Sheet'.AH3>, <Cell 'Sheet'.AH4>, <Cell 'Sheet'.AH5>)\n",
      "(<Cell 'Sheet'.AI1>, <Cell 'Sheet'.AI2>, <Cell 'Sheet'.AI3>, <Cell 'Sheet'.AI4>, <Cell 'Sheet'.AI5>)\n",
      "(<Cell 'Sheet'.AJ1>, <Cell 'Sheet'.AJ2>, <Cell 'Sheet'.AJ3>, <Cell 'Sheet'.AJ4>, <Cell 'Sheet'.AJ5>)\n"
     ]
    }
   ],
   "source": [
    "for x in a_wss[0].columns:\n",
    "    print(x)"
   ]
  },
  {
   "cell_type": "code",
   "execution_count": null,
   "metadata": {},
   "outputs": [],
   "source": []
  }
 ],
 "metadata": {
  "hide_input": false,
  "kernelspec": {
   "display_name": "Python 3",
   "language": "python",
   "name": "python3"
  },
  "language_info": {
   "codemirror_mode": {
    "name": "ipython",
    "version": 3
   },
   "file_extension": ".py",
   "mimetype": "text/x-python",
   "name": "python",
   "nbconvert_exporter": "python",
   "pygments_lexer": "ipython3",
   "version": "3.7.6"
  },
  "toc": {
   "base_numbering": 1,
   "nav_menu": {},
   "number_sections": true,
   "sideBar": true,
   "skip_h1_title": false,
   "title_cell": "Table of Contents",
   "title_sidebar": "Contents",
   "toc_cell": false,
   "toc_position": {},
   "toc_section_display": true,
   "toc_window_display": false
  },
  "varInspector": {
   "cols": {
    "lenName": 16,
    "lenType": 16,
    "lenVar": 40
   },
   "kernels_config": {
    "python": {
     "delete_cmd_postfix": "",
     "delete_cmd_prefix": "del ",
     "library": "var_list.py",
     "varRefreshCmd": "print(var_dic_list())"
    },
    "r": {
     "delete_cmd_postfix": ") ",
     "delete_cmd_prefix": "rm(",
     "library": "var_list.r",
     "varRefreshCmd": "cat(var_dic_list()) "
    }
   },
   "types_to_exclude": [
    "module",
    "function",
    "builtin_function_or_method",
    "instance",
    "_Feature"
   ],
   "window_display": false
  }
 },
 "nbformat": 4,
 "nbformat_minor": 4
}
