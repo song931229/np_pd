{
 "cells": [
  {
   "cell_type": "code",
   "execution_count": 1,
   "metadata": {
    "ExecuteTime": {
     "end_time": "2020-06-10T05:19:24.669028Z",
     "start_time": "2020-06-10T05:19:23.938400Z"
    }
   },
   "outputs": [],
   "source": [
    "import requests\n",
    "from selenium import webdriver\n",
    "from bs4 import BeautifulSoup\n",
    "\n",
    "import time\n",
    "import random\n",
    "\n",
    "import pickle\n",
    "\n",
    "import pandas as pd"
   ]
  },
  {
   "cell_type": "code",
   "execution_count": 2,
   "metadata": {
    "ExecuteTime": {
     "end_time": "2020-06-10T05:19:30.248321Z",
     "start_time": "2020-06-10T05:19:24.670028Z"
    }
   },
   "outputs": [],
   "source": [
    "driver = webdriver.Chrome('C:/Chrome Driver/chromedriver.exe')"
   ]
  },
  {
   "cell_type": "code",
   "execution_count": null,
   "metadata": {},
   "outputs": [],
   "source": [
    "#인덱스 가져오기\n",
    "driver.get('https://navercomp.wisereport.co.kr/v2/company/c1010001.aspx?cmp_cd=005930')\n",
    "time.sleep(1)\n",
    "driver.implicitly_wait(3)\n",
    "a=driver.find_element_by_xpath('/html/body/div/form/div[1]/div/div[2]/div[3]/div/div/div[14]/table[2]/tbody')\n",
    "b=a.find_elements_by_tag_name('tr')\n",
    "for i in [0,1,4,7,8,9,19,20,21,22,23,25,26,27,28,30,31]:\n",
    "    c=b[i].find_elements_by.tag_name('td')\n",
    "    for j in [2,5,6]:\n",
    "        print(c[j].text)"
   ]
  },
  {
   "cell_type": "code",
   "execution_count": 4,
   "metadata": {
    "ExecuteTime": {
     "end_time": "2020-06-10T05:20:01.361959Z",
     "start_time": "2020-06-10T05:20:01.327759Z"
    }
   },
   "outputs": [],
   "source": [
    "driver.get('https://navercomp.wisereport.co.kr/v2/company/c1010001.aspx?cmp_cd=024110')\n",
    "time.sleep(1)\n",
    "driver.implicitly_wait(3)\n",
    "#xpath로 가져올 데이터(테이블) 특정.\n",
    "for i in [1,2,5,8,9,10,20,21,22,23,24,26,27,28,29,31,32]:\n",
    "    for j in [3,6,7]:\n",
    "        a=driver.find_element_by_xpath('/html/body/div/form/div[1]/div/div[2]/div[3]/div/div/div[14]/table[2]/tbody/tr[{}]/td[{}]'.format(i,j))"
   ]
  },
  {
   "cell_type": "code",
   "execution_count": 9,
   "metadata": {
    "ExecuteTime": {
     "end_time": "2020-06-10T05:21:44.683361Z",
     "start_time": "2020-06-10T05:21:44.562958Z"
    }
   },
   "outputs": [
    {
     "name": "stdout",
     "output_type": "stream",
     "text": [
      "2,395,754\n",
      "2,437,714\n",
      "2,304,009\n",
      "2,312,966\n",
      "620,035\n",
      "598,848\n",
      "553,252\n",
      "511,352\n"
     ]
    }
   ],
   "source": [
    "for x in b[0].find_elements_by_tag_name('td'):"
   ]
  },
  {
   "cell_type": "code",
   "execution_count": null,
   "metadata": {},
   "outputs": [],
   "source": []
  }
 ],
 "metadata": {
  "hide_input": false,
  "kernelspec": {
   "display_name": "Python 3",
   "language": "python",
   "name": "python3"
  },
  "language_info": {
   "codemirror_mode": {
    "name": "ipython",
    "version": 3
   },
   "file_extension": ".py",
   "mimetype": "text/x-python",
   "name": "python",
   "nbconvert_exporter": "python",
   "pygments_lexer": "ipython3",
   "version": "3.7.6"
  },
  "toc": {
   "base_numbering": 1,
   "nav_menu": {},
   "number_sections": true,
   "sideBar": true,
   "skip_h1_title": false,
   "title_cell": "Table of Contents",
   "title_sidebar": "Contents",
   "toc_cell": false,
   "toc_position": {},
   "toc_section_display": true,
   "toc_window_display": false
  },
  "varInspector": {
   "cols": {
    "lenName": 16,
    "lenType": 16,
    "lenVar": 40
   },
   "kernels_config": {
    "python": {
     "delete_cmd_postfix": "",
     "delete_cmd_prefix": "del ",
     "library": "var_list.py",
     "varRefreshCmd": "print(var_dic_list())"
    },
    "r": {
     "delete_cmd_postfix": ") ",
     "delete_cmd_prefix": "rm(",
     "library": "var_list.r",
     "varRefreshCmd": "cat(var_dic_list()) "
    }
   },
   "types_to_exclude": [
    "module",
    "function",
    "builtin_function_or_method",
    "instance",
    "_Feature"
   ],
   "window_display": false
  }
 },
 "nbformat": 4,
 "nbformat_minor": 4
}
