{
 "cells": [
  {
   "cell_type": "code",
   "execution_count": 39,
   "metadata": {
    "ExecuteTime": {
     "end_time": "2020-06-04T08:52:45.372223Z",
     "start_time": "2020-06-04T08:52:45.369223Z"
    }
   },
   "outputs": [],
   "source": [
    "import pandas as pd"
   ]
  },
  {
   "cell_type": "code",
   "execution_count": 40,
   "metadata": {
    "ExecuteTime": {
     "end_time": "2020-06-04T08:52:45.941256Z",
     "start_time": "2020-06-04T08:52:45.592236Z"
    }
   },
   "outputs": [],
   "source": [
    "df=pd.read_excel('naver_stock.xlsx',index_col=0)"
   ]
  },
  {
   "cell_type": "code",
   "execution_count": 41,
   "metadata": {
    "ExecuteTime": {
     "end_time": "2020-06-04T08:52:46.061263Z",
     "start_time": "2020-06-04T08:52:46.024261Z"
    },
    "scrolled": true
   },
   "outputs": [
    {
     "data": {
      "text/html": [
       "<div>\n",
       "<style scoped>\n",
       "    .dataframe tbody tr th:only-of-type {\n",
       "        vertical-align: middle;\n",
       "    }\n",
       "\n",
       "    .dataframe tbody tr th {\n",
       "        vertical-align: top;\n",
       "    }\n",
       "\n",
       "    .dataframe thead th {\n",
       "        text-align: right;\n",
       "    }\n",
       "</style>\n",
       "<table border=\"1\" class=\"dataframe\">\n",
       "  <thead>\n",
       "    <tr style=\"text-align: right;\">\n",
       "      <th></th>\n",
       "      <th>n번</th>\n",
       "      <th>href</th>\n",
       "      <th>시가총액(억)</th>\n",
       "      <th>시총순위</th>\n",
       "      <th>상장주식수</th>\n",
       "      <th>액면가(원)</th>\n",
       "      <th>매매단위(주)</th>\n",
       "      <th>외국인한도주식수{A}</th>\n",
       "      <th>외국인보유주식수{B}</th>\n",
       "      <th>외국인소진율(%){B/A}</th>\n",
       "      <th>...</th>\n",
       "      <th>52주최저(원)</th>\n",
       "      <th>PER(배)</th>\n",
       "      <th>EPS(원)[2020.03]</th>\n",
       "      <th>추정PER(배)</th>\n",
       "      <th>추정ESP(원)</th>\n",
       "      <th>PBR(배)</th>\n",
       "      <th>BPS(원)[2020.03]</th>\n",
       "      <th>배당수익률(%)[2019.12]</th>\n",
       "      <th>동일업종PER(배)</th>\n",
       "      <th>동일업종등락률(%)</th>\n",
       "    </tr>\n",
       "  </thead>\n",
       "  <tbody>\n",
       "    <tr>\n",
       "      <th>삼성전자</th>\n",
       "      <td>1</td>\n",
       "      <td>https://finance.naver.com/item/main.nhn?code=0...</td>\n",
       "      <td>327조7411억원</td>\n",
       "      <td>코스피1위</td>\n",
       "      <td>5969782550</td>\n",
       "      <td>100원</td>\n",
       "      <td>1주</td>\n",
       "      <td>5969782550</td>\n",
       "      <td>3290978887</td>\n",
       "      <td>55.13%</td>\n",
       "      <td>...</td>\n",
       "      <td>42300</td>\n",
       "      <td>17.52배</td>\n",
       "      <td>3134원</td>\n",
       "      <td>15.00배</td>\n",
       "      <td>3674원</td>\n",
       "      <td>1.44배</td>\n",
       "      <td>38053원</td>\n",
       "      <td>2.58%</td>\n",
       "      <td>17.53배</td>\n",
       "      <td>+0.58%</td>\n",
       "    </tr>\n",
       "    <tr>\n",
       "      <th>SK하이닉스</th>\n",
       "      <td>2</td>\n",
       "      <td>https://finance.naver.com/item/main.nhn?code=0...</td>\n",
       "      <td>64조642억원</td>\n",
       "      <td>코스피2위</td>\n",
       "      <td>728002365</td>\n",
       "      <td>5000원</td>\n",
       "      <td>1주</td>\n",
       "      <td>728002365</td>\n",
       "      <td>350146250</td>\n",
       "      <td>48.10%</td>\n",
       "      <td>...</td>\n",
       "      <td>62400</td>\n",
       "      <td>41.10배</td>\n",
       "      <td>2141원</td>\n",
       "      <td>13.00배</td>\n",
       "      <td>6536원</td>\n",
       "      <td>1.25배</td>\n",
       "      <td>70513원</td>\n",
       "      <td>1.14%</td>\n",
       "      <td>17.53배</td>\n",
       "      <td>+0.58%</td>\n",
       "    </tr>\n",
       "    <tr>\n",
       "      <th>삼성바이오로직스</th>\n",
       "      <td>3</td>\n",
       "      <td>https://finance.naver.com/item/main.nhn?code=2...</td>\n",
       "      <td>42조809억원</td>\n",
       "      <td>코스피3위</td>\n",
       "      <td>66165000</td>\n",
       "      <td>2500원</td>\n",
       "      <td>1주</td>\n",
       "      <td>66165000</td>\n",
       "      <td>7169068</td>\n",
       "      <td>10.84%</td>\n",
       "      <td>...</td>\n",
       "      <td>241500</td>\n",
       "      <td>151.36배</td>\n",
       "      <td>4202원</td>\n",
       "      <td>NaN</td>\n",
       "      <td>NaN</td>\n",
       "      <td>9.58배</td>\n",
       "      <td>66373원</td>\n",
       "      <td>NaN</td>\n",
       "      <td>107.95배</td>\n",
       "      <td>+1.77%</td>\n",
       "    </tr>\n",
       "    <tr>\n",
       "      <th>삼성전자우</th>\n",
       "      <td>4</td>\n",
       "      <td>https://finance.naver.com/item/main.nhn?code=0...</td>\n",
       "      <td>38조5522억원</td>\n",
       "      <td>코스피4위</td>\n",
       "      <td>822886700</td>\n",
       "      <td>100원</td>\n",
       "      <td>1주</td>\n",
       "      <td>822886700</td>\n",
       "      <td>727139545</td>\n",
       "      <td>88.36%</td>\n",
       "      <td>...</td>\n",
       "      <td>34500</td>\n",
       "      <td>14.95배</td>\n",
       "      <td>3134원</td>\n",
       "      <td>13.00배</td>\n",
       "      <td>3674원</td>\n",
       "      <td>1.23배</td>\n",
       "      <td>38053원</td>\n",
       "      <td>3.03%</td>\n",
       "      <td>17.53배</td>\n",
       "      <td>+0.43%</td>\n",
       "    </tr>\n",
       "    <tr>\n",
       "      <th>NAVER</th>\n",
       "      <td>5</td>\n",
       "      <td>https://finance.naver.com/item/main.nhn?code=0...</td>\n",
       "      <td>37조6984억원</td>\n",
       "      <td>코스피5위</td>\n",
       "      <td>164263395</td>\n",
       "      <td>100원</td>\n",
       "      <td>1주</td>\n",
       "      <td>164263395</td>\n",
       "      <td>92985272</td>\n",
       "      <td>56.61%</td>\n",
       "      <td>...</td>\n",
       "      <td>106500</td>\n",
       "      <td>59.26배</td>\n",
       "      <td>3873원</td>\n",
       "      <td>36.00배</td>\n",
       "      <td>6310원</td>\n",
       "      <td>5.02배</td>\n",
       "      <td>45682원</td>\n",
       "      <td>0.16%</td>\n",
       "      <td>144.27배</td>\n",
       "      <td>+1.36%</td>\n",
       "    </tr>\n",
       "    <tr>\n",
       "      <th>...</th>\n",
       "      <td>...</td>\n",
       "      <td>...</td>\n",
       "      <td>...</td>\n",
       "      <td>...</td>\n",
       "      <td>...</td>\n",
       "      <td>...</td>\n",
       "      <td>...</td>\n",
       "      <td>...</td>\n",
       "      <td>...</td>\n",
       "      <td>...</td>\n",
       "      <td>...</td>\n",
       "      <td>...</td>\n",
       "      <td>...</td>\n",
       "      <td>...</td>\n",
       "      <td>...</td>\n",
       "      <td>...</td>\n",
       "      <td>...</td>\n",
       "      <td>...</td>\n",
       "      <td>...</td>\n",
       "      <td>...</td>\n",
       "      <td>...</td>\n",
       "    </tr>\n",
       "    <tr>\n",
       "      <th>무학</th>\n",
       "      <td>46</td>\n",
       "      <td>https://finance.naver.com/item/main.nhn?code=0...</td>\n",
       "      <td>1773억원</td>\n",
       "      <td>코스피496위</td>\n",
       "      <td>28500000</td>\n",
       "      <td>200원</td>\n",
       "      <td>1주</td>\n",
       "      <td>28500000</td>\n",
       "      <td>4826530</td>\n",
       "      <td>16.94%</td>\n",
       "      <td>...</td>\n",
       "      <td>3515</td>\n",
       "      <td>NaN</td>\n",
       "      <td>-1843원</td>\n",
       "      <td>NaN</td>\n",
       "      <td>NaN</td>\n",
       "      <td>0.37배</td>\n",
       "      <td>16706원</td>\n",
       "      <td>NaN</td>\n",
       "      <td>-33.17배</td>\n",
       "      <td>+0.24%</td>\n",
       "    </tr>\n",
       "    <tr>\n",
       "      <th>아세아</th>\n",
       "      <td>47</td>\n",
       "      <td>https://finance.naver.com/item/main.nhn?code=0...</td>\n",
       "      <td>1757억원</td>\n",
       "      <td>코스피499위</td>\n",
       "      <td>2191024</td>\n",
       "      <td>5000원</td>\n",
       "      <td>1주</td>\n",
       "      <td>2191024</td>\n",
       "      <td>112479</td>\n",
       "      <td>5.13%</td>\n",
       "      <td>...</td>\n",
       "      <td>66200</td>\n",
       "      <td>3.65배</td>\n",
       "      <td>21952원</td>\n",
       "      <td>NaN</td>\n",
       "      <td>NaN</td>\n",
       "      <td>0.20배</td>\n",
       "      <td>407624원</td>\n",
       "      <td>2.18%</td>\n",
       "      <td>10.18배</td>\n",
       "      <td>+0.23%</td>\n",
       "    </tr>\n",
       "    <tr>\n",
       "      <th>명문제약</th>\n",
       "      <td>48</td>\n",
       "      <td>https://finance.naver.com/item/main.nhn?code=0...</td>\n",
       "      <td>1755억원</td>\n",
       "      <td>코스피498위</td>\n",
       "      <td>25921079</td>\n",
       "      <td>500원</td>\n",
       "      <td>1주</td>\n",
       "      <td>25921079</td>\n",
       "      <td>485928</td>\n",
       "      <td>1.87%</td>\n",
       "      <td>...</td>\n",
       "      <td>2941</td>\n",
       "      <td>NaN</td>\n",
       "      <td>-925원</td>\n",
       "      <td>NaN</td>\n",
       "      <td>NaN</td>\n",
       "      <td>2.48배</td>\n",
       "      <td>2727원</td>\n",
       "      <td>NaN</td>\n",
       "      <td>107.95배</td>\n",
       "      <td>+3.47%</td>\n",
       "    </tr>\n",
       "    <tr>\n",
       "      <th>세진중공업</th>\n",
       "      <td>49</td>\n",
       "      <td>https://finance.naver.com/item/main.nhn?code=0...</td>\n",
       "      <td>1757억원</td>\n",
       "      <td>코스피497위</td>\n",
       "      <td>38372720</td>\n",
       "      <td>500원</td>\n",
       "      <td>1주</td>\n",
       "      <td>38372720</td>\n",
       "      <td>182323</td>\n",
       "      <td>0.48%</td>\n",
       "      <td>...</td>\n",
       "      <td>1590</td>\n",
       "      <td>NaN</td>\n",
       "      <td>-19원</td>\n",
       "      <td>NaN</td>\n",
       "      <td>NaN</td>\n",
       "      <td>1.12배</td>\n",
       "      <td>4096원</td>\n",
       "      <td>0.44%</td>\n",
       "      <td>-22.29배</td>\n",
       "      <td>-1.56%</td>\n",
       "    </tr>\n",
       "    <tr>\n",
       "      <th>종근당바이오</th>\n",
       "      <td>50</td>\n",
       "      <td>https://finance.naver.com/item/main.nhn?code=0...</td>\n",
       "      <td>1720억원</td>\n",
       "      <td>코스피500위</td>\n",
       "      <td>5485962</td>\n",
       "      <td>2500원</td>\n",
       "      <td>1주</td>\n",
       "      <td>5485962</td>\n",
       "      <td>432549</td>\n",
       "      <td>7.88%</td>\n",
       "      <td>...</td>\n",
       "      <td>20800</td>\n",
       "      <td>13.82배</td>\n",
       "      <td>2269원</td>\n",
       "      <td>NaN</td>\n",
       "      <td>NaN</td>\n",
       "      <td>1.06배</td>\n",
       "      <td>29671원</td>\n",
       "      <td>0.61%</td>\n",
       "      <td>107.95배</td>\n",
       "      <td>+3.35%</td>\n",
       "    </tr>\n",
       "  </tbody>\n",
       "</table>\n",
       "<p>443 rows × 23 columns</p>\n",
       "</div>"
      ],
      "text/plain": [
       "          n번                                               href     시가총액(억)  \\\n",
       "삼성전자       1  https://finance.naver.com/item/main.nhn?code=0...  327조7411억원   \n",
       "SK하이닉스     2  https://finance.naver.com/item/main.nhn?code=0...    64조642억원   \n",
       "삼성바이오로직스   3  https://finance.naver.com/item/main.nhn?code=2...    42조809억원   \n",
       "삼성전자우      4  https://finance.naver.com/item/main.nhn?code=0...   38조5522억원   \n",
       "NAVER      5  https://finance.naver.com/item/main.nhn?code=0...   37조6984억원   \n",
       "...       ..                                                ...         ...   \n",
       "무학        46  https://finance.naver.com/item/main.nhn?code=0...      1773억원   \n",
       "아세아       47  https://finance.naver.com/item/main.nhn?code=0...      1757억원   \n",
       "명문제약      48  https://finance.naver.com/item/main.nhn?code=0...      1755억원   \n",
       "세진중공업     49  https://finance.naver.com/item/main.nhn?code=0...      1757억원   \n",
       "종근당바이오    50  https://finance.naver.com/item/main.nhn?code=0...      1720억원   \n",
       "\n",
       "             시총순위       상장주식수 액면가(원) 매매단위(주)  외국인한도주식수{A}  외국인보유주식수{B}  \\\n",
       "삼성전자        코스피1위  5969782550   100원      1주   5969782550   3290978887   \n",
       "SK하이닉스      코스피2위   728002365  5000원      1주    728002365    350146250   \n",
       "삼성바이오로직스    코스피3위    66165000  2500원      1주     66165000      7169068   \n",
       "삼성전자우       코스피4위   822886700   100원      1주    822886700    727139545   \n",
       "NAVER       코스피5위   164263395   100원      1주    164263395     92985272   \n",
       "...           ...         ...    ...     ...          ...          ...   \n",
       "무학        코스피496위    28500000   200원      1주     28500000      4826530   \n",
       "아세아       코스피499위     2191024  5000원      1주      2191024       112479   \n",
       "명문제약      코스피498위    25921079   500원      1주     25921079       485928   \n",
       "세진중공업     코스피497위    38372720   500원      1주     38372720       182323   \n",
       "종근당바이오    코스피500위     5485962  2500원      1주      5485962       432549   \n",
       "\n",
       "         외국인소진율(%){B/A}  ... 52주최저(원)   PER(배)  EPS(원)[2020.03]  추정PER(배)  \\\n",
       "삼성전자             55.13%  ...    42300   17.52배            3134원    15.00배   \n",
       "SK하이닉스           48.10%  ...    62400   41.10배            2141원    13.00배   \n",
       "삼성바이오로직스         10.84%  ...   241500  151.36배            4202원       NaN   \n",
       "삼성전자우            88.36%  ...    34500   14.95배            3134원    13.00배   \n",
       "NAVER            56.61%  ...   106500   59.26배            3873원    36.00배   \n",
       "...                 ...  ...      ...      ...              ...       ...   \n",
       "무학               16.94%  ...     3515      NaN           -1843원       NaN   \n",
       "아세아               5.13%  ...    66200    3.65배           21952원       NaN   \n",
       "명문제약              1.87%  ...     2941      NaN            -925원       NaN   \n",
       "세진중공업             0.48%  ...     1590      NaN             -19원       NaN   \n",
       "종근당바이오            7.88%  ...    20800   13.82배            2269원       NaN   \n",
       "\n",
       "         추정ESP(원) PBR(배) BPS(원)[2020.03] 배당수익률(%)[2019.12] 동일업종PER(배)  \\\n",
       "삼성전자        3674원  1.44배          38053원             2.58%     17.53배   \n",
       "SK하이닉스      6536원  1.25배          70513원             1.14%     17.53배   \n",
       "삼성바이오로직스      NaN  9.58배          66373원               NaN    107.95배   \n",
       "삼성전자우       3674원  1.23배          38053원             3.03%     17.53배   \n",
       "NAVER       6310원  5.02배          45682원             0.16%    144.27배   \n",
       "...           ...    ...             ...               ...        ...   \n",
       "무학            NaN  0.37배          16706원               NaN    -33.17배   \n",
       "아세아           NaN  0.20배         407624원             2.18%     10.18배   \n",
       "명문제약          NaN  2.48배           2727원               NaN    107.95배   \n",
       "세진중공업         NaN  1.12배           4096원             0.44%    -22.29배   \n",
       "종근당바이오        NaN  1.06배          29671원             0.61%    107.95배   \n",
       "\n",
       "         동일업종등락률(%)  \n",
       "삼성전자         +0.58%  \n",
       "SK하이닉스       +0.58%  \n",
       "삼성바이오로직스     +1.77%  \n",
       "삼성전자우        +0.43%  \n",
       "NAVER        +1.36%  \n",
       "...             ...  \n",
       "무학           +0.24%  \n",
       "아세아          +0.23%  \n",
       "명문제약         +3.47%  \n",
       "세진중공업        -1.56%  \n",
       "종근당바이오       +3.35%  \n",
       "\n",
       "[443 rows x 23 columns]"
      ]
     },
     "execution_count": 41,
     "metadata": {},
     "output_type": "execute_result"
    }
   ],
   "source": [
    "df"
   ]
  },
  {
   "cell_type": "code",
   "execution_count": 42,
   "metadata": {
    "ExecuteTime": {
     "end_time": "2020-06-04T08:52:46.882310Z",
     "start_time": "2020-06-04T08:52:46.865309Z"
    }
   },
   "outputs": [],
   "source": [
    "\n",
    "for si in  df.iloc[:,2:10]:\n",
    "    try:\n",
    "        df[si]=df[si].str.replace('[^0-9.]','')\n",
    "    except:\n",
    "        pass\n",
    "for si in  df.iloc[:,11:]:\n",
    "    try:\n",
    "        df[si]=df[si].str.replace('[^0-9.]','')\n",
    "    except:\n",
    "        pass"
   ]
  },
  {
   "cell_type": "code",
   "execution_count": 43,
   "metadata": {
    "ExecuteTime": {
     "end_time": "2020-06-04T08:52:47.568349Z",
     "start_time": "2020-06-04T08:52:47.553348Z"
    }
   },
   "outputs": [],
   "source": [
    "for si in  df.iloc[:,2:]:\n",
    "    try:\n",
    "        df[si]=df[si].astype('float')\n",
    "    except:\n",
    "        pass"
   ]
  },
  {
   "cell_type": "code",
   "execution_count": 44,
   "metadata": {
    "ExecuteTime": {
     "end_time": "2020-06-04T08:52:48.037376Z",
     "start_time": "2020-06-04T08:52:48.025375Z"
    }
   },
   "outputs": [
    {
     "name": "stdout",
     "output_type": "stream",
     "text": [
      "<class 'pandas.core.frame.DataFrame'>\n",
      "Index: 443 entries, 삼성전자 to 종근당바이오\n",
      "Data columns (total 23 columns):\n",
      " #   Column             Non-Null Count  Dtype  \n",
      "---  ------             --------------  -----  \n",
      " 0   n번                 443 non-null    int64  \n",
      " 1   href               443 non-null    object \n",
      " 2   시가총액(억)            443 non-null    float64\n",
      " 3   시총순위               443 non-null    float64\n",
      " 4   상장주식수              443 non-null    float64\n",
      " 5   액면가(원)             443 non-null    float64\n",
      " 6   매매단위(주)            443 non-null    float64\n",
      " 7   외국인한도주식수{A}        443 non-null    float64\n",
      " 8   외국인보유주식수{B}        443 non-null    float64\n",
      " 9   외국인소진율(%){B/A}     443 non-null    float64\n",
      " 10  투자의견               292 non-null    object \n",
      " 11  목표주가(원)            289 non-null    float64\n",
      " 12  52주최고(원)           443 non-null    float64\n",
      " 13  52주최저(원)           443 non-null    float64\n",
      " 14  PER(배)             354 non-null    float64\n",
      " 15  EPS(원)[2020.03]    441 non-null    float64\n",
      " 16  추정PER(배)           225 non-null    float64\n",
      " 17  추정ESP(원)           225 non-null    float64\n",
      " 18  PBR(배)             442 non-null    float64\n",
      " 19  BPS(원)[2020.03]    442 non-null    float64\n",
      " 20  배당수익률(%)[2019.12]  355 non-null    float64\n",
      " 21  동일업종PER(배)         443 non-null    float64\n",
      " 22  동일업종등락률(%)         443 non-null    float64\n",
      "dtypes: float64(20), int64(1), object(2)\n",
      "memory usage: 83.1+ KB\n"
     ]
    }
   ],
   "source": [
    "df.info()"
   ]
  },
  {
   "cell_type": "code",
   "execution_count": 45,
   "metadata": {
    "ExecuteTime": {
     "end_time": "2020-06-04T08:52:48.612409Z",
     "start_time": "2020-06-04T08:52:48.608409Z"
    }
   },
   "outputs": [],
   "source": [
    "df.fillna(value=0,inplace=True)"
   ]
  },
  {
   "cell_type": "code",
   "execution_count": 46,
   "metadata": {
    "ExecuteTime": {
     "end_time": "2020-06-04T08:52:52.286619Z",
     "start_time": "2020-06-04T08:52:52.280619Z"
    }
   },
   "outputs": [
    {
     "data": {
      "text/plain": [
       "삼성전자        3.96매수\n",
       "SK하이닉스      4.00매수\n",
       "삼성바이오로직스    4.00매수\n",
       "삼성전자우       3.96매수\n",
       "NAVER       4.05매수\n",
       "             ...  \n",
       "무학               0\n",
       "아세아              0\n",
       "명문제약             0\n",
       "세진중공업       4.00매수\n",
       "종근당바이오      4.00매수\n",
       "Name: 투자의견, Length: 443, dtype: object"
      ]
     },
     "execution_count": 46,
     "metadata": {},
     "output_type": "execute_result"
    }
   ],
   "source": [
    "df['투자의견']"
   ]
  },
  {
   "cell_type": "code",
   "execution_count": 47,
   "metadata": {
    "ExecuteTime": {
     "end_time": "2020-06-04T08:52:59.773047Z",
     "start_time": "2020-06-04T08:52:59.769047Z"
    }
   },
   "outputs": [],
   "source": [
    "df['투자의견']=df['투자의견'].str.replace('매수','/매수',regex=False)\n",
    "df['투자의견']=df['투자의견'].str.replace('매도','/매도',regex=False)"
   ]
  },
  {
   "cell_type": "code",
   "execution_count": 51,
   "metadata": {
    "ExecuteTime": {
     "end_time": "2020-06-04T08:53:25.830538Z",
     "start_time": "2020-06-04T08:53:25.824537Z"
    }
   },
   "outputs": [
    {
     "data": {
      "text/plain": [
       "삼성전자        3.96/매수\n",
       "SK하이닉스      4.00/매수\n",
       "삼성바이오로직스    4.00/매수\n",
       "삼성전자우       3.96/매수\n",
       "NAVER       4.05/매수\n",
       "             ...   \n",
       "무학              NaN\n",
       "아세아             NaN\n",
       "명문제약            NaN\n",
       "세진중공업       4.00/매수\n",
       "종근당바이오      4.00/매수\n",
       "Name: 투자의견, Length: 443, dtype: object"
      ]
     },
     "execution_count": 51,
     "metadata": {},
     "output_type": "execute_result"
    }
   ],
   "source": [
    "df['투자의견'].str.replace('NaN','/매수',regex=False)"
   ]
  },
  {
   "cell_type": "code",
   "execution_count": 32,
   "metadata": {
    "ExecuteTime": {
     "end_time": "2020-06-04T08:51:07.587631Z",
     "start_time": "2020-06-04T08:51:07.582630Z"
    }
   },
   "outputs": [
    {
     "data": {
      "text/plain": [
       "삼성전자        3.96/매수\n",
       "SK하이닉스      4.00/매수\n",
       "삼성바이오로직스    4.00/매수\n",
       "삼성전자우       3.96/매수\n",
       "NAVER       4.05/매수\n",
       "             ...   \n",
       "무학              NaN\n",
       "아세아             NaN\n",
       "명문제약            NaN\n",
       "세진중공업       4.00/매수\n",
       "종근당바이오      4.00/매수\n",
       "Name: 투자의견, Length: 443, dtype: object"
      ]
     },
     "execution_count": 32,
     "metadata": {},
     "output_type": "execute_result"
    }
   ],
   "source": [
    "df['투자의견']"
   ]
  },
  {
   "cell_type": "code",
   "execution_count": null,
   "metadata": {},
   "outputs": [],
   "source": []
  }
 ],
 "metadata": {
  "hide_input": false,
  "kernelspec": {
   "display_name": "Python 3",
   "language": "python",
   "name": "python3"
  },
  "language_info": {
   "codemirror_mode": {
    "name": "ipython",
    "version": 3
   },
   "file_extension": ".py",
   "mimetype": "text/x-python",
   "name": "python",
   "nbconvert_exporter": "python",
   "pygments_lexer": "ipython3",
   "version": "3.7.6"
  },
  "toc": {
   "base_numbering": 1,
   "nav_menu": {},
   "number_sections": true,
   "sideBar": true,
   "skip_h1_title": false,
   "title_cell": "Table of Contents",
   "title_sidebar": "Contents",
   "toc_cell": false,
   "toc_position": {},
   "toc_section_display": true,
   "toc_window_display": false
  },
  "varInspector": {
   "cols": {
    "lenName": 16,
    "lenType": 16,
    "lenVar": 40
   },
   "kernels_config": {
    "python": {
     "delete_cmd_postfix": "",
     "delete_cmd_prefix": "del ",
     "library": "var_list.py",
     "varRefreshCmd": "print(var_dic_list())"
    },
    "r": {
     "delete_cmd_postfix": ") ",
     "delete_cmd_prefix": "rm(",
     "library": "var_list.r",
     "varRefreshCmd": "cat(var_dic_list()) "
    }
   },
   "types_to_exclude": [
    "module",
    "function",
    "builtin_function_or_method",
    "instance",
    "_Feature"
   ],
   "window_display": false
  }
 },
 "nbformat": 4,
 "nbformat_minor": 4
}
