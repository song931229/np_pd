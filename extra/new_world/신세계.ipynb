{
 "cells": [
  {
   "cell_type": "code",
   "execution_count": 1,
   "metadata": {},
   "outputs": [],
   "source": [
    "from selenium import webdriver\n",
    "from bs4 import BeautifulSoup\n",
    "import string\n",
    "\n",
    "driver=webdriver.Chrome('C:/Chrome Driver/chromedriver')"
   ]
  },
  {
   "cell_type": "code",
   "execution_count": 21,
   "metadata": {},
   "outputs": [],
   "source": [
    "driver.implicitly_wait(3)\n",
    "driver.get('https://finance.yahoo.com/quote/005930.KS/cash-flow?p=005930.KS')"
   ]
  },
  {
   "cell_type": "code",
   "execution_count": 26,
   "metadata": {},
   "outputs": [
    {
     "name": "stdout",
     "output_type": "stream",
     "text": [
      "14\n"
     ]
    }
   ],
   "source": [
    "driver.implicitly_wait(3)\n",
    "# quarterly 클릭\n",
    "qt_btn = driver.find_element_by_css_selector('#Col1-1-Financials-Proxy > section > div.Mt\\(18px\\).Mb\\(15px\\) > div.Fl\\(end\\).smartphone_Fl\\(n\\).IbBox.smartphone_My\\(10px\\).smartphone_D\\(b\\) > button > div > span')\n",
    "qt_btn.click()\n",
    "\n",
    "driver.implicitly_wait(3)\n",
    "# expand all 클릭\n",
    "exp_btn = driver.find_element_by_css_selector('#Col1-1-Financials-Proxy > section > div.Mb\\(10px\\) > button > div > span')\n",
    "exp_btn.click()\n",
    "\n",
    "driver.implicitly_wait(3)\n",
    "chart=driver.find_element_by_xpath('/html/body/div[1]/div/div/div[1]/div/div[3]/div[1]/div/div[2]/div/div/section/div[4]/div[1]') \n",
    "chart_data = chart.text\n",
    "\n",
    "\n",
    "gets={}\n",
    "\n",
    "chart_splt = chart_data.split('\\n')\n",
    "print(len(chart_splt))\n",
    "\n",
    "for x in range(0,len(chart_splt),2):\n",
    "    gets[chart_splt[x]]=chart_splt[x+1]\n",
    "\n",
    "html=driver.page_source\n",
    "\n",
    "a=BeautifulSoup(html,'html.parser')\n"
   ]
  },
  {
   "cell_type": "code",
   "execution_count": 25,
   "metadata": {},
   "outputs": [
    {
     "data": {
      "text/plain": [
       "'Breakdown\\nTTM\\nOperating Cash Flow\\nInvesting Cash Flow\\nFinancing Cash Flow\\nEnd Cash Position\\nCapital Expenditure\\nRepayment of Debt\\nFree Cash Flow\\nPremium access required.\\nLearn more'"
      ]
     },
     "execution_count": 25,
     "metadata": {},
     "output_type": "execute_result"
    }
   ],
   "source": [
    "chart_data"
   ]
  },
  {
   "cell_type": "code",
   "execution_count": null,
   "metadata": {},
   "outputs": [],
   "source": [
    "gets"
   ]
  },
  {
   "cell_type": "code",
   "execution_count": 19,
   "metadata": {},
   "outputs": [],
   "source": [
    "b=a.find_all(\"div\", class_=\"D(tbr)\")"
   ]
  },
  {
   "cell_type": "code",
   "execution_count": 5,
   "metadata": {},
   "outputs": [],
   "source": [
    "for x in gets:\n",
    "    gets[x]=gets[x].split(' ')"
   ]
  },
  {
   "cell_type": "code",
   "execution_count": 6,
   "metadata": {
    "scrolled": false
   },
   "outputs": [
    {
     "data": {
      "text/plain": [
       "{'Breakdown': ['TTM12/30/201912/30/201812/30/201712/30/2016'],\n",
       " 'Operating Cash Flow': ['45,382,915,000',\n",
       "  '45,382,915,000',\n",
       "  '67,031,863,000',\n",
       "  '62,162,041,000',\n",
       "  '47,385,644,000'],\n",
       " 'Investing Cash Flow': ['-39,948,171,000',\n",
       "  '-39,948,171,000',\n",
       "  '-52,240,453,000',\n",
       "  '-49,385,216,000',\n",
       "  '-29,658,675,000'],\n",
       " 'Financing Cash Flow': ['-9,484,510,000',\n",
       "  '-9,484,510,000',\n",
       "  '-15,090,222,000',\n",
       "  '-12,560,867,000',\n",
       "  '-8,669,514,000'],\n",
       " 'End Cash Position': ['26,885,999,000',\n",
       "  '26,885,999,000',\n",
       "  '30,340,505,000',\n",
       "  '30,545,130,000',\n",
       "  '32,111,442,000'],\n",
       " 'Changes in Cash': ['-4,049,766,000',\n",
       "  '-4,049,766,000',\n",
       "  '-298,812,000',\n",
       "  '215,958,000',\n",
       "  '9,057,455,000'],\n",
       " 'Effect of Exchange Rate Changes': ['595,260,000',\n",
       "  '595,260,000',\n",
       "  '94,187,000',\n",
       "  '-1,782,270,000',\n",
       "  '417,243,000'],\n",
       " 'Beginning Cash Position': ['30,340,505,000',\n",
       "  '30,340,505,000',\n",
       "  '30,545,130,000',\n",
       "  '32,111,442,000',\n",
       "  '22,636,744,000'],\n",
       " 'Capital Expenditure': ['-28,617,670,000',\n",
       "  '-28,617,670,000',\n",
       "  '-30,576,923,000',\n",
       "  '-43,775,974,000',\n",
       "  '-25,190,641,000'],\n",
       " 'Issuance of Capital Stock': ['-', '-', '-', '-', '0'],\n",
       " 'Issuance of Debt': ['0', '0', '3,580,000', '998,311,000', '2,392,780,000'],\n",
       " 'Repayment of Debt': ['-709,400,000',\n",
       "  '-709,400,000',\n",
       "  '-4,033,067,000',\n",
       "  '-1,140,803,000',\n",
       "  '-252,846,000'],\n",
       " 'Repurchase of Capital Stock': ['0',\n",
       "  '0',\n",
       "  '-875,111,000',\n",
       "  '-8,350,424,000',\n",
       "  '-7,707,938,000'],\n",
       " 'Free Cash Flow': ['16,765,245,000',\n",
       "  '16,765,245,000',\n",
       "  '36,454,940,000',\n",
       "  '18,386,067,000',\n",
       "  '22,195,003,000'],\n",
       " 'Premium access required.': ['Learn', 'more']}"
      ]
     },
     "execution_count": 6,
     "metadata": {},
     "output_type": "execute_result"
    }
   ],
   "source": [
    "gets"
   ]
  },
  {
   "cell_type": "code",
   "execution_count": 13,
   "metadata": {},
   "outputs": [],
   "source": [
    "import pandas as pd\n",
    "for x in gets.keys():\n",
    "    if len(gets[x])!=5:\n",
    "        gets.pop(x)\n",
    "        \n",
    "df=pd.DataFrame(gets)"
   ]
  },
  {
   "cell_type": "code",
   "execution_count": 16,
   "metadata": {},
   "outputs": [
    {
     "data": {
      "text/html": [
       "<div>\n",
       "<style scoped>\n",
       "    .dataframe tbody tr th:only-of-type {\n",
       "        vertical-align: middle;\n",
       "    }\n",
       "\n",
       "    .dataframe tbody tr th {\n",
       "        vertical-align: top;\n",
       "    }\n",
       "\n",
       "    .dataframe thead th {\n",
       "        text-align: right;\n",
       "    }\n",
       "</style>\n",
       "<table border=\"1\" class=\"dataframe\">\n",
       "  <thead>\n",
       "    <tr style=\"text-align: right;\">\n",
       "      <th></th>\n",
       "      <th>0</th>\n",
       "      <th>1</th>\n",
       "      <th>2</th>\n",
       "      <th>3</th>\n",
       "      <th>4</th>\n",
       "    </tr>\n",
       "  </thead>\n",
       "  <tbody>\n",
       "    <tr>\n",
       "      <th>Operating Cash Flow</th>\n",
       "      <td>45,382,915,000</td>\n",
       "      <td>45,382,915,000</td>\n",
       "      <td>67,031,863,000</td>\n",
       "      <td>62,162,041,000</td>\n",
       "      <td>47,385,644,000</td>\n",
       "    </tr>\n",
       "    <tr>\n",
       "      <th>Investing Cash Flow</th>\n",
       "      <td>-39,948,171,000</td>\n",
       "      <td>-39,948,171,000</td>\n",
       "      <td>-52,240,453,000</td>\n",
       "      <td>-49,385,216,000</td>\n",
       "      <td>-29,658,675,000</td>\n",
       "    </tr>\n",
       "    <tr>\n",
       "      <th>Financing Cash Flow</th>\n",
       "      <td>-9,484,510,000</td>\n",
       "      <td>-9,484,510,000</td>\n",
       "      <td>-15,090,222,000</td>\n",
       "      <td>-12,560,867,000</td>\n",
       "      <td>-8,669,514,000</td>\n",
       "    </tr>\n",
       "    <tr>\n",
       "      <th>End Cash Position</th>\n",
       "      <td>26,885,999,000</td>\n",
       "      <td>26,885,999,000</td>\n",
       "      <td>30,340,505,000</td>\n",
       "      <td>30,545,130,000</td>\n",
       "      <td>32,111,442,000</td>\n",
       "    </tr>\n",
       "    <tr>\n",
       "      <th>Changes in Cash</th>\n",
       "      <td>-4,049,766,000</td>\n",
       "      <td>-4,049,766,000</td>\n",
       "      <td>-298,812,000</td>\n",
       "      <td>215,958,000</td>\n",
       "      <td>9,057,455,000</td>\n",
       "    </tr>\n",
       "    <tr>\n",
       "      <th>Effect of Exchange Rate Changes</th>\n",
       "      <td>595,260,000</td>\n",
       "      <td>595,260,000</td>\n",
       "      <td>94,187,000</td>\n",
       "      <td>-1,782,270,000</td>\n",
       "      <td>417,243,000</td>\n",
       "    </tr>\n",
       "    <tr>\n",
       "      <th>Beginning Cash Position</th>\n",
       "      <td>30,340,505,000</td>\n",
       "      <td>30,340,505,000</td>\n",
       "      <td>30,545,130,000</td>\n",
       "      <td>32,111,442,000</td>\n",
       "      <td>22,636,744,000</td>\n",
       "    </tr>\n",
       "    <tr>\n",
       "      <th>Capital Expenditure</th>\n",
       "      <td>-28,617,670,000</td>\n",
       "      <td>-28,617,670,000</td>\n",
       "      <td>-30,576,923,000</td>\n",
       "      <td>-43,775,974,000</td>\n",
       "      <td>-25,190,641,000</td>\n",
       "    </tr>\n",
       "    <tr>\n",
       "      <th>Issuance of Capital Stock</th>\n",
       "      <td>-</td>\n",
       "      <td>-</td>\n",
       "      <td>-</td>\n",
       "      <td>-</td>\n",
       "      <td>0</td>\n",
       "    </tr>\n",
       "    <tr>\n",
       "      <th>Issuance of Debt</th>\n",
       "      <td>0</td>\n",
       "      <td>0</td>\n",
       "      <td>3,580,000</td>\n",
       "      <td>998,311,000</td>\n",
       "      <td>2,392,780,000</td>\n",
       "    </tr>\n",
       "    <tr>\n",
       "      <th>Repayment of Debt</th>\n",
       "      <td>-709,400,000</td>\n",
       "      <td>-709,400,000</td>\n",
       "      <td>-4,033,067,000</td>\n",
       "      <td>-1,140,803,000</td>\n",
       "      <td>-252,846,000</td>\n",
       "    </tr>\n",
       "    <tr>\n",
       "      <th>Repurchase of Capital Stock</th>\n",
       "      <td>0</td>\n",
       "      <td>0</td>\n",
       "      <td>-875,111,000</td>\n",
       "      <td>-8,350,424,000</td>\n",
       "      <td>-7,707,938,000</td>\n",
       "    </tr>\n",
       "    <tr>\n",
       "      <th>Free Cash Flow</th>\n",
       "      <td>16,765,245,000</td>\n",
       "      <td>16,765,245,000</td>\n",
       "      <td>36,454,940,000</td>\n",
       "      <td>18,386,067,000</td>\n",
       "      <td>22,195,003,000</td>\n",
       "    </tr>\n",
       "  </tbody>\n",
       "</table>\n",
       "</div>"
      ],
      "text/plain": [
       "                                               0                1  \\\n",
       "Operating Cash Flow               45,382,915,000   45,382,915,000   \n",
       "Investing Cash Flow              -39,948,171,000  -39,948,171,000   \n",
       "Financing Cash Flow               -9,484,510,000   -9,484,510,000   \n",
       "End Cash Position                 26,885,999,000   26,885,999,000   \n",
       "Changes in Cash                   -4,049,766,000   -4,049,766,000   \n",
       "Effect of Exchange Rate Changes      595,260,000      595,260,000   \n",
       "Beginning Cash Position           30,340,505,000   30,340,505,000   \n",
       "Capital Expenditure              -28,617,670,000  -28,617,670,000   \n",
       "Issuance of Capital Stock                      -                -   \n",
       "Issuance of Debt                               0                0   \n",
       "Repayment of Debt                   -709,400,000     -709,400,000   \n",
       "Repurchase of Capital Stock                    0                0   \n",
       "Free Cash Flow                    16,765,245,000   16,765,245,000   \n",
       "\n",
       "                                               2                3  \\\n",
       "Operating Cash Flow               67,031,863,000   62,162,041,000   \n",
       "Investing Cash Flow              -52,240,453,000  -49,385,216,000   \n",
       "Financing Cash Flow              -15,090,222,000  -12,560,867,000   \n",
       "End Cash Position                 30,340,505,000   30,545,130,000   \n",
       "Changes in Cash                     -298,812,000      215,958,000   \n",
       "Effect of Exchange Rate Changes       94,187,000   -1,782,270,000   \n",
       "Beginning Cash Position           30,545,130,000   32,111,442,000   \n",
       "Capital Expenditure              -30,576,923,000  -43,775,974,000   \n",
       "Issuance of Capital Stock                      -                -   \n",
       "Issuance of Debt                       3,580,000      998,311,000   \n",
       "Repayment of Debt                 -4,033,067,000   -1,140,803,000   \n",
       "Repurchase of Capital Stock         -875,111,000   -8,350,424,000   \n",
       "Free Cash Flow                    36,454,940,000   18,386,067,000   \n",
       "\n",
       "                                               4  \n",
       "Operating Cash Flow               47,385,644,000  \n",
       "Investing Cash Flow              -29,658,675,000  \n",
       "Financing Cash Flow               -8,669,514,000  \n",
       "End Cash Position                 32,111,442,000  \n",
       "Changes in Cash                    9,057,455,000  \n",
       "Effect of Exchange Rate Changes      417,243,000  \n",
       "Beginning Cash Position           22,636,744,000  \n",
       "Capital Expenditure              -25,190,641,000  \n",
       "Issuance of Capital Stock                      0  \n",
       "Issuance of Debt                   2,392,780,000  \n",
       "Repayment of Debt                   -252,846,000  \n",
       "Repurchase of Capital Stock       -7,707,938,000  \n",
       "Free Cash Flow                    22,195,003,000  "
      ]
     },
     "execution_count": 16,
     "metadata": {},
     "output_type": "execute_result"
    }
   ],
   "source": [
    "df=df.T\n",
    "df"
   ]
  },
  {
   "cell_type": "code",
   "execution_count": 13,
   "metadata": {},
   "outputs": [],
   "source": [
    "b=a.body.select_one('#Col1-1-Financials-Proxy > section > div.Pos\\(r\\) > div.W\\(100\\%\\).Whs\\(nw\\).Ovx\\(a\\).BdT.Bdtc\\(\\$seperatorColor\\) > div.M\\(0\\).Whs\\(n\\).BdEnd.Bdc\\(\\$seperatorColor\\).D\\(itb\\)')"
   ]
  },
  {
   "cell_type": "code",
   "execution_count": 12,
   "metadata": {},
   "outputs": [
    {
     "ename": "NameError",
     "evalue": "name 'df' is not defined",
     "output_type": "error",
     "traceback": [
      "\u001b[1;31m---------------------------------------------------------------------------\u001b[0m",
      "\u001b[1;31mNameError\u001b[0m                                 Traceback (most recent call last)",
      "\u001b[1;32m<ipython-input-12-cd05e3389395>\u001b[0m in \u001b[0;36m<module>\u001b[1;34m\u001b[0m\n\u001b[1;32m----> 1\u001b[1;33m \u001b[0mlen\u001b[0m\u001b[1;33m(\u001b[0m\u001b[0mdf\u001b[0m\u001b[1;33m.\u001b[0m\u001b[0mindex\u001b[0m\u001b[1;33m)\u001b[0m\u001b[1;33m\u001b[0m\u001b[1;33m\u001b[0m\u001b[0m\n\u001b[0m",
      "\u001b[1;31mNameError\u001b[0m: name 'df' is not defined"
     ]
    }
   ],
   "source": [
    "len(df.index)"
   ]
  },
  {
   "cell_type": "code",
   "execution_count": 18,
   "metadata": {},
   "outputs": [
    {
     "name": "stdout",
     "output_type": "stream",
     "text": [
      "<div class=\"D(tbhg)\" data-reactid=\"45\"><div class=\"D(tbr) C($primaryColor)\" data-reactid=\"46\"><div class=\"D(ib) Fw(b) Ta(start) Px(15px)--mv2 Px(10px) W(247px)--mv2 W(222px) Bxz(bb) Bdendw(1px) Bdstartw(1px) Bdbw(1px) Bdends(s) Bdstarts(s) Bdbs(s) Bdc($seperatorColor) Py(6px) Pos(st) Start(0) Bgc($lv2BgColor)\" data-reactid=\"47\"><span data-reactid=\"48\">Breakdown</span><div class=\"W(3px) Pos(a) Start(100%) T(0) H(100%) Bg($pfColumnFakeShadowGradient) Pe(n) Pend(5px)\" data-reactid=\"49\"></div></div><div class=\"Ta(c) Py(6px) Bxz(bb) BdB Bdc($seperatorColor) Miw(120px) Miw(140px)--pnclg D(ib) Fw(b) Tt(u) Bgc($lv1BgColor)\" data-reactid=\"50\"><span data-reactid=\"51\">ttm</span></div><div class=\"Ta(c) Py(6px) Bxz(bb) BdB Bdc($seperatorColor) Miw(120px) Miw(140px)--pnclg D(ib) Fw(b)\" data-reactid=\"52\"><div class=\"gray-placeholder D(ib) W(100%) H(16px) Va(t)\"></div></div><div class=\"Ta(c) Py(6px) Bxz(bb) BdB Bdc($seperatorColor) Miw(120px) Miw(140px)--pnclg D(ib) Fw(b) Bgc($lv1BgColor)\" data-reactid=\"54\"><div class=\"gray-placeholder D(ib) W(100%) H(16px) Va(t)\"></div></div><div class=\"Ta(c) Py(6px) Bxz(bb) BdB Bdc($seperatorColor) Miw(120px) Miw(140px)--pnclg D(ib) Fw(b)\" data-reactid=\"56\"><div class=\"gray-placeholder D(ib) W(100%) H(16px) Va(t)\"></div></div><div class=\"Ta(c) Py(6px) Bxz(bb) BdB Bdc($seperatorColor) Miw(120px) Miw(140px)--pnclg D(ib) Fw(b) Bgc($lv1BgColor)\" data-reactid=\"58\"><div class=\"gray-placeholder D(ib) W(100%) H(16px) Va(t)\"></div></div><div class=\"Ta(c) Py(6px) Bxz(bb) BdB Bdc($seperatorColor) Miw(120px) Miw(140px)--pnclg D(ib) Fw(b)\" data-reactid=\"60\"><div class=\"gray-placeholder D(ib) W(100%) H(16px) Va(t)\"></div></div><div class=\"Ta(c) Py(6px) Bxz(bb) BdB Bdc($seperatorColor) Miw(120px) Miw(140px)--pnclg D(ib) Fw(b) Bgc($lv1BgColor)\" data-reactid=\"62\"><div class=\"gray-placeholder D(ib) W(100%) H(16px) Va(t)\"></div></div><div class=\"Ta(c) Py(6px) Bxz(bb) BdB Bdc($seperatorColor) Miw(120px) Miw(140px)--pnclg D(ib) Fw(b)\" data-reactid=\"64\"><div class=\"gray-placeholder D(ib) W(100%) H(16px) Va(t)\"></div></div><div class=\"Ta(c) Py(6px) Bxz(bb) BdB Bdc($seperatorColor) Miw(120px) Miw(140px)--pnclg D(ib) Fw(b) Bgc($lv1BgColor)\" data-reactid=\"66\"><div class=\"gray-placeholder D(ib) W(100%) H(16px) Va(t)\"></div></div><div class=\"Ta(c) Py(6px) Bxz(bb) BdB Bdc($seperatorColor) Miw(120px) Miw(140px)--pnclg D(ib) Fw(b)\" data-reactid=\"68\"><div class=\"gray-placeholder D(ib) W(100%) H(16px) Va(t)\"></div></div><div class=\"Ta(c) Py(6px) Bxz(bb) BdB Bdc($seperatorColor) Miw(120px) Miw(140px)--pnclg D(ib) Fw(b) Bgc($lv1BgColor)\" data-reactid=\"70\"><div class=\"gray-placeholder D(ib) W(100%) H(16px) Va(t)\"></div></div><div class=\"Ta(c) Py(6px) Bxz(bb) BdB Bdc($seperatorColor) Miw(120px) Miw(140px)--pnclg D(ib) Fw(b)\"><div class=\"gray-placeholder D(ib) W(100%) H(16px) Va(t)\"></div></div><div class=\"Ta(c) Py(6px) Bxz(bb) BdB Bdc($seperatorColor) Miw(120px) Miw(140px)--pnclg D(ib) Fw(b) Bgc($lv1BgColor)\"><div class=\"gray-placeholder D(ib) W(100%) H(16px) Va(t)\"></div></div><div class=\"Ta(c) Py(6px) Bxz(bb) BdB Bdc($seperatorColor) Miw(120px) Miw(140px)--pnclg D(ib) Fw(b)\"><div class=\"gray-placeholder D(ib) W(100%) H(16px) Va(t)\"></div></div><div class=\"Ta(c) Py(6px) Bxz(bb) BdB Bdc($seperatorColor) Miw(120px) Miw(140px)--pnclg D(ib) Fw(b) Bgc($lv1BgColor)\"><div class=\"gray-placeholder D(ib) W(100%) H(16px) Va(t)\"></div></div><div class=\"Ta(c) Py(6px) Bxz(bb) BdB Bdc($seperatorColor) Miw(120px) Miw(140px)--pnclg D(ib) Fw(b)\"><div class=\"gray-placeholder D(ib) W(100%) H(16px) Va(t)\"></div></div></div></div>\n",
      "\n",
      "<div class=\"D(tbrg)\" data-reactid=\"82\"><!-- react-empty: 83 --><div class=\"rw-expnded\" data-reactid=\"84\" data-test=\"fin-row\"><div class=\"D(tbr) fi-row Bgc($hoverBgColor):h\" data-reactid=\"85\"><div class=\"D(tbc) Ta(start) Pend(15px)--mv2 Pend(10px) Bxz(bb) Py(8px) Bdends(s) Bdbs(s) Bdstarts(s) Bdstartw(1px) Bdbw(1px) Bdendw(1px) Bdc($seperatorColor) Pos(st) Start(0) Bgc($lv2BgColor) fi-row:h_Bgc($hoverBgColor) Pstart(15px)--mv2 Pstart(10px)\" data-reactid=\"86\"><div class=\"D(ib) Va(m) Ell Mt(-3px) W(215px)--mv2 W(200px) undefined\" data-reactid=\"87\" title=\"Operating Cash Flow\"><span class=\"Va(m)\" data-reactid=\"88\">Operating Cash Flow</span></div><div class=\"W(3px) Pos(a) Start(100%) T(0) H(100%) Bg($pfColumnFakeShadowGradient) Pe(n) Pend(5px)\" data-reactid=\"89\"></div></div><div class=\"Ta(c) Py(6px) Bxz(bb) BdB Bdc($seperatorColor) Miw(120px) Miw(140px)--pnclg Bgc($lv1BgColor) fi-row:h_Bgc($hoverBgColor) D(tbc)\" data-reactid=\"90\" data-test=\"fin-col\"><div class=\"gray-placeholder D(ib) W(100%) H(16px) Va(t)\"></div></div><div class=\"Ta(c) Py(6px) Bxz(bb) BdB Bdc($seperatorColor) Miw(120px) Miw(140px)--pnclg D(tbc)\" data-test=\"fin-col\"><div class=\"gray-placeholder D(ib) W(100%) H(16px) Va(t)\"></div></div><div class=\"Ta(c) Py(6px) Bxz(bb) BdB Bdc($seperatorColor) Miw(120px) Miw(140px)--pnclg Bgc($lv1BgColor) fi-row:h_Bgc($hoverBgColor) D(tbc)\" data-test=\"fin-col\"><div class=\"gray-placeholder D(ib) W(100%) H(16px) Va(t)\"></div></div><div class=\"Ta(c) Py(6px) Bxz(bb) BdB Bdc($seperatorColor) Miw(120px) Miw(140px)--pnclg D(tbc)\" data-test=\"fin-col\"><div class=\"gray-placeholder D(ib) W(100%) H(16px) Va(t)\"></div></div><div class=\"Ta(c) Py(6px) Bxz(bb) BdB Bdc($seperatorColor) Miw(120px) Miw(140px)--pnclg Bgc($lv1BgColor) fi-row:h_Bgc($hoverBgColor) D(tbc)\" data-test=\"fin-col\"><div class=\"gray-placeholder D(ib) W(100%) H(16px) Va(t)\"></div></div><div class=\"Ta(c) Py(6px) Bxz(bb) BdB Bdc($seperatorColor) Miw(120px) Miw(140px)--pnclg D(tbc)\" data-test=\"fin-col\"><div class=\"gray-placeholder D(ib) W(100%) H(16px) Va(t)\"></div></div><div class=\"Ta(c) Py(6px) Bxz(bb) BdB Bdc($seperatorColor) Miw(120px) Miw(140px)--pnclg Bgc($lv1BgColor) fi-row:h_Bgc($hoverBgColor) D(tbc)\" data-test=\"fin-col\"><div class=\"gray-placeholder D(ib) W(100%) H(16px) Va(t)\"></div></div><div class=\"Ta(c) Py(6px) Bxz(bb) BdB Bdc($seperatorColor) Miw(120px) Miw(140px)--pnclg D(tbc)\" data-test=\"fin-col\"><div class=\"gray-placeholder D(ib) W(100%) H(16px) Va(t)\"></div></div><div class=\"Ta(c) Py(6px) Bxz(bb) BdB Bdc($seperatorColor) Miw(120px) Miw(140px)--pnclg Bgc($lv1BgColor) fi-row:h_Bgc($hoverBgColor) D(tbc)\" data-test=\"fin-col\"><div class=\"gray-placeholder D(ib) W(100%) H(16px) Va(t)\"></div></div><div class=\"Ta(c) Py(6px) Bxz(bb) BdB Bdc($seperatorColor) Miw(120px) Miw(140px)--pnclg D(tbc)\" data-test=\"fin-col\"><div class=\"gray-placeholder D(ib) W(100%) H(16px) Va(t)\"></div></div><div class=\"Ta(c) Py(6px) Bxz(bb) BdB Bdc($seperatorColor) Miw(120px) Miw(140px)--pnclg Bgc($lv1BgColor) fi-row:h_Bgc($hoverBgColor) D(tbc)\" data-test=\"fin-col\"><div class=\"gray-placeholder D(ib) W(100%) H(16px) Va(t)\"></div></div><div class=\"Ta(c) Py(6px) Bxz(bb) BdB Bdc($seperatorColor) Miw(120px) Miw(140px)--pnclg D(tbc)\" data-test=\"fin-col\"><div class=\"gray-placeholder D(ib) W(100%) H(16px) Va(t)\"></div></div><div class=\"Ta(c) Py(6px) Bxz(bb) BdB Bdc($seperatorColor) Miw(120px) Miw(140px)--pnclg Bgc($lv1BgColor) fi-row:h_Bgc($hoverBgColor) D(tbc)\" data-test=\"fin-col\"><div class=\"gray-placeholder D(ib) W(100%) H(16px) Va(t)\"></div></div><div class=\"Ta(c) Py(6px) Bxz(bb) BdB Bdc($seperatorColor) Miw(120px) Miw(140px)--pnclg D(tbc)\" data-test=\"fin-col\"><div class=\"gray-placeholder D(ib) W(100%) H(16px) Va(t)\"></div></div><div class=\"Ta(c) Py(6px) Bxz(bb) BdB Bdc($seperatorColor) Miw(120px) Miw(140px)--pnclg Bgc($lv1BgColor) fi-row:h_Bgc($hoverBgColor) D(tbc)\" data-test=\"fin-col\"><div class=\"gray-placeholder D(ib) W(100%) H(16px) Va(t)\"></div></div><div class=\"Ta(c) Py(6px) Bxz(bb) BdB Bdc($seperatorColor) Miw(120px) Miw(140px)--pnclg D(tbc)\" data-test=\"fin-col\"><div class=\"gray-placeholder D(ib) W(100%) H(16px) Va(t)\"></div></div></div><div data-reactid=\"122\"></div></div><div class=\"rw-expnded\" data-reactid=\"123\" data-test=\"fin-row\"><div class=\"D(tbr) fi-row Bgc($hoverBgColor):h\" data-reactid=\"124\"><div class=\"D(tbc) Ta(start) Pend(15px)--mv2 Pend(10px) Bxz(bb) Py(8px) Bdends(s) Bdbs(s) Bdstarts(s) Bdstartw(1px) Bdbw(1px) Bdendw(1px) Bdc($seperatorColor) Pos(st) Start(0) Bgc($lv2BgColor) fi-row:h_Bgc($hoverBgColor) Pstart(15px)--mv2 Pstart(10px)\" data-reactid=\"125\"><div class=\"D(ib) Va(m) Ell Mt(-3px) W(215px)--mv2 W(200px) undefined\" data-reactid=\"126\" title=\"Investing Cash Flow\"><span class=\"Va(m)\" data-reactid=\"127\">Investing Cash Flow</span></div><div class=\"W(3px) Pos(a) Start(100%) T(0) H(100%) Bg($pfColumnFakeShadowGradient) Pe(n) Pend(5px)\" data-reactid=\"128\"></div></div><div class=\"Ta(c) Py(6px) Bxz(bb) BdB Bdc($seperatorColor) Miw(120px) Miw(140px)--pnclg Bgc($lv1BgColor) fi-row:h_Bgc($hoverBgColor) D(tbc)\" data-reactid=\"129\" data-test=\"fin-col\"><div class=\"gray-placeholder D(ib) W(100%) H(16px) Va(t)\"></div></div><div class=\"Ta(c) Py(6px) Bxz(bb) BdB Bdc($seperatorColor) Miw(120px) Miw(140px)--pnclg D(tbc)\" data-test=\"fin-col\"><div class=\"gray-placeholder D(ib) W(100%) H(16px) Va(t)\"></div></div><div class=\"Ta(c) Py(6px) Bxz(bb) BdB Bdc($seperatorColor) Miw(120px) Miw(140px)--pnclg Bgc($lv1BgColor) fi-row:h_Bgc($hoverBgColor) D(tbc)\" data-test=\"fin-col\"><div class=\"gray-placeholder D(ib) W(100%) H(16px) Va(t)\"></div></div><div class=\"Ta(c) Py(6px) Bxz(bb) BdB Bdc($seperatorColor) Miw(120px) Miw(140px)--pnclg D(tbc)\" data-test=\"fin-col\"><div class=\"gray-placeholder D(ib) W(100%) H(16px) Va(t)\"></div></div><div class=\"Ta(c) Py(6px) Bxz(bb) BdB Bdc($seperatorColor) Miw(120px) Miw(140px)--pnclg Bgc($lv1BgColor) fi-row:h_Bgc($hoverBgColor) D(tbc)\" data-test=\"fin-col\"><div class=\"gray-placeholder D(ib) W(100%) H(16px) Va(t)\"></div></div><div class=\"Ta(c) Py(6px) Bxz(bb) BdB Bdc($seperatorColor) Miw(120px) Miw(140px)--pnclg D(tbc)\" data-test=\"fin-col\"><div class=\"gray-placeholder D(ib) W(100%) H(16px) Va(t)\"></div></div><div class=\"Ta(c) Py(6px) Bxz(bb) BdB Bdc($seperatorColor) Miw(120px) Miw(140px)--pnclg Bgc($lv1BgColor) fi-row:h_Bgc($hoverBgColor) D(tbc)\" data-test=\"fin-col\"><div class=\"gray-placeholder D(ib) W(100%) H(16px) Va(t)\"></div></div><div class=\"Ta(c) Py(6px) Bxz(bb) BdB Bdc($seperatorColor) Miw(120px) Miw(140px)--pnclg D(tbc)\" data-test=\"fin-col\"><div class=\"gray-placeholder D(ib) W(100%) H(16px) Va(t)\"></div></div><div class=\"Ta(c) Py(6px) Bxz(bb) BdB Bdc($seperatorColor) Miw(120px) Miw(140px)--pnclg Bgc($lv1BgColor) fi-row:h_Bgc($hoverBgColor) D(tbc)\" data-test=\"fin-col\"><div class=\"gray-placeholder D(ib) W(100%) H(16px) Va(t)\"></div></div><div class=\"Ta(c) Py(6px) Bxz(bb) BdB Bdc($seperatorColor) Miw(120px) Miw(140px)--pnclg D(tbc)\" data-test=\"fin-col\"><div class=\"gray-placeholder D(ib) W(100%) H(16px) Va(t)\"></div></div><div class=\"Ta(c) Py(6px) Bxz(bb) BdB Bdc($seperatorColor) Miw(120px) Miw(140px)--pnclg Bgc($lv1BgColor) fi-row:h_Bgc($hoverBgColor) D(tbc)\" data-test=\"fin-col\"><div class=\"gray-placeholder D(ib) W(100%) H(16px) Va(t)\"></div></div><div class=\"Ta(c) Py(6px) Bxz(bb) BdB Bdc($seperatorColor) Miw(120px) Miw(140px)--pnclg D(tbc)\" data-test=\"fin-col\"><div class=\"gray-placeholder D(ib) W(100%) H(16px) Va(t)\"></div></div><div class=\"Ta(c) Py(6px) Bxz(bb) BdB Bdc($seperatorColor) Miw(120px) Miw(140px)--pnclg Bgc($lv1BgColor) fi-row:h_Bgc($hoverBgColor) D(tbc)\" data-test=\"fin-col\"><div class=\"gray-placeholder D(ib) W(100%) H(16px) Va(t)\"></div></div><div class=\"Ta(c) Py(6px) Bxz(bb) BdB Bdc($seperatorColor) Miw(120px) Miw(140px)--pnclg D(tbc)\" data-test=\"fin-col\"><div class=\"gray-placeholder D(ib) W(100%) H(16px) Va(t)\"></div></div><div class=\"Ta(c) Py(6px) Bxz(bb) BdB Bdc($seperatorColor) Miw(120px) Miw(140px)--pnclg Bgc($lv1BgColor) fi-row:h_Bgc($hoverBgColor) D(tbc)\" data-test=\"fin-col\"><div class=\"gray-placeholder D(ib) W(100%) H(16px) Va(t)\"></div></div><div class=\"Ta(c) Py(6px) Bxz(bb) BdB Bdc($seperatorColor) Miw(120px) Miw(140px)--pnclg D(tbc)\" data-test=\"fin-col\"><div class=\"gray-placeholder D(ib) W(100%) H(16px) Va(t)\"></div></div></div><div data-reactid=\"161\"></div></div><div class=\"rw-expnded\" data-reactid=\"162\" data-test=\"fin-row\"><div class=\"D(tbr) fi-row Bgc($hoverBgColor):h\" data-reactid=\"163\"><div class=\"D(tbc) Ta(start) Pend(15px)--mv2 Pend(10px) Bxz(bb) Py(8px) Bdends(s) Bdbs(s) Bdstarts(s) Bdstartw(1px) Bdbw(1px) Bdendw(1px) Bdc($seperatorColor) Pos(st) Start(0) Bgc($lv2BgColor) fi-row:h_Bgc($hoverBgColor) Pstart(15px)--mv2 Pstart(10px)\" data-reactid=\"164\"><div class=\"D(ib) Va(m) Ell Mt(-3px) W(215px)--mv2 W(200px) undefined\" data-reactid=\"165\" title=\"Financing Cash Flow\"><span class=\"Va(m)\" data-reactid=\"166\">Financing Cash Flow</span></div><div class=\"W(3px) Pos(a) Start(100%) T(0) H(100%) Bg($pfColumnFakeShadowGradient) Pe(n) Pend(5px)\" data-reactid=\"167\"></div></div><div class=\"Ta(c) Py(6px) Bxz(bb) BdB Bdc($seperatorColor) Miw(120px) Miw(140px)--pnclg Bgc($lv1BgColor) fi-row:h_Bgc($hoverBgColor) D(tbc)\" data-reactid=\"168\" data-test=\"fin-col\"><div class=\"gray-placeholder D(ib) W(100%) H(16px) Va(t)\"></div></div><div class=\"Ta(c) Py(6px) Bxz(bb) BdB Bdc($seperatorColor) Miw(120px) Miw(140px)--pnclg D(tbc)\" data-test=\"fin-col\"><div class=\"gray-placeholder D(ib) W(100%) H(16px) Va(t)\"></div></div><div class=\"Ta(c) Py(6px) Bxz(bb) BdB Bdc($seperatorColor) Miw(120px) Miw(140px)--pnclg Bgc($lv1BgColor) fi-row:h_Bgc($hoverBgColor) D(tbc)\" data-test=\"fin-col\"><div class=\"gray-placeholder D(ib) W(100%) H(16px) Va(t)\"></div></div><div class=\"Ta(c) Py(6px) Bxz(bb) BdB Bdc($seperatorColor) Miw(120px) Miw(140px)--pnclg D(tbc)\" data-test=\"fin-col\"><div class=\"gray-placeholder D(ib) W(100%) H(16px) Va(t)\"></div></div><div class=\"Ta(c) Py(6px) Bxz(bb) BdB Bdc($seperatorColor) Miw(120px) Miw(140px)--pnclg Bgc($lv1BgColor) fi-row:h_Bgc($hoverBgColor) D(tbc)\" data-test=\"fin-col\"><div class=\"gray-placeholder D(ib) W(100%) H(16px) Va(t)\"></div></div><div class=\"Ta(c) Py(6px) Bxz(bb) BdB Bdc($seperatorColor) Miw(120px) Miw(140px)--pnclg D(tbc)\" data-test=\"fin-col\"><div class=\"gray-placeholder D(ib) W(100%) H(16px) Va(t)\"></div></div><div class=\"Ta(c) Py(6px) Bxz(bb) BdB Bdc($seperatorColor) Miw(120px) Miw(140px)--pnclg Bgc($lv1BgColor) fi-row:h_Bgc($hoverBgColor) D(tbc)\" data-test=\"fin-col\"><div class=\"gray-placeholder D(ib) W(100%) H(16px) Va(t)\"></div></div><div class=\"Ta(c) Py(6px) Bxz(bb) BdB Bdc($seperatorColor) Miw(120px) Miw(140px)--pnclg D(tbc)\" data-test=\"fin-col\"><div class=\"gray-placeholder D(ib) W(100%) H(16px) Va(t)\"></div></div><div class=\"Ta(c) Py(6px) Bxz(bb) BdB Bdc($seperatorColor) Miw(120px) Miw(140px)--pnclg Bgc($lv1BgColor) fi-row:h_Bgc($hoverBgColor) D(tbc)\" data-test=\"fin-col\"><div class=\"gray-placeholder D(ib) W(100%) H(16px) Va(t)\"></div></div><div class=\"Ta(c) Py(6px) Bxz(bb) BdB Bdc($seperatorColor) Miw(120px) Miw(140px)--pnclg D(tbc)\" data-test=\"fin-col\"><div class=\"gray-placeholder D(ib) W(100%) H(16px) Va(t)\"></div></div><div class=\"Ta(c) Py(6px) Bxz(bb) BdB Bdc($seperatorColor) Miw(120px) Miw(140px)--pnclg Bgc($lv1BgColor) fi-row:h_Bgc($hoverBgColor) D(tbc)\" data-test=\"fin-col\"><div class=\"gray-placeholder D(ib) W(100%) H(16px) Va(t)\"></div></div><div class=\"Ta(c) Py(6px) Bxz(bb) BdB Bdc($seperatorColor) Miw(120px) Miw(140px)--pnclg D(tbc)\" data-test=\"fin-col\"><div class=\"gray-placeholder D(ib) W(100%) H(16px) Va(t)\"></div></div><div class=\"Ta(c) Py(6px) Bxz(bb) BdB Bdc($seperatorColor) Miw(120px) Miw(140px)--pnclg Bgc($lv1BgColor) fi-row:h_Bgc($hoverBgColor) D(tbc)\" data-test=\"fin-col\"><div class=\"gray-placeholder D(ib) W(100%) H(16px) Va(t)\"></div></div><div class=\"Ta(c) Py(6px) Bxz(bb) BdB Bdc($seperatorColor) Miw(120px) Miw(140px)--pnclg D(tbc)\" data-test=\"fin-col\"><div class=\"gray-placeholder D(ib) W(100%) H(16px) Va(t)\"></div></div><div class=\"Ta(c) Py(6px) Bxz(bb) BdB Bdc($seperatorColor) Miw(120px) Miw(140px)--pnclg Bgc($lv1BgColor) fi-row:h_Bgc($hoverBgColor) D(tbc)\" data-test=\"fin-col\"><div class=\"gray-placeholder D(ib) W(100%) H(16px) Va(t)\"></div></div><div class=\"Ta(c) Py(6px) Bxz(bb) BdB Bdc($seperatorColor) Miw(120px) Miw(140px)--pnclg D(tbc)\" data-test=\"fin-col\"><div class=\"gray-placeholder D(ib) W(100%) H(16px) Va(t)\"></div></div></div><div data-reactid=\"200\"></div></div><!-- react-empty: 201 --><!-- react-empty: 202 --><div class=\"rw-expnded\" data-reactid=\"203\" data-test=\"fin-row\"><div class=\"D(tbr) fi-row Bgc($hoverBgColor):h\" data-reactid=\"204\"><div class=\"D(tbc) Ta(start) Pend(15px)--mv2 Pend(10px) Bxz(bb) Py(8px) Bdends(s) Bdbs(s) Bdstarts(s) Bdstartw(1px) Bdbw(1px) Bdendw(1px) Bdc($seperatorColor) Pos(st) Start(0) Bgc($lv2BgColor) fi-row:h_Bgc($hoverBgColor) Pstart(15px)--mv2 Pstart(10px)\" data-reactid=\"205\"><div class=\"D(ib) Va(m) Ell Mt(-3px) W(215px)--mv2 W(200px) undefined\" data-reactid=\"206\" title=\"End Cash Position\"><button class=\"P(0) M(0) Va(m) Bd(0) Fz(s) Mend(2px) tgglBtn\" data-reactid=\"207\"><svg class=\"H(16px) Fill($primaryColor) Stk($primaryColor) tgglBtn:h_Fill($linkColor) tgglBtn:h_Stk($linkColor) Cur(p)\" data-icon=\"caret-down\" data-reactid=\"208\" height=\"16\" style=\"stroke-width:0;vertical-align:bottom;\" viewbox=\"0 0 48 48\" width=\"16\"><path d=\"M24.21 33.173l12.727-12.728c.78-.78.78-2.048 0-2.828-.78-.78-2.047-.78-2.828 0l-9.9 9.9-9.9-9.9c-.78-.78-2.047-.78-2.827 0-.78.78-.78 2.047 0 2.828L24.21 33.173z\" data-reactid=\"209\"></path></svg></button><span class=\"Va(m)\" data-reactid=\"210\">End Cash Position</span></div><div class=\"W(3px) Pos(a) Start(100%) T(0) H(100%) Bg($pfColumnFakeShadowGradient) Pe(n) Pend(5px)\" data-reactid=\"211\"></div></div><div class=\"Ta(c) Py(6px) Bxz(bb) BdB Bdc($seperatorColor) Miw(120px) Miw(140px)--pnclg Bgc($lv1BgColor) fi-row:h_Bgc($hoverBgColor) D(tbc)\" data-reactid=\"212\" data-test=\"fin-col\"><div class=\"gray-placeholder D(ib) W(100%) H(16px) Va(t)\"></div></div><div class=\"Ta(c) Py(6px) Bxz(bb) BdB Bdc($seperatorColor) Miw(120px) Miw(140px)--pnclg D(tbc)\" data-test=\"fin-col\"><div class=\"gray-placeholder D(ib) W(100%) H(16px) Va(t)\"></div></div><div class=\"Ta(c) Py(6px) Bxz(bb) BdB Bdc($seperatorColor) Miw(120px) Miw(140px)--pnclg Bgc($lv1BgColor) fi-row:h_Bgc($hoverBgColor) D(tbc)\" data-test=\"fin-col\"><div class=\"gray-placeholder D(ib) W(100%) H(16px) Va(t)\"></div></div><div class=\"Ta(c) Py(6px) Bxz(bb) BdB Bdc($seperatorColor) Miw(120px) Miw(140px)--pnclg D(tbc)\" data-test=\"fin-col\"><div class=\"gray-placeholder D(ib) W(100%) H(16px) Va(t)\"></div></div><div class=\"Ta(c) Py(6px) Bxz(bb) BdB Bdc($seperatorColor) Miw(120px) Miw(140px)--pnclg Bgc($lv1BgColor) fi-row:h_Bgc($hoverBgColor) D(tbc)\" data-test=\"fin-col\"><div class=\"gray-placeholder D(ib) W(100%) H(16px) Va(t)\"></div></div><div class=\"Ta(c) Py(6px) Bxz(bb) BdB Bdc($seperatorColor) Miw(120px) Miw(140px)--pnclg D(tbc)\" data-test=\"fin-col\"><div class=\"gray-placeholder D(ib) W(100%) H(16px) Va(t)\"></div></div><div class=\"Ta(c) Py(6px) Bxz(bb) BdB Bdc($seperatorColor) Miw(120px) Miw(140px)--pnclg Bgc($lv1BgColor) fi-row:h_Bgc($hoverBgColor) D(tbc)\" data-test=\"fin-col\"><div class=\"gray-placeholder D(ib) W(100%) H(16px) Va(t)\"></div></div><div class=\"Ta(c) Py(6px) Bxz(bb) BdB Bdc($seperatorColor) Miw(120px) Miw(140px)--pnclg D(tbc)\" data-test=\"fin-col\"><div class=\"gray-placeholder D(ib) W(100%) H(16px) Va(t)\"></div></div><div class=\"Ta(c) Py(6px) Bxz(bb) BdB Bdc($seperatorColor) Miw(120px) Miw(140px)--pnclg Bgc($lv1BgColor) fi-row:h_Bgc($hoverBgColor) D(tbc)\" data-test=\"fin-col\"><div class=\"gray-placeholder D(ib) W(100%) H(16px) Va(t)\"></div></div><div class=\"Ta(c) Py(6px) Bxz(bb) BdB Bdc($seperatorColor) Miw(120px) Miw(140px)--pnclg D(tbc)\" data-test=\"fin-col\"><div class=\"gray-placeholder D(ib) W(100%) H(16px) Va(t)\"></div></div><div class=\"Ta(c) Py(6px) Bxz(bb) BdB Bdc($seperatorColor) Miw(120px) Miw(140px)--pnclg Bgc($lv1BgColor) fi-row:h_Bgc($hoverBgColor) D(tbc)\" data-test=\"fin-col\"><div class=\"gray-placeholder D(ib) W(100%) H(16px) Va(t)\"></div></div><div class=\"Ta(c) Py(6px) Bxz(bb) BdB Bdc($seperatorColor) Miw(120px) Miw(140px)--pnclg D(tbc)\" data-test=\"fin-col\"><div class=\"gray-placeholder D(ib) W(100%) H(16px) Va(t)\"></div></div><div class=\"Ta(c) Py(6px) Bxz(bb) BdB Bdc($seperatorColor) Miw(120px) Miw(140px)--pnclg Bgc($lv1BgColor) fi-row:h_Bgc($hoverBgColor) D(tbc)\" data-test=\"fin-col\"><div class=\"gray-placeholder D(ib) W(100%) H(16px) Va(t)\"></div></div><div class=\"Ta(c) Py(6px) Bxz(bb) BdB Bdc($seperatorColor) Miw(120px) Miw(140px)--pnclg D(tbc)\" data-test=\"fin-col\"><div class=\"gray-placeholder D(ib) W(100%) H(16px) Va(t)\"></div></div><div class=\"Ta(c) Py(6px) Bxz(bb) BdB Bdc($seperatorColor) Miw(120px) Miw(140px)--pnclg Bgc($lv1BgColor) fi-row:h_Bgc($hoverBgColor) D(tbc)\" data-test=\"fin-col\"><div class=\"gray-placeholder D(ib) W(100%) H(16px) Va(t)\"></div></div><div class=\"Ta(c) Py(6px) Bxz(bb) BdB Bdc($seperatorColor) Miw(120px) Miw(140px)--pnclg D(tbc)\" data-test=\"fin-col\"><div class=\"gray-placeholder D(ib) W(100%) H(16px) Va(t)\"></div></div></div><div data-reactid=\"244\"><div class=\"rw-expnded\" data-test=\"fin-row\"><div class=\"D(tbr) fi-row Bgc($hoverBgColor):h\"><div class=\"D(tbc) Ta(start) Pend(15px)--mv2 Pend(10px) Bxz(bb) Py(8px) Bdends(s) Bdbs(s) Bdstarts(s) Bdstartw(1px) Bdbw(1px) Bdendw(1px) Bdc($seperatorColor) Pos(st) Start(0) Bgc($lv2BgColor) fi-row:h_Bgc($hoverBgColor) Pstart(30px)--mv2 Pstart(25px)\"><div class=\"D(ib) Va(m) Ell Mt(-3px) W(200px)--mv2 W(185px) undefined\" title=\"Changes in Cash\"><span class=\"Va(m)\">Changes in Cash</span></div><div class=\"W(3px) Pos(a) Start(100%) T(0) H(100%) Bg($pfColumnFakeShadowGradient) Pe(n) Pend(5px)\"></div></div><div class=\"Ta(c) Py(6px) Bxz(bb) BdB Bdc($seperatorColor) Miw(120px) Miw(140px)--pnclg Bgc($lv1BgColor) fi-row:h_Bgc($hoverBgColor) D(tbc)\" data-test=\"fin-col\"><div class=\"gray-placeholder D(ib) W(100%) H(16px) Va(t)\"></div></div><div class=\"Ta(c) Py(6px) Bxz(bb) BdB Bdc($seperatorColor) Miw(120px) Miw(140px)--pnclg D(tbc)\" data-test=\"fin-col\"><div class=\"gray-placeholder D(ib) W(100%) H(16px) Va(t)\"></div></div><div class=\"Ta(c) Py(6px) Bxz(bb) BdB Bdc($seperatorColor) Miw(120px) Miw(140px)--pnclg Bgc($lv1BgColor) fi-row:h_Bgc($hoverBgColor) D(tbc)\" data-test=\"fin-col\"><div class=\"gray-placeholder D(ib) W(100%) H(16px) Va(t)\"></div></div><div class=\"Ta(c) Py(6px) Bxz(bb) BdB Bdc($seperatorColor) Miw(120px) Miw(140px)--pnclg D(tbc)\" data-test=\"fin-col\"><div class=\"gray-placeholder D(ib) W(100%) H(16px) Va(t)\"></div></div><div class=\"Ta(c) Py(6px) Bxz(bb) BdB Bdc($seperatorColor) Miw(120px) Miw(140px)--pnclg Bgc($lv1BgColor) fi-row:h_Bgc($hoverBgColor) D(tbc)\" data-test=\"fin-col\"><div class=\"gray-placeholder D(ib) W(100%) H(16px) Va(t)\"></div></div><div class=\"Ta(c) Py(6px) Bxz(bb) BdB Bdc($seperatorColor) Miw(120px) Miw(140px)--pnclg D(tbc)\" data-test=\"fin-col\"><div class=\"gray-placeholder D(ib) W(100%) H(16px) Va(t)\"></div></div><div class=\"Ta(c) Py(6px) Bxz(bb) BdB Bdc($seperatorColor) Miw(120px) Miw(140px)--pnclg Bgc($lv1BgColor) fi-row:h_Bgc($hoverBgColor) D(tbc)\" data-test=\"fin-col\"><div class=\"gray-placeholder D(ib) W(100%) H(16px) Va(t)\"></div></div><div class=\"Ta(c) Py(6px) Bxz(bb) BdB Bdc($seperatorColor) Miw(120px) Miw(140px)--pnclg D(tbc)\" data-test=\"fin-col\"><div class=\"gray-placeholder D(ib) W(100%) H(16px) Va(t)\"></div></div><div class=\"Ta(c) Py(6px) Bxz(bb) BdB Bdc($seperatorColor) Miw(120px) Miw(140px)--pnclg Bgc($lv1BgColor) fi-row:h_Bgc($hoverBgColor) D(tbc)\" data-test=\"fin-col\"><div class=\"gray-placeholder D(ib) W(100%) H(16px) Va(t)\"></div></div><div class=\"Ta(c) Py(6px) Bxz(bb) BdB Bdc($seperatorColor) Miw(120px) Miw(140px)--pnclg D(tbc)\" data-test=\"fin-col\"><div class=\"gray-placeholder D(ib) W(100%) H(16px) Va(t)\"></div></div><div class=\"Ta(c) Py(6px) Bxz(bb) BdB Bdc($seperatorColor) Miw(120px) Miw(140px)--pnclg Bgc($lv1BgColor) fi-row:h_Bgc($hoverBgColor) D(tbc)\" data-test=\"fin-col\"><div class=\"gray-placeholder D(ib) W(100%) H(16px) Va(t)\"></div></div><div class=\"Ta(c) Py(6px) Bxz(bb) BdB Bdc($seperatorColor) Miw(120px) Miw(140px)--pnclg D(tbc)\" data-test=\"fin-col\"><div class=\"gray-placeholder D(ib) W(100%) H(16px) Va(t)\"></div></div><div class=\"Ta(c) Py(6px) Bxz(bb) BdB Bdc($seperatorColor) Miw(120px) Miw(140px)--pnclg Bgc($lv1BgColor) fi-row:h_Bgc($hoverBgColor) D(tbc)\" data-test=\"fin-col\"><div class=\"gray-placeholder D(ib) W(100%) H(16px) Va(t)\"></div></div><div class=\"Ta(c) Py(6px) Bxz(bb) BdB Bdc($seperatorColor) Miw(120px) Miw(140px)--pnclg D(tbc)\" data-test=\"fin-col\"><div class=\"gray-placeholder D(ib) W(100%) H(16px) Va(t)\"></div></div><div class=\"Ta(c) Py(6px) Bxz(bb) BdB Bdc($seperatorColor) Miw(120px) Miw(140px)--pnclg Bgc($lv1BgColor) fi-row:h_Bgc($hoverBgColor) D(tbc)\" data-test=\"fin-col\"><div class=\"gray-placeholder D(ib) W(100%) H(16px) Va(t)\"></div></div><div class=\"Ta(c) Py(6px) Bxz(bb) BdB Bdc($seperatorColor) Miw(120px) Miw(140px)--pnclg D(tbc)\" data-test=\"fin-col\"><div class=\"gray-placeholder D(ib) W(100%) H(16px) Va(t)\"></div></div></div><div></div></div><div class=\"rw-expnded\" data-test=\"fin-row\"><div class=\"D(tbr) fi-row Bgc($hoverBgColor):h\"><div class=\"D(tbc) Ta(start) Pend(15px)--mv2 Pend(10px) Bxz(bb) Py(8px) Bdends(s) Bdbs(s) Bdstarts(s) Bdstartw(1px) Bdbw(1px) Bdendw(1px) Bdc($seperatorColor) Pos(st) Start(0) Bgc($lv2BgColor) fi-row:h_Bgc($hoverBgColor) Pstart(30px)--mv2 Pstart(25px)\"><div class=\"D(ib) Va(m) Ell Mt(-3px) W(200px)--mv2 W(185px) undefined\" title=\"Effect of Exchange Rate Changes\"><span class=\"Va(m)\">Effect of Exchange Rate Changes</span></div><div class=\"W(3px) Pos(a) Start(100%) T(0) H(100%) Bg($pfColumnFakeShadowGradient) Pe(n) Pend(5px)\"></div></div><div class=\"Ta(c) Py(6px) Bxz(bb) BdB Bdc($seperatorColor) Miw(120px) Miw(140px)--pnclg Bgc($lv1BgColor) fi-row:h_Bgc($hoverBgColor) D(tbc)\" data-test=\"fin-col\"><div class=\"gray-placeholder D(ib) W(100%) H(16px) Va(t)\"></div></div><div class=\"Ta(c) Py(6px) Bxz(bb) BdB Bdc($seperatorColor) Miw(120px) Miw(140px)--pnclg D(tbc)\" data-test=\"fin-col\"><div class=\"gray-placeholder D(ib) W(100%) H(16px) Va(t)\"></div></div><div class=\"Ta(c) Py(6px) Bxz(bb) BdB Bdc($seperatorColor) Miw(120px) Miw(140px)--pnclg Bgc($lv1BgColor) fi-row:h_Bgc($hoverBgColor) D(tbc)\" data-test=\"fin-col\"><div class=\"gray-placeholder D(ib) W(100%) H(16px) Va(t)\"></div></div><div class=\"Ta(c) Py(6px) Bxz(bb) BdB Bdc($seperatorColor) Miw(120px) Miw(140px)--pnclg D(tbc)\" data-test=\"fin-col\"><div class=\"gray-placeholder D(ib) W(100%) H(16px) Va(t)\"></div></div><div class=\"Ta(c) Py(6px) Bxz(bb) BdB Bdc($seperatorColor) Miw(120px) Miw(140px)--pnclg Bgc($lv1BgColor) fi-row:h_Bgc($hoverBgColor) D(tbc)\" data-test=\"fin-col\"><div class=\"gray-placeholder D(ib) W(100%) H(16px) Va(t)\"></div></div><div class=\"Ta(c) Py(6px) Bxz(bb) BdB Bdc($seperatorColor) Miw(120px) Miw(140px)--pnclg D(tbc)\" data-test=\"fin-col\"><div class=\"gray-placeholder D(ib) W(100%) H(16px) Va(t)\"></div></div><div class=\"Ta(c) Py(6px) Bxz(bb) BdB Bdc($seperatorColor) Miw(120px) Miw(140px)--pnclg Bgc($lv1BgColor) fi-row:h_Bgc($hoverBgColor) D(tbc)\" data-test=\"fin-col\"><div class=\"gray-placeholder D(ib) W(100%) H(16px) Va(t)\"></div></div><div class=\"Ta(c) Py(6px) Bxz(bb) BdB Bdc($seperatorColor) Miw(120px) Miw(140px)--pnclg D(tbc)\" data-test=\"fin-col\"><div class=\"gray-placeholder D(ib) W(100%) H(16px) Va(t)\"></div></div><div class=\"Ta(c) Py(6px) Bxz(bb) BdB Bdc($seperatorColor) Miw(120px) Miw(140px)--pnclg Bgc($lv1BgColor) fi-row:h_Bgc($hoverBgColor) D(tbc)\" data-test=\"fin-col\"><div class=\"gray-placeholder D(ib) W(100%) H(16px) Va(t)\"></div></div><div class=\"Ta(c) Py(6px) Bxz(bb) BdB Bdc($seperatorColor) Miw(120px) Miw(140px)--pnclg D(tbc)\" data-test=\"fin-col\"><div class=\"gray-placeholder D(ib) W(100%) H(16px) Va(t)\"></div></div><div class=\"Ta(c) Py(6px) Bxz(bb) BdB Bdc($seperatorColor) Miw(120px) Miw(140px)--pnclg Bgc($lv1BgColor) fi-row:h_Bgc($hoverBgColor) D(tbc)\" data-test=\"fin-col\"><div class=\"gray-placeholder D(ib) W(100%) H(16px) Va(t)\"></div></div><div class=\"Ta(c) Py(6px) Bxz(bb) BdB Bdc($seperatorColor) Miw(120px) Miw(140px)--pnclg D(tbc)\" data-test=\"fin-col\"><div class=\"gray-placeholder D(ib) W(100%) H(16px) Va(t)\"></div></div><div class=\"Ta(c) Py(6px) Bxz(bb) BdB Bdc($seperatorColor) Miw(120px) Miw(140px)--pnclg Bgc($lv1BgColor) fi-row:h_Bgc($hoverBgColor) D(tbc)\" data-test=\"fin-col\"><div class=\"gray-placeholder D(ib) W(100%) H(16px) Va(t)\"></div></div><div class=\"Ta(c) Py(6px) Bxz(bb) BdB Bdc($seperatorColor) Miw(120px) Miw(140px)--pnclg D(tbc)\" data-test=\"fin-col\"><div class=\"gray-placeholder D(ib) W(100%) H(16px) Va(t)\"></div></div><div class=\"Ta(c) Py(6px) Bxz(bb) BdB Bdc($seperatorColor) Miw(120px) Miw(140px)--pnclg Bgc($lv1BgColor) fi-row:h_Bgc($hoverBgColor) D(tbc)\" data-test=\"fin-col\"><div class=\"gray-placeholder D(ib) W(100%) H(16px) Va(t)\"></div></div><div class=\"Ta(c) Py(6px) Bxz(bb) BdB Bdc($seperatorColor) Miw(120px) Miw(140px)--pnclg D(tbc)\" data-test=\"fin-col\"><div class=\"gray-placeholder D(ib) W(100%) H(16px) Va(t)\"></div></div></div><div></div></div><div class=\"rw-expnded\" data-test=\"fin-row\"><div class=\"D(tbr) fi-row Bgc($hoverBgColor):h\"><div class=\"D(tbc) Ta(start) Pend(15px)--mv2 Pend(10px) Bxz(bb) Py(8px) Bdends(s) Bdbs(s) Bdstarts(s) Bdstartw(1px) Bdbw(1px) Bdendw(1px) Bdc($seperatorColor) Pos(st) Start(0) Bgc($lv2BgColor) fi-row:h_Bgc($hoverBgColor) Pstart(30px)--mv2 Pstart(25px)\"><div class=\"D(ib) Va(m) Ell Mt(-3px) W(200px)--mv2 W(185px) undefined\" title=\"Beginning Cash Position\"><span class=\"Va(m)\">Beginning Cash Position</span></div><div class=\"W(3px) Pos(a) Start(100%) T(0) H(100%) Bg($pfColumnFakeShadowGradient) Pe(n) Pend(5px)\"></div></div><div class=\"Ta(c) Py(6px) Bxz(bb) BdB Bdc($seperatorColor) Miw(120px) Miw(140px)--pnclg Bgc($lv1BgColor) fi-row:h_Bgc($hoverBgColor) D(tbc)\" data-test=\"fin-col\"><div class=\"gray-placeholder D(ib) W(100%) H(16px) Va(t)\"></div></div><div class=\"Ta(c) Py(6px) Bxz(bb) BdB Bdc($seperatorColor) Miw(120px) Miw(140px)--pnclg D(tbc)\" data-test=\"fin-col\"><div class=\"gray-placeholder D(ib) W(100%) H(16px) Va(t)\"></div></div><div class=\"Ta(c) Py(6px) Bxz(bb) BdB Bdc($seperatorColor) Miw(120px) Miw(140px)--pnclg Bgc($lv1BgColor) fi-row:h_Bgc($hoverBgColor) D(tbc)\" data-test=\"fin-col\"><div class=\"gray-placeholder D(ib) W(100%) H(16px) Va(t)\"></div></div><div class=\"Ta(c) Py(6px) Bxz(bb) BdB Bdc($seperatorColor) Miw(120px) Miw(140px)--pnclg D(tbc)\" data-test=\"fin-col\"><div class=\"gray-placeholder D(ib) W(100%) H(16px) Va(t)\"></div></div><div class=\"Ta(c) Py(6px) Bxz(bb) BdB Bdc($seperatorColor) Miw(120px) Miw(140px)--pnclg Bgc($lv1BgColor) fi-row:h_Bgc($hoverBgColor) D(tbc)\" data-test=\"fin-col\"><div class=\"gray-placeholder D(ib) W(100%) H(16px) Va(t)\"></div></div><div class=\"Ta(c) Py(6px) Bxz(bb) BdB Bdc($seperatorColor) Miw(120px) Miw(140px)--pnclg D(tbc)\" data-test=\"fin-col\"><div class=\"gray-placeholder D(ib) W(100%) H(16px) Va(t)\"></div></div><div class=\"Ta(c) Py(6px) Bxz(bb) BdB Bdc($seperatorColor) Miw(120px) Miw(140px)--pnclg Bgc($lv1BgColor) fi-row:h_Bgc($hoverBgColor) D(tbc)\" data-test=\"fin-col\"><div class=\"gray-placeholder D(ib) W(100%) H(16px) Va(t)\"></div></div><div class=\"Ta(c) Py(6px) Bxz(bb) BdB Bdc($seperatorColor) Miw(120px) Miw(140px)--pnclg D(tbc)\" data-test=\"fin-col\"><div class=\"gray-placeholder D(ib) W(100%) H(16px) Va(t)\"></div></div><div class=\"Ta(c) Py(6px) Bxz(bb) BdB Bdc($seperatorColor) Miw(120px) Miw(140px)--pnclg Bgc($lv1BgColor) fi-row:h_Bgc($hoverBgColor) D(tbc)\" data-test=\"fin-col\"><div class=\"gray-placeholder D(ib) W(100%) H(16px) Va(t)\"></div></div><div class=\"Ta(c) Py(6px) Bxz(bb) BdB Bdc($seperatorColor) Miw(120px) Miw(140px)--pnclg D(tbc)\" data-test=\"fin-col\"><div class=\"gray-placeholder D(ib) W(100%) H(16px) Va(t)\"></div></div><div class=\"Ta(c) Py(6px) Bxz(bb) BdB Bdc($seperatorColor) Miw(120px) Miw(140px)--pnclg Bgc($lv1BgColor) fi-row:h_Bgc($hoverBgColor) D(tbc)\" data-test=\"fin-col\"><div class=\"gray-placeholder D(ib) W(100%) H(16px) Va(t)\"></div></div><div class=\"Ta(c) Py(6px) Bxz(bb) BdB Bdc($seperatorColor) Miw(120px) Miw(140px)--pnclg D(tbc)\" data-test=\"fin-col\"><div class=\"gray-placeholder D(ib) W(100%) H(16px) Va(t)\"></div></div><div class=\"Ta(c) Py(6px) Bxz(bb) BdB Bdc($seperatorColor) Miw(120px) Miw(140px)--pnclg Bgc($lv1BgColor) fi-row:h_Bgc($hoverBgColor) D(tbc)\" data-test=\"fin-col\"><div class=\"gray-placeholder D(ib) W(100%) H(16px) Va(t)\"></div></div><div class=\"Ta(c) Py(6px) Bxz(bb) BdB Bdc($seperatorColor) Miw(120px) Miw(140px)--pnclg D(tbc)\" data-test=\"fin-col\"><div class=\"gray-placeholder D(ib) W(100%) H(16px) Va(t)\"></div></div><div class=\"Ta(c) Py(6px) Bxz(bb) BdB Bdc($seperatorColor) Miw(120px) Miw(140px)--pnclg Bgc($lv1BgColor) fi-row:h_Bgc($hoverBgColor) D(tbc)\" data-test=\"fin-col\"><div class=\"gray-placeholder D(ib) W(100%) H(16px) Va(t)\"></div></div><div class=\"Ta(c) Py(6px) Bxz(bb) BdB Bdc($seperatorColor) Miw(120px) Miw(140px)--pnclg D(tbc)\" data-test=\"fin-col\"><div class=\"gray-placeholder D(ib) W(100%) H(16px) Va(t)\"></div></div></div><div></div></div></div></div><!-- react-empty: 245 --><!-- react-empty: 246 --><div class=\"rw-expnded\" data-reactid=\"247\" data-test=\"fin-row\"><div class=\"D(tbr) fi-row Bgc($hoverBgColor):h\" data-reactid=\"248\"><div class=\"D(tbc) Ta(start) Pend(15px)--mv2 Pend(10px) Bxz(bb) Py(8px) Bdends(s) Bdbs(s) Bdstarts(s) Bdstartw(1px) Bdbw(1px) Bdendw(1px) Bdc($seperatorColor) Pos(st) Start(0) Bgc($lv2BgColor) fi-row:h_Bgc($hoverBgColor) Pstart(15px)--mv2 Pstart(10px)\" data-reactid=\"249\"><div class=\"D(ib) Va(m) Ell Mt(-3px) W(215px)--mv2 W(200px) undefined\" data-reactid=\"250\" title=\"Capital Expenditure\"><span class=\"Va(m)\" data-reactid=\"251\">Capital Expenditure</span></div><div class=\"W(3px) Pos(a) Start(100%) T(0) H(100%) Bg($pfColumnFakeShadowGradient) Pe(n) Pend(5px)\" data-reactid=\"252\"></div></div><div class=\"Ta(c) Py(6px) Bxz(bb) BdB Bdc($seperatorColor) Miw(120px) Miw(140px)--pnclg Bgc($lv1BgColor) fi-row:h_Bgc($hoverBgColor) D(tbc)\" data-reactid=\"253\" data-test=\"fin-col\"><div class=\"gray-placeholder D(ib) W(100%) H(16px) Va(t)\"></div></div><div class=\"Ta(c) Py(6px) Bxz(bb) BdB Bdc($seperatorColor) Miw(120px) Miw(140px)--pnclg D(tbc)\" data-test=\"fin-col\"><div class=\"gray-placeholder D(ib) W(100%) H(16px) Va(t)\"></div></div><div class=\"Ta(c) Py(6px) Bxz(bb) BdB Bdc($seperatorColor) Miw(120px) Miw(140px)--pnclg Bgc($lv1BgColor) fi-row:h_Bgc($hoverBgColor) D(tbc)\" data-test=\"fin-col\"><div class=\"gray-placeholder D(ib) W(100%) H(16px) Va(t)\"></div></div><div class=\"Ta(c) Py(6px) Bxz(bb) BdB Bdc($seperatorColor) Miw(120px) Miw(140px)--pnclg D(tbc)\" data-test=\"fin-col\"><div class=\"gray-placeholder D(ib) W(100%) H(16px) Va(t)\"></div></div><div class=\"Ta(c) Py(6px) Bxz(bb) BdB Bdc($seperatorColor) Miw(120px) Miw(140px)--pnclg Bgc($lv1BgColor) fi-row:h_Bgc($hoverBgColor) D(tbc)\" data-test=\"fin-col\"><div class=\"gray-placeholder D(ib) W(100%) H(16px) Va(t)\"></div></div><div class=\"Ta(c) Py(6px) Bxz(bb) BdB Bdc($seperatorColor) Miw(120px) Miw(140px)--pnclg D(tbc)\" data-test=\"fin-col\"><div class=\"gray-placeholder D(ib) W(100%) H(16px) Va(t)\"></div></div><div class=\"Ta(c) Py(6px) Bxz(bb) BdB Bdc($seperatorColor) Miw(120px) Miw(140px)--pnclg Bgc($lv1BgColor) fi-row:h_Bgc($hoverBgColor) D(tbc)\" data-test=\"fin-col\"><div class=\"gray-placeholder D(ib) W(100%) H(16px) Va(t)\"></div></div><div class=\"Ta(c) Py(6px) Bxz(bb) BdB Bdc($seperatorColor) Miw(120px) Miw(140px)--pnclg D(tbc)\" data-test=\"fin-col\"><div class=\"gray-placeholder D(ib) W(100%) H(16px) Va(t)\"></div></div><div class=\"Ta(c) Py(6px) Bxz(bb) BdB Bdc($seperatorColor) Miw(120px) Miw(140px)--pnclg Bgc($lv1BgColor) fi-row:h_Bgc($hoverBgColor) D(tbc)\" data-test=\"fin-col\"><div class=\"gray-placeholder D(ib) W(100%) H(16px) Va(t)\"></div></div><div class=\"Ta(c) Py(6px) Bxz(bb) BdB Bdc($seperatorColor) Miw(120px) Miw(140px)--pnclg D(tbc)\" data-test=\"fin-col\"><div class=\"gray-placeholder D(ib) W(100%) H(16px) Va(t)\"></div></div><div class=\"Ta(c) Py(6px) Bxz(bb) BdB Bdc($seperatorColor) Miw(120px) Miw(140px)--pnclg Bgc($lv1BgColor) fi-row:h_Bgc($hoverBgColor) D(tbc)\" data-test=\"fin-col\"><div class=\"gray-placeholder D(ib) W(100%) H(16px) Va(t)\"></div></div><div class=\"Ta(c) Py(6px) Bxz(bb) BdB Bdc($seperatorColor) Miw(120px) Miw(140px)--pnclg D(tbc)\" data-test=\"fin-col\"><div class=\"gray-placeholder D(ib) W(100%) H(16px) Va(t)\"></div></div><div class=\"Ta(c) Py(6px) Bxz(bb) BdB Bdc($seperatorColor) Miw(120px) Miw(140px)--pnclg Bgc($lv1BgColor) fi-row:h_Bgc($hoverBgColor) D(tbc)\" data-test=\"fin-col\"><div class=\"gray-placeholder D(ib) W(100%) H(16px) Va(t)\"></div></div><div class=\"Ta(c) Py(6px) Bxz(bb) BdB Bdc($seperatorColor) Miw(120px) Miw(140px)--pnclg D(tbc)\" data-test=\"fin-col\"><div class=\"gray-placeholder D(ib) W(100%) H(16px) Va(t)\"></div></div><div class=\"Ta(c) Py(6px) Bxz(bb) BdB Bdc($seperatorColor) Miw(120px) Miw(140px)--pnclg Bgc($lv1BgColor) fi-row:h_Bgc($hoverBgColor) D(tbc)\" data-test=\"fin-col\"><div class=\"gray-placeholder D(ib) W(100%) H(16px) Va(t)\"></div></div><div class=\"Ta(c) Py(6px) Bxz(bb) BdB Bdc($seperatorColor) Miw(120px) Miw(140px)--pnclg D(tbc)\" data-test=\"fin-col\"><div class=\"gray-placeholder D(ib) W(100%) H(16px) Va(t)\"></div></div></div><div data-reactid=\"285\"></div></div><!-- react-empty: 3094 --><!-- react-empty: 3095 --><div class=\"rw-expnded\" data-reactid=\"355\" data-test=\"fin-row\"><div class=\"D(tbr) fi-row Bgc($hoverBgColor):h\" data-reactid=\"356\"><div class=\"D(tbc) Ta(start) Pend(15px)--mv2 Pend(10px) Bxz(bb) Py(8px) Bdends(s) Bdbs(s) Bdstarts(s) Bdstartw(1px) Bdbw(1px) Bdendw(1px) Bdc($seperatorColor) Pos(st) Start(0) Bgc($lv2BgColor) fi-row:h_Bgc($hoverBgColor) Pstart(15px)--mv2 Pstart(10px)\" data-reactid=\"357\"><div class=\"D(ib) Va(m) Ell Mt(-3px) W(215px)--mv2 W(200px) undefined\" data-reactid=\"358\" title=\"Repayment of Debt\"><span class=\"Va(m)\" data-reactid=\"359\">Repayment of Debt</span></div><div class=\"W(3px) Pos(a) Start(100%) T(0) H(100%) Bg($pfColumnFakeShadowGradient) Pe(n) Pend(5px)\" data-reactid=\"360\"></div></div><div class=\"Ta(c) Py(6px) Bxz(bb) BdB Bdc($seperatorColor) Miw(120px) Miw(140px)--pnclg Bgc($lv1BgColor) fi-row:h_Bgc($hoverBgColor) D(tbc)\" data-reactid=\"361\" data-test=\"fin-col\"><div class=\"gray-placeholder D(ib) W(100%) H(16px) Va(t)\"></div></div><div class=\"Ta(c) Py(6px) Bxz(bb) BdB Bdc($seperatorColor) Miw(120px) Miw(140px)--pnclg D(tbc)\" data-test=\"fin-col\"><div class=\"gray-placeholder D(ib) W(100%) H(16px) Va(t)\"></div></div><div class=\"Ta(c) Py(6px) Bxz(bb) BdB Bdc($seperatorColor) Miw(120px) Miw(140px)--pnclg Bgc($lv1BgColor) fi-row:h_Bgc($hoverBgColor) D(tbc)\" data-test=\"fin-col\"><div class=\"gray-placeholder D(ib) W(100%) H(16px) Va(t)\"></div></div><div class=\"Ta(c) Py(6px) Bxz(bb) BdB Bdc($seperatorColor) Miw(120px) Miw(140px)--pnclg D(tbc)\" data-test=\"fin-col\"><div class=\"gray-placeholder D(ib) W(100%) H(16px) Va(t)\"></div></div><div class=\"Ta(c) Py(6px) Bxz(bb) BdB Bdc($seperatorColor) Miw(120px) Miw(140px)--pnclg Bgc($lv1BgColor) fi-row:h_Bgc($hoverBgColor) D(tbc)\" data-test=\"fin-col\"><div class=\"gray-placeholder D(ib) W(100%) H(16px) Va(t)\"></div></div><div class=\"Ta(c) Py(6px) Bxz(bb) BdB Bdc($seperatorColor) Miw(120px) Miw(140px)--pnclg D(tbc)\" data-test=\"fin-col\"><div class=\"gray-placeholder D(ib) W(100%) H(16px) Va(t)\"></div></div><div class=\"Ta(c) Py(6px) Bxz(bb) BdB Bdc($seperatorColor) Miw(120px) Miw(140px)--pnclg Bgc($lv1BgColor) fi-row:h_Bgc($hoverBgColor) D(tbc)\" data-test=\"fin-col\"><div class=\"gray-placeholder D(ib) W(100%) H(16px) Va(t)\"></div></div><div class=\"Ta(c) Py(6px) Bxz(bb) BdB Bdc($seperatorColor) Miw(120px) Miw(140px)--pnclg D(tbc)\" data-test=\"fin-col\"><div class=\"gray-placeholder D(ib) W(100%) H(16px) Va(t)\"></div></div><div class=\"Ta(c) Py(6px) Bxz(bb) BdB Bdc($seperatorColor) Miw(120px) Miw(140px)--pnclg Bgc($lv1BgColor) fi-row:h_Bgc($hoverBgColor) D(tbc)\" data-test=\"fin-col\"><div class=\"gray-placeholder D(ib) W(100%) H(16px) Va(t)\"></div></div><div class=\"Ta(c) Py(6px) Bxz(bb) BdB Bdc($seperatorColor) Miw(120px) Miw(140px)--pnclg D(tbc)\" data-test=\"fin-col\"><div class=\"gray-placeholder D(ib) W(100%) H(16px) Va(t)\"></div></div><div class=\"Ta(c) Py(6px) Bxz(bb) BdB Bdc($seperatorColor) Miw(120px) Miw(140px)--pnclg Bgc($lv1BgColor) fi-row:h_Bgc($hoverBgColor) D(tbc)\" data-test=\"fin-col\"><div class=\"gray-placeholder D(ib) W(100%) H(16px) Va(t)\"></div></div><div class=\"Ta(c) Py(6px) Bxz(bb) BdB Bdc($seperatorColor) Miw(120px) Miw(140px)--pnclg D(tbc)\" data-test=\"fin-col\"><div class=\"gray-placeholder D(ib) W(100%) H(16px) Va(t)\"></div></div><div class=\"Ta(c) Py(6px) Bxz(bb) BdB Bdc($seperatorColor) Miw(120px) Miw(140px)--pnclg Bgc($lv1BgColor) fi-row:h_Bgc($hoverBgColor) D(tbc)\" data-test=\"fin-col\"><div class=\"gray-placeholder D(ib) W(100%) H(16px) Va(t)\"></div></div><div class=\"Ta(c) Py(6px) Bxz(bb) BdB Bdc($seperatorColor) Miw(120px) Miw(140px)--pnclg D(tbc)\" data-test=\"fin-col\"><div class=\"gray-placeholder D(ib) W(100%) H(16px) Va(t)\"></div></div><div class=\"Ta(c) Py(6px) Bxz(bb) BdB Bdc($seperatorColor) Miw(120px) Miw(140px)--pnclg Bgc($lv1BgColor) fi-row:h_Bgc($hoverBgColor) D(tbc)\" data-test=\"fin-col\"><div class=\"gray-placeholder D(ib) W(100%) H(16px) Va(t)\"></div></div><div class=\"Ta(c) Py(6px) Bxz(bb) BdB Bdc($seperatorColor) Miw(120px) Miw(140px)--pnclg D(tbc)\" data-test=\"fin-col\"><div class=\"gray-placeholder D(ib) W(100%) H(16px) Va(t)\"></div></div></div><div data-reactid=\"393\"></div></div><!-- react-empty: 3127 --><div class=\"rw-expnded\" data-reactid=\"426\" data-test=\"fin-row\"><div class=\"D(tbr) fi-row Bgc($hoverBgColor):h\" data-reactid=\"427\"><div class=\"D(tbc) Ta(start) Pend(15px)--mv2 Pend(10px) Bxz(bb) Py(8px) Bdends(s) Bdbs(s) Bdstarts(s) Bdstartw(1px) Bdbw(1px) Bdendw(1px) Bdc($seperatorColor) Pos(st) Start(0) Bgc($lv2BgColor) fi-row:h_Bgc($hoverBgColor) Pstart(15px)--mv2 Pstart(10px)\" data-reactid=\"428\"><div class=\"D(ib) Va(m) Ell Mt(-3px) W(215px)--mv2 W(200px) undefined\" data-reactid=\"429\" title=\"Free Cash Flow\"><span class=\"Va(m)\" data-reactid=\"430\">Free Cash Flow</span></div><div class=\"W(3px) Pos(a) Start(100%) T(0) H(100%) Bg($pfColumnFakeShadowGradient) Pe(n) Pend(5px)\" data-reactid=\"431\"></div></div><div class=\"Ta(c) Py(6px) Bxz(bb) BdB Bdc($seperatorColor) Miw(120px) Miw(140px)--pnclg Bgc($lv1BgColor) fi-row:h_Bgc($hoverBgColor) D(tbc)\" data-reactid=\"432\" data-test=\"fin-col\"><div class=\"gray-placeholder D(ib) W(100%) H(16px) Va(t)\"></div></div><div class=\"Ta(c) Py(6px) Bxz(bb) BdB Bdc($seperatorColor) Miw(120px) Miw(140px)--pnclg D(tbc)\" data-test=\"fin-col\"><div class=\"gray-placeholder D(ib) W(100%) H(16px) Va(t)\"></div></div><div class=\"Ta(c) Py(6px) Bxz(bb) BdB Bdc($seperatorColor) Miw(120px) Miw(140px)--pnclg Bgc($lv1BgColor) fi-row:h_Bgc($hoverBgColor) D(tbc)\" data-test=\"fin-col\"><div class=\"gray-placeholder D(ib) W(100%) H(16px) Va(t)\"></div></div><div class=\"Ta(c) Py(6px) Bxz(bb) BdB Bdc($seperatorColor) Miw(120px) Miw(140px)--pnclg D(tbc)\" data-test=\"fin-col\"><div class=\"gray-placeholder D(ib) W(100%) H(16px) Va(t)\"></div></div><div class=\"Ta(c) Py(6px) Bxz(bb) BdB Bdc($seperatorColor) Miw(120px) Miw(140px)--pnclg Bgc($lv1BgColor) fi-row:h_Bgc($hoverBgColor) D(tbc)\" data-test=\"fin-col\"><div class=\"gray-placeholder D(ib) W(100%) H(16px) Va(t)\"></div></div><div class=\"Ta(c) Py(6px) Bxz(bb) BdB Bdc($seperatorColor) Miw(120px) Miw(140px)--pnclg D(tbc)\" data-test=\"fin-col\"><div class=\"gray-placeholder D(ib) W(100%) H(16px) Va(t)\"></div></div><div class=\"Ta(c) Py(6px) Bxz(bb) BdB Bdc($seperatorColor) Miw(120px) Miw(140px)--pnclg Bgc($lv1BgColor) fi-row:h_Bgc($hoverBgColor) D(tbc)\" data-test=\"fin-col\"><div class=\"gray-placeholder D(ib) W(100%) H(16px) Va(t)\"></div></div><div class=\"Ta(c) Py(6px) Bxz(bb) BdB Bdc($seperatorColor) Miw(120px) Miw(140px)--pnclg D(tbc)\" data-test=\"fin-col\"><div class=\"gray-placeholder D(ib) W(100%) H(16px) Va(t)\"></div></div><div class=\"Ta(c) Py(6px) Bxz(bb) BdB Bdc($seperatorColor) Miw(120px) Miw(140px)--pnclg Bgc($lv1BgColor) fi-row:h_Bgc($hoverBgColor) D(tbc)\" data-test=\"fin-col\"><div class=\"gray-placeholder D(ib) W(100%) H(16px) Va(t)\"></div></div><div class=\"Ta(c) Py(6px) Bxz(bb) BdB Bdc($seperatorColor) Miw(120px) Miw(140px)--pnclg D(tbc)\" data-test=\"fin-col\"><div class=\"gray-placeholder D(ib) W(100%) H(16px) Va(t)\"></div></div><div class=\"Ta(c) Py(6px) Bxz(bb) BdB Bdc($seperatorColor) Miw(120px) Miw(140px)--pnclg Bgc($lv1BgColor) fi-row:h_Bgc($hoverBgColor) D(tbc)\" data-test=\"fin-col\"><div class=\"gray-placeholder D(ib) W(100%) H(16px) Va(t)\"></div></div><div class=\"Ta(c) Py(6px) Bxz(bb) BdB Bdc($seperatorColor) Miw(120px) Miw(140px)--pnclg D(tbc)\" data-test=\"fin-col\"><div class=\"gray-placeholder D(ib) W(100%) H(16px) Va(t)\"></div></div><div class=\"Ta(c) Py(6px) Bxz(bb) BdB Bdc($seperatorColor) Miw(120px) Miw(140px)--pnclg Bgc($lv1BgColor) fi-row:h_Bgc($hoverBgColor) D(tbc)\" data-test=\"fin-col\"><div class=\"gray-placeholder D(ib) W(100%) H(16px) Va(t)\"></div></div><div class=\"Ta(c) Py(6px) Bxz(bb) BdB Bdc($seperatorColor) Miw(120px) Miw(140px)--pnclg D(tbc)\" data-test=\"fin-col\"><div class=\"gray-placeholder D(ib) W(100%) H(16px) Va(t)\"></div></div><div class=\"Ta(c) Py(6px) Bxz(bb) BdB Bdc($seperatorColor) Miw(120px) Miw(140px)--pnclg Bgc($lv1BgColor) fi-row:h_Bgc($hoverBgColor) D(tbc)\" data-test=\"fin-col\"><div class=\"gray-placeholder D(ib) W(100%) H(16px) Va(t)\"></div></div><div class=\"Ta(c) Py(6px) Bxz(bb) BdB Bdc($seperatorColor) Miw(120px) Miw(140px)--pnclg D(tbc)\" data-test=\"fin-col\"><div class=\"gray-placeholder D(ib) W(100%) H(16px) Va(t)\"></div></div></div><div data-reactid=\"464\"></div></div><!-- react-empty: 465 --><!-- react-empty: 466 --><!-- react-empty: 467 --></div>\n",
      "\n"
     ]
    }
   ],
   "source": [
    "for x in b:\n",
    "    print(x)\n",
    "    print()"
   ]
  },
  {
   "cell_type": "code",
   "execution_count": 19,
   "metadata": {
    "scrolled": true
   },
   "outputs": [
    {
     "name": "stdout",
     "output_type": "stream",
     "text": [
      "Breakdown\n",
      "ttm\n",
      "\n",
      "Operating Cash Flow\n",
      "Investing Cash Flow\n",
      "Financing Cash Flow\n",
      "End Cash Position\n",
      "Changes in Cash\n",
      "Effect of Exchange Rate Changes\n",
      "Beginning Cash Position\n",
      "Capital Expenditure\n",
      "Repayment of Debt\n",
      "Free Cash Flow\n",
      "\n"
     ]
    }
   ],
   "source": [
    "gets2={}\n",
    "for x in b:\n",
    "    c=x.find_all('span')\n",
    "    for y in c:\n",
    "        print(y.get_text())\n",
    "    print()\n",
    "    if len(c)==6:\n",
    "        gets2[c[0].get_text()]=[c[1].get_text(),c[2].get_text(),c[3].get_text(),c[4].get_text()]"
   ]
  },
  {
   "cell_type": "code",
   "execution_count": 16,
   "metadata": {},
   "outputs": [
    {
     "data": {
      "text/plain": [
       "<div class=\"M(0) Whs(n) BdEnd Bdc($seperatorColor) D(itb)\" data-reactid=\"44\"><div class=\"D(tbhg)\" data-reactid=\"45\"><div class=\"D(tbr) C($primaryColor)\" data-reactid=\"46\"><div class=\"D(ib) Fw(b) Ta(start) Px(15px)--mv2 Px(10px) W(247px)--mv2 W(222px) Bxz(bb) Bdendw(1px) Bdstartw(1px) Bdbw(1px) Bdends(s) Bdstarts(s) Bdbs(s) Bdc($seperatorColor) Py(6px) Pos(st) Start(0) Bgc($lv2BgColor)\" data-reactid=\"47\"><span data-reactid=\"48\">Breakdown</span><div class=\"W(3px) Pos(a) Start(100%) T(0) H(100%) Bg($pfColumnFakeShadowGradient) Pe(n) Pend(5px)\" data-reactid=\"49\"></div></div><div class=\"Ta(c) Py(6px) Bxz(bb) BdB Bdc($seperatorColor) Miw(120px) Miw(140px)--pnclg D(ib) Fw(b) Tt(u) Bgc($lv1BgColor)\" data-reactid=\"50\"><span data-reactid=\"51\">ttm</span></div><div class=\"Ta(c) Py(6px) Bxz(bb) BdB Bdc($seperatorColor) Miw(120px) Miw(140px)--pnclg D(ib) Fw(b)\" data-reactid=\"52\"><div class=\"gray-placeholder D(ib) W(100%) H(16px) Va(t)\"></div></div><div class=\"Ta(c) Py(6px) Bxz(bb) BdB Bdc($seperatorColor) Miw(120px) Miw(140px)--pnclg D(ib) Fw(b) Bgc($lv1BgColor)\" data-reactid=\"54\"><div class=\"gray-placeholder D(ib) W(100%) H(16px) Va(t)\"></div></div><div class=\"Ta(c) Py(6px) Bxz(bb) BdB Bdc($seperatorColor) Miw(120px) Miw(140px)--pnclg D(ib) Fw(b)\" data-reactid=\"56\"><div class=\"gray-placeholder D(ib) W(100%) H(16px) Va(t)\"></div></div><div class=\"Ta(c) Py(6px) Bxz(bb) BdB Bdc($seperatorColor) Miw(120px) Miw(140px)--pnclg D(ib) Fw(b) Bgc($lv1BgColor)\" data-reactid=\"58\"><div class=\"gray-placeholder D(ib) W(100%) H(16px) Va(t)\"></div></div><div class=\"Ta(c) Py(6px) Bxz(bb) BdB Bdc($seperatorColor) Miw(120px) Miw(140px)--pnclg D(ib) Fw(b)\" data-reactid=\"60\"><div class=\"gray-placeholder D(ib) W(100%) H(16px) Va(t)\"></div></div><div class=\"Ta(c) Py(6px) Bxz(bb) BdB Bdc($seperatorColor) Miw(120px) Miw(140px)--pnclg D(ib) Fw(b) Bgc($lv1BgColor)\" data-reactid=\"62\"><div class=\"gray-placeholder D(ib) W(100%) H(16px) Va(t)\"></div></div><div class=\"Ta(c) Py(6px) Bxz(bb) BdB Bdc($seperatorColor) Miw(120px) Miw(140px)--pnclg D(ib) Fw(b)\" data-reactid=\"64\"><div class=\"gray-placeholder D(ib) W(100%) H(16px) Va(t)\"></div></div><div class=\"Ta(c) Py(6px) Bxz(bb) BdB Bdc($seperatorColor) Miw(120px) Miw(140px)--pnclg D(ib) Fw(b) Bgc($lv1BgColor)\" data-reactid=\"66\"><div class=\"gray-placeholder D(ib) W(100%) H(16px) Va(t)\"></div></div><div class=\"Ta(c) Py(6px) Bxz(bb) BdB Bdc($seperatorColor) Miw(120px) Miw(140px)--pnclg D(ib) Fw(b)\" data-reactid=\"68\"><div class=\"gray-placeholder D(ib) W(100%) H(16px) Va(t)\"></div></div><div class=\"Ta(c) Py(6px) Bxz(bb) BdB Bdc($seperatorColor) Miw(120px) Miw(140px)--pnclg D(ib) Fw(b) Bgc($lv1BgColor)\" data-reactid=\"70\"><div class=\"gray-placeholder D(ib) W(100%) H(16px) Va(t)\"></div></div><div class=\"Ta(c) Py(6px) Bxz(bb) BdB Bdc($seperatorColor) Miw(120px) Miw(140px)--pnclg D(ib) Fw(b)\"><div class=\"gray-placeholder D(ib) W(100%) H(16px) Va(t)\"></div></div><div class=\"Ta(c) Py(6px) Bxz(bb) BdB Bdc($seperatorColor) Miw(120px) Miw(140px)--pnclg D(ib) Fw(b) Bgc($lv1BgColor)\"><div class=\"gray-placeholder D(ib) W(100%) H(16px) Va(t)\"></div></div><div class=\"Ta(c) Py(6px) Bxz(bb) BdB Bdc($seperatorColor) Miw(120px) Miw(140px)--pnclg D(ib) Fw(b)\"><div class=\"gray-placeholder D(ib) W(100%) H(16px) Va(t)\"></div></div><div class=\"Ta(c) Py(6px) Bxz(bb) BdB Bdc($seperatorColor) Miw(120px) Miw(140px)--pnclg D(ib) Fw(b) Bgc($lv1BgColor)\"><div class=\"gray-placeholder D(ib) W(100%) H(16px) Va(t)\"></div></div><div class=\"Ta(c) Py(6px) Bxz(bb) BdB Bdc($seperatorColor) Miw(120px) Miw(140px)--pnclg D(ib) Fw(b)\"><div class=\"gray-placeholder D(ib) W(100%) H(16px) Va(t)\"></div></div></div></div><div class=\"D(tbrg)\" data-reactid=\"82\"><!-- react-empty: 83 --><div class=\"rw-expnded\" data-reactid=\"84\" data-test=\"fin-row\"><div class=\"D(tbr) fi-row Bgc($hoverBgColor):h\" data-reactid=\"85\"><div class=\"D(tbc) Ta(start) Pend(15px)--mv2 Pend(10px) Bxz(bb) Py(8px) Bdends(s) Bdbs(s) Bdstarts(s) Bdstartw(1px) Bdbw(1px) Bdendw(1px) Bdc($seperatorColor) Pos(st) Start(0) Bgc($lv2BgColor) fi-row:h_Bgc($hoverBgColor) Pstart(15px)--mv2 Pstart(10px)\" data-reactid=\"86\"><div class=\"D(ib) Va(m) Ell Mt(-3px) W(215px)--mv2 W(200px) undefined\" data-reactid=\"87\" title=\"Operating Cash Flow\"><span class=\"Va(m)\" data-reactid=\"88\">Operating Cash Flow</span></div><div class=\"W(3px) Pos(a) Start(100%) T(0) H(100%) Bg($pfColumnFakeShadowGradient) Pe(n) Pend(5px)\" data-reactid=\"89\"></div></div><div class=\"Ta(c) Py(6px) Bxz(bb) BdB Bdc($seperatorColor) Miw(120px) Miw(140px)--pnclg Bgc($lv1BgColor) fi-row:h_Bgc($hoverBgColor) D(tbc)\" data-reactid=\"90\" data-test=\"fin-col\"><div class=\"gray-placeholder D(ib) W(100%) H(16px) Va(t)\"></div></div><div class=\"Ta(c) Py(6px) Bxz(bb) BdB Bdc($seperatorColor) Miw(120px) Miw(140px)--pnclg D(tbc)\" data-test=\"fin-col\"><div class=\"gray-placeholder D(ib) W(100%) H(16px) Va(t)\"></div></div><div class=\"Ta(c) Py(6px) Bxz(bb) BdB Bdc($seperatorColor) Miw(120px) Miw(140px)--pnclg Bgc($lv1BgColor) fi-row:h_Bgc($hoverBgColor) D(tbc)\" data-test=\"fin-col\"><div class=\"gray-placeholder D(ib) W(100%) H(16px) Va(t)\"></div></div><div class=\"Ta(c) Py(6px) Bxz(bb) BdB Bdc($seperatorColor) Miw(120px) Miw(140px)--pnclg D(tbc)\" data-test=\"fin-col\"><div class=\"gray-placeholder D(ib) W(100%) H(16px) Va(t)\"></div></div><div class=\"Ta(c) Py(6px) Bxz(bb) BdB Bdc($seperatorColor) Miw(120px) Miw(140px)--pnclg Bgc($lv1BgColor) fi-row:h_Bgc($hoverBgColor) D(tbc)\" data-test=\"fin-col\"><div class=\"gray-placeholder D(ib) W(100%) H(16px) Va(t)\"></div></div><div class=\"Ta(c) Py(6px) Bxz(bb) BdB Bdc($seperatorColor) Miw(120px) Miw(140px)--pnclg D(tbc)\" data-test=\"fin-col\"><div class=\"gray-placeholder D(ib) W(100%) H(16px) Va(t)\"></div></div><div class=\"Ta(c) Py(6px) Bxz(bb) BdB Bdc($seperatorColor) Miw(120px) Miw(140px)--pnclg Bgc($lv1BgColor) fi-row:h_Bgc($hoverBgColor) D(tbc)\" data-test=\"fin-col\"><div class=\"gray-placeholder D(ib) W(100%) H(16px) Va(t)\"></div></div><div class=\"Ta(c) Py(6px) Bxz(bb) BdB Bdc($seperatorColor) Miw(120px) Miw(140px)--pnclg D(tbc)\" data-test=\"fin-col\"><div class=\"gray-placeholder D(ib) W(100%) H(16px) Va(t)\"></div></div><div class=\"Ta(c) Py(6px) Bxz(bb) BdB Bdc($seperatorColor) Miw(120px) Miw(140px)--pnclg Bgc($lv1BgColor) fi-row:h_Bgc($hoverBgColor) D(tbc)\" data-test=\"fin-col\"><div class=\"gray-placeholder D(ib) W(100%) H(16px) Va(t)\"></div></div><div class=\"Ta(c) Py(6px) Bxz(bb) BdB Bdc($seperatorColor) Miw(120px) Miw(140px)--pnclg D(tbc)\" data-test=\"fin-col\"><div class=\"gray-placeholder D(ib) W(100%) H(16px) Va(t)\"></div></div><div class=\"Ta(c) Py(6px) Bxz(bb) BdB Bdc($seperatorColor) Miw(120px) Miw(140px)--pnclg Bgc($lv1BgColor) fi-row:h_Bgc($hoverBgColor) D(tbc)\" data-test=\"fin-col\"><div class=\"gray-placeholder D(ib) W(100%) H(16px) Va(t)\"></div></div><div class=\"Ta(c) Py(6px) Bxz(bb) BdB Bdc($seperatorColor) Miw(120px) Miw(140px)--pnclg D(tbc)\" data-test=\"fin-col\"><div class=\"gray-placeholder D(ib) W(100%) H(16px) Va(t)\"></div></div><div class=\"Ta(c) Py(6px) Bxz(bb) BdB Bdc($seperatorColor) Miw(120px) Miw(140px)--pnclg Bgc($lv1BgColor) fi-row:h_Bgc($hoverBgColor) D(tbc)\" data-test=\"fin-col\"><div class=\"gray-placeholder D(ib) W(100%) H(16px) Va(t)\"></div></div><div class=\"Ta(c) Py(6px) Bxz(bb) BdB Bdc($seperatorColor) Miw(120px) Miw(140px)--pnclg D(tbc)\" data-test=\"fin-col\"><div class=\"gray-placeholder D(ib) W(100%) H(16px) Va(t)\"></div></div><div class=\"Ta(c) Py(6px) Bxz(bb) BdB Bdc($seperatorColor) Miw(120px) Miw(140px)--pnclg Bgc($lv1BgColor) fi-row:h_Bgc($hoverBgColor) D(tbc)\" data-test=\"fin-col\"><div class=\"gray-placeholder D(ib) W(100%) H(16px) Va(t)\"></div></div><div class=\"Ta(c) Py(6px) Bxz(bb) BdB Bdc($seperatorColor) Miw(120px) Miw(140px)--pnclg D(tbc)\" data-test=\"fin-col\"><div class=\"gray-placeholder D(ib) W(100%) H(16px) Va(t)\"></div></div></div><div data-reactid=\"122\"></div></div><div class=\"rw-expnded\" data-reactid=\"123\" data-test=\"fin-row\"><div class=\"D(tbr) fi-row Bgc($hoverBgColor):h\" data-reactid=\"124\"><div class=\"D(tbc) Ta(start) Pend(15px)--mv2 Pend(10px) Bxz(bb) Py(8px) Bdends(s) Bdbs(s) Bdstarts(s) Bdstartw(1px) Bdbw(1px) Bdendw(1px) Bdc($seperatorColor) Pos(st) Start(0) Bgc($lv2BgColor) fi-row:h_Bgc($hoverBgColor) Pstart(15px)--mv2 Pstart(10px)\" data-reactid=\"125\"><div class=\"D(ib) Va(m) Ell Mt(-3px) W(215px)--mv2 W(200px) undefined\" data-reactid=\"126\" title=\"Investing Cash Flow\"><span class=\"Va(m)\" data-reactid=\"127\">Investing Cash Flow</span></div><div class=\"W(3px) Pos(a) Start(100%) T(0) H(100%) Bg($pfColumnFakeShadowGradient) Pe(n) Pend(5px)\" data-reactid=\"128\"></div></div><div class=\"Ta(c) Py(6px) Bxz(bb) BdB Bdc($seperatorColor) Miw(120px) Miw(140px)--pnclg Bgc($lv1BgColor) fi-row:h_Bgc($hoverBgColor) D(tbc)\" data-reactid=\"129\" data-test=\"fin-col\"><div class=\"gray-placeholder D(ib) W(100%) H(16px) Va(t)\"></div></div><div class=\"Ta(c) Py(6px) Bxz(bb) BdB Bdc($seperatorColor) Miw(120px) Miw(140px)--pnclg D(tbc)\" data-test=\"fin-col\"><div class=\"gray-placeholder D(ib) W(100%) H(16px) Va(t)\"></div></div><div class=\"Ta(c) Py(6px) Bxz(bb) BdB Bdc($seperatorColor) Miw(120px) Miw(140px)--pnclg Bgc($lv1BgColor) fi-row:h_Bgc($hoverBgColor) D(tbc)\" data-test=\"fin-col\"><div class=\"gray-placeholder D(ib) W(100%) H(16px) Va(t)\"></div></div><div class=\"Ta(c) Py(6px) Bxz(bb) BdB Bdc($seperatorColor) Miw(120px) Miw(140px)--pnclg D(tbc)\" data-test=\"fin-col\"><div class=\"gray-placeholder D(ib) W(100%) H(16px) Va(t)\"></div></div><div class=\"Ta(c) Py(6px) Bxz(bb) BdB Bdc($seperatorColor) Miw(120px) Miw(140px)--pnclg Bgc($lv1BgColor) fi-row:h_Bgc($hoverBgColor) D(tbc)\" data-test=\"fin-col\"><div class=\"gray-placeholder D(ib) W(100%) H(16px) Va(t)\"></div></div><div class=\"Ta(c) Py(6px) Bxz(bb) BdB Bdc($seperatorColor) Miw(120px) Miw(140px)--pnclg D(tbc)\" data-test=\"fin-col\"><div class=\"gray-placeholder D(ib) W(100%) H(16px) Va(t)\"></div></div><div class=\"Ta(c) Py(6px) Bxz(bb) BdB Bdc($seperatorColor) Miw(120px) Miw(140px)--pnclg Bgc($lv1BgColor) fi-row:h_Bgc($hoverBgColor) D(tbc)\" data-test=\"fin-col\"><div class=\"gray-placeholder D(ib) W(100%) H(16px) Va(t)\"></div></div><div class=\"Ta(c) Py(6px) Bxz(bb) BdB Bdc($seperatorColor) Miw(120px) Miw(140px)--pnclg D(tbc)\" data-test=\"fin-col\"><div class=\"gray-placeholder D(ib) W(100%) H(16px) Va(t)\"></div></div><div class=\"Ta(c) Py(6px) Bxz(bb) BdB Bdc($seperatorColor) Miw(120px) Miw(140px)--pnclg Bgc($lv1BgColor) fi-row:h_Bgc($hoverBgColor) D(tbc)\" data-test=\"fin-col\"><div class=\"gray-placeholder D(ib) W(100%) H(16px) Va(t)\"></div></div><div class=\"Ta(c) Py(6px) Bxz(bb) BdB Bdc($seperatorColor) Miw(120px) Miw(140px)--pnclg D(tbc)\" data-test=\"fin-col\"><div class=\"gray-placeholder D(ib) W(100%) H(16px) Va(t)\"></div></div><div class=\"Ta(c) Py(6px) Bxz(bb) BdB Bdc($seperatorColor) Miw(120px) Miw(140px)--pnclg Bgc($lv1BgColor) fi-row:h_Bgc($hoverBgColor) D(tbc)\" data-test=\"fin-col\"><div class=\"gray-placeholder D(ib) W(100%) H(16px) Va(t)\"></div></div><div class=\"Ta(c) Py(6px) Bxz(bb) BdB Bdc($seperatorColor) Miw(120px) Miw(140px)--pnclg D(tbc)\" data-test=\"fin-col\"><div class=\"gray-placeholder D(ib) W(100%) H(16px) Va(t)\"></div></div><div class=\"Ta(c) Py(6px) Bxz(bb) BdB Bdc($seperatorColor) Miw(120px) Miw(140px)--pnclg Bgc($lv1BgColor) fi-row:h_Bgc($hoverBgColor) D(tbc)\" data-test=\"fin-col\"><div class=\"gray-placeholder D(ib) W(100%) H(16px) Va(t)\"></div></div><div class=\"Ta(c) Py(6px) Bxz(bb) BdB Bdc($seperatorColor) Miw(120px) Miw(140px)--pnclg D(tbc)\" data-test=\"fin-col\"><div class=\"gray-placeholder D(ib) W(100%) H(16px) Va(t)\"></div></div><div class=\"Ta(c) Py(6px) Bxz(bb) BdB Bdc($seperatorColor) Miw(120px) Miw(140px)--pnclg Bgc($lv1BgColor) fi-row:h_Bgc($hoverBgColor) D(tbc)\" data-test=\"fin-col\"><div class=\"gray-placeholder D(ib) W(100%) H(16px) Va(t)\"></div></div><div class=\"Ta(c) Py(6px) Bxz(bb) BdB Bdc($seperatorColor) Miw(120px) Miw(140px)--pnclg D(tbc)\" data-test=\"fin-col\"><div class=\"gray-placeholder D(ib) W(100%) H(16px) Va(t)\"></div></div></div><div data-reactid=\"161\"></div></div><div class=\"rw-expnded\" data-reactid=\"162\" data-test=\"fin-row\"><div class=\"D(tbr) fi-row Bgc($hoverBgColor):h\" data-reactid=\"163\"><div class=\"D(tbc) Ta(start) Pend(15px)--mv2 Pend(10px) Bxz(bb) Py(8px) Bdends(s) Bdbs(s) Bdstarts(s) Bdstartw(1px) Bdbw(1px) Bdendw(1px) Bdc($seperatorColor) Pos(st) Start(0) Bgc($lv2BgColor) fi-row:h_Bgc($hoverBgColor) Pstart(15px)--mv2 Pstart(10px)\" data-reactid=\"164\"><div class=\"D(ib) Va(m) Ell Mt(-3px) W(215px)--mv2 W(200px) undefined\" data-reactid=\"165\" title=\"Financing Cash Flow\"><span class=\"Va(m)\" data-reactid=\"166\">Financing Cash Flow</span></div><div class=\"W(3px) Pos(a) Start(100%) T(0) H(100%) Bg($pfColumnFakeShadowGradient) Pe(n) Pend(5px)\" data-reactid=\"167\"></div></div><div class=\"Ta(c) Py(6px) Bxz(bb) BdB Bdc($seperatorColor) Miw(120px) Miw(140px)--pnclg Bgc($lv1BgColor) fi-row:h_Bgc($hoverBgColor) D(tbc)\" data-reactid=\"168\" data-test=\"fin-col\"><div class=\"gray-placeholder D(ib) W(100%) H(16px) Va(t)\"></div></div><div class=\"Ta(c) Py(6px) Bxz(bb) BdB Bdc($seperatorColor) Miw(120px) Miw(140px)--pnclg D(tbc)\" data-test=\"fin-col\"><div class=\"gray-placeholder D(ib) W(100%) H(16px) Va(t)\"></div></div><div class=\"Ta(c) Py(6px) Bxz(bb) BdB Bdc($seperatorColor) Miw(120px) Miw(140px)--pnclg Bgc($lv1BgColor) fi-row:h_Bgc($hoverBgColor) D(tbc)\" data-test=\"fin-col\"><div class=\"gray-placeholder D(ib) W(100%) H(16px) Va(t)\"></div></div><div class=\"Ta(c) Py(6px) Bxz(bb) BdB Bdc($seperatorColor) Miw(120px) Miw(140px)--pnclg D(tbc)\" data-test=\"fin-col\"><div class=\"gray-placeholder D(ib) W(100%) H(16px) Va(t)\"></div></div><div class=\"Ta(c) Py(6px) Bxz(bb) BdB Bdc($seperatorColor) Miw(120px) Miw(140px)--pnclg Bgc($lv1BgColor) fi-row:h_Bgc($hoverBgColor) D(tbc)\" data-test=\"fin-col\"><div class=\"gray-placeholder D(ib) W(100%) H(16px) Va(t)\"></div></div><div class=\"Ta(c) Py(6px) Bxz(bb) BdB Bdc($seperatorColor) Miw(120px) Miw(140px)--pnclg D(tbc)\" data-test=\"fin-col\"><div class=\"gray-placeholder D(ib) W(100%) H(16px) Va(t)\"></div></div><div class=\"Ta(c) Py(6px) Bxz(bb) BdB Bdc($seperatorColor) Miw(120px) Miw(140px)--pnclg Bgc($lv1BgColor) fi-row:h_Bgc($hoverBgColor) D(tbc)\" data-test=\"fin-col\"><div class=\"gray-placeholder D(ib) W(100%) H(16px) Va(t)\"></div></div><div class=\"Ta(c) Py(6px) Bxz(bb) BdB Bdc($seperatorColor) Miw(120px) Miw(140px)--pnclg D(tbc)\" data-test=\"fin-col\"><div class=\"gray-placeholder D(ib) W(100%) H(16px) Va(t)\"></div></div><div class=\"Ta(c) Py(6px) Bxz(bb) BdB Bdc($seperatorColor) Miw(120px) Miw(140px)--pnclg Bgc($lv1BgColor) fi-row:h_Bgc($hoverBgColor) D(tbc)\" data-test=\"fin-col\"><div class=\"gray-placeholder D(ib) W(100%) H(16px) Va(t)\"></div></div><div class=\"Ta(c) Py(6px) Bxz(bb) BdB Bdc($seperatorColor) Miw(120px) Miw(140px)--pnclg D(tbc)\" data-test=\"fin-col\"><div class=\"gray-placeholder D(ib) W(100%) H(16px) Va(t)\"></div></div><div class=\"Ta(c) Py(6px) Bxz(bb) BdB Bdc($seperatorColor) Miw(120px) Miw(140px)--pnclg Bgc($lv1BgColor) fi-row:h_Bgc($hoverBgColor) D(tbc)\" data-test=\"fin-col\"><div class=\"gray-placeholder D(ib) W(100%) H(16px) Va(t)\"></div></div><div class=\"Ta(c) Py(6px) Bxz(bb) BdB Bdc($seperatorColor) Miw(120px) Miw(140px)--pnclg D(tbc)\" data-test=\"fin-col\"><div class=\"gray-placeholder D(ib) W(100%) H(16px) Va(t)\"></div></div><div class=\"Ta(c) Py(6px) Bxz(bb) BdB Bdc($seperatorColor) Miw(120px) Miw(140px)--pnclg Bgc($lv1BgColor) fi-row:h_Bgc($hoverBgColor) D(tbc)\" data-test=\"fin-col\"><div class=\"gray-placeholder D(ib) W(100%) H(16px) Va(t)\"></div></div><div class=\"Ta(c) Py(6px) Bxz(bb) BdB Bdc($seperatorColor) Miw(120px) Miw(140px)--pnclg D(tbc)\" data-test=\"fin-col\"><div class=\"gray-placeholder D(ib) W(100%) H(16px) Va(t)\"></div></div><div class=\"Ta(c) Py(6px) Bxz(bb) BdB Bdc($seperatorColor) Miw(120px) Miw(140px)--pnclg Bgc($lv1BgColor) fi-row:h_Bgc($hoverBgColor) D(tbc)\" data-test=\"fin-col\"><div class=\"gray-placeholder D(ib) W(100%) H(16px) Va(t)\"></div></div><div class=\"Ta(c) Py(6px) Bxz(bb) BdB Bdc($seperatorColor) Miw(120px) Miw(140px)--pnclg D(tbc)\" data-test=\"fin-col\"><div class=\"gray-placeholder D(ib) W(100%) H(16px) Va(t)\"></div></div></div><div data-reactid=\"200\"></div></div><!-- react-empty: 201 --><!-- react-empty: 202 --><div class=\"rw-expnded\" data-reactid=\"203\" data-test=\"fin-row\"><div class=\"D(tbr) fi-row Bgc($hoverBgColor):h\" data-reactid=\"204\"><div class=\"D(tbc) Ta(start) Pend(15px)--mv2 Pend(10px) Bxz(bb) Py(8px) Bdends(s) Bdbs(s) Bdstarts(s) Bdstartw(1px) Bdbw(1px) Bdendw(1px) Bdc($seperatorColor) Pos(st) Start(0) Bgc($lv2BgColor) fi-row:h_Bgc($hoverBgColor) Pstart(15px)--mv2 Pstart(10px)\" data-reactid=\"205\"><div class=\"D(ib) Va(m) Ell Mt(-3px) W(215px)--mv2 W(200px) undefined\" data-reactid=\"206\" title=\"End Cash Position\"><button class=\"P(0) M(0) Va(m) Bd(0) Fz(s) Mend(2px) tgglBtn\" data-reactid=\"207\"><svg class=\"H(16px) Fill($primaryColor) Stk($primaryColor) tgglBtn:h_Fill($linkColor) tgglBtn:h_Stk($linkColor) Cur(p)\" data-icon=\"caret-down\" data-reactid=\"208\" height=\"16\" style=\"stroke-width:0;vertical-align:bottom;\" viewbox=\"0 0 48 48\" width=\"16\"><path d=\"M24.21 33.173l12.727-12.728c.78-.78.78-2.048 0-2.828-.78-.78-2.047-.78-2.828 0l-9.9 9.9-9.9-9.9c-.78-.78-2.047-.78-2.827 0-.78.78-.78 2.047 0 2.828L24.21 33.173z\" data-reactid=\"209\"></path></svg></button><span class=\"Va(m)\" data-reactid=\"210\">End Cash Position</span></div><div class=\"W(3px) Pos(a) Start(100%) T(0) H(100%) Bg($pfColumnFakeShadowGradient) Pe(n) Pend(5px)\" data-reactid=\"211\"></div></div><div class=\"Ta(c) Py(6px) Bxz(bb) BdB Bdc($seperatorColor) Miw(120px) Miw(140px)--pnclg Bgc($lv1BgColor) fi-row:h_Bgc($hoverBgColor) D(tbc)\" data-reactid=\"212\" data-test=\"fin-col\"><div class=\"gray-placeholder D(ib) W(100%) H(16px) Va(t)\"></div></div><div class=\"Ta(c) Py(6px) Bxz(bb) BdB Bdc($seperatorColor) Miw(120px) Miw(140px)--pnclg D(tbc)\" data-test=\"fin-col\"><div class=\"gray-placeholder D(ib) W(100%) H(16px) Va(t)\"></div></div><div class=\"Ta(c) Py(6px) Bxz(bb) BdB Bdc($seperatorColor) Miw(120px) Miw(140px)--pnclg Bgc($lv1BgColor) fi-row:h_Bgc($hoverBgColor) D(tbc)\" data-test=\"fin-col\"><div class=\"gray-placeholder D(ib) W(100%) H(16px) Va(t)\"></div></div><div class=\"Ta(c) Py(6px) Bxz(bb) BdB Bdc($seperatorColor) Miw(120px) Miw(140px)--pnclg D(tbc)\" data-test=\"fin-col\"><div class=\"gray-placeholder D(ib) W(100%) H(16px) Va(t)\"></div></div><div class=\"Ta(c) Py(6px) Bxz(bb) BdB Bdc($seperatorColor) Miw(120px) Miw(140px)--pnclg Bgc($lv1BgColor) fi-row:h_Bgc($hoverBgColor) D(tbc)\" data-test=\"fin-col\"><div class=\"gray-placeholder D(ib) W(100%) H(16px) Va(t)\"></div></div><div class=\"Ta(c) Py(6px) Bxz(bb) BdB Bdc($seperatorColor) Miw(120px) Miw(140px)--pnclg D(tbc)\" data-test=\"fin-col\"><div class=\"gray-placeholder D(ib) W(100%) H(16px) Va(t)\"></div></div><div class=\"Ta(c) Py(6px) Bxz(bb) BdB Bdc($seperatorColor) Miw(120px) Miw(140px)--pnclg Bgc($lv1BgColor) fi-row:h_Bgc($hoverBgColor) D(tbc)\" data-test=\"fin-col\"><div class=\"gray-placeholder D(ib) W(100%) H(16px) Va(t)\"></div></div><div class=\"Ta(c) Py(6px) Bxz(bb) BdB Bdc($seperatorColor) Miw(120px) Miw(140px)--pnclg D(tbc)\" data-test=\"fin-col\"><div class=\"gray-placeholder D(ib) W(100%) H(16px) Va(t)\"></div></div><div class=\"Ta(c) Py(6px) Bxz(bb) BdB Bdc($seperatorColor) Miw(120px) Miw(140px)--pnclg Bgc($lv1BgColor) fi-row:h_Bgc($hoverBgColor) D(tbc)\" data-test=\"fin-col\"><div class=\"gray-placeholder D(ib) W(100%) H(16px) Va(t)\"></div></div><div class=\"Ta(c) Py(6px) Bxz(bb) BdB Bdc($seperatorColor) Miw(120px) Miw(140px)--pnclg D(tbc)\" data-test=\"fin-col\"><div class=\"gray-placeholder D(ib) W(100%) H(16px) Va(t)\"></div></div><div class=\"Ta(c) Py(6px) Bxz(bb) BdB Bdc($seperatorColor) Miw(120px) Miw(140px)--pnclg Bgc($lv1BgColor) fi-row:h_Bgc($hoverBgColor) D(tbc)\" data-test=\"fin-col\"><div class=\"gray-placeholder D(ib) W(100%) H(16px) Va(t)\"></div></div><div class=\"Ta(c) Py(6px) Bxz(bb) BdB Bdc($seperatorColor) Miw(120px) Miw(140px)--pnclg D(tbc)\" data-test=\"fin-col\"><div class=\"gray-placeholder D(ib) W(100%) H(16px) Va(t)\"></div></div><div class=\"Ta(c) Py(6px) Bxz(bb) BdB Bdc($seperatorColor) Miw(120px) Miw(140px)--pnclg Bgc($lv1BgColor) fi-row:h_Bgc($hoverBgColor) D(tbc)\" data-test=\"fin-col\"><div class=\"gray-placeholder D(ib) W(100%) H(16px) Va(t)\"></div></div><div class=\"Ta(c) Py(6px) Bxz(bb) BdB Bdc($seperatorColor) Miw(120px) Miw(140px)--pnclg D(tbc)\" data-test=\"fin-col\"><div class=\"gray-placeholder D(ib) W(100%) H(16px) Va(t)\"></div></div><div class=\"Ta(c) Py(6px) Bxz(bb) BdB Bdc($seperatorColor) Miw(120px) Miw(140px)--pnclg Bgc($lv1BgColor) fi-row:h_Bgc($hoverBgColor) D(tbc)\" data-test=\"fin-col\"><div class=\"gray-placeholder D(ib) W(100%) H(16px) Va(t)\"></div></div><div class=\"Ta(c) Py(6px) Bxz(bb) BdB Bdc($seperatorColor) Miw(120px) Miw(140px)--pnclg D(tbc)\" data-test=\"fin-col\"><div class=\"gray-placeholder D(ib) W(100%) H(16px) Va(t)\"></div></div></div><div data-reactid=\"244\"><div class=\"rw-expnded\" data-test=\"fin-row\"><div class=\"D(tbr) fi-row Bgc($hoverBgColor):h\"><div class=\"D(tbc) Ta(start) Pend(15px)--mv2 Pend(10px) Bxz(bb) Py(8px) Bdends(s) Bdbs(s) Bdstarts(s) Bdstartw(1px) Bdbw(1px) Bdendw(1px) Bdc($seperatorColor) Pos(st) Start(0) Bgc($lv2BgColor) fi-row:h_Bgc($hoverBgColor) Pstart(30px)--mv2 Pstart(25px)\"><div class=\"D(ib) Va(m) Ell Mt(-3px) W(200px)--mv2 W(185px) undefined\" title=\"Changes in Cash\"><span class=\"Va(m)\">Changes in Cash</span></div><div class=\"W(3px) Pos(a) Start(100%) T(0) H(100%) Bg($pfColumnFakeShadowGradient) Pe(n) Pend(5px)\"></div></div><div class=\"Ta(c) Py(6px) Bxz(bb) BdB Bdc($seperatorColor) Miw(120px) Miw(140px)--pnclg Bgc($lv1BgColor) fi-row:h_Bgc($hoverBgColor) D(tbc)\" data-test=\"fin-col\"><div class=\"gray-placeholder D(ib) W(100%) H(16px) Va(t)\"></div></div><div class=\"Ta(c) Py(6px) Bxz(bb) BdB Bdc($seperatorColor) Miw(120px) Miw(140px)--pnclg D(tbc)\" data-test=\"fin-col\"><div class=\"gray-placeholder D(ib) W(100%) H(16px) Va(t)\"></div></div><div class=\"Ta(c) Py(6px) Bxz(bb) BdB Bdc($seperatorColor) Miw(120px) Miw(140px)--pnclg Bgc($lv1BgColor) fi-row:h_Bgc($hoverBgColor) D(tbc)\" data-test=\"fin-col\"><div class=\"gray-placeholder D(ib) W(100%) H(16px) Va(t)\"></div></div><div class=\"Ta(c) Py(6px) Bxz(bb) BdB Bdc($seperatorColor) Miw(120px) Miw(140px)--pnclg D(tbc)\" data-test=\"fin-col\"><div class=\"gray-placeholder D(ib) W(100%) H(16px) Va(t)\"></div></div><div class=\"Ta(c) Py(6px) Bxz(bb) BdB Bdc($seperatorColor) Miw(120px) Miw(140px)--pnclg Bgc($lv1BgColor) fi-row:h_Bgc($hoverBgColor) D(tbc)\" data-test=\"fin-col\"><div class=\"gray-placeholder D(ib) W(100%) H(16px) Va(t)\"></div></div><div class=\"Ta(c) Py(6px) Bxz(bb) BdB Bdc($seperatorColor) Miw(120px) Miw(140px)--pnclg D(tbc)\" data-test=\"fin-col\"><div class=\"gray-placeholder D(ib) W(100%) H(16px) Va(t)\"></div></div><div class=\"Ta(c) Py(6px) Bxz(bb) BdB Bdc($seperatorColor) Miw(120px) Miw(140px)--pnclg Bgc($lv1BgColor) fi-row:h_Bgc($hoverBgColor) D(tbc)\" data-test=\"fin-col\"><div class=\"gray-placeholder D(ib) W(100%) H(16px) Va(t)\"></div></div><div class=\"Ta(c) Py(6px) Bxz(bb) BdB Bdc($seperatorColor) Miw(120px) Miw(140px)--pnclg D(tbc)\" data-test=\"fin-col\"><div class=\"gray-placeholder D(ib) W(100%) H(16px) Va(t)\"></div></div><div class=\"Ta(c) Py(6px) Bxz(bb) BdB Bdc($seperatorColor) Miw(120px) Miw(140px)--pnclg Bgc($lv1BgColor) fi-row:h_Bgc($hoverBgColor) D(tbc)\" data-test=\"fin-col\"><div class=\"gray-placeholder D(ib) W(100%) H(16px) Va(t)\"></div></div><div class=\"Ta(c) Py(6px) Bxz(bb) BdB Bdc($seperatorColor) Miw(120px) Miw(140px)--pnclg D(tbc)\" data-test=\"fin-col\"><div class=\"gray-placeholder D(ib) W(100%) H(16px) Va(t)\"></div></div><div class=\"Ta(c) Py(6px) Bxz(bb) BdB Bdc($seperatorColor) Miw(120px) Miw(140px)--pnclg Bgc($lv1BgColor) fi-row:h_Bgc($hoverBgColor) D(tbc)\" data-test=\"fin-col\"><div class=\"gray-placeholder D(ib) W(100%) H(16px) Va(t)\"></div></div><div class=\"Ta(c) Py(6px) Bxz(bb) BdB Bdc($seperatorColor) Miw(120px) Miw(140px)--pnclg D(tbc)\" data-test=\"fin-col\"><div class=\"gray-placeholder D(ib) W(100%) H(16px) Va(t)\"></div></div><div class=\"Ta(c) Py(6px) Bxz(bb) BdB Bdc($seperatorColor) Miw(120px) Miw(140px)--pnclg Bgc($lv1BgColor) fi-row:h_Bgc($hoverBgColor) D(tbc)\" data-test=\"fin-col\"><div class=\"gray-placeholder D(ib) W(100%) H(16px) Va(t)\"></div></div><div class=\"Ta(c) Py(6px) Bxz(bb) BdB Bdc($seperatorColor) Miw(120px) Miw(140px)--pnclg D(tbc)\" data-test=\"fin-col\"><div class=\"gray-placeholder D(ib) W(100%) H(16px) Va(t)\"></div></div><div class=\"Ta(c) Py(6px) Bxz(bb) BdB Bdc($seperatorColor) Miw(120px) Miw(140px)--pnclg Bgc($lv1BgColor) fi-row:h_Bgc($hoverBgColor) D(tbc)\" data-test=\"fin-col\"><div class=\"gray-placeholder D(ib) W(100%) H(16px) Va(t)\"></div></div><div class=\"Ta(c) Py(6px) Bxz(bb) BdB Bdc($seperatorColor) Miw(120px) Miw(140px)--pnclg D(tbc)\" data-test=\"fin-col\"><div class=\"gray-placeholder D(ib) W(100%) H(16px) Va(t)\"></div></div></div><div></div></div><div class=\"rw-expnded\" data-test=\"fin-row\"><div class=\"D(tbr) fi-row Bgc($hoverBgColor):h\"><div class=\"D(tbc) Ta(start) Pend(15px)--mv2 Pend(10px) Bxz(bb) Py(8px) Bdends(s) Bdbs(s) Bdstarts(s) Bdstartw(1px) Bdbw(1px) Bdendw(1px) Bdc($seperatorColor) Pos(st) Start(0) Bgc($lv2BgColor) fi-row:h_Bgc($hoverBgColor) Pstart(30px)--mv2 Pstart(25px)\"><div class=\"D(ib) Va(m) Ell Mt(-3px) W(200px)--mv2 W(185px) undefined\" title=\"Effect of Exchange Rate Changes\"><span class=\"Va(m)\">Effect of Exchange Rate Changes</span></div><div class=\"W(3px) Pos(a) Start(100%) T(0) H(100%) Bg($pfColumnFakeShadowGradient) Pe(n) Pend(5px)\"></div></div><div class=\"Ta(c) Py(6px) Bxz(bb) BdB Bdc($seperatorColor) Miw(120px) Miw(140px)--pnclg Bgc($lv1BgColor) fi-row:h_Bgc($hoverBgColor) D(tbc)\" data-test=\"fin-col\"><div class=\"gray-placeholder D(ib) W(100%) H(16px) Va(t)\"></div></div><div class=\"Ta(c) Py(6px) Bxz(bb) BdB Bdc($seperatorColor) Miw(120px) Miw(140px)--pnclg D(tbc)\" data-test=\"fin-col\"><div class=\"gray-placeholder D(ib) W(100%) H(16px) Va(t)\"></div></div><div class=\"Ta(c) Py(6px) Bxz(bb) BdB Bdc($seperatorColor) Miw(120px) Miw(140px)--pnclg Bgc($lv1BgColor) fi-row:h_Bgc($hoverBgColor) D(tbc)\" data-test=\"fin-col\"><div class=\"gray-placeholder D(ib) W(100%) H(16px) Va(t)\"></div></div><div class=\"Ta(c) Py(6px) Bxz(bb) BdB Bdc($seperatorColor) Miw(120px) Miw(140px)--pnclg D(tbc)\" data-test=\"fin-col\"><div class=\"gray-placeholder D(ib) W(100%) H(16px) Va(t)\"></div></div><div class=\"Ta(c) Py(6px) Bxz(bb) BdB Bdc($seperatorColor) Miw(120px) Miw(140px)--pnclg Bgc($lv1BgColor) fi-row:h_Bgc($hoverBgColor) D(tbc)\" data-test=\"fin-col\"><div class=\"gray-placeholder D(ib) W(100%) H(16px) Va(t)\"></div></div><div class=\"Ta(c) Py(6px) Bxz(bb) BdB Bdc($seperatorColor) Miw(120px) Miw(140px)--pnclg D(tbc)\" data-test=\"fin-col\"><div class=\"gray-placeholder D(ib) W(100%) H(16px) Va(t)\"></div></div><div class=\"Ta(c) Py(6px) Bxz(bb) BdB Bdc($seperatorColor) Miw(120px) Miw(140px)--pnclg Bgc($lv1BgColor) fi-row:h_Bgc($hoverBgColor) D(tbc)\" data-test=\"fin-col\"><div class=\"gray-placeholder D(ib) W(100%) H(16px) Va(t)\"></div></div><div class=\"Ta(c) Py(6px) Bxz(bb) BdB Bdc($seperatorColor) Miw(120px) Miw(140px)--pnclg D(tbc)\" data-test=\"fin-col\"><div class=\"gray-placeholder D(ib) W(100%) H(16px) Va(t)\"></div></div><div class=\"Ta(c) Py(6px) Bxz(bb) BdB Bdc($seperatorColor) Miw(120px) Miw(140px)--pnclg Bgc($lv1BgColor) fi-row:h_Bgc($hoverBgColor) D(tbc)\" data-test=\"fin-col\"><div class=\"gray-placeholder D(ib) W(100%) H(16px) Va(t)\"></div></div><div class=\"Ta(c) Py(6px) Bxz(bb) BdB Bdc($seperatorColor) Miw(120px) Miw(140px)--pnclg D(tbc)\" data-test=\"fin-col\"><div class=\"gray-placeholder D(ib) W(100%) H(16px) Va(t)\"></div></div><div class=\"Ta(c) Py(6px) Bxz(bb) BdB Bdc($seperatorColor) Miw(120px) Miw(140px)--pnclg Bgc($lv1BgColor) fi-row:h_Bgc($hoverBgColor) D(tbc)\" data-test=\"fin-col\"><div class=\"gray-placeholder D(ib) W(100%) H(16px) Va(t)\"></div></div><div class=\"Ta(c) Py(6px) Bxz(bb) BdB Bdc($seperatorColor) Miw(120px) Miw(140px)--pnclg D(tbc)\" data-test=\"fin-col\"><div class=\"gray-placeholder D(ib) W(100%) H(16px) Va(t)\"></div></div><div class=\"Ta(c) Py(6px) Bxz(bb) BdB Bdc($seperatorColor) Miw(120px) Miw(140px)--pnclg Bgc($lv1BgColor) fi-row:h_Bgc($hoverBgColor) D(tbc)\" data-test=\"fin-col\"><div class=\"gray-placeholder D(ib) W(100%) H(16px) Va(t)\"></div></div><div class=\"Ta(c) Py(6px) Bxz(bb) BdB Bdc($seperatorColor) Miw(120px) Miw(140px)--pnclg D(tbc)\" data-test=\"fin-col\"><div class=\"gray-placeholder D(ib) W(100%) H(16px) Va(t)\"></div></div><div class=\"Ta(c) Py(6px) Bxz(bb) BdB Bdc($seperatorColor) Miw(120px) Miw(140px)--pnclg Bgc($lv1BgColor) fi-row:h_Bgc($hoverBgColor) D(tbc)\" data-test=\"fin-col\"><div class=\"gray-placeholder D(ib) W(100%) H(16px) Va(t)\"></div></div><div class=\"Ta(c) Py(6px) Bxz(bb) BdB Bdc($seperatorColor) Miw(120px) Miw(140px)--pnclg D(tbc)\" data-test=\"fin-col\"><div class=\"gray-placeholder D(ib) W(100%) H(16px) Va(t)\"></div></div></div><div></div></div><div class=\"rw-expnded\" data-test=\"fin-row\"><div class=\"D(tbr) fi-row Bgc($hoverBgColor):h\"><div class=\"D(tbc) Ta(start) Pend(15px)--mv2 Pend(10px) Bxz(bb) Py(8px) Bdends(s) Bdbs(s) Bdstarts(s) Bdstartw(1px) Bdbw(1px) Bdendw(1px) Bdc($seperatorColor) Pos(st) Start(0) Bgc($lv2BgColor) fi-row:h_Bgc($hoverBgColor) Pstart(30px)--mv2 Pstart(25px)\"><div class=\"D(ib) Va(m) Ell Mt(-3px) W(200px)--mv2 W(185px) undefined\" title=\"Beginning Cash Position\"><span class=\"Va(m)\">Beginning Cash Position</span></div><div class=\"W(3px) Pos(a) Start(100%) T(0) H(100%) Bg($pfColumnFakeShadowGradient) Pe(n) Pend(5px)\"></div></div><div class=\"Ta(c) Py(6px) Bxz(bb) BdB Bdc($seperatorColor) Miw(120px) Miw(140px)--pnclg Bgc($lv1BgColor) fi-row:h_Bgc($hoverBgColor) D(tbc)\" data-test=\"fin-col\"><div class=\"gray-placeholder D(ib) W(100%) H(16px) Va(t)\"></div></div><div class=\"Ta(c) Py(6px) Bxz(bb) BdB Bdc($seperatorColor) Miw(120px) Miw(140px)--pnclg D(tbc)\" data-test=\"fin-col\"><div class=\"gray-placeholder D(ib) W(100%) H(16px) Va(t)\"></div></div><div class=\"Ta(c) Py(6px) Bxz(bb) BdB Bdc($seperatorColor) Miw(120px) Miw(140px)--pnclg Bgc($lv1BgColor) fi-row:h_Bgc($hoverBgColor) D(tbc)\" data-test=\"fin-col\"><div class=\"gray-placeholder D(ib) W(100%) H(16px) Va(t)\"></div></div><div class=\"Ta(c) Py(6px) Bxz(bb) BdB Bdc($seperatorColor) Miw(120px) Miw(140px)--pnclg D(tbc)\" data-test=\"fin-col\"><div class=\"gray-placeholder D(ib) W(100%) H(16px) Va(t)\"></div></div><div class=\"Ta(c) Py(6px) Bxz(bb) BdB Bdc($seperatorColor) Miw(120px) Miw(140px)--pnclg Bgc($lv1BgColor) fi-row:h_Bgc($hoverBgColor) D(tbc)\" data-test=\"fin-col\"><div class=\"gray-placeholder D(ib) W(100%) H(16px) Va(t)\"></div></div><div class=\"Ta(c) Py(6px) Bxz(bb) BdB Bdc($seperatorColor) Miw(120px) Miw(140px)--pnclg D(tbc)\" data-test=\"fin-col\"><div class=\"gray-placeholder D(ib) W(100%) H(16px) Va(t)\"></div></div><div class=\"Ta(c) Py(6px) Bxz(bb) BdB Bdc($seperatorColor) Miw(120px) Miw(140px)--pnclg Bgc($lv1BgColor) fi-row:h_Bgc($hoverBgColor) D(tbc)\" data-test=\"fin-col\"><div class=\"gray-placeholder D(ib) W(100%) H(16px) Va(t)\"></div></div><div class=\"Ta(c) Py(6px) Bxz(bb) BdB Bdc($seperatorColor) Miw(120px) Miw(140px)--pnclg D(tbc)\" data-test=\"fin-col\"><div class=\"gray-placeholder D(ib) W(100%) H(16px) Va(t)\"></div></div><div class=\"Ta(c) Py(6px) Bxz(bb) BdB Bdc($seperatorColor) Miw(120px) Miw(140px)--pnclg Bgc($lv1BgColor) fi-row:h_Bgc($hoverBgColor) D(tbc)\" data-test=\"fin-col\"><div class=\"gray-placeholder D(ib) W(100%) H(16px) Va(t)\"></div></div><div class=\"Ta(c) Py(6px) Bxz(bb) BdB Bdc($seperatorColor) Miw(120px) Miw(140px)--pnclg D(tbc)\" data-test=\"fin-col\"><div class=\"gray-placeholder D(ib) W(100%) H(16px) Va(t)\"></div></div><div class=\"Ta(c) Py(6px) Bxz(bb) BdB Bdc($seperatorColor) Miw(120px) Miw(140px)--pnclg Bgc($lv1BgColor) fi-row:h_Bgc($hoverBgColor) D(tbc)\" data-test=\"fin-col\"><div class=\"gray-placeholder D(ib) W(100%) H(16px) Va(t)\"></div></div><div class=\"Ta(c) Py(6px) Bxz(bb) BdB Bdc($seperatorColor) Miw(120px) Miw(140px)--pnclg D(tbc)\" data-test=\"fin-col\"><div class=\"gray-placeholder D(ib) W(100%) H(16px) Va(t)\"></div></div><div class=\"Ta(c) Py(6px) Bxz(bb) BdB Bdc($seperatorColor) Miw(120px) Miw(140px)--pnclg Bgc($lv1BgColor) fi-row:h_Bgc($hoverBgColor) D(tbc)\" data-test=\"fin-col\"><div class=\"gray-placeholder D(ib) W(100%) H(16px) Va(t)\"></div></div><div class=\"Ta(c) Py(6px) Bxz(bb) BdB Bdc($seperatorColor) Miw(120px) Miw(140px)--pnclg D(tbc)\" data-test=\"fin-col\"><div class=\"gray-placeholder D(ib) W(100%) H(16px) Va(t)\"></div></div><div class=\"Ta(c) Py(6px) Bxz(bb) BdB Bdc($seperatorColor) Miw(120px) Miw(140px)--pnclg Bgc($lv1BgColor) fi-row:h_Bgc($hoverBgColor) D(tbc)\" data-test=\"fin-col\"><div class=\"gray-placeholder D(ib) W(100%) H(16px) Va(t)\"></div></div><div class=\"Ta(c) Py(6px) Bxz(bb) BdB Bdc($seperatorColor) Miw(120px) Miw(140px)--pnclg D(tbc)\" data-test=\"fin-col\"><div class=\"gray-placeholder D(ib) W(100%) H(16px) Va(t)\"></div></div></div><div></div></div></div></div><!-- react-empty: 245 --><!-- react-empty: 246 --><div class=\"rw-expnded\" data-reactid=\"247\" data-test=\"fin-row\"><div class=\"D(tbr) fi-row Bgc($hoverBgColor):h\" data-reactid=\"248\"><div class=\"D(tbc) Ta(start) Pend(15px)--mv2 Pend(10px) Bxz(bb) Py(8px) Bdends(s) Bdbs(s) Bdstarts(s) Bdstartw(1px) Bdbw(1px) Bdendw(1px) Bdc($seperatorColor) Pos(st) Start(0) Bgc($lv2BgColor) fi-row:h_Bgc($hoverBgColor) Pstart(15px)--mv2 Pstart(10px)\" data-reactid=\"249\"><div class=\"D(ib) Va(m) Ell Mt(-3px) W(215px)--mv2 W(200px) undefined\" data-reactid=\"250\" title=\"Capital Expenditure\"><span class=\"Va(m)\" data-reactid=\"251\">Capital Expenditure</span></div><div class=\"W(3px) Pos(a) Start(100%) T(0) H(100%) Bg($pfColumnFakeShadowGradient) Pe(n) Pend(5px)\" data-reactid=\"252\"></div></div><div class=\"Ta(c) Py(6px) Bxz(bb) BdB Bdc($seperatorColor) Miw(120px) Miw(140px)--pnclg Bgc($lv1BgColor) fi-row:h_Bgc($hoverBgColor) D(tbc)\" data-reactid=\"253\" data-test=\"fin-col\"><div class=\"gray-placeholder D(ib) W(100%) H(16px) Va(t)\"></div></div><div class=\"Ta(c) Py(6px) Bxz(bb) BdB Bdc($seperatorColor) Miw(120px) Miw(140px)--pnclg D(tbc)\" data-test=\"fin-col\"><div class=\"gray-placeholder D(ib) W(100%) H(16px) Va(t)\"></div></div><div class=\"Ta(c) Py(6px) Bxz(bb) BdB Bdc($seperatorColor) Miw(120px) Miw(140px)--pnclg Bgc($lv1BgColor) fi-row:h_Bgc($hoverBgColor) D(tbc)\" data-test=\"fin-col\"><div class=\"gray-placeholder D(ib) W(100%) H(16px) Va(t)\"></div></div><div class=\"Ta(c) Py(6px) Bxz(bb) BdB Bdc($seperatorColor) Miw(120px) Miw(140px)--pnclg D(tbc)\" data-test=\"fin-col\"><div class=\"gray-placeholder D(ib) W(100%) H(16px) Va(t)\"></div></div><div class=\"Ta(c) Py(6px) Bxz(bb) BdB Bdc($seperatorColor) Miw(120px) Miw(140px)--pnclg Bgc($lv1BgColor) fi-row:h_Bgc($hoverBgColor) D(tbc)\" data-test=\"fin-col\"><div class=\"gray-placeholder D(ib) W(100%) H(16px) Va(t)\"></div></div><div class=\"Ta(c) Py(6px) Bxz(bb) BdB Bdc($seperatorColor) Miw(120px) Miw(140px)--pnclg D(tbc)\" data-test=\"fin-col\"><div class=\"gray-placeholder D(ib) W(100%) H(16px) Va(t)\"></div></div><div class=\"Ta(c) Py(6px) Bxz(bb) BdB Bdc($seperatorColor) Miw(120px) Miw(140px)--pnclg Bgc($lv1BgColor) fi-row:h_Bgc($hoverBgColor) D(tbc)\" data-test=\"fin-col\"><div class=\"gray-placeholder D(ib) W(100%) H(16px) Va(t)\"></div></div><div class=\"Ta(c) Py(6px) Bxz(bb) BdB Bdc($seperatorColor) Miw(120px) Miw(140px)--pnclg D(tbc)\" data-test=\"fin-col\"><div class=\"gray-placeholder D(ib) W(100%) H(16px) Va(t)\"></div></div><div class=\"Ta(c) Py(6px) Bxz(bb) BdB Bdc($seperatorColor) Miw(120px) Miw(140px)--pnclg Bgc($lv1BgColor) fi-row:h_Bgc($hoverBgColor) D(tbc)\" data-test=\"fin-col\"><div class=\"gray-placeholder D(ib) W(100%) H(16px) Va(t)\"></div></div><div class=\"Ta(c) Py(6px) Bxz(bb) BdB Bdc($seperatorColor) Miw(120px) Miw(140px)--pnclg D(tbc)\" data-test=\"fin-col\"><div class=\"gray-placeholder D(ib) W(100%) H(16px) Va(t)\"></div></div><div class=\"Ta(c) Py(6px) Bxz(bb) BdB Bdc($seperatorColor) Miw(120px) Miw(140px)--pnclg Bgc($lv1BgColor) fi-row:h_Bgc($hoverBgColor) D(tbc)\" data-test=\"fin-col\"><div class=\"gray-placeholder D(ib) W(100%) H(16px) Va(t)\"></div></div><div class=\"Ta(c) Py(6px) Bxz(bb) BdB Bdc($seperatorColor) Miw(120px) Miw(140px)--pnclg D(tbc)\" data-test=\"fin-col\"><div class=\"gray-placeholder D(ib) W(100%) H(16px) Va(t)\"></div></div><div class=\"Ta(c) Py(6px) Bxz(bb) BdB Bdc($seperatorColor) Miw(120px) Miw(140px)--pnclg Bgc($lv1BgColor) fi-row:h_Bgc($hoverBgColor) D(tbc)\" data-test=\"fin-col\"><div class=\"gray-placeholder D(ib) W(100%) H(16px) Va(t)\"></div></div><div class=\"Ta(c) Py(6px) Bxz(bb) BdB Bdc($seperatorColor) Miw(120px) Miw(140px)--pnclg D(tbc)\" data-test=\"fin-col\"><div class=\"gray-placeholder D(ib) W(100%) H(16px) Va(t)\"></div></div><div class=\"Ta(c) Py(6px) Bxz(bb) BdB Bdc($seperatorColor) Miw(120px) Miw(140px)--pnclg Bgc($lv1BgColor) fi-row:h_Bgc($hoverBgColor) D(tbc)\" data-test=\"fin-col\"><div class=\"gray-placeholder D(ib) W(100%) H(16px) Va(t)\"></div></div><div class=\"Ta(c) Py(6px) Bxz(bb) BdB Bdc($seperatorColor) Miw(120px) Miw(140px)--pnclg D(tbc)\" data-test=\"fin-col\"><div class=\"gray-placeholder D(ib) W(100%) H(16px) Va(t)\"></div></div></div><div data-reactid=\"285\"></div></div><!-- react-empty: 3094 --><!-- react-empty: 3095 --><div class=\"rw-expnded\" data-reactid=\"355\" data-test=\"fin-row\"><div class=\"D(tbr) fi-row Bgc($hoverBgColor):h\" data-reactid=\"356\"><div class=\"D(tbc) Ta(start) Pend(15px)--mv2 Pend(10px) Bxz(bb) Py(8px) Bdends(s) Bdbs(s) Bdstarts(s) Bdstartw(1px) Bdbw(1px) Bdendw(1px) Bdc($seperatorColor) Pos(st) Start(0) Bgc($lv2BgColor) fi-row:h_Bgc($hoverBgColor) Pstart(15px)--mv2 Pstart(10px)\" data-reactid=\"357\"><div class=\"D(ib) Va(m) Ell Mt(-3px) W(215px)--mv2 W(200px) undefined\" data-reactid=\"358\" title=\"Repayment of Debt\"><span class=\"Va(m)\" data-reactid=\"359\">Repayment of Debt</span></div><div class=\"W(3px) Pos(a) Start(100%) T(0) H(100%) Bg($pfColumnFakeShadowGradient) Pe(n) Pend(5px)\" data-reactid=\"360\"></div></div><div class=\"Ta(c) Py(6px) Bxz(bb) BdB Bdc($seperatorColor) Miw(120px) Miw(140px)--pnclg Bgc($lv1BgColor) fi-row:h_Bgc($hoverBgColor) D(tbc)\" data-reactid=\"361\" data-test=\"fin-col\"><div class=\"gray-placeholder D(ib) W(100%) H(16px) Va(t)\"></div></div><div class=\"Ta(c) Py(6px) Bxz(bb) BdB Bdc($seperatorColor) Miw(120px) Miw(140px)--pnclg D(tbc)\" data-test=\"fin-col\"><div class=\"gray-placeholder D(ib) W(100%) H(16px) Va(t)\"></div></div><div class=\"Ta(c) Py(6px) Bxz(bb) BdB Bdc($seperatorColor) Miw(120px) Miw(140px)--pnclg Bgc($lv1BgColor) fi-row:h_Bgc($hoverBgColor) D(tbc)\" data-test=\"fin-col\"><div class=\"gray-placeholder D(ib) W(100%) H(16px) Va(t)\"></div></div><div class=\"Ta(c) Py(6px) Bxz(bb) BdB Bdc($seperatorColor) Miw(120px) Miw(140px)--pnclg D(tbc)\" data-test=\"fin-col\"><div class=\"gray-placeholder D(ib) W(100%) H(16px) Va(t)\"></div></div><div class=\"Ta(c) Py(6px) Bxz(bb) BdB Bdc($seperatorColor) Miw(120px) Miw(140px)--pnclg Bgc($lv1BgColor) fi-row:h_Bgc($hoverBgColor) D(tbc)\" data-test=\"fin-col\"><div class=\"gray-placeholder D(ib) W(100%) H(16px) Va(t)\"></div></div><div class=\"Ta(c) Py(6px) Bxz(bb) BdB Bdc($seperatorColor) Miw(120px) Miw(140px)--pnclg D(tbc)\" data-test=\"fin-col\"><div class=\"gray-placeholder D(ib) W(100%) H(16px) Va(t)\"></div></div><div class=\"Ta(c) Py(6px) Bxz(bb) BdB Bdc($seperatorColor) Miw(120px) Miw(140px)--pnclg Bgc($lv1BgColor) fi-row:h_Bgc($hoverBgColor) D(tbc)\" data-test=\"fin-col\"><div class=\"gray-placeholder D(ib) W(100%) H(16px) Va(t)\"></div></div><div class=\"Ta(c) Py(6px) Bxz(bb) BdB Bdc($seperatorColor) Miw(120px) Miw(140px)--pnclg D(tbc)\" data-test=\"fin-col\"><div class=\"gray-placeholder D(ib) W(100%) H(16px) Va(t)\"></div></div><div class=\"Ta(c) Py(6px) Bxz(bb) BdB Bdc($seperatorColor) Miw(120px) Miw(140px)--pnclg Bgc($lv1BgColor) fi-row:h_Bgc($hoverBgColor) D(tbc)\" data-test=\"fin-col\"><div class=\"gray-placeholder D(ib) W(100%) H(16px) Va(t)\"></div></div><div class=\"Ta(c) Py(6px) Bxz(bb) BdB Bdc($seperatorColor) Miw(120px) Miw(140px)--pnclg D(tbc)\" data-test=\"fin-col\"><div class=\"gray-placeholder D(ib) W(100%) H(16px) Va(t)\"></div></div><div class=\"Ta(c) Py(6px) Bxz(bb) BdB Bdc($seperatorColor) Miw(120px) Miw(140px)--pnclg Bgc($lv1BgColor) fi-row:h_Bgc($hoverBgColor) D(tbc)\" data-test=\"fin-col\"><div class=\"gray-placeholder D(ib) W(100%) H(16px) Va(t)\"></div></div><div class=\"Ta(c) Py(6px) Bxz(bb) BdB Bdc($seperatorColor) Miw(120px) Miw(140px)--pnclg D(tbc)\" data-test=\"fin-col\"><div class=\"gray-placeholder D(ib) W(100%) H(16px) Va(t)\"></div></div><div class=\"Ta(c) Py(6px) Bxz(bb) BdB Bdc($seperatorColor) Miw(120px) Miw(140px)--pnclg Bgc($lv1BgColor) fi-row:h_Bgc($hoverBgColor) D(tbc)\" data-test=\"fin-col\"><div class=\"gray-placeholder D(ib) W(100%) H(16px) Va(t)\"></div></div><div class=\"Ta(c) Py(6px) Bxz(bb) BdB Bdc($seperatorColor) Miw(120px) Miw(140px)--pnclg D(tbc)\" data-test=\"fin-col\"><div class=\"gray-placeholder D(ib) W(100%) H(16px) Va(t)\"></div></div><div class=\"Ta(c) Py(6px) Bxz(bb) BdB Bdc($seperatorColor) Miw(120px) Miw(140px)--pnclg Bgc($lv1BgColor) fi-row:h_Bgc($hoverBgColor) D(tbc)\" data-test=\"fin-col\"><div class=\"gray-placeholder D(ib) W(100%) H(16px) Va(t)\"></div></div><div class=\"Ta(c) Py(6px) Bxz(bb) BdB Bdc($seperatorColor) Miw(120px) Miw(140px)--pnclg D(tbc)\" data-test=\"fin-col\"><div class=\"gray-placeholder D(ib) W(100%) H(16px) Va(t)\"></div></div></div><div data-reactid=\"393\"></div></div><!-- react-empty: 3127 --><div class=\"rw-expnded\" data-reactid=\"426\" data-test=\"fin-row\"><div class=\"D(tbr) fi-row Bgc($hoverBgColor):h\" data-reactid=\"427\"><div class=\"D(tbc) Ta(start) Pend(15px)--mv2 Pend(10px) Bxz(bb) Py(8px) Bdends(s) Bdbs(s) Bdstarts(s) Bdstartw(1px) Bdbw(1px) Bdendw(1px) Bdc($seperatorColor) Pos(st) Start(0) Bgc($lv2BgColor) fi-row:h_Bgc($hoverBgColor) Pstart(15px)--mv2 Pstart(10px)\" data-reactid=\"428\"><div class=\"D(ib) Va(m) Ell Mt(-3px) W(215px)--mv2 W(200px) undefined\" data-reactid=\"429\" title=\"Free Cash Flow\"><span class=\"Va(m)\" data-reactid=\"430\">Free Cash Flow</span></div><div class=\"W(3px) Pos(a) Start(100%) T(0) H(100%) Bg($pfColumnFakeShadowGradient) Pe(n) Pend(5px)\" data-reactid=\"431\"></div></div><div class=\"Ta(c) Py(6px) Bxz(bb) BdB Bdc($seperatorColor) Miw(120px) Miw(140px)--pnclg Bgc($lv1BgColor) fi-row:h_Bgc($hoverBgColor) D(tbc)\" data-reactid=\"432\" data-test=\"fin-col\"><div class=\"gray-placeholder D(ib) W(100%) H(16px) Va(t)\"></div></div><div class=\"Ta(c) Py(6px) Bxz(bb) BdB Bdc($seperatorColor) Miw(120px) Miw(140px)--pnclg D(tbc)\" data-test=\"fin-col\"><div class=\"gray-placeholder D(ib) W(100%) H(16px) Va(t)\"></div></div><div class=\"Ta(c) Py(6px) Bxz(bb) BdB Bdc($seperatorColor) Miw(120px) Miw(140px)--pnclg Bgc($lv1BgColor) fi-row:h_Bgc($hoverBgColor) D(tbc)\" data-test=\"fin-col\"><div class=\"gray-placeholder D(ib) W(100%) H(16px) Va(t)\"></div></div><div class=\"Ta(c) Py(6px) Bxz(bb) BdB Bdc($seperatorColor) Miw(120px) Miw(140px)--pnclg D(tbc)\" data-test=\"fin-col\"><div class=\"gray-placeholder D(ib) W(100%) H(16px) Va(t)\"></div></div><div class=\"Ta(c) Py(6px) Bxz(bb) BdB Bdc($seperatorColor) Miw(120px) Miw(140px)--pnclg Bgc($lv1BgColor) fi-row:h_Bgc($hoverBgColor) D(tbc)\" data-test=\"fin-col\"><div class=\"gray-placeholder D(ib) W(100%) H(16px) Va(t)\"></div></div><div class=\"Ta(c) Py(6px) Bxz(bb) BdB Bdc($seperatorColor) Miw(120px) Miw(140px)--pnclg D(tbc)\" data-test=\"fin-col\"><div class=\"gray-placeholder D(ib) W(100%) H(16px) Va(t)\"></div></div><div class=\"Ta(c) Py(6px) Bxz(bb) BdB Bdc($seperatorColor) Miw(120px) Miw(140px)--pnclg Bgc($lv1BgColor) fi-row:h_Bgc($hoverBgColor) D(tbc)\" data-test=\"fin-col\"><div class=\"gray-placeholder D(ib) W(100%) H(16px) Va(t)\"></div></div><div class=\"Ta(c) Py(6px) Bxz(bb) BdB Bdc($seperatorColor) Miw(120px) Miw(140px)--pnclg D(tbc)\" data-test=\"fin-col\"><div class=\"gray-placeholder D(ib) W(100%) H(16px) Va(t)\"></div></div><div class=\"Ta(c) Py(6px) Bxz(bb) BdB Bdc($seperatorColor) Miw(120px) Miw(140px)--pnclg Bgc($lv1BgColor) fi-row:h_Bgc($hoverBgColor) D(tbc)\" data-test=\"fin-col\"><div class=\"gray-placeholder D(ib) W(100%) H(16px) Va(t)\"></div></div><div class=\"Ta(c) Py(6px) Bxz(bb) BdB Bdc($seperatorColor) Miw(120px) Miw(140px)--pnclg D(tbc)\" data-test=\"fin-col\"><div class=\"gray-placeholder D(ib) W(100%) H(16px) Va(t)\"></div></div><div class=\"Ta(c) Py(6px) Bxz(bb) BdB Bdc($seperatorColor) Miw(120px) Miw(140px)--pnclg Bgc($lv1BgColor) fi-row:h_Bgc($hoverBgColor) D(tbc)\" data-test=\"fin-col\"><div class=\"gray-placeholder D(ib) W(100%) H(16px) Va(t)\"></div></div><div class=\"Ta(c) Py(6px) Bxz(bb) BdB Bdc($seperatorColor) Miw(120px) Miw(140px)--pnclg D(tbc)\" data-test=\"fin-col\"><div class=\"gray-placeholder D(ib) W(100%) H(16px) Va(t)\"></div></div><div class=\"Ta(c) Py(6px) Bxz(bb) BdB Bdc($seperatorColor) Miw(120px) Miw(140px)--pnclg Bgc($lv1BgColor) fi-row:h_Bgc($hoverBgColor) D(tbc)\" data-test=\"fin-col\"><div class=\"gray-placeholder D(ib) W(100%) H(16px) Va(t)\"></div></div><div class=\"Ta(c) Py(6px) Bxz(bb) BdB Bdc($seperatorColor) Miw(120px) Miw(140px)--pnclg D(tbc)\" data-test=\"fin-col\"><div class=\"gray-placeholder D(ib) W(100%) H(16px) Va(t)\"></div></div><div class=\"Ta(c) Py(6px) Bxz(bb) BdB Bdc($seperatorColor) Miw(120px) Miw(140px)--pnclg Bgc($lv1BgColor) fi-row:h_Bgc($hoverBgColor) D(tbc)\" data-test=\"fin-col\"><div class=\"gray-placeholder D(ib) W(100%) H(16px) Va(t)\"></div></div><div class=\"Ta(c) Py(6px) Bxz(bb) BdB Bdc($seperatorColor) Miw(120px) Miw(140px)--pnclg D(tbc)\" data-test=\"fin-col\"><div class=\"gray-placeholder D(ib) W(100%) H(16px) Va(t)\"></div></div></div><div data-reactid=\"464\"></div></div><!-- react-empty: 465 --><!-- react-empty: 466 --><!-- react-empty: 467 --></div></div>"
      ]
     },
     "execution_count": 16,
     "metadata": {},
     "output_type": "execute_result"
    }
   ],
   "source": [
    "b"
   ]
  },
  {
   "cell_type": "code",
   "execution_count": 17,
   "metadata": {},
   "outputs": [
    {
     "data": {
      "text/plain": [
       "{}"
      ]
     },
     "execution_count": 17,
     "metadata": {},
     "output_type": "execute_result"
    }
   ],
   "source": [
    "gets2"
   ]
  },
  {
   "cell_type": "code",
   "execution_count": 58,
   "metadata": {},
   "outputs": [],
   "source": [
    "df2=pd.DataFrame(gets2)"
   ]
  },
  {
   "cell_type": "code",
   "execution_count": 66,
   "metadata": {},
   "outputs": [
    {
     "data": {
      "text/html": [
       "<div>\n",
       "<style scoped>\n",
       "    .dataframe tbody tr th:only-of-type {\n",
       "        vertical-align: middle;\n",
       "    }\n",
       "\n",
       "    .dataframe tbody tr th {\n",
       "        vertical-align: top;\n",
       "    }\n",
       "\n",
       "    .dataframe thead th {\n",
       "        text-align: right;\n",
       "    }\n",
       "</style>\n",
       "<table border=\"1\" class=\"dataframe\">\n",
       "  <thead>\n",
       "    <tr style=\"text-align: right;\">\n",
       "      <th></th>\n",
       "      <th>Breakdown</th>\n",
       "      <th>Operating Cash Flow</th>\n",
       "      <th>Investing Cash Flow</th>\n",
       "      <th>Financing Cash Flow</th>\n",
       "      <th>End Cash Position</th>\n",
       "      <th>Changes in Cash</th>\n",
       "      <th>Effect of Exchange Rate Changes</th>\n",
       "      <th>Beginning Cash Position</th>\n",
       "      <th>Capital Expenditure</th>\n",
       "      <th>Issuance of Debt</th>\n",
       "      <th>Repayment of Debt</th>\n",
       "      <th>Repurchase of Capital Stock</th>\n",
       "      <th>Free Cash Flow</th>\n",
       "    </tr>\n",
       "  </thead>\n",
       "  <tbody>\n",
       "    <tr>\n",
       "      <th>0</th>\n",
       "      <td>ttm</td>\n",
       "      <td>45,382,915,000</td>\n",
       "      <td>-39,948,171,000</td>\n",
       "      <td>-9,484,510,000</td>\n",
       "      <td>26,885,999,000</td>\n",
       "      <td>-4,049,766,000</td>\n",
       "      <td>595,260,000</td>\n",
       "      <td>30,340,505,000</td>\n",
       "      <td>-28,617,670,000</td>\n",
       "      <td>0</td>\n",
       "      <td>-709,400,000</td>\n",
       "      <td>0</td>\n",
       "      <td>16,765,245,000</td>\n",
       "    </tr>\n",
       "    <tr>\n",
       "      <th>1</th>\n",
       "      <td>12/30/2019</td>\n",
       "      <td>45,382,915,000</td>\n",
       "      <td>-39,948,171,000</td>\n",
       "      <td>-9,484,510,000</td>\n",
       "      <td>26,885,999,000</td>\n",
       "      <td>-4,049,766,000</td>\n",
       "      <td>595,260,000</td>\n",
       "      <td>30,340,505,000</td>\n",
       "      <td>-28,617,670,000</td>\n",
       "      <td>0</td>\n",
       "      <td>-709,400,000</td>\n",
       "      <td>0</td>\n",
       "      <td>16,765,245,000</td>\n",
       "    </tr>\n",
       "    <tr>\n",
       "      <th>2</th>\n",
       "      <td>12/30/2018</td>\n",
       "      <td>67,031,863,000</td>\n",
       "      <td>-52,240,453,000</td>\n",
       "      <td>-15,090,222,000</td>\n",
       "      <td>30,340,505,000</td>\n",
       "      <td>-298,812,000</td>\n",
       "      <td>94,187,000</td>\n",
       "      <td>30,545,130,000</td>\n",
       "      <td>-30,576,923,000</td>\n",
       "      <td>3,580,000</td>\n",
       "      <td>-4,033,067,000</td>\n",
       "      <td>-875,111,000</td>\n",
       "      <td>36,454,940,000</td>\n",
       "    </tr>\n",
       "    <tr>\n",
       "      <th>3</th>\n",
       "      <td>12/30/2017</td>\n",
       "      <td>62,162,041,000</td>\n",
       "      <td>-49,385,216,000</td>\n",
       "      <td>-12,560,867,000</td>\n",
       "      <td>30,545,130,000</td>\n",
       "      <td>215,958,000</td>\n",
       "      <td>-1,782,270,000</td>\n",
       "      <td>32,111,442,000</td>\n",
       "      <td>-43,775,974,000</td>\n",
       "      <td>998,311,000</td>\n",
       "      <td>-1,140,803,000</td>\n",
       "      <td>-8,350,424,000</td>\n",
       "      <td>18,386,067,000</td>\n",
       "    </tr>\n",
       "  </tbody>\n",
       "</table>\n",
       "</div>"
      ],
      "text/plain": [
       "    Breakdown Operating Cash Flow Investing Cash Flow Financing Cash Flow  \\\n",
       "0         ttm      45,382,915,000     -39,948,171,000      -9,484,510,000   \n",
       "1  12/30/2019      45,382,915,000     -39,948,171,000      -9,484,510,000   \n",
       "2  12/30/2018      67,031,863,000     -52,240,453,000     -15,090,222,000   \n",
       "3  12/30/2017      62,162,041,000     -49,385,216,000     -12,560,867,000   \n",
       "\n",
       "  End Cash Position Changes in Cash Effect of Exchange Rate Changes  \\\n",
       "0    26,885,999,000  -4,049,766,000                     595,260,000   \n",
       "1    26,885,999,000  -4,049,766,000                     595,260,000   \n",
       "2    30,340,505,000    -298,812,000                      94,187,000   \n",
       "3    30,545,130,000     215,958,000                  -1,782,270,000   \n",
       "\n",
       "  Beginning Cash Position Capital Expenditure Issuance of Debt  \\\n",
       "0          30,340,505,000     -28,617,670,000                0   \n",
       "1          30,340,505,000     -28,617,670,000                0   \n",
       "2          30,545,130,000     -30,576,923,000        3,580,000   \n",
       "3          32,111,442,000     -43,775,974,000      998,311,000   \n",
       "\n",
       "  Repayment of Debt Repurchase of Capital Stock  Free Cash Flow  \n",
       "0      -709,400,000                           0  16,765,245,000  \n",
       "1      -709,400,000                           0  16,765,245,000  \n",
       "2    -4,033,067,000                -875,111,000  36,454,940,000  \n",
       "3    -1,140,803,000              -8,350,424,000  18,386,067,000  "
      ]
     },
     "execution_count": 66,
     "metadata": {},
     "output_type": "execute_result"
    }
   ],
   "source": [
    "df2.set_index('Breakdown')\n",
    "\n",
    "df2"
   ]
  },
  {
   "cell_type": "code",
   "execution_count": 67,
   "metadata": {},
   "outputs": [],
   "source": [
    "df3=df2.T"
   ]
  },
  {
   "cell_type": "code",
   "execution_count": 81,
   "metadata": {},
   "outputs": [],
   "source": [
    "new_header=df3.loc['Breakdown']"
   ]
  },
  {
   "cell_type": "code",
   "execution_count": 84,
   "metadata": {
    "scrolled": true
   },
   "outputs": [
    {
     "data": {
      "text/html": [
       "<div>\n",
       "<style scoped>\n",
       "    .dataframe tbody tr th:only-of-type {\n",
       "        vertical-align: middle;\n",
       "    }\n",
       "\n",
       "    .dataframe tbody tr th {\n",
       "        vertical-align: top;\n",
       "    }\n",
       "\n",
       "    .dataframe thead th {\n",
       "        text-align: right;\n",
       "    }\n",
       "</style>\n",
       "<table border=\"1\" class=\"dataframe\">\n",
       "  <thead>\n",
       "    <tr style=\"text-align: right;\">\n",
       "      <th></th>\n",
       "      <th>ttm</th>\n",
       "      <th>12/30/2019</th>\n",
       "      <th>12/30/2018</th>\n",
       "      <th>12/30/2017</th>\n",
       "    </tr>\n",
       "  </thead>\n",
       "  <tbody>\n",
       "    <tr>\n",
       "      <th>Operating Cash Flow</th>\n",
       "      <td>45,382,915,000</td>\n",
       "      <td>45,382,915,000</td>\n",
       "      <td>67,031,863,000</td>\n",
       "      <td>62,162,041,000</td>\n",
       "    </tr>\n",
       "    <tr>\n",
       "      <th>Investing Cash Flow</th>\n",
       "      <td>-39,948,171,000</td>\n",
       "      <td>-39,948,171,000</td>\n",
       "      <td>-52,240,453,000</td>\n",
       "      <td>-49,385,216,000</td>\n",
       "    </tr>\n",
       "    <tr>\n",
       "      <th>Financing Cash Flow</th>\n",
       "      <td>-9,484,510,000</td>\n",
       "      <td>-9,484,510,000</td>\n",
       "      <td>-15,090,222,000</td>\n",
       "      <td>-12,560,867,000</td>\n",
       "    </tr>\n",
       "    <tr>\n",
       "      <th>End Cash Position</th>\n",
       "      <td>26,885,999,000</td>\n",
       "      <td>26,885,999,000</td>\n",
       "      <td>30,340,505,000</td>\n",
       "      <td>30,545,130,000</td>\n",
       "    </tr>\n",
       "    <tr>\n",
       "      <th>Changes in Cash</th>\n",
       "      <td>-4,049,766,000</td>\n",
       "      <td>-4,049,766,000</td>\n",
       "      <td>-298,812,000</td>\n",
       "      <td>215,958,000</td>\n",
       "    </tr>\n",
       "    <tr>\n",
       "      <th>Effect of Exchange Rate Changes</th>\n",
       "      <td>595,260,000</td>\n",
       "      <td>595,260,000</td>\n",
       "      <td>94,187,000</td>\n",
       "      <td>-1,782,270,000</td>\n",
       "    </tr>\n",
       "    <tr>\n",
       "      <th>Beginning Cash Position</th>\n",
       "      <td>30,340,505,000</td>\n",
       "      <td>30,340,505,000</td>\n",
       "      <td>30,545,130,000</td>\n",
       "      <td>32,111,442,000</td>\n",
       "    </tr>\n",
       "    <tr>\n",
       "      <th>Capital Expenditure</th>\n",
       "      <td>-28,617,670,000</td>\n",
       "      <td>-28,617,670,000</td>\n",
       "      <td>-30,576,923,000</td>\n",
       "      <td>-43,775,974,000</td>\n",
       "    </tr>\n",
       "    <tr>\n",
       "      <th>Issuance of Debt</th>\n",
       "      <td>0</td>\n",
       "      <td>0</td>\n",
       "      <td>3,580,000</td>\n",
       "      <td>998,311,000</td>\n",
       "    </tr>\n",
       "    <tr>\n",
       "      <th>Repayment of Debt</th>\n",
       "      <td>-709,400,000</td>\n",
       "      <td>-709,400,000</td>\n",
       "      <td>-4,033,067,000</td>\n",
       "      <td>-1,140,803,000</td>\n",
       "    </tr>\n",
       "    <tr>\n",
       "      <th>Repurchase of Capital Stock</th>\n",
       "      <td>0</td>\n",
       "      <td>0</td>\n",
       "      <td>-875,111,000</td>\n",
       "      <td>-8,350,424,000</td>\n",
       "    </tr>\n",
       "    <tr>\n",
       "      <th>Free Cash Flow</th>\n",
       "      <td>16,765,245,000</td>\n",
       "      <td>16,765,245,000</td>\n",
       "      <td>36,454,940,000</td>\n",
       "      <td>18,386,067,000</td>\n",
       "    </tr>\n",
       "  </tbody>\n",
       "</table>\n",
       "</div>"
      ],
      "text/plain": [
       "                                             ttm       12/30/2019  \\\n",
       "Operating Cash Flow               45,382,915,000   45,382,915,000   \n",
       "Investing Cash Flow              -39,948,171,000  -39,948,171,000   \n",
       "Financing Cash Flow               -9,484,510,000   -9,484,510,000   \n",
       "End Cash Position                 26,885,999,000   26,885,999,000   \n",
       "Changes in Cash                   -4,049,766,000   -4,049,766,000   \n",
       "Effect of Exchange Rate Changes      595,260,000      595,260,000   \n",
       "Beginning Cash Position           30,340,505,000   30,340,505,000   \n",
       "Capital Expenditure              -28,617,670,000  -28,617,670,000   \n",
       "Issuance of Debt                               0                0   \n",
       "Repayment of Debt                   -709,400,000     -709,400,000   \n",
       "Repurchase of Capital Stock                    0                0   \n",
       "Free Cash Flow                    16,765,245,000   16,765,245,000   \n",
       "\n",
       "                                      12/30/2018       12/30/2017  \n",
       "Operating Cash Flow               67,031,863,000   62,162,041,000  \n",
       "Investing Cash Flow              -52,240,453,000  -49,385,216,000  \n",
       "Financing Cash Flow              -15,090,222,000  -12,560,867,000  \n",
       "End Cash Position                 30,340,505,000   30,545,130,000  \n",
       "Changes in Cash                     -298,812,000      215,958,000  \n",
       "Effect of Exchange Rate Changes       94,187,000   -1,782,270,000  \n",
       "Beginning Cash Position           30,545,130,000   32,111,442,000  \n",
       "Capital Expenditure              -30,576,923,000  -43,775,974,000  \n",
       "Issuance of Debt                       3,580,000      998,311,000  \n",
       "Repayment of Debt                 -4,033,067,000   -1,140,803,000  \n",
       "Repurchase of Capital Stock         -875,111,000   -8,350,424,000  \n",
       "Free Cash Flow                    36,454,940,000   18,386,067,000  "
      ]
     },
     "execution_count": 84,
     "metadata": {},
     "output_type": "execute_result"
    }
   ],
   "source": [
    "df4=df3[1:]\n",
    "df4.rename(new_header,axis=1)"
   ]
  },
  {
   "cell_type": "code",
   "execution_count": 1,
   "metadata": {},
   "outputs": [
    {
     "ename": "SyntaxError",
     "evalue": "invalid syntax (<ipython-input-1-b4adf08742bc>, line 1)",
     "output_type": "error",
     "traceback": [
      "\u001b[1;36m  File \u001b[1;32m\"<ipython-input-1-b4adf08742bc>\"\u001b[1;36m, line \u001b[1;32m1\u001b[0m\n\u001b[1;33m    $ brew install tor\u001b[0m\n\u001b[1;37m    ^\u001b[0m\n\u001b[1;31mSyntaxError\u001b[0m\u001b[1;31m:\u001b[0m invalid syntax\n"
     ]
    }
   ],
   "source": []
  },
  {
   "cell_type": "code",
   "execution_count": null,
   "metadata": {},
   "outputs": [],
   "source": []
  }
 ],
 "metadata": {
  "hide_input": false,
  "kernelspec": {
   "display_name": "Python 3",
   "language": "python",
   "name": "python3"
  },
  "language_info": {
   "codemirror_mode": {
    "name": "ipython",
    "version": 3
   },
   "file_extension": ".py",
   "mimetype": "text/x-python",
   "name": "python",
   "nbconvert_exporter": "python",
   "pygments_lexer": "ipython3",
   "version": "3.7.6"
  },
  "toc": {
   "base_numbering": 1,
   "nav_menu": {},
   "number_sections": true,
   "sideBar": true,
   "skip_h1_title": false,
   "title_cell": "Table of Contents",
   "title_sidebar": "Contents",
   "toc_cell": false,
   "toc_position": {},
   "toc_section_display": true,
   "toc_window_display": false
  },
  "varInspector": {
   "cols": {
    "lenName": 16,
    "lenType": 16,
    "lenVar": 40
   },
   "kernels_config": {
    "python": {
     "delete_cmd_postfix": "",
     "delete_cmd_prefix": "del ",
     "library": "var_list.py",
     "varRefreshCmd": "print(var_dic_list())"
    },
    "r": {
     "delete_cmd_postfix": ") ",
     "delete_cmd_prefix": "rm(",
     "library": "var_list.r",
     "varRefreshCmd": "cat(var_dic_list()) "
    }
   },
   "types_to_exclude": [
    "module",
    "function",
    "builtin_function_or_method",
    "instance",
    "_Feature"
   ],
   "window_display": false
  }
 },
 "nbformat": 4,
 "nbformat_minor": 4
}
