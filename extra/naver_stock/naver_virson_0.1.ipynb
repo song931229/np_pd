{
 "cells": [
  {
   "cell_type": "markdown",
   "metadata": {},
   "source": [
    "# 준비물"
   ]
  },
  {
   "cell_type": "markdown",
   "metadata": {},
   "source": [
    "## module 모음"
   ]
  },
  {
   "cell_type": "code",
   "execution_count": null,
   "metadata": {
    "ExecuteTime": {
     "end_time": "2020-06-10T05:44:11.323586Z",
     "start_time": "2020-06-10T05:44:10.695779Z"
    }
   },
   "outputs": [],
   "source": [
    "import requests\n",
    "from selenium import webdriver\n",
    "from bs4 import BeautifulSoup\n",
    "\n",
    "import time\n",
    "import random\n",
    "\n",
    "import pickle\n",
    "\n",
    "import pandas as pd"
   ]
  },
  {
   "cell_type": "markdown",
   "metadata": {},
   "source": [
    "## url모음"
   ]
  },
  {
   "cell_type": "code",
   "execution_count": null,
   "metadata": {
    "ExecuteTime": {
     "end_time": "2020-06-10T03:39:59.328791Z",
     "start_time": "2020-06-10T03:39:59.324791Z"
    }
   },
   "outputs": [],
   "source": [
    "urls=[\"https://finance.naver.com/sise/sise_market_sum.nhn?&page=\"+str(x) for x in range(1,11)]"
   ]
  },
  {
   "cell_type": "markdown",
   "metadata": {},
   "source": [
    "# 타겟 리스트 정리하기"
   ]
  },
  {
   "cell_type": "markdown",
   "metadata": {},
   "source": [
    "## 시총순위, 종목코드 가져오기"
   ]
  },
  {
   "cell_type": "code",
   "execution_count": null,
   "metadata": {
    "ExecuteTime": {
     "end_time": "2020-06-10T03:40:22.583469Z",
     "start_time": "2020-06-10T03:39:59.330792Z"
    }
   },
   "outputs": [],
   "source": [
    "soup_dict={}\n",
    "\n",
    "for j,url in enumerate(urls):\n",
    "    \n",
    "    page = requests.get(url)\n",
    "\n",
    "    page_html = page.text\n",
    "\n",
    "    page_soup = BeautifulSoup(page_html, 'html.parser')\n",
    "    \n",
    "    atags=page_soup.find_all('a','tltle')\n",
    "    \n",
    "    for i,atag in enumerate(atags):\n",
    "        title=atag.get_text()\n",
    "        if title not in soup_dict:\n",
    "            soup_dict[title]=[(j*50)+i+1,atag.get_attribute_list('href')[0][-6:]]\n",
    "        else:\n",
    "            soup_dict[title+\"2\"]=[(j*50)+i+1,atag.get_attribute_list('href')[0][-6:]]\n",
    "    time.sleep(random.randint(500,2500)*0.001)"
   ]
  },
  {
   "cell_type": "code",
   "execution_count": null,
   "metadata": {
    "ExecuteTime": {
     "end_time": "2020-06-10T03:40:22.630269Z",
     "start_time": "2020-06-10T03:40:22.583469Z"
    },
    "scrolled": true
   },
   "outputs": [],
   "source": [
    "soup_dict"
   ]
  },
  {
   "cell_type": "markdown",
   "metadata": {},
   "source": [
    "## 타겟URL생성"
   ]
  },
  {
   "cell_type": "code",
   "execution_count": null,
   "metadata": {
    "ExecuteTime": {
     "end_time": "2020-06-10T03:40:22.635269Z",
     "start_time": "2020-06-10T03:40:22.631269Z"
    }
   },
   "outputs": [],
   "source": [
    "for x in soup_dict:\n",
    "    soup_dict[x].append(\"https://navercomp.wisereport.co.kr/v2/company/c1010001.aspx?cmp_cd=\"+soup_dict[x][1])"
   ]
  },
  {
   "cell_type": "code",
   "execution_count": null,
   "metadata": {
    "ExecuteTime": {
     "end_time": "2020-06-10T03:40:22.701669Z",
     "start_time": "2020-06-10T03:40:22.636269Z"
    },
    "scrolled": true
   },
   "outputs": [],
   "source": [
    "soup_dict"
   ]
  },
  {
   "cell_type": "markdown",
   "metadata": {},
   "source": [
    "> 임시저장단계  \n",
    "종목명/시총순위/종목코드/타겟URL"
   ]
  },
  {
   "cell_type": "code",
   "execution_count": null,
   "metadata": {
    "ExecuteTime": {
     "end_time": "2020-06-10T03:40:22.709670Z",
     "start_time": "2020-06-10T03:40:22.703669Z"
    }
   },
   "outputs": [],
   "source": [
    "with open('step_1_done.pickle', 'wb') as handle:\n",
    "    pickle.dump(soup_dict, handle, protocol=pickle.HIGHEST_PROTOCOL)"
   ]
  },
  {
   "cell_type": "markdown",
   "metadata": {},
   "source": [
    "- 유사시 LOAD가능"
   ]
  },
  {
   "cell_type": "code",
   "execution_count": null,
   "metadata": {
    "ExecuteTime": {
     "end_time": "2020-06-10T05:44:22.926775Z",
     "start_time": "2020-06-10T05:44:22.911175Z"
    }
   },
   "outputs": [],
   "source": [
    "with open('step_1_done.pickle', 'rb') as handle:\n",
    "    test_dict=pickle.load(handle)\n",
    "soup_dict=test_dict.copy()"
   ]
  },
  {
   "cell_type": "markdown",
   "metadata": {},
   "source": [
    "-------------------"
   ]
  },
  {
   "cell_type": "markdown",
   "metadata": {},
   "source": [
    "# 타겟URL을 통한 크로울링"
   ]
  },
  {
   "cell_type": "markdown",
   "metadata": {},
   "source": [
    "## 웹드라이버 가동(백그라운드)"
   ]
  },
  {
   "cell_type": "code",
   "execution_count": null,
   "metadata": {
    "ExecuteTime": {
     "end_time": "2020-06-10T05:44:17.195197Z",
     "start_time": "2020-06-10T05:44:14.712120Z"
    }
   },
   "outputs": [],
   "source": [
    "chrome_options = webdriver.ChromeOptions()  # 크롬 옵션 객체 생성\n",
    "chrome_options.add_argument('headless')  # headless 모드 설정\n",
    "chrome_options.add_argument(\"--disable-gpu\")  # gpu 사용 안하도록 설정\n",
    "chrome_options.add_argument(\"lang=ko_KR\")  # 한국어로 실행되도록 설정\n",
    "driver = webdriver.Chrome('C:/Chrome Driver/chromedriver.exe', chrome_options=chrome_options)"
   ]
  },
  {
   "cell_type": "markdown",
   "metadata": {},
   "source": [
    "## 타겟 URL이동 및 타겟 ELEMENT접속"
   ]
  },
  {
   "cell_type": "code",
   "execution_count": null,
   "metadata": {
    "ExecuteTime": {
     "end_time": "2020-06-10T05:44:17.245399Z",
     "start_time": "2020-06-10T05:44:17.243398Z"
    }
   },
   "outputs": [],
   "source": [
    "# 특이종목 삭제용 리스트\n",
    "drop_list=[]"
   ]
  },
  {
   "cell_type": "code",
   "execution_count": null,
   "metadata": {
    "ExecuteTime": {
     "end_time": "2020-06-10T05:44:49.461903Z",
     "start_time": "2020-06-10T05:44:25.135280Z"
    }
   },
   "outputs": [],
   "source": [
    "for x in soup_dict:\n",
    "    #URL접속\n",
    "    driver.implicitly_wait(3)\n",
    "    driver.get(soup_dict[x][2])\n",
    "    time.sleep(1)\n",
    "    driver.implicitly_wait(3)\n",
    "    #xpath로 가져올 데이터(테이블) 특정.\n",
    "    for i in [1,5,8,9,10,20,21,22,23,24,26,27,28,29,31,32]:\n",
    "        try:\n",
    "            for j in [3,6,7]:\n",
    "                a=driver.find_element_by_xpath('/html/body/div/form/div[1]/div/div[2]/div[3]/div/div/div[14]/table[2]/tbody/tr[{}]/td[{}]'.format(i,j))\n",
    "                soup_dict[x].append(a.text)\n",
    "        except:\n",
    "            drop_list.append(x)\n",
    "            print(x)\n",
    "            break\n",
    "    print(soup_dict[x])"
   ]
  },
  {
   "cell_type": "markdown",
   "metadata": {},
   "source": [
    "### 특이 종목 삭제"
   ]
  },
  {
   "cell_type": "code",
   "execution_count": null,
   "metadata": {
    "ExecuteTime": {
     "end_time": "2020-06-10T04:14:35.744029Z",
     "start_time": "2020-06-10T04:14:35.741028Z"
    }
   },
   "outputs": [],
   "source": [
    "for drop_item in drop_list:\n",
    "    soup_dict.pop(drop_item)"
   ]
  },
  {
   "cell_type": "markdown",
   "metadata": {},
   "source": [
    "> 임시저장단계  \n",
    "step_2까지 완료."
   ]
  },
  {
   "cell_type": "code",
   "execution_count": null,
   "metadata": {
    "ExecuteTime": {
     "end_time": "2020-06-10T04:14:36.074047Z",
     "start_time": "2020-06-10T04:14:36.062047Z"
    }
   },
   "outputs": [],
   "source": [
    "with open('step_2_done.pickle', 'wb') as handle:\n",
    "    pickle.dump(soup_dict, handle, protocol=pickle.HIGHEST_PROTOCOL)"
   ]
  },
  {
   "cell_type": "markdown",
   "metadata": {},
   "source": [
    "# 가져온데이터로 기초 DataFrame생성"
   ]
  },
  {
   "cell_type": "markdown",
   "metadata": {},
   "source": [
    "## 가공할 것 가져오기"
   ]
  },
  {
   "cell_type": "code",
   "execution_count": null,
   "metadata": {
    "ExecuteTime": {
     "end_time": "2020-06-10T04:55:45.925195Z",
     "start_time": "2020-06-10T04:55:45.909595Z"
    }
   },
   "outputs": [],
   "source": [
    "# 가공할 인덱스모음\n",
    "for_indexs=[]"
   ]
  },
  {
   "cell_type": "code",
   "execution_count": null,
   "metadata": {
    "ExecuteTime": {
     "end_time": "2020-06-10T04:55:48.431278Z",
     "start_time": "2020-06-10T04:55:46.345818Z"
    }
   },
   "outputs": [],
   "source": [
    "#인덱스 가져오기\n",
    "driver.get(soup_dict['삼성전자'][2])\n",
    "time.sleep(1)\n",
    "driver.implicitly_wait(3)\n",
    "for i in range(1,33):\n",
    "    a=driver.find_element_by_xpath('/html/body/div/form/div[1]/div/div[2]/div[3]/div/div/div[14]/table[2]/tbody/tr[{}]/th'.format(i))\n",
    "    for_indexs.append(a.text)"
   ]
  },
  {
   "cell_type": "markdown",
   "metadata": {},
   "source": [
    "## 가져온 인덱스 가공하기"
   ]
  },
  {
   "cell_type": "code",
   "execution_count": null,
   "metadata": {
    "ExecuteTime": {
     "end_time": "2020-06-10T04:55:49.810331Z",
     "start_time": "2020-06-10T04:55:49.779131Z"
    }
   },
   "outputs": [],
   "source": [
    "indexs=['순위','종목코드','href']\n",
    "add_texts=['[2019]','[2019.12]','[2020.03]']\n",
    "for i in add_texts:\n",
    "    for index in for_indexs:\n",
    "        indexs.append(index+i)"
   ]
  },
  {
   "cell_type": "code",
   "execution_count": null,
   "metadata": {
    "ExecuteTime": {
     "end_time": "2020-06-10T04:56:11.250914Z",
     "start_time": "2020-06-10T04:56:11.204713Z"
    }
   },
   "outputs": [],
   "source": [
    "df=pd.DataFrame(soup_dict)"
   ]
  },
  {
   "cell_type": "code",
   "execution_count": null,
   "metadata": {
    "ExecuteTime": {
     "end_time": "2020-06-10T04:56:11.870742Z",
     "start_time": "2020-06-10T04:56:11.855142Z"
    }
   },
   "outputs": [],
   "source": [
    "df.index=indexs"
   ]
  },
  {
   "cell_type": "code",
   "execution_count": null,
   "metadata": {
    "ExecuteTime": {
     "end_time": "2020-06-10T04:56:12.312767Z",
     "start_time": "2020-06-10T04:56:12.301767Z"
    }
   },
   "outputs": [],
   "source": [
    "df2=df.T"
   ]
  },
  {
   "cell_type": "code",
   "execution_count": null,
   "metadata": {
    "ExecuteTime": {
     "end_time": "2020-06-10T04:56:14.295010Z",
     "start_time": "2020-06-10T04:56:13.150199Z"
    }
   },
   "outputs": [],
   "source": [
    "df2.to_excel('the_naver1.xlsx')"
   ]
  },
  {
   "cell_type": "code",
   "execution_count": null,
   "metadata": {
    "ExecuteTime": {
     "end_time": "2020-06-10T04:56:17.959956Z",
     "start_time": "2020-06-10T04:56:17.917355Z"
    },
    "scrolled": true
   },
   "outputs": [],
   "source": [
    "df2"
   ]
  },
  {
   "cell_type": "markdown",
   "metadata": {},
   "source": [
    "# 종료 알림"
   ]
  },
  {
   "cell_type": "code",
   "execution_count": null,
   "metadata": {},
   "outputs": [],
   "source": []
  }
 ],
 "metadata": {
  "hide_input": false,
  "kernelspec": {
   "display_name": "Python 3",
   "language": "python",
   "name": "python3"
  },
  "language_info": {
   "codemirror_mode": {
    "name": "ipython",
    "version": 3
   },
   "file_extension": ".py",
   "mimetype": "text/x-python",
   "name": "python",
   "nbconvert_exporter": "python",
   "pygments_lexer": "ipython3",
   "version": "3.7.6"
  },
  "toc": {
   "base_numbering": 1,
   "nav_menu": {},
   "number_sections": true,
   "sideBar": true,
   "skip_h1_title": false,
   "title_cell": "Table of Contents",
   "title_sidebar": "Contents",
   "toc_cell": false,
   "toc_position": {},
   "toc_section_display": true,
   "toc_window_display": false
  },
  "varInspector": {
   "cols": {
    "lenName": 16,
    "lenType": 16,
    "lenVar": 40
   },
   "kernels_config": {
    "python": {
     "delete_cmd_postfix": "",
     "delete_cmd_prefix": "del ",
     "library": "var_list.py",
     "varRefreshCmd": "print(var_dic_list())"
    },
    "r": {
     "delete_cmd_postfix": ") ",
     "delete_cmd_prefix": "rm(",
     "library": "var_list.r",
     "varRefreshCmd": "cat(var_dic_list()) "
    }
   },
   "types_to_exclude": [
    "module",
    "function",
    "builtin_function_or_method",
    "instance",
    "_Feature"
   ],
   "window_display": false
  }
 },
 "nbformat": 4,
 "nbformat_minor": 4
}
