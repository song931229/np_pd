{
 "cells": [
  {
   "cell_type": "markdown",
   "metadata": {},
   "source": [
    "# 기초 DataFame 생성"
   ]
  },
  {
   "cell_type": "code",
   "execution_count": 1,
   "metadata": {
    "ExecuteTime": {
     "end_time": "2020-06-10T08:53:42.352041Z",
     "start_time": "2020-06-10T08:53:41.978020Z"
    }
   },
   "outputs": [],
   "source": [
    "import pandas as pd\n",
    "import pickle"
   ]
  },
  {
   "cell_type": "code",
   "execution_count": 2,
   "metadata": {
    "ExecuteTime": {
     "end_time": "2020-06-10T08:53:42.360042Z",
     "start_time": "2020-06-10T08:53:42.353041Z"
    }
   },
   "outputs": [],
   "source": [
    "with open('step_2_done.pickle', 'rb') as handle:\n",
    "    test_dict=pickle.load(handle)\n",
    "soup_dict=test_dict.copy()"
   ]
  },
  {
   "cell_type": "code",
   "execution_count": 3,
   "metadata": {
    "ExecuteTime": {
     "end_time": "2020-06-10T08:53:42.380043Z",
     "start_time": "2020-06-10T08:53:42.361042Z"
    }
   },
   "outputs": [],
   "source": [
    "df=pd.read_csv('the_naver.csv',index_col=0)"
   ]
  },
  {
   "cell_type": "code",
   "execution_count": 4,
   "metadata": {
    "ExecuteTime": {
     "end_time": "2020-06-10T08:53:42.391043Z",
     "start_time": "2020-06-10T08:53:42.381043Z"
    },
    "scrolled": false
   },
   "outputs": [
    {
     "data": {
      "text/plain": [
       "Index(['순위', '종목코드', 'href', '현재가', '매출액[2019]', '매출액[2019.12]',\n",
       "       '매출액[2020.03]', '영업이익[2019]', '영업이익[2019.12]', '영업이익[2020.03]',\n",
       "       '당기순이익[2019]', '당기순이익[2019.12]', '당기순이익[2020.03]', '자산총계[2019]',\n",
       "       '자산총계[2019.12]', '자산총계[2020.03]', '부채총계[2019]', '부채총계[2019.12]',\n",
       "       '부채총계[2020.03]', '자본총계[2019]', '자본총계[2019.12]', '자본총계[2020.03]',\n",
       "       '영업이익률[2019]', '영업이익률[2019.12]', '영업이익률[2020.03]', '순이익률[2019]',\n",
       "       '순이익률[2019.12]', '순이익률[2020.03]', 'ROE(%)[2019]', 'ROE(%)[2019.12]',\n",
       "       'ROE(%)[2020.03]', 'ROA(%)[2019]', 'ROA(%)[2019.12]', 'ROA(%)[2020.03]',\n",
       "       '부채비율[2019]', '부채비율[2019.12]', '부채비율[2020.03]', 'EPS(원)[2019]',\n",
       "       'EPS(원)[2019.12]', 'EPS(원)[2020.03]', 'PER(배)[2019]', 'PER(배)[2019.12]',\n",
       "       'PER(배)[2020.03]', 'BPS(원)[2019]', 'BPS(원)[2019.12]', 'BPS(원)[2020.03]',\n",
       "       'PBR(배)[2019]', 'PBR(배)[2019.12]', 'PBR(배)[2020.03]', '현금배당수익률[2019]',\n",
       "       '현금배당수익률[2019.12]', '현금배당수익률[2020.03]', '현금배당성향(%)[2019]',\n",
       "       '현금배당성향(%)[2019.12]', '현금배당성향(%)[2020.03]'],\n",
       "      dtype='object')"
      ]
     },
     "execution_count": 4,
     "metadata": {},
     "output_type": "execute_result"
    }
   ],
   "source": [
    "df.columns"
   ]
  },
  {
   "cell_type": "code",
   "execution_count": 5,
   "metadata": {
    "ExecuteTime": {
     "end_time": "2020-06-10T08:53:42.417045Z",
     "start_time": "2020-06-10T08:53:42.392043Z"
    }
   },
   "outputs": [
    {
     "name": "stdout",
     "output_type": "stream",
     "text": [
      "<class 'pandas.core.frame.DataFrame'>\n",
      "Index: 447 entries, 삼성전자 to 샘표\n",
      "Data columns (total 55 columns):\n",
      " #   Column              Non-Null Count  Dtype  \n",
      "---  ------              --------------  -----  \n",
      " 0   순위                  447 non-null    int64  \n",
      " 1   종목코드                447 non-null    object \n",
      " 2   href                447 non-null    object \n",
      " 3   현재가                 447 non-null    object \n",
      " 4   매출액[2019]           443 non-null    object \n",
      " 5   매출액[2019.12]        439 non-null    object \n",
      " 6   매출액[2020.03]        443 non-null    object \n",
      " 7   영업이익[2019]          443 non-null    object \n",
      " 8   영업이익[2019.12]       439 non-null    object \n",
      " 9   영업이익[2020.03]       444 non-null    object \n",
      " 10  당기순이익[2019]         443 non-null    object \n",
      " 11  당기순이익[2019.12]      439 non-null    object \n",
      " 12  당기순이익[2020.03]      444 non-null    object \n",
      " 13  자산총계[2019]          443 non-null    object \n",
      " 14  자산총계[2019.12]       443 non-null    object \n",
      " 15  자산총계[2020.03]       444 non-null    object \n",
      " 16  부채총계[2019]          443 non-null    object \n",
      " 17  부채총계[2019.12]       443 non-null    object \n",
      " 18  부채총계[2020.03]       444 non-null    object \n",
      " 19  자본총계[2019]          443 non-null    object \n",
      " 20  자본총계[2019.12]       443 non-null    object \n",
      " 21  자본총계[2020.03]       444 non-null    object \n",
      " 22  영업이익률[2019]         443 non-null    float64\n",
      " 23  영업이익률[2019.12]      439 non-null    float64\n",
      " 24  영업이익률[2020.03]      443 non-null    float64\n",
      " 25  순이익률[2019]          443 non-null    float64\n",
      " 26  순이익률[2019.12]       439 non-null    float64\n",
      " 27  순이익률[2020.03]       443 non-null    float64\n",
      " 28  ROE(%)[2019]        435 non-null    float64\n",
      " 29  ROE(%)[2019.12]     431 non-null    float64\n",
      " 30  ROE(%)[2020.03]     431 non-null    float64\n",
      " 31  ROA(%)[2019]        435 non-null    float64\n",
      " 32  ROA(%)[2019.12]     431 non-null    float64\n",
      " 33  ROA(%)[2020.03]     431 non-null    float64\n",
      " 34  부채비율[2019]          443 non-null    object \n",
      " 35  부채비율[2019.12]       443 non-null    object \n",
      " 36  부채비율[2020.03]       444 non-null    object \n",
      " 37  EPS(원)[2019]        443 non-null    object \n",
      " 38  EPS(원)[2019.12]     439 non-null    object \n",
      " 39  EPS(원)[2020.03]     444 non-null    object \n",
      " 40  PER(배)[2019]        365 non-null    float64\n",
      " 41  PER(배)[2019.12]     356 non-null    float64\n",
      " 42  PER(배)[2020.03]     347 non-null    object \n",
      " 43  BPS(원)[2019]        443 non-null    object \n",
      " 44  BPS(원)[2019.12]     443 non-null    object \n",
      " 45  BPS(원)[2020.03]     444 non-null    object \n",
      " 46  PBR(배)[2019]        443 non-null    float64\n",
      " 47  PBR(배)[2019.12]     443 non-null    float64\n",
      " 48  PBR(배)[2020.03]     444 non-null    float64\n",
      " 49  현금배당수익률[2019]       379 non-null    float64\n",
      " 50  현금배당수익률[2019.12]    10 non-null     float64\n",
      " 51  현금배당수익률[2020.03]    1 non-null      float64\n",
      " 52  현금배당성향(%)[2019]     426 non-null    object \n",
      " 53  현금배당성향(%)[2019.12]  420 non-null    object \n",
      " 54  현금배당성향(%)[2020.03]  161 non-null    float64\n",
      "dtypes: float64(21), int64(1), object(33)\n",
      "memory usage: 195.6+ KB\n"
     ]
    }
   ],
   "source": [
    "df.info()"
   ]
  },
  {
   "cell_type": "markdown",
   "metadata": {},
   "source": [
    "## 12월 가격 추정"
   ]
  },
  {
   "cell_type": "code",
   "execution_count": 6,
   "metadata": {
    "ExecuteTime": {
     "end_time": "2020-06-10T08:53:42.422045Z",
     "start_time": "2020-06-10T08:53:42.418045Z"
    }
   },
   "outputs": [],
   "source": [
    "df['EPS(원)[2019]']=df['EPS(원)[2019]'].str.replace(',','')"
   ]
  },
  {
   "cell_type": "code",
   "execution_count": 7,
   "metadata": {
    "ExecuteTime": {
     "end_time": "2020-06-10T08:53:42.429046Z",
     "start_time": "2020-06-10T08:53:42.423045Z"
    }
   },
   "outputs": [],
   "source": [
    "df['EPS(원)[2019]']=df['EPS(원)[2019]'].astype('float')"
   ]
  },
  {
   "cell_type": "code",
   "execution_count": 8,
   "metadata": {
    "ExecuteTime": {
     "end_time": "2020-06-10T08:53:42.446047Z",
     "start_time": "2020-06-10T08:53:42.431046Z"
    }
   },
   "outputs": [],
   "source": [
    "df['BC_VALUE']=df['PER(배)[2019]']*df['EPS(원)[2019]']"
   ]
  },
  {
   "cell_type": "code",
   "execution_count": 14,
   "metadata": {
    "ExecuteTime": {
     "end_time": "2020-06-10T08:55:10.953217Z",
     "start_time": "2020-06-10T08:55:10.922017Z"
    }
   },
   "outputs": [
    {
     "data": {
      "text/html": [
       "<div>\n",
       "<style scoped>\n",
       "    .dataframe tbody tr th:only-of-type {\n",
       "        vertical-align: middle;\n",
       "    }\n",
       "\n",
       "    .dataframe tbody tr th {\n",
       "        vertical-align: top;\n",
       "    }\n",
       "\n",
       "    .dataframe thead th {\n",
       "        text-align: right;\n",
       "    }\n",
       "</style>\n",
       "<table border=\"1\" class=\"dataframe\">\n",
       "  <thead>\n",
       "    <tr style=\"text-align: right;\">\n",
       "      <th></th>\n",
       "      <th>순위</th>\n",
       "      <th>종목코드</th>\n",
       "      <th>href</th>\n",
       "      <th>현재가</th>\n",
       "      <th>매출액[2019]</th>\n",
       "      <th>매출액[2019.12]</th>\n",
       "      <th>매출액[2020.03]</th>\n",
       "      <th>영업이익[2019]</th>\n",
       "      <th>영업이익[2019.12]</th>\n",
       "      <th>영업이익[2020.03]</th>\n",
       "      <th>...</th>\n",
       "      <th>PBR(배)[2019]</th>\n",
       "      <th>PBR(배)[2019.12]</th>\n",
       "      <th>PBR(배)[2020.03]</th>\n",
       "      <th>현금배당수익률[2019]</th>\n",
       "      <th>현금배당수익률[2019.12]</th>\n",
       "      <th>현금배당수익률[2020.03]</th>\n",
       "      <th>현금배당성향(%)[2019]</th>\n",
       "      <th>현금배당성향(%)[2019.12]</th>\n",
       "      <th>현금배당성향(%)[2020.03]</th>\n",
       "      <th>BC_VALUE</th>\n",
       "    </tr>\n",
       "  </thead>\n",
       "  <tbody>\n",
       "    <tr>\n",
       "      <th>카카오</th>\n",
       "      <td>10</td>\n",
       "      <td>035720</td>\n",
       "      <td>https://navercomp.wisereport.co.kr/v2/company/...</td>\n",
       "      <td>254,500</td>\n",
       "      <td>30,701</td>\n",
       "      <td>8,476</td>\n",
       "      <td>8,684</td>\n",
       "      <td>2,068</td>\n",
       "      <td>796</td>\n",
       "      <td>882</td>\n",
       "      <td>...</td>\n",
       "      <td>2.41</td>\n",
       "      <td>2.41</td>\n",
       "      <td>2.37</td>\n",
       "      <td>0.08</td>\n",
       "      <td>NaN</td>\n",
       "      <td>NaN</td>\n",
       "      <td>-3.46</td>\n",
       "      <td>-2.46</td>\n",
       "      <td>NaN</td>\n",
       "      <td>NaN</td>\n",
       "    </tr>\n",
       "    <tr>\n",
       "      <th>한국전력</th>\n",
       "      <td>22</td>\n",
       "      <td>015760</td>\n",
       "      <td>https://navercomp.wisereport.co.kr/v2/company/...</td>\n",
       "      <td>22,550</td>\n",
       "      <td>591,729</td>\n",
       "      <td>149,412</td>\n",
       "      <td>150,931</td>\n",
       "      <td>-12,765</td>\n",
       "      <td>-15,872</td>\n",
       "      <td>4,306</td>\n",
       "      <td>...</td>\n",
       "      <td>0.26</td>\n",
       "      <td>0.26</td>\n",
       "      <td>0.18</td>\n",
       "      <td>NaN</td>\n",
       "      <td>NaN</td>\n",
       "      <td>NaN</td>\n",
       "      <td>0.00</td>\n",
       "      <td>0.00</td>\n",
       "      <td>NaN</td>\n",
       "      <td>NaN</td>\n",
       "    </tr>\n",
       "    <tr>\n",
       "      <th>SK이노베이션</th>\n",
       "      <td>25</td>\n",
       "      <td>096770</td>\n",
       "      <td>https://navercomp.wisereport.co.kr/v2/company/...</td>\n",
       "      <td>125,500</td>\n",
       "      <td>498,765</td>\n",
       "      <td>115,518</td>\n",
       "      <td>111,630</td>\n",
       "      <td>12,693</td>\n",
       "      <td>1,105</td>\n",
       "      <td>-17,752</td>\n",
       "      <td>...</td>\n",
       "      <td>0.76</td>\n",
       "      <td>0.76</td>\n",
       "      <td>0.47</td>\n",
       "      <td>2.00</td>\n",
       "      <td>NaN</td>\n",
       "      <td>NaN</td>\n",
       "      <td>-740.62</td>\n",
       "      <td>-23.28</td>\n",
       "      <td>NaN</td>\n",
       "      <td>NaN</td>\n",
       "    </tr>\n",
       "    <tr>\n",
       "      <th>한진칼</th>\n",
       "      <td>42</td>\n",
       "      <td>180640</td>\n",
       "      <td>https://navercomp.wisereport.co.kr/v2/company/...</td>\n",
       "      <td>93,000</td>\n",
       "      <td>12,035</td>\n",
       "      <td>2,566</td>\n",
       "      <td>1,938</td>\n",
       "      <td>-39</td>\n",
       "      <td>-476</td>\n",
       "      <td>-340</td>\n",
       "      <td>...</td>\n",
       "      <td>1.92</td>\n",
       "      <td>1.92</td>\n",
       "      <td>4.59</td>\n",
       "      <td>0.64</td>\n",
       "      <td>NaN</td>\n",
       "      <td>NaN</td>\n",
       "      <td>-6.27</td>\n",
       "      <td>-403.09</td>\n",
       "      <td>NaN</td>\n",
       "      <td>NaN</td>\n",
       "    </tr>\n",
       "    <tr>\n",
       "      <th>LG디스플레이</th>\n",
       "      <td>51</td>\n",
       "      <td>034220</td>\n",
       "      <td>https://navercomp.wisereport.co.kr/v2/company/...</td>\n",
       "      <td>12,650</td>\n",
       "      <td>234,756</td>\n",
       "      <td>64,217</td>\n",
       "      <td>47,242</td>\n",
       "      <td>-13,594</td>\n",
       "      <td>-4,219</td>\n",
       "      <td>-3,619</td>\n",
       "      <td>...</td>\n",
       "      <td>0.51</td>\n",
       "      <td>0.51</td>\n",
       "      <td>0.35</td>\n",
       "      <td>NaN</td>\n",
       "      <td>NaN</td>\n",
       "      <td>NaN</td>\n",
       "      <td>0.00</td>\n",
       "      <td>0.00</td>\n",
       "      <td>NaN</td>\n",
       "      <td>NaN</td>\n",
       "    </tr>\n",
       "  </tbody>\n",
       "</table>\n",
       "<p>5 rows × 56 columns</p>\n",
       "</div>"
      ],
      "text/plain": [
       "         순위    종목코드                                               href  \\\n",
       "카카오      10  035720  https://navercomp.wisereport.co.kr/v2/company/...   \n",
       "한국전력     22  015760  https://navercomp.wisereport.co.kr/v2/company/...   \n",
       "SK이노베이션  25  096770  https://navercomp.wisereport.co.kr/v2/company/...   \n",
       "한진칼      42  180640  https://navercomp.wisereport.co.kr/v2/company/...   \n",
       "LG디스플레이  51  034220  https://navercomp.wisereport.co.kr/v2/company/...   \n",
       "\n",
       "             현재가 매출액[2019] 매출액[2019.12] 매출액[2020.03] 영업이익[2019] 영업이익[2019.12]  \\\n",
       "카카오      254,500    30,701        8,476        8,684      2,068           796   \n",
       "한국전력      22,550   591,729      149,412      150,931    -12,765       -15,872   \n",
       "SK이노베이션  125,500   498,765      115,518      111,630     12,693         1,105   \n",
       "한진칼       93,000    12,035        2,566        1,938        -39          -476   \n",
       "LG디스플레이   12,650   234,756       64,217       47,242    -13,594        -4,219   \n",
       "\n",
       "        영업이익[2020.03]  ... PBR(배)[2019] PBR(배)[2019.12] PBR(배)[2020.03]  \\\n",
       "카카오               882  ...         2.41            2.41            2.37   \n",
       "한국전력            4,306  ...         0.26            0.26            0.18   \n",
       "SK이노베이션       -17,752  ...         0.76            0.76            0.47   \n",
       "한진칼              -340  ...         1.92            1.92            4.59   \n",
       "LG디스플레이        -3,619  ...         0.51            0.51            0.35   \n",
       "\n",
       "        현금배당수익률[2019] 현금배당수익률[2019.12] 현금배당수익률[2020.03] 현금배당성향(%)[2019]  \\\n",
       "카카오              0.08              NaN              NaN           -3.46   \n",
       "한국전력              NaN              NaN              NaN            0.00   \n",
       "SK이노베이션          2.00              NaN              NaN         -740.62   \n",
       "한진칼              0.64              NaN              NaN           -6.27   \n",
       "LG디스플레이           NaN              NaN              NaN            0.00   \n",
       "\n",
       "        현금배당성향(%)[2019.12] 현금배당성향(%)[2020.03] BC_VALUE  \n",
       "카카오                  -2.46                NaN      NaN  \n",
       "한국전력                  0.00                NaN      NaN  \n",
       "SK이노베이션             -23.28                NaN      NaN  \n",
       "한진칼                -403.09                NaN      NaN  \n",
       "LG디스플레이               0.00                NaN      NaN  \n",
       "\n",
       "[5 rows x 56 columns]"
      ]
     },
     "execution_count": 14,
     "metadata": {},
     "output_type": "execute_result"
    }
   ],
   "source": [
    "df[df['BC_VALUE'].isna()].head()"
   ]
  },
  {
   "cell_type": "code",
   "execution_count": null,
   "metadata": {},
   "outputs": [],
   "source": []
  }
 ],
 "metadata": {
  "hide_input": false,
  "kernelspec": {
   "display_name": "Python 3",
   "language": "python",
   "name": "python3"
  },
  "language_info": {
   "codemirror_mode": {
    "name": "ipython",
    "version": 3
   },
   "file_extension": ".py",
   "mimetype": "text/x-python",
   "name": "python",
   "nbconvert_exporter": "python",
   "pygments_lexer": "ipython3",
   "version": "3.7.6"
  },
  "toc": {
   "base_numbering": 1,
   "nav_menu": {},
   "number_sections": true,
   "sideBar": true,
   "skip_h1_title": false,
   "title_cell": "Table of Contents",
   "title_sidebar": "Contents",
   "toc_cell": false,
   "toc_position": {},
   "toc_section_display": true,
   "toc_window_display": false
  },
  "varInspector": {
   "cols": {
    "lenName": 16,
    "lenType": 16,
    "lenVar": 40
   },
   "kernels_config": {
    "python": {
     "delete_cmd_postfix": "",
     "delete_cmd_prefix": "del ",
     "library": "var_list.py",
     "varRefreshCmd": "print(var_dic_list())"
    },
    "r": {
     "delete_cmd_postfix": ") ",
     "delete_cmd_prefix": "rm(",
     "library": "var_list.r",
     "varRefreshCmd": "cat(var_dic_list()) "
    }
   },
   "types_to_exclude": [
    "module",
    "function",
    "builtin_function_or_method",
    "instance",
    "_Feature"
   ],
   "window_display": false
  }
 },
 "nbformat": 4,
 "nbformat_minor": 4
}
