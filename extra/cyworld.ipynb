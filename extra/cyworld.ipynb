{
 "cells": [
  {
   "cell_type": "code",
   "execution_count": 1,
   "metadata": {
    "ExecuteTime": {
     "end_time": "2020-06-25T06:01:56.752686Z",
     "start_time": "2020-06-25T06:01:56.658681Z"
    }
   },
   "outputs": [],
   "source": [
    "from selenium import webdriver\n",
    "from bs4 import BeautifulSoup\n",
    "import time\n",
    "from urllib.request import urlretrieve"
   ]
  },
  {
   "cell_type": "code",
   "execution_count": 3,
   "metadata": {
    "ExecuteTime": {
     "end_time": "2020-06-25T06:01:59.776859Z",
     "start_time": "2020-06-25T06:01:57.321719Z"
    }
   },
   "outputs": [],
   "source": [
    "driver=webdriver.Chrome('C:/Chrome Driver/chromedriver.exe')"
   ]
  },
  {
   "cell_type": "markdown",
   "metadata": {},
   "source": [
    "http://cyxso.cyworld.com/Login.sk?loginPageType=CYWORLD"
   ]
  },
  {
   "cell_type": "code",
   "execution_count": 124,
   "metadata": {
    "ExecuteTime": {
     "end_time": "2020-06-25T08:14:54.660997Z",
     "start_time": "2020-06-25T08:14:46.124508Z"
    }
   },
   "outputs": [],
   "source": [
    "driver.get(\"https://www.naver.com/\")"
   ]
  },
  {
   "cell_type": "code",
   "execution_count": 45,
   "metadata": {
    "ExecuteTime": {
     "end_time": "2020-06-25T06:20:57.283921Z",
     "start_time": "2020-06-25T06:20:49.098453Z"
    }
   },
   "outputs": [
    {
     "name": "stdout",
     "output_type": "stream",
     "text": [
      "https://cy.cyworld.com/home/new/56814791\n"
     ]
    }
   ],
   "source": [
    "url=input()"
   ]
  },
  {
   "cell_type": "code",
   "execution_count": 100,
   "metadata": {
    "ExecuteTime": {
     "end_time": "2020-06-25T07:12:05.101390Z",
     "start_time": "2020-06-25T07:12:05.044387Z"
    }
   },
   "outputs": [],
   "source": [
    "menu=driver.find_element_by_xpath('/html/body/div[1]/article[1]/div/section/ul/li[3]/button')\n",
    "menu.click()"
   ]
  },
  {
   "cell_type": "code",
   "execution_count": 101,
   "metadata": {
    "ExecuteTime": {
     "end_time": "2020-06-25T07:12:06.496470Z",
     "start_time": "2020-06-25T07:12:06.436466Z"
    }
   },
   "outputs": [],
   "source": [
    "photos=driver.find_element_by_xpath('/html/body/div[1]/article[1]/div/section/ul/li[3]/div/div/ul[2]/li/ul/li[6]/label/span/em')\n",
    "photos.click()"
   ]
  },
  {
   "cell_type": "code",
   "execution_count": 98,
   "metadata": {
    "ExecuteTime": {
     "end_time": "2020-06-25T07:11:51.427608Z",
     "start_time": "2020-06-25T07:11:51.080588Z"
    }
   },
   "outputs": [],
   "source": [
    "menu=driver.find_element_by_xpath('/html/body/div[1]/article[1]/div/section/ul/li[3]/button')\n",
    "menu.click()"
   ]
  },
  {
   "cell_type": "code",
   "execution_count": 148,
   "metadata": {
    "ExecuteTime": {
     "end_time": "2020-06-25T09:02:40.212897Z",
     "start_time": "2020-06-25T09:02:38.031772Z"
    }
   },
   "outputs": [],
   "source": [
    "while(True):\n",
    "    time.sleep(0.5)\n",
    "    try:\n",
    "        more=driver.find_element_by_xpath('/html/body/div[1]/article[1]/div/section/p[4]/button')\n",
    "        more.click()\n",
    "    except:\n",
    "        break"
   ]
  },
  {
   "cell_type": "code",
   "execution_count": 149,
   "metadata": {
    "ExecuteTime": {
     "end_time": "2020-06-25T09:02:44.919166Z",
     "start_time": "2020-06-25T09:02:44.827161Z"
    }
   },
   "outputs": [],
   "source": [
    "page=driver.page_source\n",
    "soup=BeautifulSoup(page,\"html.parser\")\n",
    "div=soup.find('div',{'class':'postlist_area'})\n",
    "imgs=div.find_all('img')"
   ]
  },
  {
   "cell_type": "code",
   "execution_count": 150,
   "metadata": {
    "ExecuteTime": {
     "end_time": "2020-06-25T09:02:46.058231Z",
     "start_time": "2020-06-25T09:02:46.054231Z"
    }
   },
   "outputs": [
    {
     "data": {
      "text/plain": [
       "61"
      ]
     },
     "execution_count": 150,
     "metadata": {},
     "output_type": "execute_result"
    }
   ],
   "source": [
    "for img in imgs:\n",
    "    img['src']=img['src'].replace('width=239&height=239','width=1080')\n",
    "len(imgs)"
   ]
  },
  {
   "cell_type": "code",
   "execution_count": 151,
   "metadata": {
    "ExecuteTime": {
     "end_time": "2020-06-25T09:03:09.448569Z",
     "start_time": "2020-06-25T09:02:48.303360Z"
    },
    "scrolled": true
   },
   "outputs": [
    {
     "name": "stdout",
     "output_type": "stream",
     "text": [
      "전희호\n",
      "0\n",
      "1\n",
      "2\n",
      "3\n",
      "4\n",
      "5\n",
      "6\n",
      "7\n",
      "8\n",
      "9\n",
      "10\n",
      "11\n",
      "12\n",
      "13\n",
      "14\n",
      "15\n",
      "16\n",
      "17\n",
      "18\n",
      "19\n",
      "20\n",
      "21\n",
      "22\n",
      "23\n",
      "24\n",
      "25\n",
      "26\n",
      "27\n",
      "28\n",
      "29\n",
      "30\n",
      "31\n",
      "32\n",
      "33\n",
      "34\n",
      "35\n",
      "36\n",
      "37\n",
      "38\n",
      "39\n",
      "40\n",
      "41\n",
      "42\n",
      "43\n",
      "44\n",
      "45\n",
      "46\n",
      "47\n",
      "48\n",
      "49\n",
      "50\n",
      "51\n",
      "52\n",
      "53\n",
      "54\n",
      "55\n",
      "56\n",
      "57\n",
      "58\n",
      "59\n",
      "60\n"
     ]
    }
   ],
   "source": [
    "name=input()\n",
    "for i,img in enumerate(imgs):\n",
    "    urlretrieve(img['src'],'C:/Users/i7B/Downloads/cyworld/'+name+'/'+name+\"-\"+'{0:07d}'.format(i)+'.jpg')\n",
    "    if i%50==49 :\n",
    "        time.sleep(5)\n",
    "    print(i)"
   ]
  },
  {
   "cell_type": "code",
   "execution_count": null,
   "metadata": {},
   "outputs": [],
   "source": []
  }
 ],
 "metadata": {
  "hide_input": false,
  "kernelspec": {
   "display_name": "Python 3",
   "language": "python",
   "name": "python3"
  },
  "language_info": {
   "codemirror_mode": {
    "name": "ipython",
    "version": 3
   },
   "file_extension": ".py",
   "mimetype": "text/x-python",
   "name": "python",
   "nbconvert_exporter": "python",
   "pygments_lexer": "ipython3",
   "version": "3.7.6"
  },
  "toc": {
   "base_numbering": 1,
   "nav_menu": {},
   "number_sections": true,
   "sideBar": true,
   "skip_h1_title": false,
   "title_cell": "Table of Contents",
   "title_sidebar": "Contents",
   "toc_cell": false,
   "toc_position": {},
   "toc_section_display": true,
   "toc_window_display": false
  },
  "varInspector": {
   "cols": {
    "lenName": 16,
    "lenType": 16,
    "lenVar": 40
   },
   "kernels_config": {
    "python": {
     "delete_cmd_postfix": "",
     "delete_cmd_prefix": "del ",
     "library": "var_list.py",
     "varRefreshCmd": "print(var_dic_list())"
    },
    "r": {
     "delete_cmd_postfix": ") ",
     "delete_cmd_prefix": "rm(",
     "library": "var_list.r",
     "varRefreshCmd": "cat(var_dic_list()) "
    }
   },
   "types_to_exclude": [
    "module",
    "function",
    "builtin_function_or_method",
    "instance",
    "_Feature"
   ],
   "window_display": false
  }
 },
 "nbformat": 4,
 "nbformat_minor": 4
}
