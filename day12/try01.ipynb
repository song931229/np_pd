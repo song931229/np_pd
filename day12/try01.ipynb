{
 "cells": [
  {
   "cell_type": "code",
   "execution_count": 1,
   "metadata": {
    "ExecuteTime": {
     "end_time": "2020-06-10T03:03:03.549005Z",
     "start_time": "2020-06-10T03:03:03.546004Z"
    }
   },
   "outputs": [],
   "source": [
    "import shutil"
   ]
  },
  {
   "cell_type": "code",
   "execution_count": 2,
   "metadata": {
    "ExecuteTime": {
     "end_time": "2020-06-10T03:03:04.712071Z",
     "start_time": "2020-06-10T03:03:03.550005Z"
    }
   },
   "outputs": [],
   "source": [
    "import pandas as pd\n",
    "import seaborn as sns\n",
    "import numpy as np\n",
    "import matplotlib.pyplot as plt\n",
    "import re\n",
    "plt.rc(\"font\", family=\"Malgun Gothic\")\n",
    "plt.rc(\"axes\", unicode_minus=False)\n",
    "%config InlineBackend.figure_format = 'retina'"
   ]
  },
  {
   "cell_type": "code",
   "execution_count": 3,
   "metadata": {
    "ExecuteTime": {
     "end_time": "2020-06-10T03:03:05.088093Z",
     "start_time": "2020-06-10T03:03:04.713071Z"
    }
   },
   "outputs": [],
   "source": [
    "import folium\n",
    "import json"
   ]
  },
  {
   "cell_type": "code",
   "execution_count": 4,
   "metadata": {
    "ExecuteTime": {
     "end_time": "2020-06-10T03:03:05.097093Z",
     "start_time": "2020-06-10T03:03:05.089093Z"
    }
   },
   "outputs": [],
   "source": [
    "df_car=pd.read_csv('자동차등록집계현황.csv',encoding='euc-kr')"
   ]
  },
  {
   "cell_type": "code",
   "execution_count": 5,
   "metadata": {
    "ExecuteTime": {
     "end_time": "2020-06-10T03:03:05.102093Z",
     "start_time": "2020-06-10T03:03:05.098093Z"
    }
   },
   "outputs": [],
   "source": [
    "df_car['시군구명']=df_car['시군구명'].str.replace(' ','')"
   ]
  },
  {
   "cell_type": "code",
   "execution_count": 6,
   "metadata": {
    "ExecuteTime": {
     "end_time": "2020-06-10T03:03:05.111094Z",
     "start_time": "2020-06-10T03:03:05.103093Z"
    }
   },
   "outputs": [],
   "source": [
    "df_car=df_car.set_index('시군구명')"
   ]
  },
  {
   "cell_type": "code",
   "execution_count": 7,
   "metadata": {
    "ExecuteTime": {
     "end_time": "2020-06-10T03:03:05.154096Z",
     "start_time": "2020-06-10T03:03:05.114094Z"
    }
   },
   "outputs": [],
   "source": [
    "try:\n",
    "    geo_data=json.load(open('경기도행정구역경계.json', encoding=\"utf-8\"))\n",
    "except:\n",
    "    geo_data=json.load(open('경기도행정구역경계.json', encoding=\"utf-8-sig\"))\n",
    "\n",
    "g_map = folium.Map(location=[37.5502, 126.982], \n",
    "                   zoom_start=11)\n",
    "folium.Choropleth(geo_data=geo_data,\n",
    "                 data=df_car['총계'],\n",
    "                 columns=[df_car.index, df_car['총계']],\n",
    "                 fill_color='YlOrRd',\n",
    "                 fill_opacity=0.7,\n",
    "                 line_opacity=0.3,\n",
    "                 key_on='feature.properties.name'\n",
    "                 ).add_to(g_map)\n",
    "g_map.save('gg_car_map.html')"
   ]
  },
  {
   "cell_type": "code",
   "execution_count": 8,
   "metadata": {
    "ExecuteTime": {
     "end_time": "2020-06-10T03:03:05.356108Z",
     "start_time": "2020-06-10T03:03:05.156096Z"
    }
   },
   "outputs": [],
   "source": [
    "df_cctv=pd.read_csv('CCTV현황(개방표준).csv',encoding='euc-kr')"
   ]
  },
  {
   "cell_type": "code",
   "execution_count": 9,
   "metadata": {
    "ExecuteTime": {
     "end_time": "2020-06-10T03:03:05.374109Z",
     "start_time": "2020-06-10T03:03:05.357108Z"
    }
   },
   "outputs": [
    {
     "data": {
      "text/html": [
       "<div>\n",
       "<style scoped>\n",
       "    .dataframe tbody tr th:only-of-type {\n",
       "        vertical-align: middle;\n",
       "    }\n",
       "\n",
       "    .dataframe tbody tr th {\n",
       "        vertical-align: top;\n",
       "    }\n",
       "\n",
       "    .dataframe thead th {\n",
       "        text-align: right;\n",
       "    }\n",
       "</style>\n",
       "<table border=\"1\" class=\"dataframe\">\n",
       "  <thead>\n",
       "    <tr style=\"text-align: right;\">\n",
       "      <th></th>\n",
       "      <th>관리기관명</th>\n",
       "      <th>소재지도로명주소</th>\n",
       "      <th>소재지지번주소</th>\n",
       "      <th>설치목적구분</th>\n",
       "      <th>카메라대수</th>\n",
       "      <th>카메라화소수</th>\n",
       "      <th>촬영방면정보</th>\n",
       "      <th>보관일수</th>\n",
       "      <th>설치년월</th>\n",
       "      <th>관리기관전화번호</th>\n",
       "      <th>위도</th>\n",
       "      <th>경도</th>\n",
       "      <th>데이터기준일자</th>\n",
       "    </tr>\n",
       "  </thead>\n",
       "  <tbody>\n",
       "    <tr>\n",
       "      <th>0</th>\n",
       "      <td>경기도 가평군청</td>\n",
       "      <td>경기도 가평군 가평읍 당목가일길 211-80</td>\n",
       "      <td>경기도 가평군 가평읍 개곡리 705번지</td>\n",
       "      <td>생활방범</td>\n",
       "      <td>4</td>\n",
       "      <td>200.0</td>\n",
       "      <td>120도</td>\n",
       "      <td>30.0</td>\n",
       "      <td>NaN</td>\n",
       "      <td>031-582-1191</td>\n",
       "      <td>37.870545</td>\n",
       "      <td>127.5376575</td>\n",
       "      <td>2019-05-10</td>\n",
       "    </tr>\n",
       "    <tr>\n",
       "      <th>1</th>\n",
       "      <td>경기도 가평군청</td>\n",
       "      <td>NaN</td>\n",
       "      <td>경기도 가평군 가평읍 개곡리 964(개곡교)</td>\n",
       "      <td>생활방범</td>\n",
       "      <td>2</td>\n",
       "      <td>200.0</td>\n",
       "      <td>도로방면</td>\n",
       "      <td>30.0</td>\n",
       "      <td>NaN</td>\n",
       "      <td>031-580-2571</td>\n",
       "      <td>37.864426</td>\n",
       "      <td>127.5301553</td>\n",
       "      <td>2019-05-10</td>\n",
       "    </tr>\n",
       "    <tr>\n",
       "      <th>2</th>\n",
       "      <td>경기도 가평군청</td>\n",
       "      <td>NaN</td>\n",
       "      <td>경기도 가평군 가평읍 개곡리 산 334(경춘공원)</td>\n",
       "      <td>쓰레기단속</td>\n",
       "      <td>1</td>\n",
       "      <td>200.0</td>\n",
       "      <td>360도전방면</td>\n",
       "      <td>30.0</td>\n",
       "      <td>NaN</td>\n",
       "      <td>031-580-2550</td>\n",
       "      <td>37.834013</td>\n",
       "      <td>127.5063827</td>\n",
       "      <td>2019-05-10</td>\n",
       "    </tr>\n",
       "  </tbody>\n",
       "</table>\n",
       "</div>"
      ],
      "text/plain": [
       "      관리기관명                  소재지도로명주소                      소재지지번주소 설치목적구분  \\\n",
       "0  경기도 가평군청  경기도 가평군 가평읍 당목가일길 211-80        경기도 가평군 가평읍 개곡리 705번지   생활방범   \n",
       "1  경기도 가평군청                       NaN     경기도 가평군 가평읍 개곡리 964(개곡교)   생활방범   \n",
       "2  경기도 가평군청                       NaN  경기도 가평군 가평읍 개곡리 산 334(경춘공원)  쓰레기단속   \n",
       "\n",
       "   카메라대수  카메라화소수   촬영방면정보  보관일수 설치년월      관리기관전화번호         위도           경도  \\\n",
       "0      4   200.0     120도  30.0  NaN  031-582-1191  37.870545  127.5376575   \n",
       "1      2   200.0     도로방면  30.0  NaN  031-580-2571  37.864426  127.5301553   \n",
       "2      1   200.0  360도전방면  30.0  NaN  031-580-2550  37.834013  127.5063827   \n",
       "\n",
       "      데이터기준일자  \n",
       "0  2019-05-10  \n",
       "1  2019-05-10  \n",
       "2  2019-05-10  "
      ]
     },
     "execution_count": 9,
     "metadata": {},
     "output_type": "execute_result"
    }
   ],
   "source": [
    "df_cctv.head(3)"
   ]
  },
  {
   "cell_type": "code",
   "execution_count": 10,
   "metadata": {
    "ExecuteTime": {
     "end_time": "2020-06-10T03:03:05.406111Z",
     "start_time": "2020-06-10T03:03:05.375109Z"
    }
   },
   "outputs": [
    {
     "data": {
      "text/html": [
       "<div>\n",
       "<style scoped>\n",
       "    .dataframe tbody tr th:only-of-type {\n",
       "        vertical-align: middle;\n",
       "    }\n",
       "\n",
       "    .dataframe tbody tr th {\n",
       "        vertical-align: top;\n",
       "    }\n",
       "\n",
       "    .dataframe thead th {\n",
       "        text-align: right;\n",
       "    }\n",
       "</style>\n",
       "<table border=\"1\" class=\"dataframe\">\n",
       "  <thead>\n",
       "    <tr style=\"text-align: right;\">\n",
       "      <th></th>\n",
       "      <th>관리기관명</th>\n",
       "      <th>소재지도로명주소</th>\n",
       "      <th>소재지지번주소</th>\n",
       "      <th>설치목적구분</th>\n",
       "      <th>카메라대수</th>\n",
       "      <th>카메라화소수</th>\n",
       "      <th>촬영방면정보</th>\n",
       "      <th>보관일수</th>\n",
       "      <th>설치년월</th>\n",
       "      <th>관리기관전화번호</th>\n",
       "      <th>위도</th>\n",
       "      <th>경도</th>\n",
       "      <th>데이터기준일자</th>\n",
       "    </tr>\n",
       "  </thead>\n",
       "  <tbody>\n",
       "    <tr>\n",
       "      <th>644</th>\n",
       "      <td>경기도 고양시</td>\n",
       "      <td>NaN</td>\n",
       "      <td>경기도 고양시 일산동구 제2~3주차장사이</td>\n",
       "      <td>교통단속</td>\n",
       "      <td>3</td>\n",
       "      <td>130.0</td>\n",
       "      <td>NaN</td>\n",
       "      <td>30.0</td>\n",
       "      <td>NaN</td>\n",
       "      <td>031-8075-2578</td>\n",
       "      <td>NaN</td>\n",
       "      <td>NaN</td>\n",
       "      <td>2018-01-01</td>\n",
       "    </tr>\n",
       "    <tr>\n",
       "      <th>938</th>\n",
       "      <td>경기도 고양시</td>\n",
       "      <td>NaN</td>\n",
       "      <td>경기도 고양시 일산동구 굿모닝법조타운앞</td>\n",
       "      <td>교통단속</td>\n",
       "      <td>1</td>\n",
       "      <td>52.0</td>\n",
       "      <td>NaN</td>\n",
       "      <td>30.0</td>\n",
       "      <td>NaN</td>\n",
       "      <td>031-8075-2578</td>\n",
       "      <td>NaN</td>\n",
       "      <td>NaN</td>\n",
       "      <td>2018-01-01</td>\n",
       "    </tr>\n",
       "    <tr>\n",
       "      <th>1227</th>\n",
       "      <td>경기도 고양시</td>\n",
       "      <td>NaN</td>\n",
       "      <td>경기도 고양시 일산동구 흰돌마을3단지</td>\n",
       "      <td>교통단속</td>\n",
       "      <td>1</td>\n",
       "      <td>52.0</td>\n",
       "      <td>NaN</td>\n",
       "      <td>30.0</td>\n",
       "      <td>NaN</td>\n",
       "      <td>031-8075-2578</td>\n",
       "      <td>NaN</td>\n",
       "      <td>NaN</td>\n",
       "      <td>2018-01-01</td>\n",
       "    </tr>\n",
       "    <tr>\n",
       "      <th>1228</th>\n",
       "      <td>경기도 고양시</td>\n",
       "      <td>NaN</td>\n",
       "      <td>경기도 고양시 일산동구 백석성당</td>\n",
       "      <td>교통단속</td>\n",
       "      <td>1</td>\n",
       "      <td>52.0</td>\n",
       "      <td>NaN</td>\n",
       "      <td>30.0</td>\n",
       "      <td>NaN</td>\n",
       "      <td>031-8075-2578</td>\n",
       "      <td>NaN</td>\n",
       "      <td>NaN</td>\n",
       "      <td>2018-01-01</td>\n",
       "    </tr>\n",
       "    <tr>\n",
       "      <th>1229</th>\n",
       "      <td>경기도 고양시</td>\n",
       "      <td>NaN</td>\n",
       "      <td>경기도 고양시 일산동구 청석골앞</td>\n",
       "      <td>교통단속</td>\n",
       "      <td>1</td>\n",
       "      <td>41.0</td>\n",
       "      <td>NaN</td>\n",
       "      <td>30.0</td>\n",
       "      <td>NaN</td>\n",
       "      <td>031-8075-2578</td>\n",
       "      <td>NaN</td>\n",
       "      <td>NaN</td>\n",
       "      <td>2018-01-01</td>\n",
       "    </tr>\n",
       "    <tr>\n",
       "      <th>1230</th>\n",
       "      <td>경기도 고양시</td>\n",
       "      <td>NaN</td>\n",
       "      <td>경기도 고양시 일산동구 현대밀라트2차앞</td>\n",
       "      <td>교통단속</td>\n",
       "      <td>1</td>\n",
       "      <td>41.0</td>\n",
       "      <td>NaN</td>\n",
       "      <td>30.0</td>\n",
       "      <td>NaN</td>\n",
       "      <td>031-8075-2578</td>\n",
       "      <td>NaN</td>\n",
       "      <td>NaN</td>\n",
       "      <td>2018-01-01</td>\n",
       "    </tr>\n",
       "    <tr>\n",
       "      <th>1231</th>\n",
       "      <td>경기도 고양시</td>\n",
       "      <td>NaN</td>\n",
       "      <td>경기도 고양시 일산동구 한국전력공사앞</td>\n",
       "      <td>교통단속</td>\n",
       "      <td>1</td>\n",
       "      <td>41.0</td>\n",
       "      <td>NaN</td>\n",
       "      <td>30.0</td>\n",
       "      <td>NaN</td>\n",
       "      <td>031-8075-2578</td>\n",
       "      <td>NaN</td>\n",
       "      <td>NaN</td>\n",
       "      <td>2018-01-01</td>\n",
       "    </tr>\n",
       "    <tr>\n",
       "      <th>1318</th>\n",
       "      <td>경기도 고양시</td>\n",
       "      <td>NaN</td>\n",
       "      <td>경기도 고양시 일산동구 홈플러스 후문 사거리</td>\n",
       "      <td>교통단속</td>\n",
       "      <td>5</td>\n",
       "      <td>200.0</td>\n",
       "      <td>NaN</td>\n",
       "      <td>30.0</td>\n",
       "      <td>NaN</td>\n",
       "      <td>031-8075-2578</td>\n",
       "      <td>NaN</td>\n",
       "      <td>NaN</td>\n",
       "      <td>2018-01-01</td>\n",
       "    </tr>\n",
       "    <tr>\n",
       "      <th>1383</th>\n",
       "      <td>경기도 고양시</td>\n",
       "      <td>NaN</td>\n",
       "      <td>경기도 고양시 일산동구 고봉로 (호수삼거리)</td>\n",
       "      <td>교통단속</td>\n",
       "      <td>5</td>\n",
       "      <td>130.0</td>\n",
       "      <td>NaN</td>\n",
       "      <td>30.0</td>\n",
       "      <td>NaN</td>\n",
       "      <td>031-8075-2578</td>\n",
       "      <td>NaN</td>\n",
       "      <td>NaN</td>\n",
       "      <td>2018-01-01</td>\n",
       "    </tr>\n",
       "    <tr>\n",
       "      <th>1417</th>\n",
       "      <td>경기도 고양시</td>\n",
       "      <td>NaN</td>\n",
       "      <td>경기도 고양시 일산동구 제3주차장앞</td>\n",
       "      <td>교통단속</td>\n",
       "      <td>5</td>\n",
       "      <td>130.0</td>\n",
       "      <td>NaN</td>\n",
       "      <td>30.0</td>\n",
       "      <td>NaN</td>\n",
       "      <td>031-8075-2578</td>\n",
       "      <td>NaN</td>\n",
       "      <td>NaN</td>\n",
       "      <td>2018-01-01</td>\n",
       "    </tr>\n",
       "    <tr>\n",
       "      <th>1424</th>\n",
       "      <td>경기도 고양시</td>\n",
       "      <td>NaN</td>\n",
       "      <td>경기도 고양시 일산동구 동문굿모닝2차</td>\n",
       "      <td>교통단속</td>\n",
       "      <td>3</td>\n",
       "      <td>130.0</td>\n",
       "      <td>NaN</td>\n",
       "      <td>30.0</td>\n",
       "      <td>NaN</td>\n",
       "      <td>031-8075-2578</td>\n",
       "      <td>NaN</td>\n",
       "      <td>NaN</td>\n",
       "      <td>2018-01-01</td>\n",
       "    </tr>\n",
       "    <tr>\n",
       "      <th>1448</th>\n",
       "      <td>경기도 고양시</td>\n",
       "      <td>NaN</td>\n",
       "      <td>경기도 고양시 일산동구 신선설농탕</td>\n",
       "      <td>교통단속</td>\n",
       "      <td>1</td>\n",
       "      <td>52.0</td>\n",
       "      <td>NaN</td>\n",
       "      <td>30.0</td>\n",
       "      <td>NaN</td>\n",
       "      <td>031-8075-2578</td>\n",
       "      <td>NaN</td>\n",
       "      <td>NaN</td>\n",
       "      <td>2018-01-01</td>\n",
       "    </tr>\n",
       "    <tr>\n",
       "      <th>1463</th>\n",
       "      <td>경기도 고양시</td>\n",
       "      <td>NaN</td>\n",
       "      <td>경기도 고양시 일산동구 제1주차장앞</td>\n",
       "      <td>교통단속</td>\n",
       "      <td>3</td>\n",
       "      <td>130.0</td>\n",
       "      <td>NaN</td>\n",
       "      <td>30.0</td>\n",
       "      <td>NaN</td>\n",
       "      <td>031-8075-2578</td>\n",
       "      <td>NaN</td>\n",
       "      <td>NaN</td>\n",
       "      <td>2018-01-01</td>\n",
       "    </tr>\n",
       "    <tr>\n",
       "      <th>1506</th>\n",
       "      <td>경기도 고양시</td>\n",
       "      <td>NaN</td>\n",
       "      <td>경기도 고양시 일산동구 홈플러스 정문 사거리</td>\n",
       "      <td>교통단속</td>\n",
       "      <td>5</td>\n",
       "      <td>200.0</td>\n",
       "      <td>NaN</td>\n",
       "      <td>30.0</td>\n",
       "      <td>NaN</td>\n",
       "      <td>031-8075-2578</td>\n",
       "      <td>NaN</td>\n",
       "      <td>NaN</td>\n",
       "      <td>2018-01-01</td>\n",
       "    </tr>\n",
       "    <tr>\n",
       "      <th>1507</th>\n",
       "      <td>경기도 고양시</td>\n",
       "      <td>NaN</td>\n",
       "      <td>경기도 고양시 일산동구 선거관리위원회앞</td>\n",
       "      <td>교통단속</td>\n",
       "      <td>3</td>\n",
       "      <td>130.0</td>\n",
       "      <td>NaN</td>\n",
       "      <td>30.0</td>\n",
       "      <td>NaN</td>\n",
       "      <td>031-8075-2578</td>\n",
       "      <td>NaN</td>\n",
       "      <td>NaN</td>\n",
       "      <td>2018-01-01</td>\n",
       "    </tr>\n",
       "    <tr>\n",
       "      <th>1534</th>\n",
       "      <td>경기도 고양시</td>\n",
       "      <td>NaN</td>\n",
       "      <td>경기도 고양시 일산동구 웨스턴돔2 웨스턴돔2</td>\n",
       "      <td>교통단속</td>\n",
       "      <td>1</td>\n",
       "      <td>52.0</td>\n",
       "      <td>NaN</td>\n",
       "      <td>30.0</td>\n",
       "      <td>NaN</td>\n",
       "      <td>031-8075-2578</td>\n",
       "      <td>NaN</td>\n",
       "      <td>NaN</td>\n",
       "      <td>2018-01-01</td>\n",
       "    </tr>\n",
       "    <tr>\n",
       "      <th>1585</th>\n",
       "      <td>경기도 고양시</td>\n",
       "      <td>NaN</td>\n",
       "      <td>경기도 고양시 일산동구 웨스턴돔1</td>\n",
       "      <td>교통단속</td>\n",
       "      <td>1</td>\n",
       "      <td>41.0</td>\n",
       "      <td>NaN</td>\n",
       "      <td>30.0</td>\n",
       "      <td>NaN</td>\n",
       "      <td>031-8075-2578</td>\n",
       "      <td>NaN</td>\n",
       "      <td>NaN</td>\n",
       "      <td>2018-01-01</td>\n",
       "    </tr>\n",
       "    <tr>\n",
       "      <th>33156</th>\n",
       "      <td>경기도 하남시청</td>\n",
       "      <td>NaN</td>\n",
       "      <td>경기도 하남시 상일동 422-1</td>\n",
       "      <td>재난재해</td>\n",
       "      <td>1</td>\n",
       "      <td>41.0</td>\n",
       "      <td>360도전방면</td>\n",
       "      <td>30.0</td>\n",
       "      <td>2018-04</td>\n",
       "      <td>031-790-6456</td>\n",
       "      <td>NaN</td>\n",
       "      <td>NaN</td>\n",
       "      <td>2018-08-29</td>\n",
       "    </tr>\n",
       "    <tr>\n",
       "      <th>33188</th>\n",
       "      <td>경기도 하남시청</td>\n",
       "      <td>경기도 하남시 위례롯데캐슬 사거리 (학암동 514)</td>\n",
       "      <td>경기도 하남시 위례동 롯데캐슬 사거리 (학암동 514)</td>\n",
       "      <td>교통단속</td>\n",
       "      <td>1</td>\n",
       "      <td>200.0</td>\n",
       "      <td>NaN</td>\n",
       "      <td>NaN</td>\n",
       "      <td>2018-07</td>\n",
       "      <td>031-790-6293</td>\n",
       "      <td>NaN</td>\n",
       "      <td>NaN</td>\n",
       "      <td>2018-08-29</td>\n",
       "    </tr>\n",
       "    <tr>\n",
       "      <th>33189</th>\n",
       "      <td>경기도 하남시청</td>\n",
       "      <td>경기도 하남시 위례그린파크 푸르지오 삼거리 (학암동 434-1)</td>\n",
       "      <td>경기도 하남시 위례동 그린파크 푸르지오 삼거리 (학암동 434-1)</td>\n",
       "      <td>교통단속</td>\n",
       "      <td>1</td>\n",
       "      <td>200.0</td>\n",
       "      <td>NaN</td>\n",
       "      <td>NaN</td>\n",
       "      <td>2018-07</td>\n",
       "      <td>031-790-6293</td>\n",
       "      <td>NaN</td>\n",
       "      <td>NaN</td>\n",
       "      <td>2018-08-29</td>\n",
       "    </tr>\n",
       "    <tr>\n",
       "      <th>33190</th>\n",
       "      <td>경기도 하남시청</td>\n",
       "      <td>경기도 하남시 위례동주민센터 앞 (학암동 667)</td>\n",
       "      <td>경기도 하남시 위례동 주민센터 앞 (학암동 667)</td>\n",
       "      <td>교통단속</td>\n",
       "      <td>1</td>\n",
       "      <td>200.0</td>\n",
       "      <td>NaN</td>\n",
       "      <td>NaN</td>\n",
       "      <td>2018-07</td>\n",
       "      <td>031-790-6293</td>\n",
       "      <td>NaN</td>\n",
       "      <td>NaN</td>\n",
       "      <td>2018-08-29</td>\n",
       "    </tr>\n",
       "    <tr>\n",
       "      <th>33191</th>\n",
       "      <td>경기도 하남시청</td>\n",
       "      <td>경기도 하남시 위례초등학교 앞 (학암동 622)</td>\n",
       "      <td>NaN</td>\n",
       "      <td>교통단속</td>\n",
       "      <td>1</td>\n",
       "      <td>200.0</td>\n",
       "      <td>NaN</td>\n",
       "      <td>NaN</td>\n",
       "      <td>2018-07</td>\n",
       "      <td>031-790-6293</td>\n",
       "      <td>NaN</td>\n",
       "      <td>NaN</td>\n",
       "      <td>2018-08-29</td>\n",
       "    </tr>\n",
       "    <tr>\n",
       "      <th>33193</th>\n",
       "      <td>경기도 하남시청</td>\n",
       "      <td>경기도 하남시 위례지웰푸르지오 정문 앞 (학암동 90-32)</td>\n",
       "      <td>경기도 하남시 위례동 지웰푸르지오 정문 앞 (학암동 90-32)</td>\n",
       "      <td>교통단속</td>\n",
       "      <td>1</td>\n",
       "      <td>200.0</td>\n",
       "      <td>NaN</td>\n",
       "      <td>NaN</td>\n",
       "      <td>2018-07</td>\n",
       "      <td>031-790-6293</td>\n",
       "      <td>NaN</td>\n",
       "      <td>NaN</td>\n",
       "      <td>2018-08-29</td>\n",
       "    </tr>\n",
       "    <tr>\n",
       "      <th>33194</th>\n",
       "      <td>경기도 하남시청</td>\n",
       "      <td>경기도 하남시 스타필드하남 후문 앞 (신장동 54-46)</td>\n",
       "      <td>NaN</td>\n",
       "      <td>교통단속</td>\n",
       "      <td>1</td>\n",
       "      <td>200.0</td>\n",
       "      <td>NaN</td>\n",
       "      <td>NaN</td>\n",
       "      <td>2018-06</td>\n",
       "      <td>031-790-6293</td>\n",
       "      <td>NaN</td>\n",
       "      <td>NaN</td>\n",
       "      <td>2018-08-29</td>\n",
       "    </tr>\n",
       "    <tr>\n",
       "      <th>33211</th>\n",
       "      <td>경기도 하남시청</td>\n",
       "      <td>경기도 하남시 하남종합운동장 사거리 (망월동 184-1)</td>\n",
       "      <td>NaN</td>\n",
       "      <td>교통단속</td>\n",
       "      <td>1</td>\n",
       "      <td>200.0</td>\n",
       "      <td>NaN</td>\n",
       "      <td>NaN</td>\n",
       "      <td>2018-06</td>\n",
       "      <td>031-790-6293</td>\n",
       "      <td>NaN</td>\n",
       "      <td>NaN</td>\n",
       "      <td>2018-08-29</td>\n",
       "    </tr>\n",
       "    <tr>\n",
       "      <th>33215</th>\n",
       "      <td>경기도 하남시청</td>\n",
       "      <td>경기도 하남시 신세계백화점 삼거리 (신장동 56-3)</td>\n",
       "      <td>NaN</td>\n",
       "      <td>교통단속</td>\n",
       "      <td>1</td>\n",
       "      <td>200.0</td>\n",
       "      <td>NaN</td>\n",
       "      <td>NaN</td>\n",
       "      <td>2018-06</td>\n",
       "      <td>031-790-6293</td>\n",
       "      <td>NaN</td>\n",
       "      <td>NaN</td>\n",
       "      <td>2018-08-29</td>\n",
       "    </tr>\n",
       "    <tr>\n",
       "      <th>33220</th>\n",
       "      <td>경기도 하남시청</td>\n",
       "      <td>경기도 하남시 대청로 22번길 555도 하남리빙텔 주변도로</td>\n",
       "      <td>NaN</td>\n",
       "      <td>교통단속</td>\n",
       "      <td>1</td>\n",
       "      <td>41.0</td>\n",
       "      <td>NaN</td>\n",
       "      <td>NaN</td>\n",
       "      <td>2018-06</td>\n",
       "      <td>031-790-6293</td>\n",
       "      <td>NaN</td>\n",
       "      <td>NaN</td>\n",
       "      <td>2018-08-29</td>\n",
       "    </tr>\n",
       "    <tr>\n",
       "      <th>33221</th>\n",
       "      <td>경기도 하남시청</td>\n",
       "      <td>경기도 하남시 덕풍서로 780 도 명성교회 주변도로</td>\n",
       "      <td>NaN</td>\n",
       "      <td>교통단속</td>\n",
       "      <td>1</td>\n",
       "      <td>41.0</td>\n",
       "      <td>NaN</td>\n",
       "      <td>NaN</td>\n",
       "      <td>2018-06</td>\n",
       "      <td>031-790-6293</td>\n",
       "      <td>NaN</td>\n",
       "      <td>NaN</td>\n",
       "      <td>2018-08-29</td>\n",
       "    </tr>\n",
       "    <tr>\n",
       "      <th>33564</th>\n",
       "      <td>경기도 하남시청</td>\n",
       "      <td>경기도 하남시 스타필드하남 정문 앞 (신장동 54-60)</td>\n",
       "      <td>NaN</td>\n",
       "      <td>교통단속</td>\n",
       "      <td>1</td>\n",
       "      <td>200.0</td>\n",
       "      <td>NaN</td>\n",
       "      <td>NaN</td>\n",
       "      <td>2018-06</td>\n",
       "      <td>031-790-6293</td>\n",
       "      <td>NaN</td>\n",
       "      <td>NaN</td>\n",
       "      <td>2018-08-29</td>\n",
       "    </tr>\n",
       "    <tr>\n",
       "      <th>33569</th>\n",
       "      <td>경기도 하남시청</td>\n",
       "      <td>경기도 하남시 구산유치원 주변도로</td>\n",
       "      <td>NaN</td>\n",
       "      <td>교통단속</td>\n",
       "      <td>1</td>\n",
       "      <td>200.0</td>\n",
       "      <td>NaN</td>\n",
       "      <td>NaN</td>\n",
       "      <td>2018-10</td>\n",
       "      <td>031-790-6293</td>\n",
       "      <td>NaN</td>\n",
       "      <td>NaN</td>\n",
       "      <td>2018-08-29</td>\n",
       "    </tr>\n",
       "    <tr>\n",
       "      <th>33573</th>\n",
       "      <td>경기도 하남시청</td>\n",
       "      <td>경기도 하남시 위례이마트 타운 앞 (학암동 90-34)</td>\n",
       "      <td>경기도 하남시 위례동 이마트 타운 앞 (학암동 90-34)</td>\n",
       "      <td>교통단속</td>\n",
       "      <td>1</td>\n",
       "      <td>200.0</td>\n",
       "      <td>NaN</td>\n",
       "      <td>NaN</td>\n",
       "      <td>2018-07</td>\n",
       "      <td>031-790-6293</td>\n",
       "      <td>NaN</td>\n",
       "      <td>NaN</td>\n",
       "      <td>2018-08-29</td>\n",
       "    </tr>\n",
       "    <tr>\n",
       "      <th>33686</th>\n",
       "      <td>경기도 하남시청</td>\n",
       "      <td>경기도 하남시 미사동로 272-1 도 미사동삼거리 주변도로</td>\n",
       "      <td>NaN</td>\n",
       "      <td>교통단속</td>\n",
       "      <td>1</td>\n",
       "      <td>41.0</td>\n",
       "      <td>NaN</td>\n",
       "      <td>NaN</td>\n",
       "      <td>2018-06</td>\n",
       "      <td>031-790-6293</td>\n",
       "      <td>NaN</td>\n",
       "      <td>NaN</td>\n",
       "      <td>2018-08-29</td>\n",
       "    </tr>\n",
       "  </tbody>\n",
       "</table>\n",
       "</div>"
      ],
      "text/plain": [
       "          관리기관명                             소재지도로명주소  \\\n",
       "644     경기도 고양시                                  NaN   \n",
       "938     경기도 고양시                                  NaN   \n",
       "1227    경기도 고양시                                  NaN   \n",
       "1228    경기도 고양시                                  NaN   \n",
       "1229    경기도 고양시                                  NaN   \n",
       "1230    경기도 고양시                                  NaN   \n",
       "1231    경기도 고양시                                  NaN   \n",
       "1318    경기도 고양시                                  NaN   \n",
       "1383    경기도 고양시                                  NaN   \n",
       "1417    경기도 고양시                                  NaN   \n",
       "1424    경기도 고양시                                  NaN   \n",
       "1448    경기도 고양시                                  NaN   \n",
       "1463    경기도 고양시                                  NaN   \n",
       "1506    경기도 고양시                                  NaN   \n",
       "1507    경기도 고양시                                  NaN   \n",
       "1534    경기도 고양시                                  NaN   \n",
       "1585    경기도 고양시                                  NaN   \n",
       "33156  경기도 하남시청                                  NaN   \n",
       "33188  경기도 하남시청         경기도 하남시 위례롯데캐슬 사거리 (학암동 514)   \n",
       "33189  경기도 하남시청  경기도 하남시 위례그린파크 푸르지오 삼거리 (학암동 434-1)   \n",
       "33190  경기도 하남시청          경기도 하남시 위례동주민센터 앞 (학암동 667)   \n",
       "33191  경기도 하남시청           경기도 하남시 위례초등학교 앞 (학암동 622)   \n",
       "33193  경기도 하남시청    경기도 하남시 위례지웰푸르지오 정문 앞 (학암동 90-32)   \n",
       "33194  경기도 하남시청      경기도 하남시 스타필드하남 후문 앞 (신장동 54-46)   \n",
       "33211  경기도 하남시청      경기도 하남시 하남종합운동장 사거리 (망월동 184-1)   \n",
       "33215  경기도 하남시청        경기도 하남시 신세계백화점 삼거리 (신장동 56-3)   \n",
       "33220  경기도 하남시청     경기도 하남시 대청로 22번길 555도 하남리빙텔 주변도로   \n",
       "33221  경기도 하남시청         경기도 하남시 덕풍서로 780 도 명성교회 주변도로   \n",
       "33564  경기도 하남시청      경기도 하남시 스타필드하남 정문 앞 (신장동 54-60)   \n",
       "33569  경기도 하남시청                   경기도 하남시 구산유치원 주변도로   \n",
       "33573  경기도 하남시청       경기도 하남시 위례이마트 타운 앞 (학암동 90-34)   \n",
       "33686  경기도 하남시청     경기도 하남시 미사동로 272-1 도 미사동삼거리 주변도로   \n",
       "\n",
       "                                     소재지지번주소 설치목적구분  카메라대수  카메라화소수   촬영방면정보  \\\n",
       "644                   경기도 고양시 일산동구 제2~3주차장사이   교통단속      3   130.0      NaN   \n",
       "938                    경기도 고양시 일산동구 굿모닝법조타운앞   교통단속      1    52.0      NaN   \n",
       "1227                    경기도 고양시 일산동구 흰돌마을3단지   교통단속      1    52.0      NaN   \n",
       "1228                       경기도 고양시 일산동구 백석성당   교통단속      1    52.0      NaN   \n",
       "1229                       경기도 고양시 일산동구 청석골앞   교통단속      1    41.0      NaN   \n",
       "1230                   경기도 고양시 일산동구 현대밀라트2차앞   교통단속      1    41.0      NaN   \n",
       "1231                    경기도 고양시 일산동구 한국전력공사앞   교통단속      1    41.0      NaN   \n",
       "1318                경기도 고양시 일산동구 홈플러스 후문 사거리   교통단속      5   200.0      NaN   \n",
       "1383                경기도 고양시 일산동구 고봉로 (호수삼거리)   교통단속      5   130.0      NaN   \n",
       "1417                     경기도 고양시 일산동구 제3주차장앞   교통단속      5   130.0      NaN   \n",
       "1424                    경기도 고양시 일산동구 동문굿모닝2차   교통단속      3   130.0      NaN   \n",
       "1448                      경기도 고양시 일산동구 신선설농탕   교통단속      1    52.0      NaN   \n",
       "1463                     경기도 고양시 일산동구 제1주차장앞   교통단속      3   130.0      NaN   \n",
       "1506                경기도 고양시 일산동구 홈플러스 정문 사거리   교통단속      5   200.0      NaN   \n",
       "1507                   경기도 고양시 일산동구 선거관리위원회앞   교통단속      3   130.0      NaN   \n",
       "1534                경기도 고양시 일산동구 웨스턴돔2 웨스턴돔2   교통단속      1    52.0      NaN   \n",
       "1585                      경기도 고양시 일산동구 웨스턴돔1   교통단속      1    41.0      NaN   \n",
       "33156                      경기도 하남시 상일동 422-1   재난재해      1    41.0  360도전방면   \n",
       "33188         경기도 하남시 위례동 롯데캐슬 사거리 (학암동 514)   교통단속      1   200.0      NaN   \n",
       "33189  경기도 하남시 위례동 그린파크 푸르지오 삼거리 (학암동 434-1)   교통단속      1   200.0      NaN   \n",
       "33190           경기도 하남시 위례동 주민센터 앞 (학암동 667)   교통단속      1   200.0      NaN   \n",
       "33191                                    NaN   교통단속      1   200.0      NaN   \n",
       "33193    경기도 하남시 위례동 지웰푸르지오 정문 앞 (학암동 90-32)   교통단속      1   200.0      NaN   \n",
       "33194                                    NaN   교통단속      1   200.0      NaN   \n",
       "33211                                    NaN   교통단속      1   200.0      NaN   \n",
       "33215                                    NaN   교통단속      1   200.0      NaN   \n",
       "33220                                    NaN   교통단속      1    41.0      NaN   \n",
       "33221                                    NaN   교통단속      1    41.0      NaN   \n",
       "33564                                    NaN   교통단속      1   200.0      NaN   \n",
       "33569                                    NaN   교통단속      1   200.0      NaN   \n",
       "33573       경기도 하남시 위례동 이마트 타운 앞 (학암동 90-34)   교통단속      1   200.0      NaN   \n",
       "33686                                    NaN   교통단속      1    41.0      NaN   \n",
       "\n",
       "       보관일수     설치년월       관리기관전화번호  위도   경도     데이터기준일자  \n",
       "644    30.0      NaN  031-8075-2578 NaN  NaN  2018-01-01  \n",
       "938    30.0      NaN  031-8075-2578 NaN  NaN  2018-01-01  \n",
       "1227   30.0      NaN  031-8075-2578 NaN  NaN  2018-01-01  \n",
       "1228   30.0      NaN  031-8075-2578 NaN  NaN  2018-01-01  \n",
       "1229   30.0      NaN  031-8075-2578 NaN  NaN  2018-01-01  \n",
       "1230   30.0      NaN  031-8075-2578 NaN  NaN  2018-01-01  \n",
       "1231   30.0      NaN  031-8075-2578 NaN  NaN  2018-01-01  \n",
       "1318   30.0      NaN  031-8075-2578 NaN  NaN  2018-01-01  \n",
       "1383   30.0      NaN  031-8075-2578 NaN  NaN  2018-01-01  \n",
       "1417   30.0      NaN  031-8075-2578 NaN  NaN  2018-01-01  \n",
       "1424   30.0      NaN  031-8075-2578 NaN  NaN  2018-01-01  \n",
       "1448   30.0      NaN  031-8075-2578 NaN  NaN  2018-01-01  \n",
       "1463   30.0      NaN  031-8075-2578 NaN  NaN  2018-01-01  \n",
       "1506   30.0      NaN  031-8075-2578 NaN  NaN  2018-01-01  \n",
       "1507   30.0      NaN  031-8075-2578 NaN  NaN  2018-01-01  \n",
       "1534   30.0      NaN  031-8075-2578 NaN  NaN  2018-01-01  \n",
       "1585   30.0      NaN  031-8075-2578 NaN  NaN  2018-01-01  \n",
       "33156  30.0  2018-04   031-790-6456 NaN  NaN  2018-08-29  \n",
       "33188   NaN  2018-07   031-790-6293 NaN  NaN  2018-08-29  \n",
       "33189   NaN  2018-07   031-790-6293 NaN  NaN  2018-08-29  \n",
       "33190   NaN  2018-07   031-790-6293 NaN  NaN  2018-08-29  \n",
       "33191   NaN  2018-07   031-790-6293 NaN  NaN  2018-08-29  \n",
       "33193   NaN  2018-07   031-790-6293 NaN  NaN  2018-08-29  \n",
       "33194   NaN  2018-06   031-790-6293 NaN  NaN  2018-08-29  \n",
       "33211   NaN  2018-06   031-790-6293 NaN  NaN  2018-08-29  \n",
       "33215   NaN  2018-06   031-790-6293 NaN  NaN  2018-08-29  \n",
       "33220   NaN  2018-06   031-790-6293 NaN  NaN  2018-08-29  \n",
       "33221   NaN  2018-06   031-790-6293 NaN  NaN  2018-08-29  \n",
       "33564   NaN  2018-06   031-790-6293 NaN  NaN  2018-08-29  \n",
       "33569   NaN  2018-10   031-790-6293 NaN  NaN  2018-08-29  \n",
       "33573   NaN  2018-07   031-790-6293 NaN  NaN  2018-08-29  \n",
       "33686   NaN  2018-06   031-790-6293 NaN  NaN  2018-08-29  "
      ]
     },
     "execution_count": 10,
     "metadata": {},
     "output_type": "execute_result"
    }
   ],
   "source": [
    "df_cctv[df_cctv['위도'].isna()]"
   ]
  },
  {
   "cell_type": "code",
   "execution_count": 11,
   "metadata": {
    "ExecuteTime": {
     "end_time": "2020-06-10T03:03:05.411111Z",
     "start_time": "2020-06-10T03:03:05.407111Z"
    }
   },
   "outputs": [],
   "source": [
    "df_cctv['위도']=df_cctv['위도'].fillna(method='pad')"
   ]
  },
  {
   "cell_type": "code",
   "execution_count": 12,
   "metadata": {
    "ExecuteTime": {
     "end_time": "2020-06-10T03:03:05.420112Z",
     "start_time": "2020-06-10T03:03:05.412111Z"
    }
   },
   "outputs": [],
   "source": [
    "df_cctv['경도']=df_cctv['경도'].fillna(method='pad')"
   ]
  },
  {
   "cell_type": "code",
   "execution_count": 13,
   "metadata": {
    "ExecuteTime": {
     "end_time": "2020-06-10T03:03:05.442113Z",
     "start_time": "2020-06-10T03:03:05.421112Z"
    }
   },
   "outputs": [],
   "source": [
    "df_cctv['경도']=df_cctv['경도'].str.replace('-','.')"
   ]
  },
  {
   "cell_type": "code",
   "execution_count": 14,
   "metadata": {
    "ExecuteTime": {
     "end_time": "2020-06-10T03:03:05.456114Z",
     "start_time": "2020-06-10T03:03:05.443113Z"
    },
    "scrolled": false
   },
   "outputs": [
    {
     "data": {
      "text/plain": [
       "0        127.537657\n",
       "1        127.530155\n",
       "2        127.506383\n",
       "3        127.549835\n",
       "4        127.466377\n",
       "            ...    \n",
       "37964    127.013257\n",
       "37965    127.045474\n",
       "37966    126.981625\n",
       "37967    126.998172\n",
       "37968    127.018531\n",
       "Name: 경도, Length: 37969, dtype: float64"
      ]
     },
     "execution_count": 14,
     "metadata": {},
     "output_type": "execute_result"
    }
   ],
   "source": [
    "df_cctv['경도'].astype('float')"
   ]
  },
  {
   "cell_type": "code",
   "execution_count": 15,
   "metadata": {
    "ExecuteTime": {
     "end_time": "2020-06-10T03:03:05.491116Z",
     "start_time": "2020-06-10T03:03:05.457114Z"
    }
   },
   "outputs": [],
   "source": [
    "df_cctv['관리기관명']=df_cctv['관리기관명'].str.replace(\"경기도 \",'')"
   ]
  },
  {
   "cell_type": "code",
   "execution_count": 16,
   "metadata": {
    "ExecuteTime": {
     "end_time": "2020-06-10T03:03:05.512117Z",
     "start_time": "2020-06-10T03:03:05.492116Z"
    }
   },
   "outputs": [],
   "source": [
    "df_cctv['시군']=df_cctv['소재지지번주소'].str[4:7]"
   ]
  },
  {
   "cell_type": "code",
   "execution_count": 17,
   "metadata": {
    "ExecuteTime": {
     "end_time": "2020-06-10T03:03:05.528118Z",
     "start_time": "2020-06-10T03:03:05.513117Z"
    }
   },
   "outputs": [],
   "source": [
    "indexs=df_cctv[df_cctv['시군'].isna()].index"
   ]
  },
  {
   "cell_type": "code",
   "execution_count": 18,
   "metadata": {
    "ExecuteTime": {
     "end_time": "2020-06-10T03:03:05.535118Z",
     "start_time": "2020-06-10T03:03:05.529118Z"
    }
   },
   "outputs": [
    {
     "data": {
      "text/plain": [
       "Int64Index([ 4020,  4021,  4024,  4027,  4047,  4049,  4050,  4091,  4094,\n",
       "             4096,\n",
       "            ...\n",
       "            33122, 33191, 33194, 33211, 33215, 33220, 33221, 33564, 33569,\n",
       "            33686],\n",
       "           dtype='int64', length=120)"
      ]
     },
     "execution_count": 18,
     "metadata": {},
     "output_type": "execute_result"
    }
   ],
   "source": [
    "indexs"
   ]
  },
  {
   "cell_type": "code",
   "execution_count": 19,
   "metadata": {
    "ExecuteTime": {
     "end_time": "2020-06-10T03:03:05.546119Z",
     "start_time": "2020-06-10T03:03:05.536118Z"
    }
   },
   "outputs": [
    {
     "data": {
      "text/plain": [
       "['101',\n",
       " '102',\n",
       " '181',\n",
       " '51-',\n",
       " '101',\n",
       " '761',\n",
       " '761',\n",
       " '973',\n",
       " '05-',\n",
       " '137',\n",
       " '72-',\n",
       " '181',\n",
       " '181',\n",
       " '181',\n",
       " '181',\n",
       " '7-1',\n",
       " '908',\n",
       " '638',\n",
       " '967',\n",
       " '36-',\n",
       " '1-5',\n",
       " '62-',\n",
       " '80-',\n",
       " '49',\n",
       " '150',\n",
       " '111',\n",
       " '154',\n",
       " '150',\n",
       " '181',\n",
       " '05-',\n",
       " '71-',\n",
       " '34-',\n",
       " '부천시',\n",
       " '부천시',\n",
       " '부천시',\n",
       " '부천시',\n",
       " '부천시',\n",
       " '부천시',\n",
       " '부천시',\n",
       " '부천시',\n",
       " '부천시',\n",
       " '부천시',\n",
       " '부천시',\n",
       " '부천시',\n",
       " '부천시',\n",
       " '부천시',\n",
       " '부천시',\n",
       " '부천시',\n",
       " '부천시',\n",
       " '부천시',\n",
       " '부천시',\n",
       " '부천시',\n",
       " '부천시',\n",
       " '부천시',\n",
       " '부천시',\n",
       " '부천시',\n",
       " '부천시',\n",
       " '부천시',\n",
       " '부천시',\n",
       " '부천시',\n",
       " '부천시',\n",
       " '부천시',\n",
       " '안양시',\n",
       " '안양시',\n",
       " '안양시',\n",
       " '안양시',\n",
       " '안양시',\n",
       " '안양시',\n",
       " '안양시',\n",
       " '안양시',\n",
       " '안양시',\n",
       " '안양시',\n",
       " '안양시',\n",
       " '안양시',\n",
       " '안양시',\n",
       " '안양시',\n",
       " '안양시',\n",
       " '안양시',\n",
       " '의정부',\n",
       " '의정부',\n",
       " '의정부',\n",
       " '의정부',\n",
       " '포천시',\n",
       " '포천시',\n",
       " '포천시',\n",
       " '포천시',\n",
       " '포천시',\n",
       " '포천시',\n",
       " '포천시',\n",
       " '포천시',\n",
       " '포천시',\n",
       " '포천시',\n",
       " '포천시',\n",
       " '포천시',\n",
       " '포천시',\n",
       " '포천시',\n",
       " '포천시',\n",
       " '포천시',\n",
       " '포천시',\n",
       " '포천시',\n",
       " '포천시',\n",
       " '포천시',\n",
       " '포천시',\n",
       " '포천시',\n",
       " '포천시',\n",
       " '포천시',\n",
       " '포천시',\n",
       " '포천시',\n",
       " '포천시',\n",
       " '포천시',\n",
       " '포천시',\n",
       " '하남시',\n",
       " '하남시',\n",
       " '하남시',\n",
       " '하남시',\n",
       " '하남시',\n",
       " '하남시',\n",
       " '하남시',\n",
       " '하남시',\n",
       " '하남시']"
      ]
     },
     "execution_count": 19,
     "metadata": {},
     "output_type": "execute_result"
    }
   ],
   "source": [
    "siguns=list(df_cctv[df_cctv['시군'].isna()]['소재지도로명주소'].str[4:7].copy())\n",
    "siguns"
   ]
  },
  {
   "cell_type": "code",
   "execution_count": 20,
   "metadata": {
    "ExecuteTime": {
     "end_time": "2020-06-10T03:03:05.636124Z",
     "start_time": "2020-06-10T03:03:05.547119Z"
    }
   },
   "outputs": [],
   "source": [
    "for i in range(120):\n",
    "    if ('시' in siguns[i] or '군' in siguns[i]) and ' ' not in siguns[i]:\n",
    "        df_cctv.loc[indexs[i],'시군']=siguns[i]"
   ]
  },
  {
   "cell_type": "code",
   "execution_count": 21,
   "metadata": {
    "ExecuteTime": {
     "end_time": "2020-06-10T03:03:05.652125Z",
     "start_time": "2020-06-10T03:03:05.637124Z"
    }
   },
   "outputs": [],
   "source": [
    "df_cctv.drop(df_cctv[df_cctv['시군']=='시 금'].index,inplace=True)"
   ]
  },
  {
   "cell_type": "code",
   "execution_count": 22,
   "metadata": {
    "ExecuteTime": {
     "end_time": "2020-06-10T03:03:05.678126Z",
     "start_time": "2020-06-10T03:03:05.653125Z"
    },
    "scrolled": true
   },
   "outputs": [
    {
     "data": {
      "text/html": [
       "<div>\n",
       "<style scoped>\n",
       "    .dataframe tbody tr th:only-of-type {\n",
       "        vertical-align: middle;\n",
       "    }\n",
       "\n",
       "    .dataframe tbody tr th {\n",
       "        vertical-align: top;\n",
       "    }\n",
       "\n",
       "    .dataframe thead th {\n",
       "        text-align: right;\n",
       "    }\n",
       "</style>\n",
       "<table border=\"1\" class=\"dataframe\">\n",
       "  <thead>\n",
       "    <tr style=\"text-align: right;\">\n",
       "      <th></th>\n",
       "      <th>관리기관명</th>\n",
       "      <th>소재지도로명주소</th>\n",
       "      <th>소재지지번주소</th>\n",
       "      <th>설치목적구분</th>\n",
       "      <th>카메라대수</th>\n",
       "      <th>카메라화소수</th>\n",
       "      <th>촬영방면정보</th>\n",
       "      <th>보관일수</th>\n",
       "      <th>설치년월</th>\n",
       "      <th>관리기관전화번호</th>\n",
       "      <th>위도</th>\n",
       "      <th>경도</th>\n",
       "      <th>데이터기준일자</th>\n",
       "      <th>시군</th>\n",
       "    </tr>\n",
       "  </thead>\n",
       "  <tbody>\n",
       "    <tr>\n",
       "      <th>0</th>\n",
       "      <td>가평군청</td>\n",
       "      <td>경기도 가평군 가평읍 당목가일길 211-80</td>\n",
       "      <td>경기도 가평군 가평읍 개곡리 705번지</td>\n",
       "      <td>생활방범</td>\n",
       "      <td>4</td>\n",
       "      <td>200.0</td>\n",
       "      <td>120도</td>\n",
       "      <td>30.0</td>\n",
       "      <td>NaN</td>\n",
       "      <td>031-582-1191</td>\n",
       "      <td>37.870545</td>\n",
       "      <td>127.5376575</td>\n",
       "      <td>2019-05-10</td>\n",
       "      <td>가평군</td>\n",
       "    </tr>\n",
       "    <tr>\n",
       "      <th>1</th>\n",
       "      <td>가평군청</td>\n",
       "      <td>NaN</td>\n",
       "      <td>경기도 가평군 가평읍 개곡리 964(개곡교)</td>\n",
       "      <td>생활방범</td>\n",
       "      <td>2</td>\n",
       "      <td>200.0</td>\n",
       "      <td>도로방면</td>\n",
       "      <td>30.0</td>\n",
       "      <td>NaN</td>\n",
       "      <td>031-580-2571</td>\n",
       "      <td>37.864426</td>\n",
       "      <td>127.5301553</td>\n",
       "      <td>2019-05-10</td>\n",
       "      <td>가평군</td>\n",
       "    </tr>\n",
       "    <tr>\n",
       "      <th>2</th>\n",
       "      <td>가평군청</td>\n",
       "      <td>NaN</td>\n",
       "      <td>경기도 가평군 가평읍 개곡리 산 334(경춘공원)</td>\n",
       "      <td>쓰레기단속</td>\n",
       "      <td>1</td>\n",
       "      <td>200.0</td>\n",
       "      <td>360도전방면</td>\n",
       "      <td>30.0</td>\n",
       "      <td>NaN</td>\n",
       "      <td>031-580-2550</td>\n",
       "      <td>37.834013</td>\n",
       "      <td>127.5063827</td>\n",
       "      <td>2019-05-10</td>\n",
       "      <td>가평군</td>\n",
       "    </tr>\n",
       "    <tr>\n",
       "      <th>3</th>\n",
       "      <td>가평군청</td>\n",
       "      <td>NaN</td>\n",
       "      <td>경기도 가평군 가평읍 개곡리 산 344(줄길리 마을입구)</td>\n",
       "      <td>생활방범</td>\n",
       "      <td>2</td>\n",
       "      <td>200.0</td>\n",
       "      <td>도로방면</td>\n",
       "      <td>30.0</td>\n",
       "      <td>NaN</td>\n",
       "      <td>031-580-2571</td>\n",
       "      <td>37.848283</td>\n",
       "      <td>127.5498354</td>\n",
       "      <td>2019-05-10</td>\n",
       "      <td>가평군</td>\n",
       "    </tr>\n",
       "    <tr>\n",
       "      <th>4</th>\n",
       "      <td>가평군청</td>\n",
       "      <td>NaN</td>\n",
       "      <td>경기도 가평군 가평읍 경반리 산 151-3(짚라인가평입구)</td>\n",
       "      <td>생활방범</td>\n",
       "      <td>1</td>\n",
       "      <td>200.0</td>\n",
       "      <td>도로방면</td>\n",
       "      <td>30.0</td>\n",
       "      <td>NaN</td>\n",
       "      <td>031-580-2571</td>\n",
       "      <td>37.834490</td>\n",
       "      <td>127.4663768</td>\n",
       "      <td>2019-05-10</td>\n",
       "      <td>가평군</td>\n",
       "    </tr>\n",
       "    <tr>\n",
       "      <th>...</th>\n",
       "      <td>...</td>\n",
       "      <td>...</td>\n",
       "      <td>...</td>\n",
       "      <td>...</td>\n",
       "      <td>...</td>\n",
       "      <td>...</td>\n",
       "      <td>...</td>\n",
       "      <td>...</td>\n",
       "      <td>...</td>\n",
       "      <td>...</td>\n",
       "      <td>...</td>\n",
       "      <td>...</td>\n",
       "      <td>...</td>\n",
       "      <td>...</td>\n",
       "    </tr>\n",
       "    <tr>\n",
       "      <th>37964</th>\n",
       "      <td>화성시-스마트시티과</td>\n",
       "      <td>NaN</td>\n",
       "      <td>경기도 화성시 송산동 164-25</td>\n",
       "      <td>생활방범</td>\n",
       "      <td>4</td>\n",
       "      <td>200.0</td>\n",
       "      <td>360도전방면</td>\n",
       "      <td>30.0</td>\n",
       "      <td>2016-07</td>\n",
       "      <td>031-5189-3528</td>\n",
       "      <td>37.208829</td>\n",
       "      <td>127.0132572357</td>\n",
       "      <td>2019-12-16</td>\n",
       "      <td>화성시</td>\n",
       "    </tr>\n",
       "    <tr>\n",
       "      <th>37965</th>\n",
       "      <td>화성시-스마트시티과</td>\n",
       "      <td>경기도 화성시 기산말길 93-1</td>\n",
       "      <td>경기도 화성시 기산동 235-2</td>\n",
       "      <td>생활방범</td>\n",
       "      <td>3</td>\n",
       "      <td>200.0</td>\n",
       "      <td>360도전방면</td>\n",
       "      <td>30.0</td>\n",
       "      <td>2015-12</td>\n",
       "      <td>031-5189-3528</td>\n",
       "      <td>37.225131</td>\n",
       "      <td>127.0454736213</td>\n",
       "      <td>2019-12-16</td>\n",
       "      <td>화성시</td>\n",
       "    </tr>\n",
       "    <tr>\n",
       "      <th>37966</th>\n",
       "      <td>화성시-스마트시티과</td>\n",
       "      <td>NaN</td>\n",
       "      <td>경기도 화성시 안녕동 180-25</td>\n",
       "      <td>생활방범</td>\n",
       "      <td>3</td>\n",
       "      <td>200.0</td>\n",
       "      <td>120도전방면</td>\n",
       "      <td>30.0</td>\n",
       "      <td>2019-04</td>\n",
       "      <td>031-5189-3528</td>\n",
       "      <td>37.208909</td>\n",
       "      <td>126.9816245136</td>\n",
       "      <td>2019-12-16</td>\n",
       "      <td>화성시</td>\n",
       "    </tr>\n",
       "    <tr>\n",
       "      <th>37967</th>\n",
       "      <td>화성시-스마트시티과</td>\n",
       "      <td>NaN</td>\n",
       "      <td>경기도 화성시 배양동 44-3</td>\n",
       "      <td>생활방범</td>\n",
       "      <td>3</td>\n",
       "      <td>200.0</td>\n",
       "      <td>360도전방면</td>\n",
       "      <td>30.0</td>\n",
       "      <td>2015-12</td>\n",
       "      <td>031-5189-3528</td>\n",
       "      <td>37.225553</td>\n",
       "      <td>126.9981720828</td>\n",
       "      <td>2019-12-16</td>\n",
       "      <td>화성시</td>\n",
       "    </tr>\n",
       "    <tr>\n",
       "      <th>37968</th>\n",
       "      <td>화성시-스마트시티과</td>\n",
       "      <td>NaN</td>\n",
       "      <td>경기도 화성시 화산동 108-19</td>\n",
       "      <td>생활방범</td>\n",
       "      <td>3</td>\n",
       "      <td>200.0</td>\n",
       "      <td>360도전방면</td>\n",
       "      <td>30.0</td>\n",
       "      <td>2014-08</td>\n",
       "      <td>031-5189-3528</td>\n",
       "      <td>37.216442</td>\n",
       "      <td>127.0185309236</td>\n",
       "      <td>2019-12-16</td>\n",
       "      <td>화성시</td>\n",
       "    </tr>\n",
       "  </tbody>\n",
       "</table>\n",
       "<p>37966 rows × 14 columns</p>\n",
       "</div>"
      ],
      "text/plain": [
       "            관리기관명                  소재지도로명주소                           소재지지번주소  \\\n",
       "0            가평군청  경기도 가평군 가평읍 당목가일길 211-80             경기도 가평군 가평읍 개곡리 705번지   \n",
       "1            가평군청                       NaN          경기도 가평군 가평읍 개곡리 964(개곡교)   \n",
       "2            가평군청                       NaN       경기도 가평군 가평읍 개곡리 산 334(경춘공원)   \n",
       "3            가평군청                       NaN   경기도 가평군 가평읍 개곡리 산 344(줄길리 마을입구)   \n",
       "4            가평군청                       NaN  경기도 가평군 가평읍 경반리 산 151-3(짚라인가평입구)   \n",
       "...           ...                       ...                               ...   \n",
       "37964  화성시-스마트시티과                       NaN                경기도 화성시 송산동 164-25   \n",
       "37965  화성시-스마트시티과         경기도 화성시 기산말길 93-1                 경기도 화성시 기산동 235-2   \n",
       "37966  화성시-스마트시티과                       NaN                경기도 화성시 안녕동 180-25   \n",
       "37967  화성시-스마트시티과                       NaN                  경기도 화성시 배양동 44-3   \n",
       "37968  화성시-스마트시티과                       NaN                경기도 화성시 화산동 108-19   \n",
       "\n",
       "      설치목적구분  카메라대수  카메라화소수   촬영방면정보  보관일수     설치년월       관리기관전화번호         위도  \\\n",
       "0       생활방범      4   200.0     120도  30.0      NaN   031-582-1191  37.870545   \n",
       "1       생활방범      2   200.0     도로방면  30.0      NaN   031-580-2571  37.864426   \n",
       "2      쓰레기단속      1   200.0  360도전방면  30.0      NaN   031-580-2550  37.834013   \n",
       "3       생활방범      2   200.0     도로방면  30.0      NaN   031-580-2571  37.848283   \n",
       "4       생활방범      1   200.0     도로방면  30.0      NaN   031-580-2571  37.834490   \n",
       "...      ...    ...     ...      ...   ...      ...            ...        ...   \n",
       "37964   생활방범      4   200.0  360도전방면  30.0  2016-07  031-5189-3528  37.208829   \n",
       "37965   생활방범      3   200.0  360도전방면  30.0  2015-12  031-5189-3528  37.225131   \n",
       "37966   생활방범      3   200.0  120도전방면  30.0  2019-04  031-5189-3528  37.208909   \n",
       "37967   생활방범      3   200.0  360도전방면  30.0  2015-12  031-5189-3528  37.225553   \n",
       "37968   생활방범      3   200.0  360도전방면  30.0  2014-08  031-5189-3528  37.216442   \n",
       "\n",
       "                   경도     데이터기준일자   시군  \n",
       "0         127.5376575  2019-05-10  가평군  \n",
       "1         127.5301553  2019-05-10  가평군  \n",
       "2         127.5063827  2019-05-10  가평군  \n",
       "3         127.5498354  2019-05-10  가평군  \n",
       "4         127.4663768  2019-05-10  가평군  \n",
       "...               ...         ...  ...  \n",
       "37964  127.0132572357  2019-12-16  화성시  \n",
       "37965  127.0454736213  2019-12-16  화성시  \n",
       "37966  126.9816245136  2019-12-16  화성시  \n",
       "37967  126.9981720828  2019-12-16  화성시  \n",
       "37968  127.0185309236  2019-12-16  화성시  \n",
       "\n",
       "[37966 rows x 14 columns]"
      ]
     },
     "execution_count": 22,
     "metadata": {},
     "output_type": "execute_result"
    }
   ],
   "source": [
    "df_cctv"
   ]
  },
  {
   "cell_type": "code",
   "execution_count": 23,
   "metadata": {
    "ExecuteTime": {
     "end_time": "2020-06-10T03:03:05.690127Z",
     "start_time": "2020-06-10T03:03:05.679126Z"
    }
   },
   "outputs": [],
   "source": [
    "indexs2=df_cctv[df_cctv['시군'].isna()].index"
   ]
  },
  {
   "cell_type": "code",
   "execution_count": 24,
   "metadata": {
    "ExecuteTime": {
     "end_time": "2020-06-10T03:03:05.756131Z",
     "start_time": "2020-06-10T03:03:05.691127Z"
    }
   },
   "outputs": [],
   "source": [
    "for x in indexs2:    \n",
    "    df_cctv.loc[x,['시군']]='군포시'"
   ]
  },
  {
   "cell_type": "code",
   "execution_count": 25,
   "metadata": {
    "ExecuteTime": {
     "end_time": "2020-06-10T03:03:05.772132Z",
     "start_time": "2020-06-10T03:03:05.761131Z"
    }
   },
   "outputs": [
    {
     "data": {
      "text/html": [
       "<div>\n",
       "<style scoped>\n",
       "    .dataframe tbody tr th:only-of-type {\n",
       "        vertical-align: middle;\n",
       "    }\n",
       "\n",
       "    .dataframe tbody tr th {\n",
       "        vertical-align: top;\n",
       "    }\n",
       "\n",
       "    .dataframe thead th {\n",
       "        text-align: right;\n",
       "    }\n",
       "</style>\n",
       "<table border=\"1\" class=\"dataframe\">\n",
       "  <thead>\n",
       "    <tr style=\"text-align: right;\">\n",
       "      <th></th>\n",
       "      <th>관리기관명</th>\n",
       "      <th>소재지도로명주소</th>\n",
       "      <th>소재지지번주소</th>\n",
       "      <th>설치목적구분</th>\n",
       "      <th>카메라대수</th>\n",
       "      <th>카메라화소수</th>\n",
       "      <th>촬영방면정보</th>\n",
       "      <th>보관일수</th>\n",
       "      <th>설치년월</th>\n",
       "      <th>관리기관전화번호</th>\n",
       "      <th>위도</th>\n",
       "      <th>경도</th>\n",
       "      <th>데이터기준일자</th>\n",
       "      <th>시군</th>\n",
       "    </tr>\n",
       "  </thead>\n",
       "  <tbody>\n",
       "  </tbody>\n",
       "</table>\n",
       "</div>"
      ],
      "text/plain": [
       "Empty DataFrame\n",
       "Columns: [관리기관명, 소재지도로명주소, 소재지지번주소, 설치목적구분, 카메라대수, 카메라화소수, 촬영방면정보, 보관일수, 설치년월, 관리기관전화번호, 위도, 경도, 데이터기준일자, 시군]\n",
       "Index: []"
      ]
     },
     "execution_count": 25,
     "metadata": {},
     "output_type": "execute_result"
    }
   ],
   "source": [
    "df_cctv[df_cctv['시군'].isna()]"
   ]
  },
  {
   "cell_type": "code",
   "execution_count": 26,
   "metadata": {
    "ExecuteTime": {
     "end_time": "2020-06-10T03:03:05.786132Z",
     "start_time": "2020-06-10T03:03:05.775132Z"
    },
    "scrolled": true
   },
   "outputs": [],
   "source": [
    "df_city=list(df_cctv['시군'].unique())"
   ]
  },
  {
   "cell_type": "code",
   "execution_count": 27,
   "metadata": {
    "ExecuteTime": {
     "end_time": "2020-06-10T03:03:47.797117Z",
     "start_time": "2020-06-10T03:03:05.788133Z"
    }
   },
   "outputs": [],
   "source": [
    "for x in df_city:\n",
    "    df_temp=df_cctv[df_cctv['시군']==x]\n",
    "    temp_map=folium.Map(location=[37.55, 126.98], zoom_start=11)\n",
    "    for name, lat, lng in zip(df_temp.iloc[0:,0], df_temp['위도'], df_temp['경도']):\n",
    "        folium.Marker([lat,lng], popup=name).add_to(temp_map)\n",
    "    temp_map.save(x+\"map.html\")"
   ]
  },
  {
   "cell_type": "code",
   "execution_count": 28,
   "metadata": {
    "ExecuteTime": {
     "end_time": "2020-06-10T03:03:47.802117Z",
     "start_time": "2020-06-10T03:03:47.798117Z"
    }
   },
   "outputs": [],
   "source": [
    "import shutil"
   ]
  },
  {
   "cell_type": "code",
   "execution_count": 29,
   "metadata": {
    "ExecuteTime": {
     "end_time": "2020-06-10T03:03:47.809118Z",
     "start_time": "2020-06-10T03:03:47.803118Z"
    }
   },
   "outputs": [],
   "source": [
    "# shutil.move('C:/Users/i7B/Downloads/서울화재현황.txt','서울화재현황.txt')"
   ]
  },
  {
   "cell_type": "code",
   "execution_count": 30,
   "metadata": {
    "ExecuteTime": {
     "end_time": "2020-06-10T03:03:47.824119Z",
     "start_time": "2020-06-10T03:03:47.811118Z"
    }
   },
   "outputs": [],
   "source": [
    "df_fire=pd.read_csv('서울화재현황.txt',sep='\\t')"
   ]
  },
  {
   "cell_type": "code",
   "execution_count": 31,
   "metadata": {
    "ExecuteTime": {
     "end_time": "2020-06-10T03:03:47.853120Z",
     "start_time": "2020-06-10T03:03:47.826119Z"
    },
    "scrolled": true
   },
   "outputs": [
    {
     "data": {
      "text/html": [
       "<div>\n",
       "<style scoped>\n",
       "    .dataframe tbody tr th:only-of-type {\n",
       "        vertical-align: middle;\n",
       "    }\n",
       "\n",
       "    .dataframe tbody tr th {\n",
       "        vertical-align: top;\n",
       "    }\n",
       "\n",
       "    .dataframe thead th {\n",
       "        text-align: right;\n",
       "    }\n",
       "</style>\n",
       "<table border=\"1\" class=\"dataframe\">\n",
       "  <thead>\n",
       "    <tr style=\"text-align: right;\">\n",
       "      <th></th>\n",
       "      <th>기간</th>\n",
       "      <th>자치구</th>\n",
       "      <th>발생</th>\n",
       "      <th>발생.1</th>\n",
       "      <th>발생.2</th>\n",
       "      <th>발생.3</th>\n",
       "      <th>소실</th>\n",
       "      <th>소실.1</th>\n",
       "      <th>소실.2</th>\n",
       "      <th>피해액</th>\n",
       "      <th>피해액.1</th>\n",
       "      <th>피해액.2</th>\n",
       "      <th>재산피해경감액</th>\n",
       "      <th>인명피해</th>\n",
       "      <th>인명피해.1</th>\n",
       "      <th>인명피해.2</th>\n",
       "      <th>이재민수</th>\n",
       "      <th>구조인원</th>\n",
       "    </tr>\n",
       "  </thead>\n",
       "  <tbody>\n",
       "    <tr>\n",
       "      <th>0</th>\n",
       "      <td>기간</td>\n",
       "      <td>자치구</td>\n",
       "      <td>합계</td>\n",
       "      <td>실화</td>\n",
       "      <td>방화</td>\n",
       "      <td>기타</td>\n",
       "      <td>동수(동)</td>\n",
       "      <td>이재가구수(가구)</td>\n",
       "      <td>면적(㎡)</td>\n",
       "      <td>합계</td>\n",
       "      <td>부동산</td>\n",
       "      <td>동산</td>\n",
       "      <td>재산피해경감액</td>\n",
       "      <td>합계</td>\n",
       "      <td>사망</td>\n",
       "      <td>부상</td>\n",
       "      <td>이재민수</td>\n",
       "      <td>구조인원</td>\n",
       "    </tr>\n",
       "    <tr>\n",
       "      <th>1</th>\n",
       "      <td>2017</td>\n",
       "      <td>합계</td>\n",
       "      <td>5,978</td>\n",
       "      <td>5,346</td>\n",
       "      <td>123</td>\n",
       "      <td>509</td>\n",
       "      <td>668</td>\n",
       "      <td>71</td>\n",
       "      <td>85,590</td>\n",
       "      <td>15,323,890</td>\n",
       "      <td>6,592,363</td>\n",
       "      <td>8,731,527</td>\n",
       "      <td>780,427,721</td>\n",
       "      <td>283</td>\n",
       "      <td>37</td>\n",
       "      <td>246</td>\n",
       "      <td>148</td>\n",
       "      <td>794</td>\n",
       "    </tr>\n",
       "    <tr>\n",
       "      <th>2</th>\n",
       "      <td>2017</td>\n",
       "      <td>종로구</td>\n",
       "      <td>234</td>\n",
       "      <td>197</td>\n",
       "      <td>6</td>\n",
       "      <td>31</td>\n",
       "      <td>13</td>\n",
       "      <td>9</td>\n",
       "      <td>832</td>\n",
       "      <td>1,077,665</td>\n",
       "      <td>193,128</td>\n",
       "      <td>884,537</td>\n",
       "      <td>7,859,982</td>\n",
       "      <td>4</td>\n",
       "      <td>1</td>\n",
       "      <td>3</td>\n",
       "      <td>20</td>\n",
       "      <td>16</td>\n",
       "    </tr>\n",
       "    <tr>\n",
       "      <th>3</th>\n",
       "      <td>2017</td>\n",
       "      <td>중구</td>\n",
       "      <td>198</td>\n",
       "      <td>177</td>\n",
       "      <td>3</td>\n",
       "      <td>18</td>\n",
       "      <td>34</td>\n",
       "      <td>13</td>\n",
       "      <td>1,077</td>\n",
       "      <td>485,392</td>\n",
       "      <td>199,688</td>\n",
       "      <td>285,704</td>\n",
       "      <td>6,129,751</td>\n",
       "      <td>19</td>\n",
       "      <td>5</td>\n",
       "      <td>14</td>\n",
       "      <td>14</td>\n",
       "      <td>17</td>\n",
       "    </tr>\n",
       "    <tr>\n",
       "      <th>4</th>\n",
       "      <td>2017</td>\n",
       "      <td>용산구</td>\n",
       "      <td>167</td>\n",
       "      <td>145</td>\n",
       "      <td>-</td>\n",
       "      <td>22</td>\n",
       "      <td>6</td>\n",
       "      <td>7</td>\n",
       "      <td>620</td>\n",
       "      <td>262,910</td>\n",
       "      <td>112,190</td>\n",
       "      <td>150,720</td>\n",
       "      <td>14,355,773</td>\n",
       "      <td>6</td>\n",
       "      <td>-</td>\n",
       "      <td>6</td>\n",
       "      <td>22</td>\n",
       "      <td>8</td>\n",
       "    </tr>\n",
       "  </tbody>\n",
       "</table>\n",
       "</div>"
      ],
      "text/plain": [
       "     기간  자치구     발생   발생.1 발생.2 발생.3     소실       소실.1    소실.2         피해액  \\\n",
       "0    기간  자치구     합계     실화   방화   기타  동수(동)  이재가구수(가구)   면적(㎡)          합계   \n",
       "1  2017   합계  5,978  5,346  123  509    668         71  85,590  15,323,890   \n",
       "2  2017  종로구    234    197    6   31     13          9     832   1,077,665   \n",
       "3  2017   중구    198    177    3   18     34         13   1,077     485,392   \n",
       "4  2017  용산구    167    145    -   22      6          7     620     262,910   \n",
       "\n",
       "       피해액.1      피해액.2      재산피해경감액 인명피해 인명피해.1 인명피해.2  이재민수  구조인원  \n",
       "0        부동산         동산      재산피해경감액   합계     사망     부상  이재민수  구조인원  \n",
       "1  6,592,363  8,731,527  780,427,721  283     37    246   148   794  \n",
       "2    193,128    884,537    7,859,982    4      1      3    20    16  \n",
       "3    199,688    285,704    6,129,751   19      5     14    14    17  \n",
       "4    112,190    150,720   14,355,773    6      -      6    22     8  "
      ]
     },
     "execution_count": 31,
     "metadata": {},
     "output_type": "execute_result"
    }
   ],
   "source": [
    "df_fire.head(5)"
   ]
  },
  {
   "cell_type": "code",
   "execution_count": 32,
   "metadata": {
    "ExecuteTime": {
     "end_time": "2020-06-10T03:03:47.864121Z",
     "start_time": "2020-06-10T03:03:47.854120Z"
    }
   },
   "outputs": [],
   "source": [
    "df_fire.columns=df_fire.iloc[0,:]"
   ]
  },
  {
   "cell_type": "code",
   "execution_count": 33,
   "metadata": {
    "ExecuteTime": {
     "end_time": "2020-06-10T03:03:47.874122Z",
     "start_time": "2020-06-10T03:03:47.865121Z"
    }
   },
   "outputs": [],
   "source": [
    "df_fire=df_fire.drop(0)"
   ]
  },
  {
   "cell_type": "code",
   "execution_count": 34,
   "metadata": {
    "ExecuteTime": {
     "end_time": "2020-06-10T03:03:47.886122Z",
     "start_time": "2020-06-10T03:03:47.875122Z"
    }
   },
   "outputs": [],
   "source": [
    "df_fire=df_fire[['기간','자치구','합계']]"
   ]
  },
  {
   "cell_type": "code",
   "execution_count": 35,
   "metadata": {
    "ExecuteTime": {
     "end_time": "2020-06-10T03:03:47.903123Z",
     "start_time": "2020-06-10T03:03:47.887122Z"
    },
    "scrolled": true
   },
   "outputs": [
    {
     "data": {
      "text/html": [
       "<div>\n",
       "<style scoped>\n",
       "    .dataframe tbody tr th:only-of-type {\n",
       "        vertical-align: middle;\n",
       "    }\n",
       "\n",
       "    .dataframe tbody tr th {\n",
       "        vertical-align: top;\n",
       "    }\n",
       "\n",
       "    .dataframe thead th {\n",
       "        text-align: right;\n",
       "    }\n",
       "</style>\n",
       "<table border=\"1\" class=\"dataframe\">\n",
       "  <thead>\n",
       "    <tr style=\"text-align: right;\">\n",
       "      <th></th>\n",
       "      <th>기간</th>\n",
       "      <th>자치구</th>\n",
       "      <th>합계</th>\n",
       "      <th>합계</th>\n",
       "      <th>합계</th>\n",
       "    </tr>\n",
       "  </thead>\n",
       "  <tbody>\n",
       "    <tr>\n",
       "      <th>1</th>\n",
       "      <td>2017</td>\n",
       "      <td>합계</td>\n",
       "      <td>5,978</td>\n",
       "      <td>15,323,890</td>\n",
       "      <td>283</td>\n",
       "    </tr>\n",
       "    <tr>\n",
       "      <th>2</th>\n",
       "      <td>2017</td>\n",
       "      <td>종로구</td>\n",
       "      <td>234</td>\n",
       "      <td>1,077,665</td>\n",
       "      <td>4</td>\n",
       "    </tr>\n",
       "    <tr>\n",
       "      <th>3</th>\n",
       "      <td>2017</td>\n",
       "      <td>중구</td>\n",
       "      <td>198</td>\n",
       "      <td>485,392</td>\n",
       "      <td>19</td>\n",
       "    </tr>\n",
       "    <tr>\n",
       "      <th>4</th>\n",
       "      <td>2017</td>\n",
       "      <td>용산구</td>\n",
       "      <td>167</td>\n",
       "      <td>262,910</td>\n",
       "      <td>6</td>\n",
       "    </tr>\n",
       "    <tr>\n",
       "      <th>5</th>\n",
       "      <td>2017</td>\n",
       "      <td>성동구</td>\n",
       "      <td>197</td>\n",
       "      <td>621,324</td>\n",
       "      <td>12</td>\n",
       "    </tr>\n",
       "  </tbody>\n",
       "</table>\n",
       "</div>"
      ],
      "text/plain": [
       "0    기간  자치구     합계          합계   합계\n",
       "1  2017   합계  5,978  15,323,890  283\n",
       "2  2017  종로구    234   1,077,665    4\n",
       "3  2017   중구    198     485,392   19\n",
       "4  2017  용산구    167     262,910    6\n",
       "5  2017  성동구    197     621,324   12"
      ]
     },
     "execution_count": 35,
     "metadata": {},
     "output_type": "execute_result"
    }
   ],
   "source": [
    "df_fire.head()"
   ]
  },
  {
   "cell_type": "code",
   "execution_count": 36,
   "metadata": {
    "ExecuteTime": {
     "end_time": "2020-06-10T03:03:47.917124Z",
     "start_time": "2020-06-10T03:03:47.904123Z"
    }
   },
   "outputs": [
    {
     "data": {
      "text/html": [
       "<div>\n",
       "<style scoped>\n",
       "    .dataframe tbody tr th:only-of-type {\n",
       "        vertical-align: middle;\n",
       "    }\n",
       "\n",
       "    .dataframe tbody tr th {\n",
       "        vertical-align: top;\n",
       "    }\n",
       "\n",
       "    .dataframe thead th {\n",
       "        text-align: right;\n",
       "    }\n",
       "</style>\n",
       "<table border=\"1\" class=\"dataframe\">\n",
       "  <thead>\n",
       "    <tr style=\"text-align: right;\">\n",
       "      <th></th>\n",
       "      <th>기간</th>\n",
       "      <th>자치구</th>\n",
       "      <th>합계</th>\n",
       "      <th>합계</th>\n",
       "      <th>합계</th>\n",
       "    </tr>\n",
       "  </thead>\n",
       "  <tbody>\n",
       "    <tr>\n",
       "      <th>48</th>\n",
       "      <td>2018</td>\n",
       "      <td>관악구</td>\n",
       "      <td>337</td>\n",
       "      <td>816,562</td>\n",
       "      <td>21</td>\n",
       "    </tr>\n",
       "    <tr>\n",
       "      <th>49</th>\n",
       "      <td>2018</td>\n",
       "      <td>서초구</td>\n",
       "      <td>242</td>\n",
       "      <td>848,067</td>\n",
       "      <td>15</td>\n",
       "    </tr>\n",
       "    <tr>\n",
       "      <th>50</th>\n",
       "      <td>2018</td>\n",
       "      <td>강남구</td>\n",
       "      <td>436</td>\n",
       "      <td>1,624,983</td>\n",
       "      <td>23</td>\n",
       "    </tr>\n",
       "    <tr>\n",
       "      <th>51</th>\n",
       "      <td>2018</td>\n",
       "      <td>송파구</td>\n",
       "      <td>340</td>\n",
       "      <td>970,251</td>\n",
       "      <td>28</td>\n",
       "    </tr>\n",
       "    <tr>\n",
       "      <th>52</th>\n",
       "      <td>2018</td>\n",
       "      <td>강동구</td>\n",
       "      <td>324</td>\n",
       "      <td>540,625</td>\n",
       "      <td>19</td>\n",
       "    </tr>\n",
       "  </tbody>\n",
       "</table>\n",
       "</div>"
      ],
      "text/plain": [
       "0     기간  자치구   합계         합계  합계\n",
       "48  2018  관악구  337    816,562  21\n",
       "49  2018  서초구  242    848,067  15\n",
       "50  2018  강남구  436  1,624,983  23\n",
       "51  2018  송파구  340    970,251  28\n",
       "52  2018  강동구  324    540,625  19"
      ]
     },
     "execution_count": 36,
     "metadata": {},
     "output_type": "execute_result"
    }
   ],
   "source": [
    "df_fire.tail()"
   ]
  },
  {
   "cell_type": "code",
   "execution_count": 37,
   "metadata": {
    "ExecuteTime": {
     "end_time": "2020-06-10T03:03:47.924124Z",
     "start_time": "2020-06-10T03:03:47.918124Z"
    }
   },
   "outputs": [],
   "source": [
    "df_fire=df_fire.iloc[1:,:3]"
   ]
  },
  {
   "cell_type": "code",
   "execution_count": 38,
   "metadata": {
    "ExecuteTime": {
     "end_time": "2020-06-10T03:03:47.936125Z",
     "start_time": "2020-06-10T03:03:47.925125Z"
    }
   },
   "outputs": [],
   "source": [
    "pivot_fire=df_fire.pivot(index='자치구',columns='기간',values='합계').copy()"
   ]
  },
  {
   "cell_type": "code",
   "execution_count": 39,
   "metadata": {
    "ExecuteTime": {
     "end_time": "2020-06-10T03:03:47.945126Z",
     "start_time": "2020-06-10T03:03:47.937125Z"
    }
   },
   "outputs": [],
   "source": [
    "pivot_fire=pivot_fire.iloc[:-1,:]"
   ]
  },
  {
   "cell_type": "code",
   "execution_count": 40,
   "metadata": {
    "ExecuteTime": {
     "end_time": "2020-06-10T03:03:47.956126Z",
     "start_time": "2020-06-10T03:03:47.946126Z"
    },
    "scrolled": false
   },
   "outputs": [
    {
     "data": {
      "text/html": [
       "<div>\n",
       "<style scoped>\n",
       "    .dataframe tbody tr th:only-of-type {\n",
       "        vertical-align: middle;\n",
       "    }\n",
       "\n",
       "    .dataframe tbody tr th {\n",
       "        vertical-align: top;\n",
       "    }\n",
       "\n",
       "    .dataframe thead th {\n",
       "        text-align: right;\n",
       "    }\n",
       "</style>\n",
       "<table border=\"1\" class=\"dataframe\">\n",
       "  <thead>\n",
       "    <tr style=\"text-align: right;\">\n",
       "      <th>기간</th>\n",
       "      <th>2017</th>\n",
       "      <th>2018</th>\n",
       "    </tr>\n",
       "    <tr>\n",
       "      <th>자치구</th>\n",
       "      <th></th>\n",
       "      <th></th>\n",
       "    </tr>\n",
       "  </thead>\n",
       "  <tbody>\n",
       "    <tr>\n",
       "      <th>강남구</th>\n",
       "      <td>502</td>\n",
       "      <td>436</td>\n",
       "    </tr>\n",
       "    <tr>\n",
       "      <th>강동구</th>\n",
       "      <td>269</td>\n",
       "      <td>324</td>\n",
       "    </tr>\n",
       "    <tr>\n",
       "      <th>강북구</th>\n",
       "      <td>186</td>\n",
       "      <td>203</td>\n",
       "    </tr>\n",
       "    <tr>\n",
       "      <th>강서구</th>\n",
       "      <td>364</td>\n",
       "      <td>383</td>\n",
       "    </tr>\n",
       "    <tr>\n",
       "      <th>관악구</th>\n",
       "      <td>286</td>\n",
       "      <td>337</td>\n",
       "    </tr>\n",
       "  </tbody>\n",
       "</table>\n",
       "</div>"
      ],
      "text/plain": [
       "기간  2017 2018\n",
       "자치구          \n",
       "강남구  502  436\n",
       "강동구  269  324\n",
       "강북구  186  203\n",
       "강서구  364  383\n",
       "관악구  286  337"
      ]
     },
     "execution_count": 40,
     "metadata": {},
     "output_type": "execute_result"
    }
   ],
   "source": [
    "pivot_fire.head()"
   ]
  },
  {
   "cell_type": "code",
   "execution_count": 41,
   "metadata": {
    "ExecuteTime": {
     "end_time": "2020-06-10T03:03:47.963127Z",
     "start_time": "2020-06-10T03:03:47.957126Z"
    }
   },
   "outputs": [],
   "source": [
    "pivot_fire['2017']=pivot_fire['2017'].astype('float').copy()\n",
    "pivot_fire['2018']=pivot_fire['2018'].astype('float').copy()"
   ]
  },
  {
   "cell_type": "code",
   "execution_count": 42,
   "metadata": {
    "ExecuteTime": {
     "end_time": "2020-06-10T03:03:47.978128Z",
     "start_time": "2020-06-10T03:03:47.964127Z"
    }
   },
   "outputs": [],
   "source": [
    "pivot_fire['증감률']=(pivot_fire['2018']/pivot_fire['2017']-1)*100"
   ]
  },
  {
   "cell_type": "code",
   "execution_count": 43,
   "metadata": {
    "ExecuteTime": {
     "end_time": "2020-06-10T03:03:47.983128Z",
     "start_time": "2020-06-10T03:03:47.979128Z"
    }
   },
   "outputs": [],
   "source": [
    "pivot_fire.sort_values('증감률',inplace=True)"
   ]
  },
  {
   "cell_type": "code",
   "execution_count": 44,
   "metadata": {
    "ExecuteTime": {
     "end_time": "2020-06-10T03:03:48.957184Z",
     "start_time": "2020-06-10T03:03:47.984128Z"
    },
    "scrolled": true
   },
   "outputs": [
    {
     "data": {
      "image/png": "[encoded data removed]",
      "text/plain": [
       "<Figure size 1080x720 with 2 Axes>"
      ]
     },
     "metadata": {
      "image/png": {
       "height": 630,
       "width": 967
      },
      "needs_background": "light"
     },
     "output_type": "display_data"
    }
   ],
   "source": [
    "fig=plt.figure(figsize=(15,10))\n",
    "ax1=plt.subplot()\n",
    "ax1.bar(x=[x*2 for x in range(25)],height=pivot_fire['2017'],tick_label=pivot_fire.index)\n",
    "ax1.bar(x=[x*2+1 for x in range(25)],height=pivot_fire['2018'])\n",
    "ax1.set_xticklabels(ax1.get_xticklabels(),rotation=45)\n",
    "ax2=ax1.twinx()\n",
    "ax2.plot([x*2+0.5 for x in range(25)],pivot_fire['증감률'],marker='o',color='red')\n",
    "\n",
    "ax1.legend(['2017','2018'],bbox_to_anchor=(1.1,0.95),fontsize=11)\n",
    "ax2.legend(['증감률'],bbox_to_anchor=(1.1,0.88),fontsize=11)\n",
    "\n",
    "plt.title('2017-2018 서울화재발생현황')\n",
    "plt.xlabel('구별')\n",
    "ax1.set_ylabel('발생(건)')\n",
    "ax2.set_ylabel('증감률(%)')\n",
    "ax1.set_xlabel('구별')\n",
    "plt.savefig('서울화재현황')\n",
    "plt.show()"
   ]
  }
 ],
 "metadata": {
  "hide_input": false,
  "kernelspec": {
   "display_name": "Python 3",
   "language": "python",
   "name": "python3"
  },
  "language_info": {
   "codemirror_mode": {
    "name": "ipython",
    "version": 3
   },
   "file_extension": ".py",
   "mimetype": "text/x-python",
   "name": "python",
   "nbconvert_exporter": "python",
   "pygments_lexer": "ipython3",
   "version": "3.7.6"
  },
  "toc": {
   "base_numbering": 1,
   "nav_menu": {},
   "number_sections": true,
   "sideBar": true,
   "skip_h1_title": false,
   "title_cell": "Table of Contents",
   "title_sidebar": "Contents",
   "toc_cell": false,
   "toc_position": {},
   "toc_section_display": true,
   "toc_window_display": false
  },
  "varInspector": {
   "cols": {
    "lenName": 16,
    "lenType": 16,
    "lenVar": 40
   },
   "kernels_config": {
    "python": {
     "delete_cmd_postfix": "",
     "delete_cmd_prefix": "del ",
     "library": "var_list.py",
     "varRefreshCmd": "print(var_dic_list())"
    },
    "r": {
     "delete_cmd_postfix": ") ",
     "delete_cmd_prefix": "rm(",
     "library": "var_list.r",
     "varRefreshCmd": "cat(var_dic_list()) "
    }
   },
   "types_to_exclude": [
    "module",
    "function",
    "builtin_function_or_method",
    "instance",
    "_Feature"
   ],
   "window_display": false
  }
 },
 "nbformat": 4,
 "nbformat_minor": 4
}
