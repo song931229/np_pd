{
 "cells": [
  {
   "cell_type": "code",
   "execution_count": null,
   "metadata": {
    "ExecuteTime": {
     "end_time": "2020-06-16T02:40:34.570400Z",
     "start_time": "2020-06-16T02:40:34.472196Z"
    },
    "scrolled": true
   },
   "outputs": [],
   "source": [
    "from selenium import webdriver\n",
    "from selenium.webdriver.common.keys import Keys\n",
    "import pyperclip\n",
    "import time"
   ]
  },
  {
   "cell_type": "code",
   "execution_count": null,
   "metadata": {
    "ExecuteTime": {
     "end_time": "2020-06-16T02:40:37.750469Z",
     "start_time": "2020-06-16T02:40:35.264827Z"
    }
   },
   "outputs": [],
   "source": [
    "driver=webdriver.Chrome('C:\\Chrome Driver\\chromedriver')"
   ]
  },
  {
   "cell_type": "code",
   "execution_count": null,
   "metadata": {
    "ExecuteTime": {
     "end_time": "2020-06-16T02:40:38.561507Z",
     "start_time": "2020-06-16T02:40:38.305294Z"
    }
   },
   "outputs": [],
   "source": [
    "driver.get('https://nid.naver.com/nidlogin.login')"
   ]
  },
  {
   "cell_type": "code",
   "execution_count": null,
   "metadata": {
    "ExecuteTime": {
     "end_time": "2020-06-16T02:40:40.193544Z",
     "start_time": "2020-06-16T02:40:39.191737Z"
    }
   },
   "outputs": [],
   "source": [
    "driver.implicitly_wait(3)\n",
    "time.sleep(1)"
   ]
  },
  {
   "cell_type": "code",
   "execution_count": null,
   "metadata": {
    "ExecuteTime": {
     "end_time": "2020-06-16T02:40:40.720773Z",
     "start_time": "2020-06-16T02:40:40.705772Z"
    }
   },
   "outputs": [],
   "source": [
    "id_entry=driver.find_element_by_xpath('/html/body/div[2]/div[3]/div/form/fieldset/div[1]/div[1]/span/input')"
   ]
  },
  {
   "cell_type": "code",
   "execution_count": null,
   "metadata": {
    "ExecuteTime": {
     "end_time": "2020-06-16T02:40:40.936785Z",
     "start_time": "2020-06-16T02:40:40.922784Z"
    }
   },
   "outputs": [],
   "source": [
    "pw_entry=driver.find_element_by_xpath('/html/body/div[2]/div[3]/div/form/fieldset/div[2]/div[1]/span/input')"
   ]
  },
  {
   "cell_type": "code",
   "execution_count": null,
   "metadata": {
    "ExecuteTime": {
     "end_time": "2020-06-16T02:40:41.178799Z",
     "start_time": "2020-06-16T02:40:41.137796Z"
    }
   },
   "outputs": [],
   "source": [
    "id_entry.click()"
   ]
  },
  {
   "cell_type": "code",
   "execution_count": null,
   "metadata": {
    "ExecuteTime": {
     "end_time": "2020-06-16T02:40:42.374229Z",
     "start_time": "2020-06-16T02:40:41.353809Z"
    }
   },
   "outputs": [],
   "source": [
    "driver.implicitly_wait(3)\n",
    "time.sleep(1)"
   ]
  },
  {
   "cell_type": "code",
   "execution_count": null,
   "metadata": {
    "ExecuteTime": {
     "end_time": "2020-06-16T02:40:42.451432Z",
     "start_time": "2020-06-16T02:40:42.418430Z"
    }
   },
   "outputs": [],
   "source": [
    "pyperclip.copy('song931229')\n",
    "id_entry.send_keys(Keys.CONTROL, 'v')"
   ]
  },
  {
   "cell_type": "code",
   "execution_count": null,
   "metadata": {
    "ExecuteTime": {
     "end_time": "2020-06-16T02:40:43.641870Z",
     "start_time": "2020-06-16T02:40:42.618441Z"
    }
   },
   "outputs": [],
   "source": [
    "driver.implicitly_wait(3)\n",
    "time.sleep(1)"
   ]
  },
  {
   "cell_type": "code",
   "execution_count": null,
   "metadata": {
    "ExecuteTime": {
     "end_time": "2020-06-16T02:40:43.734074Z",
     "start_time": "2020-06-16T02:40:43.688071Z"
    }
   },
   "outputs": [],
   "source": [
    "pw_entry.click()"
   ]
  },
  {
   "cell_type": "code",
   "execution_count": null,
   "metadata": {
    "ExecuteTime": {
     "end_time": "2020-06-16T02:40:45.519111Z",
     "start_time": "2020-06-16T02:40:44.483703Z"
    }
   },
   "outputs": [],
   "source": [
    "driver.implicitly_wait(3)\n",
    "time.sleep(1)"
   ]
  },
  {
   "cell_type": "code",
   "execution_count": null,
   "metadata": {
    "ExecuteTime": {
     "end_time": "2020-06-16T02:40:46.039538Z",
     "start_time": "2020-06-16T02:40:46.009937Z"
    }
   },
   "outputs": [],
   "source": [
    "pyperclip.copy('fodtj12')\n",
    "pw_entry.send_keys(Keys.CONTROL, 'v')"
   ]
  },
  {
   "cell_type": "code",
   "execution_count": null,
   "metadata": {
    "ExecuteTime": {
     "end_time": "2020-06-16T02:40:47.802474Z",
     "start_time": "2020-06-16T02:40:46.755867Z"
    }
   },
   "outputs": [],
   "source": [
    "driver.implicitly_wait(3)\n",
    "time.sleep(1)"
   ]
  },
  {
   "cell_type": "code",
   "execution_count": null,
   "metadata": {
    "ExecuteTime": {
     "end_time": "2020-06-16T02:40:48.005684Z",
     "start_time": "2020-06-16T02:40:47.993683Z"
    }
   },
   "outputs": [],
   "source": [
    "login_button=driver.find_element_by_xpath('/html/body/div[2]/div[3]/div/form/fieldset/input')"
   ]
  },
  {
   "cell_type": "code",
   "execution_count": null,
   "metadata": {
    "ExecuteTime": {
     "end_time": "2020-06-16T02:40:49.502770Z",
     "start_time": "2020-06-16T02:40:48.457710Z"
    }
   },
   "outputs": [],
   "source": [
    "login_button.click()\n",
    "driver.implicitly_wait(3)\n",
    "time.sleep(1)"
   ]
  },
  {
   "cell_type": "code",
   "execution_count": null,
   "metadata": {
    "ExecuteTime": {
     "end_time": "2020-06-16T02:36:49.114263Z",
     "start_time": "2020-06-16T02:36:49.109263Z"
    }
   },
   "outputs": [],
   "source": [
    "# driver.get('https://mail.naver.com/')\n",
    "# driver.implicitly_wait(3)\n",
    "# time.sleep(1)"
   ]
  },
  {
   "cell_type": "code",
   "execution_count": null,
   "metadata": {
    "ExecuteTime": {
     "end_time": "2020-06-16T02:36:49.127264Z",
     "start_time": "2020-06-16T02:36:49.115263Z"
    }
   },
   "outputs": [],
   "source": [
    "# mails={}"
   ]
  },
  {
   "cell_type": "code",
   "execution_count": null,
   "metadata": {
    "ExecuteTime": {
     "end_time": "2020-06-16T02:36:49.132264Z",
     "start_time": "2020-06-16T02:36:49.128264Z"
    },
    "scrolled": true
   },
   "outputs": [],
   "source": [
    "# for x in range(1,31):\n",
    "#     mail_atag=driver.find_element_by_xpath('/html/body/div[1]/div[3]/div[2]/div/div/div[2]/div[3]/div[1]/ol/li['+str(x)+']/div/div[2]/a[1]/span/strong')\n",
    "#     mail_atag.click()\n",
    "#     driver.implicitly_wait(3)\n",
    "#     time.sleep(1)\n",
    "#     mail_from=driver.find_element_by_xpath('/html/body/div[1]/div[3]/div[2]/div/div/div[2]/div[4]/div[3]/div[1]/div[1]/dl/dd[1]/a[2]')\n",
    "#     mail_title=driver.find_element_by_xpath('/html/body/div[1]/div[3]/div[2]/div/div/div[2]/div[4]/div[3]/div[1]/div[1]/h4')\n",
    "#     mail_date=driver.find_element_by_xpath('/html/body/div[1]/div[3]/div[2]/div/div/div[2]/div[4]/div[3]/div[1]/div[1]/div/div/p')\n",
    "#     mail_content=driver.find_element_by_xpath('/html/body/div[1]/div[3]/div[2]/div/div/div[2]/div[4]/div[3]/div[1]/div[2]')\n",
    "#     mails[mail_title.text]=[mail_from.text,mail_date.text,mail_content.text]\n",
    "#     print(mails[mail_title.text])\n",
    "#     driver.back()\n",
    "#     driver.implicitly_wait(3)\n",
    "#     time.sleep(1)"
   ]
  },
  {
   "cell_type": "code",
   "execution_count": null,
   "metadata": {
    "ExecuteTime": {
     "end_time": "2020-06-16T02:36:49.144265Z",
     "start_time": "2020-06-16T02:36:49.134264Z"
    }
   },
   "outputs": [],
   "source": [
    "# driver.close()"
   ]
  },
  {
   "cell_type": "code",
   "execution_count": null,
   "metadata": {
    "ExecuteTime": {
     "end_time": "2020-06-16T02:40:53.372991Z",
     "start_time": "2020-06-16T02:40:52.961968Z"
    }
   },
   "outputs": [],
   "source": [
    "driver.get('https://nid.naver.com/nidlogin.logout?returl=https%3A%2F%2Fwww.naver.com')"
   ]
  },
  {
   "cell_type": "code",
   "execution_count": null,
   "metadata": {
    "ExecuteTime": {
     "end_time": "2020-06-16T02:41:03.973631Z",
     "start_time": "2020-06-16T02:41:01.793378Z"
    }
   },
   "outputs": [],
   "source": [
    "driver.close()"
   ]
  }
 ],
 "metadata": {
  "hide_input": false,
  "kernelspec": {
   "display_name": "Python 3",
   "language": "python",
   "name": "python3"
  },
  "language_info": {
   "codemirror_mode": {
    "name": "ipython",
    "version": 3
   },
   "file_extension": ".py",
   "mimetype": "text/x-python",
   "name": "python",
   "nbconvert_exporter": "python",
   "pygments_lexer": "ipython3",
   "version": "3.7.6"
  },
  "toc": {
   "base_numbering": 1,
   "nav_menu": {},
   "number_sections": true,
   "sideBar": true,
   "skip_h1_title": false,
   "title_cell": "Table of Contents",
   "title_sidebar": "Contents",
   "toc_cell": false,
   "toc_position": {},
   "toc_section_display": true,
   "toc_window_display": false
  },
  "varInspector": {
   "cols": {
    "lenName": 16,
    "lenType": 16,
    "lenVar": 40
   },
   "kernels_config": {
    "python": {
     "delete_cmd_postfix": "",
     "delete_cmd_prefix": "del ",
     "library": "var_list.py",
     "varRefreshCmd": "print(var_dic_list())"
    },
    "r": {
     "delete_cmd_postfix": ") ",
     "delete_cmd_prefix": "rm(",
     "library": "var_list.r",
     "varRefreshCmd": "cat(var_dic_list()) "
    }
   },
   "types_to_exclude": [
    "module",
    "function",
    "builtin_function_or_method",
    "instance",
    "_Feature"
   ],
   "window_display": false
  }
 },
 "nbformat": 4,
 "nbformat_minor": 4
}
